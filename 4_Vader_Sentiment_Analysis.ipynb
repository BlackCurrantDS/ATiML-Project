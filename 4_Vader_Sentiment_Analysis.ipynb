{
  "nbformat": 4,
  "nbformat_minor": 0,
  "metadata": {
    "colab": {
      "name": "4.Vader_Sentiment_Analysis.ipynb",
      "provenance": [],
      "authorship_tag": "ABX9TyPK+QCL+vF+dRDN53zxwBTC",
      "include_colab_link": true
    },
    "kernelspec": {
      "name": "python3",
      "display_name": "Python 3"
    }
  },
  "cells": [
    {
      "cell_type": "markdown",
      "metadata": {
        "id": "view-in-github",
        "colab_type": "text"
      },
      "source": [
        "<a href=\"https://colab.research.google.com/github/BlackCurrantDS/ATiML-Project/blob/master/4_Vader_Sentiment_Analysis.ipynb\" target=\"_parent\"><img src=\"https://colab.research.google.com/assets/colab-badge.svg\" alt=\"Open In Colab\"/></a>"
      ]
    },
    {
      "cell_type": "code",
      "metadata": {
        "id": "bOvSQdMJzuPm",
        "colab_type": "code",
        "outputId": "e172e50e-d538-4fa1-cc23-06bc36d23e61",
        "colab": {
          "base_uri": "https://localhost:8080/",
          "height": 289
        }
      },
      "source": [
        "#Importing the file\n",
        "import pandas as pd\n",
        "books = pd.read_csv(\"books_train.csv\", index_col=0)\n",
        "books.reset_index(inplace = True)\n",
        "books.head(5)"
      ],
      "execution_count": 1,
      "outputs": [
        {
          "output_type": "execute_result",
          "data": {
            "text/html": [
              "<div>\n",
              "<style scoped>\n",
              "    .dataframe tbody tr th:only-of-type {\n",
              "        vertical-align: middle;\n",
              "    }\n",
              "\n",
              "    .dataframe tbody tr th {\n",
              "        vertical-align: top;\n",
              "    }\n",
              "\n",
              "    .dataframe thead th {\n",
              "        text-align: right;\n",
              "    }\n",
              "</style>\n",
              "<table border=\"1\" class=\"dataframe\">\n",
              "  <thead>\n",
              "    <tr style=\"text-align: right;\">\n",
              "      <th></th>\n",
              "      <th>index</th>\n",
              "      <th>data</th>\n",
              "      <th>FileNo</th>\n",
              "      <th>Book_Name</th>\n",
              "      <th>genre</th>\n",
              "      <th>Author_Name</th>\n",
              "    </tr>\n",
              "  </thead>\n",
              "  <tbody>\n",
              "    <tr>\n",
              "      <th>0</th>\n",
              "      <td>86</td>\n",
              "      <td>A Tale of Keewatin\\nJohn Granger, agent on the...</td>\n",
              "      <td>29400</td>\n",
              "      <td>Murder Point: A Tale of Keewatin</td>\n",
              "      <td>Detective and Mystery</td>\n",
              "      <td>Dawson| Coningsby</td>\n",
              "    </tr>\n",
              "    <tr>\n",
              "      <th>1</th>\n",
              "      <td>12</td>\n",
              "      <td>Three o'clock on a warm June afternoon. The gr...</td>\n",
              "      <td>15182</td>\n",
              "      <td>Marion Arleigh's Penance - Everyday Life Libra...</td>\n",
              "      <td>Literary</td>\n",
              "      <td>Brame| Charlotte M.</td>\n",
              "    </tr>\n",
              "    <tr>\n",
              "      <th>2</th>\n",
              "      <td>88</td>\n",
              "      <td>A furious gust of wind tore down the chimney, ...</td>\n",
              "      <td>23118</td>\n",
              "      <td>A Chinese Command: A Story of Adventure in Eas...</td>\n",
              "      <td>Sea and Adventure</td>\n",
              "      <td>Collingwood| Harry</td>\n",
              "    </tr>\n",
              "    <tr>\n",
              "      <th>3</th>\n",
              "      <td>29</td>\n",
              "      <td>My trials have been, and will no doubt continu...</td>\n",
              "      <td>35294</td>\n",
              "      <td>A Wife's Duty: A Tale</td>\n",
              "      <td>Literary</td>\n",
              "      <td>Opie| Amelia</td>\n",
              "    </tr>\n",
              "    <tr>\n",
              "      <th>4</th>\n",
              "      <td>181</td>\n",
              "      <td>Sherlock Holmes took his bottle from the corne...</td>\n",
              "      <td>2097</td>\n",
              "      <td>The Sign of Four</td>\n",
              "      <td>Detective and Mystery</td>\n",
              "      <td>Connan| Doyle</td>\n",
              "    </tr>\n",
              "  </tbody>\n",
              "</table>\n",
              "</div>"
            ],
            "text/plain": [
              "   index  ...          Author_Name\n",
              "0     86  ...    Dawson| Coningsby\n",
              "1     12  ...  Brame| Charlotte M.\n",
              "2     88  ...   Collingwood| Harry\n",
              "3     29  ...         Opie| Amelia\n",
              "4    181  ...        Connan| Doyle\n",
              "\n",
              "[5 rows x 6 columns]"
            ]
          },
          "metadata": {
            "tags": []
          },
          "execution_count": 1
        }
      ]
    },
    {
      "cell_type": "code",
      "metadata": {
        "id": "ulKRo2TxNciS",
        "colab_type": "code",
        "colab": {}
      },
      "source": [
        "del books['index']"
      ],
      "execution_count": 0,
      "outputs": []
    },
    {
      "cell_type": "code",
      "metadata": {
        "id": "mM8LkPz4P1kA",
        "colab_type": "code",
        "colab": {
          "base_uri": "https://localhost:8080/",
          "height": 207
        },
        "outputId": "73509d47-9eab-44aa-b61f-fa6bbd37f75d"
      },
      "source": [
        "pip install vaderSentiment"
      ],
      "execution_count": 3,
      "outputs": [
        {
          "output_type": "stream",
          "text": [
            "Collecting vaderSentiment\n",
            "\u001b[?25l  Downloading https://files.pythonhosted.org/packages/76/fc/310e16254683c1ed35eeb97386986d6c00bc29df17ce280aed64d55537e9/vaderSentiment-3.3.2-py2.py3-none-any.whl (125kB)\n",
            "\r\u001b[K     |██▋                             | 10kB 17.5MB/s eta 0:00:01\r\u001b[K     |█████▏                          | 20kB 2.1MB/s eta 0:00:01\r\u001b[K     |███████▉                        | 30kB 2.8MB/s eta 0:00:01\r\u001b[K     |██████████▍                     | 40kB 3.0MB/s eta 0:00:01\r\u001b[K     |█████████████                   | 51kB 2.4MB/s eta 0:00:01\r\u001b[K     |███████████████▋                | 61kB 2.7MB/s eta 0:00:01\r\u001b[K     |██████████████████▏             | 71kB 3.1MB/s eta 0:00:01\r\u001b[K     |████████████████████▉           | 81kB 3.3MB/s eta 0:00:01\r\u001b[K     |███████████████████████▍        | 92kB 3.5MB/s eta 0:00:01\r\u001b[K     |██████████████████████████      | 102kB 3.4MB/s eta 0:00:01\r\u001b[K     |████████████████████████████▋   | 112kB 3.4MB/s eta 0:00:01\r\u001b[K     |███████████████████████████████▏| 122kB 3.4MB/s eta 0:00:01\r\u001b[K     |████████████████████████████████| 133kB 3.4MB/s \n",
            "\u001b[?25hRequirement already satisfied: requests in /usr/local/lib/python3.6/dist-packages (from vaderSentiment) (2.23.0)\n",
            "Requirement already satisfied: urllib3!=1.25.0,!=1.25.1,<1.26,>=1.21.1 in /usr/local/lib/python3.6/dist-packages (from requests->vaderSentiment) (1.24.3)\n",
            "Requirement already satisfied: idna<3,>=2.5 in /usr/local/lib/python3.6/dist-packages (from requests->vaderSentiment) (2.9)\n",
            "Requirement already satisfied: certifi>=2017.4.17 in /usr/local/lib/python3.6/dist-packages (from requests->vaderSentiment) (2020.4.5.1)\n",
            "Requirement already satisfied: chardet<4,>=3.0.2 in /usr/local/lib/python3.6/dist-packages (from requests->vaderSentiment) (3.0.4)\n",
            "Installing collected packages: vaderSentiment\n",
            "Successfully installed vaderSentiment-3.3.2\n"
          ],
          "name": "stdout"
        }
      ]
    },
    {
      "cell_type": "code",
      "metadata": {
        "id": "IVGmwqgJS0-a",
        "colab_type": "code",
        "colab": {
          "base_uri": "https://localhost:8080/",
          "height": 272
        },
        "outputId": "bc4b2ffc-6f90-4e47-87df-5cc714f82aba"
      },
      "source": [
        "import nltk\n",
        "nltk.download('stopwords')\n",
        "import nltk\n",
        "nltk.download('punkt')\n",
        "import nltk\n",
        "nltk.download('averaged_perceptron_tagger')\n",
        "import nltk\n",
        "nltk.download('wordnet')\n",
        "import nltk\n",
        "nltk.download('maxent_ne_chunker')\n",
        "import nltk\n",
        "nltk.download('words')"
      ],
      "execution_count": 4,
      "outputs": [
        {
          "output_type": "stream",
          "text": [
            "[nltk_data] Downloading package stopwords to /root/nltk_data...\n",
            "[nltk_data]   Unzipping corpora/stopwords.zip.\n",
            "[nltk_data] Downloading package punkt to /root/nltk_data...\n",
            "[nltk_data]   Unzipping tokenizers/punkt.zip.\n",
            "[nltk_data] Downloading package averaged_perceptron_tagger to\n",
            "[nltk_data]     /root/nltk_data...\n",
            "[nltk_data]   Unzipping taggers/averaged_perceptron_tagger.zip.\n",
            "[nltk_data] Downloading package wordnet to /root/nltk_data...\n",
            "[nltk_data]   Unzipping corpora/wordnet.zip.\n",
            "[nltk_data] Downloading package maxent_ne_chunker to\n",
            "[nltk_data]     /root/nltk_data...\n",
            "[nltk_data]   Unzipping chunkers/maxent_ne_chunker.zip.\n",
            "[nltk_data] Downloading package words to /root/nltk_data...\n",
            "[nltk_data]   Unzipping corpora/words.zip.\n"
          ],
          "name": "stdout"
        },
        {
          "output_type": "execute_result",
          "data": {
            "text/plain": [
              "True"
            ]
          },
          "metadata": {
            "tags": []
          },
          "execution_count": 4
        }
      ]
    },
    {
      "cell_type": "code",
      "metadata": {
        "id": "jxr_fuioOY4z",
        "colab_type": "code",
        "colab": {}
      },
      "source": [
        "from vaderSentiment.vaderSentiment import SentimentIntensityAnalyzer\n",
        "from nltk import sent_tokenize\n",
        "\n",
        "def positive(text):\n",
        "  analyzer = SentimentIntensityAnalyzer()\n",
        "  sentences = sent_tokenize(text)\n",
        "  c_pos = 0\n",
        "  number_of_sen = len(sentences)\n",
        "  for i in sentences:\n",
        "    vs = analyzer.polarity_scores(i)\n",
        "    c_pos += vs['pos'] / number_of_sen\n",
        "    return c_pos\n",
        "\n",
        "def negative(text):\n",
        "  analyzer = SentimentIntensityAnalyzer()\n",
        "  sentences = sent_tokenize(text)\n",
        "  c_pos = 0\n",
        "  number_of_sen = len(sentences)\n",
        "  for i in sentences:\n",
        "    vs = analyzer.polarity_scores(i)\n",
        "    c_pos += vs['neg'] / number_of_sen\n",
        "    return c_pos\n",
        "    \n",
        "def neutral(text):\n",
        "  analyzer = SentimentIntensityAnalyzer()\n",
        "  sentences = sent_tokenize(text)\n",
        "  c_pos = 0\n",
        "  number_of_sen = len(sentences)\n",
        "  for i in sentences:\n",
        "    vs = analyzer.polarity_scores(i)\n",
        "    c_pos += vs['neu'] / number_of_sen\n",
        "    return c_pos\n",
        "    \n",
        "def compound(text):\n",
        "  analyzer = SentimentIntensityAnalyzer()\n",
        "  sentences = sent_tokenize(text)\n",
        "  c_pos = 0\n",
        "  number_of_sen = len(sentences)\n",
        "  for i in sentences:\n",
        "    vs = analyzer.polarity_scores(i)\n",
        "    c_pos += vs['compound'] / number_of_sen\n",
        "    return c_pos\n"
      ],
      "execution_count": 0,
      "outputs": []
    },
    {
      "cell_type": "code",
      "metadata": {
        "id": "TD9QhhtKNsqe",
        "colab_type": "code",
        "colab": {}
      },
      "source": [
        "def sentiment_analysis(books):\n",
        "    df = books.copy() \n",
        "    \n",
        "    df['positive'] = df.data.apply(positive)\n",
        "    df['negative'] = df.data.apply(negative)\n",
        "    df['neutral'] = df.data.apply(neutral)\n",
        "    df['compund'] = df.data.apply(compound)\n",
        "    return df\n"
      ],
      "execution_count": 0,
      "outputs": []
    },
    {
      "cell_type": "code",
      "metadata": {
        "id": "9wHKytixOT_V",
        "colab_type": "code",
        "colab": {}
      },
      "source": [
        "df_senti = sentiment_analysis(books)"
      ],
      "execution_count": 0,
      "outputs": []
    },
    {
      "cell_type": "code",
      "metadata": {
        "id": "6Dnca_f3TSuT",
        "colab_type": "code",
        "colab": {
          "base_uri": "https://localhost:8080/",
          "height": 580
        },
        "outputId": "33ee50f8-c5fc-4c7d-c722-9afe84fb6830"
      },
      "source": [
        "df_senti.head(10)"
      ],
      "execution_count": 8,
      "outputs": [
        {
          "output_type": "execute_result",
          "data": {
            "text/html": [
              "<div>\n",
              "<style scoped>\n",
              "    .dataframe tbody tr th:only-of-type {\n",
              "        vertical-align: middle;\n",
              "    }\n",
              "\n",
              "    .dataframe tbody tr th {\n",
              "        vertical-align: top;\n",
              "    }\n",
              "\n",
              "    .dataframe thead th {\n",
              "        text-align: right;\n",
              "    }\n",
              "</style>\n",
              "<table border=\"1\" class=\"dataframe\">\n",
              "  <thead>\n",
              "    <tr style=\"text-align: right;\">\n",
              "      <th></th>\n",
              "      <th>data</th>\n",
              "      <th>FileNo</th>\n",
              "      <th>Book_Name</th>\n",
              "      <th>genre</th>\n",
              "      <th>Author_Name</th>\n",
              "      <th>positive</th>\n",
              "      <th>negative</th>\n",
              "      <th>neutral</th>\n",
              "      <th>compund</th>\n",
              "    </tr>\n",
              "  </thead>\n",
              "  <tbody>\n",
              "    <tr>\n",
              "      <th>0</th>\n",
              "      <td>A Tale of Keewatin\\nJohn Granger, agent on the...</td>\n",
              "      <td>29400</td>\n",
              "      <td>Murder Point: A Tale of Keewatin</td>\n",
              "      <td>Detective and Mystery</td>\n",
              "      <td>Dawson| Coningsby</td>\n",
              "      <td>0.000020</td>\n",
              "      <td>0.000034</td>\n",
              "      <td>0.000156</td>\n",
              "      <td>-0.000120</td>\n",
              "    </tr>\n",
              "    <tr>\n",
              "      <th>1</th>\n",
              "      <td>Three o'clock on a warm June afternoon. The gr...</td>\n",
              "      <td>15182</td>\n",
              "      <td>Marion Arleigh's Penance - Everyday Life Libra...</td>\n",
              "      <td>Literary</td>\n",
              "      <td>Brame| Charlotte M.</td>\n",
              "      <td>0.000164</td>\n",
              "      <td>0.000000</td>\n",
              "      <td>0.000515</td>\n",
              "      <td>0.000154</td>\n",
              "    </tr>\n",
              "    <tr>\n",
              "      <th>2</th>\n",
              "      <td>A furious gust of wind tore down the chimney, ...</td>\n",
              "      <td>23118</td>\n",
              "      <td>A Chinese Command: A Story of Adventure in Eas...</td>\n",
              "      <td>Sea and Adventure</td>\n",
              "      <td>Collingwood| Harry</td>\n",
              "      <td>0.000000</td>\n",
              "      <td>0.000011</td>\n",
              "      <td>0.000304</td>\n",
              "      <td>-0.000104</td>\n",
              "    </tr>\n",
              "    <tr>\n",
              "      <th>3</th>\n",
              "      <td>My trials have been, and will no doubt continu...</td>\n",
              "      <td>35294</td>\n",
              "      <td>A Wife's Duty: A Tale</td>\n",
              "      <td>Literary</td>\n",
              "      <td>Opie| Amelia</td>\n",
              "      <td>0.000034</td>\n",
              "      <td>0.000000</td>\n",
              "      <td>0.000389</td>\n",
              "      <td>0.000149</td>\n",
              "    </tr>\n",
              "    <tr>\n",
              "      <th>4</th>\n",
              "      <td>Sherlock Holmes took his bottle from the corne...</td>\n",
              "      <td>2097</td>\n",
              "      <td>The Sign of Four</td>\n",
              "      <td>Detective and Mystery</td>\n",
              "      <td>Connan| Doyle</td>\n",
              "      <td>0.000047</td>\n",
              "      <td>0.000000</td>\n",
              "      <td>0.000295</td>\n",
              "      <td>0.000157</td>\n",
              "    </tr>\n",
              "    <tr>\n",
              "      <th>5</th>\n",
              "      <td>I ran down to Brighton for the Sunday. My wife...</td>\n",
              "      <td>40348</td>\n",
              "      <td>The Crime and the Criminal</td>\n",
              "      <td>Detective and Mystery</td>\n",
              "      <td>Marsh| Richard</td>\n",
              "      <td>0.000000</td>\n",
              "      <td>0.000000</td>\n",
              "      <td>0.000105</td>\n",
              "      <td>0.000000</td>\n",
              "    </tr>\n",
              "    <tr>\n",
              "      <th>6</th>\n",
              "      <td>Percy J. Brebner\\nDismal in appearance, the pa...</td>\n",
              "      <td>9849</td>\n",
              "      <td>The Brown Mask</td>\n",
              "      <td>Sea and Adventure</td>\n",
              "      <td>Brebner| Percy James</td>\n",
              "      <td>0.000000</td>\n",
              "      <td>0.000041</td>\n",
              "      <td>0.000116</td>\n",
              "      <td>-0.000133</td>\n",
              "    </tr>\n",
              "    <tr>\n",
              "      <th>7</th>\n",
              "      <td>E-text prepared by Andrew Sly\\nA Novel\\nOaths,...</td>\n",
              "      <td>16730</td>\n",
              "      <td>Mike Fletcher: A Novel</td>\n",
              "      <td>Literary</td>\n",
              "      <td>Moore| George Augustus</td>\n",
              "      <td>0.000050</td>\n",
              "      <td>0.000000</td>\n",
              "      <td>0.000144</td>\n",
              "      <td>0.000096</td>\n",
              "    </tr>\n",
              "    <tr>\n",
              "      <th>8</th>\n",
              "      <td>Three men sat in the Cosmic Club discussing th...</td>\n",
              "      <td>6864</td>\n",
              "      <td>Average Jones</td>\n",
              "      <td>Detective and Mystery</td>\n",
              "      <td>Adams| Samuel Hopkins</td>\n",
              "      <td>0.000011</td>\n",
              "      <td>0.000000</td>\n",
              "      <td>0.000145</td>\n",
              "      <td>0.000004</td>\n",
              "    </tr>\n",
              "    <tr>\n",
              "      <th>9</th>\n",
              "      <td>\"Well, of all the hare-brained proposals I eve...</td>\n",
              "      <td>39417</td>\n",
              "      <td>A Gamble with Life</td>\n",
              "      <td>Detective and Mystery</td>\n",
              "      <td>Hocking| Silas K.</td>\n",
              "      <td>0.000018</td>\n",
              "      <td>0.000000</td>\n",
              "      <td>0.000095</td>\n",
              "      <td>0.000071</td>\n",
              "    </tr>\n",
              "  </tbody>\n",
              "</table>\n",
              "</div>"
            ],
            "text/plain": [
              "                                                data  ...   compund\n",
              "0  A Tale of Keewatin\\nJohn Granger, agent on the...  ... -0.000120\n",
              "1  Three o'clock on a warm June afternoon. The gr...  ...  0.000154\n",
              "2  A furious gust of wind tore down the chimney, ...  ... -0.000104\n",
              "3  My trials have been, and will no doubt continu...  ...  0.000149\n",
              "4  Sherlock Holmes took his bottle from the corne...  ...  0.000157\n",
              "5  I ran down to Brighton for the Sunday. My wife...  ...  0.000000\n",
              "6  Percy J. Brebner\\nDismal in appearance, the pa...  ... -0.000133\n",
              "7  E-text prepared by Andrew Sly\\nA Novel\\nOaths,...  ...  0.000096\n",
              "8  Three men sat in the Cosmic Club discussing th...  ...  0.000004\n",
              "9  \"Well, of all the hare-brained proposals I eve...  ...  0.000071\n",
              "\n",
              "[10 rows x 9 columns]"
            ]
          },
          "metadata": {
            "tags": []
          },
          "execution_count": 8
        }
      ]
    },
    {
      "cell_type": "code",
      "metadata": {
        "id": "vHhjGRluwN41",
        "colab_type": "code",
        "colab": {}
      },
      "source": [
        "del df_senti['data']\n",
        "del df_senti['Book_Name']\n",
        "del df_senti['Author_Name']"
      ],
      "execution_count": 0,
      "outputs": []
    },
    {
      "cell_type": "code",
      "metadata": {
        "id": "hNNbPC327Qj2",
        "colab_type": "code",
        "colab": {
          "base_uri": "https://localhost:8080/",
          "height": 204
        },
        "outputId": "82185fc1-7a81-4ebd-f74c-34b9e25698f8"
      },
      "source": [
        "df_senti.head(5)"
      ],
      "execution_count": 15,
      "outputs": [
        {
          "output_type": "execute_result",
          "data": {
            "text/html": [
              "<div>\n",
              "<style scoped>\n",
              "    .dataframe tbody tr th:only-of-type {\n",
              "        vertical-align: middle;\n",
              "    }\n",
              "\n",
              "    .dataframe tbody tr th {\n",
              "        vertical-align: top;\n",
              "    }\n",
              "\n",
              "    .dataframe thead th {\n",
              "        text-align: right;\n",
              "    }\n",
              "</style>\n",
              "<table border=\"1\" class=\"dataframe\">\n",
              "  <thead>\n",
              "    <tr style=\"text-align: right;\">\n",
              "      <th></th>\n",
              "      <th>FileNo</th>\n",
              "      <th>genre</th>\n",
              "      <th>positive</th>\n",
              "      <th>negative</th>\n",
              "      <th>neutral</th>\n",
              "      <th>compund</th>\n",
              "    </tr>\n",
              "  </thead>\n",
              "  <tbody>\n",
              "    <tr>\n",
              "      <th>0</th>\n",
              "      <td>29400</td>\n",
              "      <td>Detective and Mystery</td>\n",
              "      <td>0.000020</td>\n",
              "      <td>0.000034</td>\n",
              "      <td>0.000156</td>\n",
              "      <td>-0.000120</td>\n",
              "    </tr>\n",
              "    <tr>\n",
              "      <th>1</th>\n",
              "      <td>15182</td>\n",
              "      <td>Literary</td>\n",
              "      <td>0.000164</td>\n",
              "      <td>0.000000</td>\n",
              "      <td>0.000515</td>\n",
              "      <td>0.000154</td>\n",
              "    </tr>\n",
              "    <tr>\n",
              "      <th>2</th>\n",
              "      <td>23118</td>\n",
              "      <td>Sea and Adventure</td>\n",
              "      <td>0.000000</td>\n",
              "      <td>0.000011</td>\n",
              "      <td>0.000304</td>\n",
              "      <td>-0.000104</td>\n",
              "    </tr>\n",
              "    <tr>\n",
              "      <th>3</th>\n",
              "      <td>35294</td>\n",
              "      <td>Literary</td>\n",
              "      <td>0.000034</td>\n",
              "      <td>0.000000</td>\n",
              "      <td>0.000389</td>\n",
              "      <td>0.000149</td>\n",
              "    </tr>\n",
              "    <tr>\n",
              "      <th>4</th>\n",
              "      <td>2097</td>\n",
              "      <td>Detective and Mystery</td>\n",
              "      <td>0.000047</td>\n",
              "      <td>0.000000</td>\n",
              "      <td>0.000295</td>\n",
              "      <td>0.000157</td>\n",
              "    </tr>\n",
              "  </tbody>\n",
              "</table>\n",
              "</div>"
            ],
            "text/plain": [
              "   FileNo                  genre  positive  negative   neutral   compund\n",
              "0   29400  Detective and Mystery  0.000020  0.000034  0.000156 -0.000120\n",
              "1   15182               Literary  0.000164  0.000000  0.000515  0.000154\n",
              "2   23118      Sea and Adventure  0.000000  0.000011  0.000304 -0.000104\n",
              "3   35294               Literary  0.000034  0.000000  0.000389  0.000149\n",
              "4    2097  Detective and Mystery  0.000047  0.000000  0.000295  0.000157"
            ]
          },
          "metadata": {
            "tags": []
          },
          "execution_count": 15
        }
      ]
    },
    {
      "cell_type": "code",
      "metadata": {
        "id": "OJC7CwDHv5Un",
        "colab_type": "code",
        "colab": {}
      },
      "source": [
        "df_senti.to_csv(\"vader_sentiment.csv\")"
      ],
      "execution_count": 0,
      "outputs": []
    },
    {
      "cell_type": "code",
      "metadata": {
        "id": "nZubE0niVbGB",
        "colab_type": "code",
        "outputId": "bff9c620-d1f6-4c69-f3cc-e8cf343688e0",
        "colab": {
          "base_uri": "https://localhost:8080/",
          "height": 1000
        }
      },
      "source": [
        "import matplotlib.pyplot as plt\n",
        "import seaborn as sns\n",
        "for c in df_senti.columns[2:]:\n",
        "    plt.figure(figsize=(20,10))\n",
        "    plt.style.use('seaborn')\n",
        "    sns.barplot(x='genre', y=c, data=df_senti)\n",
        "    plt.title('Vader_Sentiment {}'.format(c))\n",
        "    plt.savefig('Vader_Sentiment {}'.format(c))\n",
        "    plt.show()"
      ],
      "execution_count": 17,
      "outputs": [
        {
          "output_type": "display_data",
          "data": {
            "image/png": "[encoded data removed]",
            "text/plain": [
              "<Figure size 1440x720 with 1 Axes>"
            ]
          },
          "metadata": {
            "tags": []
          }
        },
        {
          "output_type": "display_data",
          "data": {
            "image/png": "[encoded data removed]",
            "text/plain": [
              "<Figure size 1440x720 with 1 Axes>"
            ]
          },
          "metadata": {
            "tags": []
          }
        },
        {
          "output_type": "display_data",
          "data": {
            "image/png": "[encoded data removed]",
            "text/plain": [
              "<Figure size 1440x720 with 1 Axes>"
            ]
          },
          "metadata": {
            "tags": []
          }
        },
        {
          "output_type": "display_data",
          "data": {
            "image/png": "[encoded data removed]",
            "text/plain": [
              "<Figure size 1440x720 with 1 Axes>"
            ]
          },
          "metadata": {
            "tags": []
          }
        }
      ]
    }
  ]
}