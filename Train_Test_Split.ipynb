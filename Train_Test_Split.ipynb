{
  "nbformat": 4,
  "nbformat_minor": 0,
  "metadata": {
    "colab": {
      "name": "Train_Test_Split.ipynb",
      "provenance": [],
      "authorship_tag": "ABX9TyNvmANLBlf6YOGBdBUdDl2X",
      "include_colab_link": true
    },
    "kernelspec": {
      "name": "python3",
      "display_name": "Python 3"
    }
  },
  "cells": [
    {
      "cell_type": "markdown",
      "metadata": {
        "id": "view-in-github",
        "colab_type": "text"
      },
      "source": [
        "<a href=\"https://colab.research.google.com/github/BlackCurrantDS/ATiML-Project/blob/master/Train_Test_Split.ipynb\" target=\"_parent\"><img src=\"https://colab.research.google.com/assets/colab-badge.svg\" alt=\"Open In Colab\"/></a>"
      ]
    },
    {
      "cell_type": "code",
      "metadata": {
        "id": "gWRUVJU59T4e",
        "colab_type": "code",
        "colab": {}
      },
      "source": [
        "from sklearn.model_selection import train_test_split"
      ],
      "execution_count": 0,
      "outputs": []
    },
    {
      "cell_type": "code",
      "metadata": {
        "id": "BUmLLkbijnlq",
        "colab_type": "code",
        "colab": {}
      },
      "source": [
        "import pandas as pd\n",
        "books = pd.read_csv(\"books.csv\",index_col=0)\n",
        "books.head(5)"
      ],
      "execution_count": 0,
      "outputs": []
    },
    {
      "cell_type": "code",
      "metadata": {
        "id": "JVBBUymguePY",
        "colab_type": "code",
        "colab": {}
      },
      "source": [
        "del books['index']"
      ],
      "execution_count": 0,
      "outputs": []
    },
    {
      "cell_type": "code",
      "metadata": {
        "id": "5MMzNpRIj50Z",
        "colab_type": "code",
        "colab": {
          "base_uri": "https://localhost:8080/",
          "height": 34
        },
        "outputId": "622adbe7-552b-4f4a-9241-31c70fcf61de"
      },
      "source": [
        "books.shape"
      ],
      "execution_count": 28,
      "outputs": [
        {
          "output_type": "execute_result",
          "data": {
            "text/plain": [
              "(111, 5)"
            ]
          },
          "metadata": {
            "tags": []
          },
          "execution_count": 28
        }
      ]
    },
    {
      "cell_type": "markdown",
      "metadata": {
        "id": "Iy9VD9nkpH3a",
        "colab_type": "text"
      },
      "source": [
        "# 10% test data"
      ]
    },
    {
      "cell_type": "code",
      "metadata": {
        "id": "26qYjUA6m1_2",
        "colab_type": "code",
        "colab": {}
      },
      "source": [
        "books_tr, books_test = train_test_split(books, test_size=.10, shuffle=True, stratify = books['genre'])"
      ],
      "execution_count": 0,
      "outputs": []
    },
    {
      "cell_type": "code",
      "metadata": {
        "id": "oohk0GJZnO82",
        "colab_type": "code",
        "colab": {
          "base_uri": "https://localhost:8080/",
          "height": 51
        },
        "outputId": "1fd528b1-2a43-48b4-ca19-6b968a058eb5"
      },
      "source": [
        "print(\"Lenght of the training is\", len(books_tr), books_tr.shape)\n",
        "print(\"Lenght of the test is\", len(books_test), books_test.shape)"
      ],
      "execution_count": 30,
      "outputs": [
        {
          "output_type": "stream",
          "text": [
            "Lenght of the training is 99 (99, 5)\n",
            "Lenght of the test is 12 (12, 5)\n"
          ],
          "name": "stdout"
        }
      ]
    },
    {
      "cell_type": "markdown",
      "metadata": {
        "id": "fCfN2pzIuwPW",
        "colab_type": "text"
      },
      "source": [
        "# 10% Validation set"
      ]
    },
    {
      "cell_type": "code",
      "metadata": {
        "id": "eVajafC1o-E_",
        "colab_type": "code",
        "colab": {}
      },
      "source": [
        "books_train, books_validation = train_test_split(books_tr, test_size=.11, shuffle=True, stratify = books_tr['genre'])"
      ],
      "execution_count": 0,
      "outputs": []
    },
    {
      "cell_type": "code",
      "metadata": {
        "id": "GdYW4qYopY8M",
        "colab_type": "code",
        "colab": {
          "base_uri": "https://localhost:8080/",
          "height": 51
        },
        "outputId": "d75e44a8-4e4e-42cc-e90a-c591bc577f51"
      },
      "source": [
        "print(\"Lenght of the training is\", len(books_train), books_train.shape)\n",
        "print(\"Lenght of the validation is\", len(books_validation), books_validation.shape)"
      ],
      "execution_count": 32,
      "outputs": [
        {
          "output_type": "stream",
          "text": [
            "Lenght of the training is 88 (88, 5)\n",
            "Lenght of the validation is 11 (11, 5)\n"
          ],
          "name": "stdout"
        }
      ]
    },
    {
      "cell_type": "markdown",
      "metadata": {
        "id": "XUgkJ1uIvV5i",
        "colab_type": "text"
      },
      "source": [
        "**Export train/test/validation set as dataframe**"
      ]
    },
    {
      "cell_type": "code",
      "metadata": {
        "id": "UAYFIly2u7E2",
        "colab_type": "code",
        "colab": {}
      },
      "source": [
        "books_train.head(5)"
      ],
      "execution_count": 0,
      "outputs": []
    },
    {
      "cell_type": "code",
      "metadata": {
        "id": "1dLv1PSdvArg",
        "colab_type": "code",
        "colab": {}
      },
      "source": [
        "books_train.to_csv(\"books_train.csv\")\n",
        "books_test.to_csv(\"books_test.csv\")\n",
        "books_validation.to_csv(\"books_validation.csv\")"
      ],
      "execution_count": 0,
      "outputs": []
    }
  ]
}