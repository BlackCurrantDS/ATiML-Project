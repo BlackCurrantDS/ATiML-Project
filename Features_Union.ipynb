{
  "nbformat": 4,
  "nbformat_minor": 0,
  "metadata": {
    "colab": {
      "name": "Features_Union.ipynb",
      "provenance": [],
      "authorship_tag": "ABX9TyOdKFoTNcvUVsA6WlZYOzdy",
      "include_colab_link": true
    },
    "kernelspec": {
      "name": "python3",
      "display_name": "Python 3"
    }
  },
  "cells": [
    {
      "cell_type": "markdown",
      "metadata": {
        "id": "view-in-github",
        "colab_type": "text"
      },
      "source": [
        "<a href=\"https://colab.research.google.com/github/BlackCurrantDS/ATiML-Project/blob/master/Features_Union.ipynb\" target=\"_parent\"><img src=\"https://colab.research.google.com/assets/colab-badge.svg\" alt=\"Open In Colab\"/></a>"
      ]
    },
    {
      "cell_type": "code",
      "metadata": {
        "id": "TriyhgYvSAz0",
        "colab_type": "code",
        "outputId": "0ec5be44-82c3-4c9f-b048-cb2ac8f686bc",
        "colab": {
          "base_uri": "https://localhost:8080/",
          "height": 34
        }
      },
      "source": [
        "import pandas as pd\n",
        "\n",
        "#Getting data into dataframe from all features\n",
        "df_meta_train = pd.read_csv(\"df_meta_train.csv\", index_col=0)\n",
        "df_meta_train.shape\n"
      ],
      "execution_count": 28,
      "outputs": [
        {
          "output_type": "execute_result",
          "data": {
            "text/plain": [
              "(88, 26)"
            ]
          },
          "metadata": {
            "tags": []
          },
          "execution_count": 28
        }
      ]
    },
    {
      "cell_type": "code",
      "metadata": {
        "id": "LU_BUF1TWqoG",
        "colab_type": "code",
        "outputId": "8657400b-a016-4edc-81ac-63ee0aa43157",
        "colab": {
          "base_uri": "https://localhost:8080/",
          "height": 34
        }
      },
      "source": [
        "vader_sentiment_train = pd.read_csv(\"vader_sentiment_train.csv\", index_col=0)\n",
        "vader_sentiment_train.shape"
      ],
      "execution_count": 29,
      "outputs": [
        {
          "output_type": "execute_result",
          "data": {
            "text/plain": [
              "(88, 6)"
            ]
          },
          "metadata": {
            "tags": []
          },
          "execution_count": 29
        }
      ]
    },
    {
      "cell_type": "code",
      "metadata": {
        "id": "59GNrJXlWu3p",
        "colab_type": "code",
        "outputId": "21d98c36-ac62-4a82-dadc-c510bb6d2dfe",
        "colab": {
          "base_uri": "https://localhost:8080/",
          "height": 34
        }
      },
      "source": [
        "emotions_analysis_train = pd.read_csv(\"emotions_analysis_train.csv\", index_col=0)\n",
        "emotions_analysis_train.shape\n"
      ],
      "execution_count": 31,
      "outputs": [
        {
          "output_type": "execute_result",
          "data": {
            "text/plain": [
              "(88, 12)"
            ]
          },
          "metadata": {
            "tags": []
          },
          "execution_count": 31
        }
      ]
    },
    {
      "cell_type": "code",
      "metadata": {
        "id": "4UplfMFTciFj",
        "colab_type": "code",
        "colab": {}
      },
      "source": [
        "#Getting data from  training books\n",
        "books_train = pd.read_csv(\"books_train.csv\", index_col=0)\n",
        "books_train = books_train[['FileNo', 'Author_Name', 'Book_Name']]"
      ],
      "execution_count": 0,
      "outputs": []
    },
    {
      "cell_type": "code",
      "metadata": {
        "id": "Rglm78_TX0O4",
        "colab_type": "code",
        "colab": {}
      },
      "source": [
        "data_frames = [df_meta_train,vader_sentiment_train,emotions_analysis_train, books_train]"
      ],
      "execution_count": 0,
      "outputs": []
    },
    {
      "cell_type": "code",
      "metadata": {
        "id": "s8utYbjAV0LH",
        "colab_type": "code",
        "colab": {}
      },
      "source": [
        "#merging all the features\n",
        "from functools import reduce\n",
        "\n",
        "df_merged = reduce(lambda  left,right: pd.merge(left,right,on=['FileNo']), data_frames).fillna('void')"
      ],
      "execution_count": 0,
      "outputs": []
    },
    {
      "cell_type": "code",
      "metadata": {
        "id": "dn3-_SZ6WUKD",
        "colab_type": "code",
        "colab": {
          "base_uri": "https://localhost:8080/",
          "height": 151
        },
        "outputId": "86c75c4c-c1e2-4c41-c1c1-82a2103309dc"
      },
      "source": [
        "df_merged.head(1)"
      ],
      "execution_count": 35,
      "outputs": [
        {
          "output_type": "execute_result",
          "data": {
            "text/html": [
              "<div>\n",
              "<style scoped>\n",
              "    .dataframe tbody tr th:only-of-type {\n",
              "        vertical-align: middle;\n",
              "    }\n",
              "\n",
              "    .dataframe tbody tr th {\n",
              "        vertical-align: top;\n",
              "    }\n",
              "\n",
              "    .dataframe thead th {\n",
              "        text-align: right;\n",
              "    }\n",
              "</style>\n",
              "<table border=\"1\" class=\"dataframe\">\n",
              "  <thead>\n",
              "    <tr style=\"text-align: right;\">\n",
              "      <th></th>\n",
              "      <th>FileNo</th>\n",
              "      <th>genre_x</th>\n",
              "      <th>book_lenght</th>\n",
              "      <th>book_sen</th>\n",
              "      <th>book_word</th>\n",
              "      <th>lenght_book</th>\n",
              "      <th>number_sen</th>\n",
              "      <th>number_word</th>\n",
              "      <th>number_of_stop_words</th>\n",
              "      <th>number_of_foreignwords</th>\n",
              "      <th>count_dial_break</th>\n",
              "      <th>noun</th>\n",
              "      <th>verb</th>\n",
              "      <th>adj</th>\n",
              "      <th>ProperNoun</th>\n",
              "      <th>num</th>\n",
              "      <th>Puch</th>\n",
              "      <th>she</th>\n",
              "      <th>he</th>\n",
              "      <th>she_he_ratio</th>\n",
              "      <th>period</th>\n",
              "      <th>comma</th>\n",
              "      <th>colon</th>\n",
              "      <th>semi_colon</th>\n",
              "      <th>exl</th>\n",
              "      <th>q</th>\n",
              "      <th>genre_y</th>\n",
              "      <th>positive_x</th>\n",
              "      <th>negative_x</th>\n",
              "      <th>neutral</th>\n",
              "      <th>compund</th>\n",
              "      <th>genre</th>\n",
              "      <th>positive_y</th>\n",
              "      <th>negative_y</th>\n",
              "      <th>anger</th>\n",
              "      <th>disgust</th>\n",
              "      <th>fear</th>\n",
              "      <th>sadness</th>\n",
              "      <th>anticipation</th>\n",
              "      <th>joy</th>\n",
              "      <th>surprise</th>\n",
              "      <th>trust</th>\n",
              "      <th>Author_Name</th>\n",
              "      <th>Book_Name</th>\n",
              "    </tr>\n",
              "  </thead>\n",
              "  <tbody>\n",
              "    <tr>\n",
              "      <th>0</th>\n",
              "      <td>29400</td>\n",
              "      <td>Detective and Mystery</td>\n",
              "      <td>549154</td>\n",
              "      <td>4766</td>\n",
              "      <td>118450</td>\n",
              "      <td>0.014935</td>\n",
              "      <td>0.011614</td>\n",
              "      <td>0.014683</td>\n",
              "      <td>0.431178</td>\n",
              "      <td>0.000076</td>\n",
              "      <td>236</td>\n",
              "      <td>0.16764</td>\n",
              "      <td>0.181866</td>\n",
              "      <td>0.045454</td>\n",
              "      <td>0.0</td>\n",
              "      <td>0.004702</td>\n",
              "      <td>0.040245</td>\n",
              "      <td>860</td>\n",
              "      <td>5926</td>\n",
              "      <td>0.145123</td>\n",
              "      <td>0.035416</td>\n",
              "      <td>0.064255</td>\n",
              "      <td>0.000422</td>\n",
              "      <td>0.008282</td>\n",
              "      <td>0.001157</td>\n",
              "      <td>0.003765</td>\n",
              "      <td>Detective and Mystery</td>\n",
              "      <td>0.00002</td>\n",
              "      <td>0.000034</td>\n",
              "      <td>0.000156</td>\n",
              "      <td>-0.00012</td>\n",
              "      <td>Detective and Mystery</td>\n",
              "      <td>0.078614</td>\n",
              "      <td>0.113023</td>\n",
              "      <td>0.048001</td>\n",
              "      <td>0.024674</td>\n",
              "      <td>0.068205</td>\n",
              "      <td>0.062083</td>\n",
              "      <td>0.061165</td>\n",
              "      <td>0.03594</td>\n",
              "      <td>0.046409</td>\n",
              "      <td>0.049042</td>\n",
              "      <td>Dawson| Coningsby</td>\n",
              "      <td>Murder Point: A Tale of Keewatin</td>\n",
              "    </tr>\n",
              "  </tbody>\n",
              "</table>\n",
              "</div>"
            ],
            "text/plain": [
              "   FileNo  ...                         Book_Name\n",
              "0   29400  ...  Murder Point: A Tale of Keewatin\n",
              "\n",
              "[1 rows x 44 columns]"
            ]
          },
          "metadata": {
            "tags": []
          },
          "execution_count": 35
        }
      ]
    },
    {
      "cell_type": "code",
      "metadata": {
        "id": "Wb0KTyjiYy8W",
        "colab_type": "code",
        "outputId": "1d7f8885-8c4f-4e99-e18c-2ef23e8d1b4c",
        "colab": {
          "base_uri": "https://localhost:8080/",
          "height": 34
        }
      },
      "source": [
        "df_merged.shape"
      ],
      "execution_count": 36,
      "outputs": [
        {
          "output_type": "execute_result",
          "data": {
            "text/plain": [
              "(88, 44)"
            ]
          },
          "metadata": {
            "tags": []
          },
          "execution_count": 36
        }
      ]
    },
    {
      "cell_type": "code",
      "metadata": {
        "id": "e_hVGeadZxrk",
        "colab_type": "code",
        "colab": {}
      },
      "source": [
        "df_merged.drop(['genre_x', 'genre_y' ], axis = 1) "
      ],
      "execution_count": 0,
      "outputs": []
    },
    {
      "cell_type": "code",
      "metadata": {
        "id": "0xz7-zG_WapF",
        "colab_type": "code",
        "colab": {}
      },
      "source": [
        "df_merged.to_csv(\"features_train.csv\")\n",
        "#df_merged.to_csv(\"features_validation.csv\")\n",
        "#df_merged.to_csv(\"features_test.csv\")"
      ],
      "execution_count": 0,
      "outputs": []
    }
  ]
}