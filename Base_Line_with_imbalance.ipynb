{
  "nbformat": 4,
  "nbformat_minor": 0,
  "metadata": {
    "colab": {
      "name": "Base_Line_with_imbalance.ipynb",
      "provenance": [],
      "authorship_tag": "ABX9TyOTqSb5VOj8KGwjDnt0Yuc2",
      "include_colab_link": true
    },
    "kernelspec": {
      "name": "python3",
      "display_name": "Python 3"
    }
  },
  "cells": [
    {
      "cell_type": "markdown",
      "metadata": {
        "id": "view-in-github",
        "colab_type": "text"
      },
      "source": [
        "<a href=\"https://colab.research.google.com/github/BlackCurrantDS/ATiML-Project/blob/master/Base_Line_with_imbalance.ipynb\" target=\"_parent\"><img src=\"https://colab.research.google.com/assets/colab-badge.svg\" alt=\"Open In Colab\"/></a>"
      ]
    },
    {
      "cell_type": "markdown",
      "metadata": {
        "id": "1DG47X0rpuwJ",
        "colab_type": "text"
      },
      "source": [
        "**Getting data froam the gutenberg**"
      ]
    },
    {
      "cell_type": "code",
      "metadata": {
        "id": "35uAQIqOR7Vu",
        "colab_type": "code",
        "colab": {
          "base_uri": "https://localhost:8080/",
          "height": 34
        },
        "outputId": "1b928b07-1cbd-48c1-e376-0eb420c8bcbb"
      },
      "source": [
        "#Unzip the Overall data\n",
        "!unzip Gutenberg_English_Fiction_1k.zip -d books_set\n"
      ],
      "execution_count": 63,
      "outputs": [
        {
          "output_type": "execute_result",
          "data": {
            "text/plain": [
              "'#Unzip the Overall data\\n!unzip Gutenberg_English_Fiction_1k.zip -d books_set'"
            ]
          },
          "metadata": {
            "tags": []
          },
          "execution_count": 63
        }
      ]
    },
    {
      "cell_type": "code",
      "metadata": {
        "id": "SbuISUxkRlJh",
        "colab_type": "code",
        "outputId": "e35e08fb-8669-4ab5-e8af-91d0dc4e17c3",
        "colab": {
          "base_uri": "https://localhost:8080/",
          "height": 204
        }
      },
      "source": [
        "#Reading the meta data file\n",
        "import pandas as pd\n",
        "\n",
        "data = []\n",
        "\n",
        "import os\n",
        "file = os.path.abspath('books_set/Gutenberg_English_Fiction_1k/master996.csv')\n",
        "\n",
        "with open(file, \"rb\") as myfile:\n",
        "    # read the header seperately\n",
        "    # decode it as 'utf-8', remove any special characters, and split it on the comma (or deliminator)\n",
        "    header = myfile.readline().decode('utf-8').replace('\\r\\n', '').split(';')\n",
        "    # read the rest of the data\n",
        "    for line in myfile:\n",
        "        row = line.decode('utf-8', errors='ignore').replace('\\r\\n', '').split(';')\n",
        "        data.append(row)\n",
        "\n",
        "# save the data as a dataframe\n",
        "meta_data = pd.DataFrame(data=data, columns = header)\n",
        "meta_data.head(5)"
      ],
      "execution_count": 64,
      "outputs": [
        {
          "output_type": "execute_result",
          "data": {
            "text/html": [
              "<div>\n",
              "<style scoped>\n",
              "    .dataframe tbody tr th:only-of-type {\n",
              "        vertical-align: middle;\n",
              "    }\n",
              "\n",
              "    .dataframe tbody tr th {\n",
              "        vertical-align: top;\n",
              "    }\n",
              "\n",
              "    .dataframe thead th {\n",
              "        text-align: right;\n",
              "    }\n",
              "</style>\n",
              "<table border=\"1\" class=\"dataframe\">\n",
              "  <thead>\n",
              "    <tr style=\"text-align: right;\">\n",
              "      <th></th>\n",
              "      <th>Book_Name</th>\n",
              "      <th>book_id</th>\n",
              "      <th>guten_genre</th>\n",
              "      <th>Author_Name</th>\n",
              "    </tr>\n",
              "  </thead>\n",
              "  <tbody>\n",
              "    <tr>\n",
              "      <th>0</th>\n",
              "      <td>The Mystery of the Boule Cabinet: A Detective ...</td>\n",
              "      <td>pg10067.epub</td>\n",
              "      <td>Detective and Mystery</td>\n",
              "      <td>Stevenson| Burton Egbert</td>\n",
              "    </tr>\n",
              "    <tr>\n",
              "      <th>1</th>\n",
              "      <td>The Pupil</td>\n",
              "      <td>pg1032.epub</td>\n",
              "      <td>Literary</td>\n",
              "      <td>James| Henry</td>\n",
              "    </tr>\n",
              "    <tr>\n",
              "      <th>2</th>\n",
              "      <td>At Love's Cost</td>\n",
              "      <td>pg10379.epub</td>\n",
              "      <td>Literary</td>\n",
              "      <td>Garvice| Charles</td>\n",
              "    </tr>\n",
              "    <tr>\n",
              "      <th>3</th>\n",
              "      <td>The Heart of the Range</td>\n",
              "      <td>pg10473.epub</td>\n",
              "      <td>Western Stories</td>\n",
              "      <td>White| William Patterson</td>\n",
              "    </tr>\n",
              "    <tr>\n",
              "      <th>4</th>\n",
              "      <td>The Worshipper of the Image</td>\n",
              "      <td>pg10812.epub</td>\n",
              "      <td>Literary</td>\n",
              "      <td>Gallienne| Richard Le</td>\n",
              "    </tr>\n",
              "  </tbody>\n",
              "</table>\n",
              "</div>"
            ],
            "text/plain": [
              "                                           Book_Name  ...               Author_Name\n",
              "0  The Mystery of the Boule Cabinet: A Detective ...  ...  Stevenson| Burton Egbert\n",
              "1                                          The Pupil  ...              James| Henry\n",
              "2                                     At Love's Cost  ...          Garvice| Charles\n",
              "3                             The Heart of the Range  ...  White| William Patterson\n",
              "4                        The Worshipper of the Image  ...     Gallienne| Richard Le\n",
              "\n",
              "[5 rows x 4 columns]"
            ]
          },
          "metadata": {
            "tags": []
          },
          "execution_count": 64
        }
      ]
    },
    {
      "cell_type": "code",
      "metadata": {
        "id": "G6ivSGBKRlJ1",
        "colab_type": "code",
        "colab": {
          "base_uri": "https://localhost:8080/",
          "height": 419
        },
        "outputId": "00f5e506-2430-47a8-844c-7322b1b0a31e"
      },
      "source": [
        "#Extracting the bookid into Dataframe column FileNo, book id pg10067- FileNo - 10067\n",
        "\n",
        "meta_data['FileNo'] = meta_data['book_id'].str.replace(r'\\D+', '').astype(int)\n",
        "\n",
        "#Checkign the values\n",
        "\n",
        "meta_data.sort_values(by=['FileNo'], inplace=True)\n",
        "meta_data"
      ],
      "execution_count": 65,
      "outputs": [
        {
          "output_type": "execute_result",
          "data": {
            "text/html": [
              "<div>\n",
              "<style scoped>\n",
              "    .dataframe tbody tr th:only-of-type {\n",
              "        vertical-align: middle;\n",
              "    }\n",
              "\n",
              "    .dataframe tbody tr th {\n",
              "        vertical-align: top;\n",
              "    }\n",
              "\n",
              "    .dataframe thead th {\n",
              "        text-align: right;\n",
              "    }\n",
              "</style>\n",
              "<table border=\"1\" class=\"dataframe\">\n",
              "  <thead>\n",
              "    <tr style=\"text-align: right;\">\n",
              "      <th></th>\n",
              "      <th>Book_Name</th>\n",
              "      <th>book_id</th>\n",
              "      <th>guten_genre</th>\n",
              "      <th>Author_Name</th>\n",
              "      <th>FileNo</th>\n",
              "    </tr>\n",
              "  </thead>\n",
              "  <tbody>\n",
              "    <tr>\n",
              "      <th>961</th>\n",
              "      <td>Alice's Adventures in Wonderland</td>\n",
              "      <td>pg11CarolAlice.epub</td>\n",
              "      <td>Literary</td>\n",
              "      <td>Carroll| Lewis</td>\n",
              "      <td>11</td>\n",
              "    </tr>\n",
              "    <tr>\n",
              "      <th>962</th>\n",
              "      <td>Through the Looking-Glass</td>\n",
              "      <td>pg12CarolGlassLook.epub</td>\n",
              "      <td>Literary</td>\n",
              "      <td>Carroll| Lewis</td>\n",
              "      <td>12</td>\n",
              "    </tr>\n",
              "    <tr>\n",
              "      <th>995</th>\n",
              "      <td>A Tale of Two Cities</td>\n",
              "      <td>pg98DickensTaleCities.epub</td>\n",
              "      <td>Literary</td>\n",
              "      <td>Dickens| Charles</td>\n",
              "      <td>98</td>\n",
              "    </tr>\n",
              "    <tr>\n",
              "      <th>958</th>\n",
              "      <td>Persuasion</td>\n",
              "      <td>pg105JaneAusPersuatn.epub</td>\n",
              "      <td>Literary</td>\n",
              "      <td>Austen| Jane</td>\n",
              "      <td>105</td>\n",
              "    </tr>\n",
              "    <tr>\n",
              "      <th>959</th>\n",
              "      <td>Return of Sherlock Holmes</td>\n",
              "      <td>pg108DoyleReturnSherlk.epub</td>\n",
              "      <td>Detective and Mystery</td>\n",
              "      <td>Connan| Doyle</td>\n",
              "      <td>108</td>\n",
              "    </tr>\n",
              "    <tr>\n",
              "      <th>...</th>\n",
              "      <td>...</td>\n",
              "      <td>...</td>\n",
              "      <td>...</td>\n",
              "      <td>...</td>\n",
              "      <td>...</td>\n",
              "    </tr>\n",
              "    <tr>\n",
              "      <th>863</th>\n",
              "      <td>Kate Vernon: A Tale. Vol. 2 (of 3)</td>\n",
              "      <td>pg53356.epub</td>\n",
              "      <td>Literary</td>\n",
              "      <td>Alexander| Mrs.</td>\n",
              "      <td>53356</td>\n",
              "    </tr>\n",
              "    <tr>\n",
              "      <th>864</th>\n",
              "      <td>The Touch of Abner</td>\n",
              "      <td>pg53604.epub</td>\n",
              "      <td>Literary</td>\n",
              "      <td>Cody| H. A.</td>\n",
              "      <td>53604</td>\n",
              "    </tr>\n",
              "    <tr>\n",
              "      <th>865</th>\n",
              "      <td>Kate Vernon: A Tale. Vol. 3 (of 3)</td>\n",
              "      <td>pg53668.epub</td>\n",
              "      <td>Literary</td>\n",
              "      <td>Alexander| Mrs.</td>\n",
              "      <td>53668</td>\n",
              "    </tr>\n",
              "    <tr>\n",
              "      <th>964</th>\n",
              "      <td>Mardi: and A Voyage Thither I</td>\n",
              "      <td>pg13720HermanVoyage1.epub</td>\n",
              "      <td>Sea and Adventure</td>\n",
              "      <td>Melville| Herman</td>\n",
              "      <td>137201</td>\n",
              "    </tr>\n",
              "    <tr>\n",
              "      <th>965</th>\n",
              "      <td>Mardi: and A Voyage Thither ||</td>\n",
              "      <td>pg13721HermanVoyage2.epub</td>\n",
              "      <td>Sea and Adventure</td>\n",
              "      <td>Melville| Herman</td>\n",
              "      <td>137212</td>\n",
              "    </tr>\n",
              "  </tbody>\n",
              "</table>\n",
              "<p>996 rows × 5 columns</p>\n",
              "</div>"
            ],
            "text/plain": [
              "                              Book_Name  ...  FileNo\n",
              "961    Alice's Adventures in Wonderland  ...      11\n",
              "962           Through the Looking-Glass  ...      12\n",
              "995                A Tale of Two Cities  ...      98\n",
              "958                          Persuasion  ...     105\n",
              "959           Return of Sherlock Holmes  ...     108\n",
              "..                                  ...  ...     ...\n",
              "863  Kate Vernon: A Tale. Vol. 2 (of 3)  ...   53356\n",
              "864                  The Touch of Abner  ...   53604\n",
              "865  Kate Vernon: A Tale. Vol. 3 (of 3)  ...   53668\n",
              "964       Mardi: and A Voyage Thither I  ...  137201\n",
              "965      Mardi: and A Voyage Thither ||  ...  137212\n",
              "\n",
              "[996 rows x 5 columns]"
            ]
          },
          "metadata": {
            "tags": []
          },
          "execution_count": 65
        }
      ]
    },
    {
      "cell_type": "markdown",
      "metadata": {
        "id": "2yK94nxgqJHS",
        "colab_type": "text"
      },
      "source": [
        "**Getting book content**"
      ]
    },
    {
      "cell_type": "code",
      "metadata": {
        "id": "dykafwtBRlKF",
        "colab_type": "code",
        "colab": {}
      },
      "source": [
        "import glob\n",
        "\n",
        "# Getting all files and its names into dict and then converting to dataframe\"\"\"\n",
        "\n",
        "Content = {}\n",
        "\n",
        "#Its placed in Books folder at local , need to change it later \n",
        "%timeit\n",
        "\n",
        "files = glob.glob(\"books_set//Gutenberg_English_Fiction_1k//Gutenberg_19th_century_English_Fiction//*.html\")\n",
        "for f in files:\n",
        "    with open(f,mode ='r', encoding = 'utf8') as myfile:\n",
        "        Content[f]=myfile.read().replace(\"<br>\", '\\n')\n"
      ],
      "execution_count": 0,
      "outputs": []
    },
    {
      "cell_type": "code",
      "metadata": {
        "id": "ojm8z3o-RlKP",
        "colab_type": "code",
        "outputId": "8a0aa0b9-06a9-4808-c61a-eb1837063d32",
        "colab": {
          "base_uri": "https://localhost:8080/",
          "height": 578
        }
      },
      "source": [
        "#Putting it in dataframe\n",
        "df = pd.DataFrame.from_dict(Content,orient='index').reset_index()\n",
        "\n",
        "#Renaming column names\n",
        "df.columns = ['File_Name', 'Data']\n",
        "print(df.head(5))\n",
        "print(df['File_Name'][0])\n",
        "df['File_Name'] = df['File_Name'].str.replace(\"books_set//Gutenberg_English_Fiction_1k//Gutenberg_19th_century_English_Fiction/\", \"l\")\n",
        "print(df['File_Name'][0])\n",
        "#Adding FilNo column to join\n",
        "df['FileNo'] = df['File_Name'].str.replace(r'\\D+', '').astype(int)\n",
        "left = df\n",
        "right = meta_data\n",
        "result = pd.merge(left, right , how='inner', on=['FileNo', 'FileNo'])\n",
        "\n",
        "#Checking resulting dataframe\n",
        "result.info()\n",
        "\n",
        "#Dropping unnecessery columns\n",
        "\n",
        "books=result.drop(['File_Name', 'book_id'], axis=1)\n",
        "books.head(5)"
      ],
      "execution_count": 67,
      "outputs": [
        {
          "output_type": "stream",
          "text": [
            "                                           File_Name                                               Data\n",
            "0  books_set//Gutenberg_English_Fiction_1k//Guten...  <p>\"Father Adrian!\"\\n<p>\"I am here!\"\\n<p>\"I sa...\n",
            "1  books_set//Gutenberg_English_Fiction_1k//Guten...  <p>E-text prepared by Al Haines\\n<p>It all dep...\n",
            "2  books_set//Gutenberg_English_Fiction_1k//Guten...  <p>Arch Trevlyn had had a good day. Business h...\n",
            "3  books_set//Gutenberg_English_Fiction_1k//Guten...  <p>This work was the forerunner and, according...\n",
            "4  books_set//Gutenberg_English_Fiction_1k//Guten...  <p>To the Messrs. Appleton.\\n<p>Gentlemen: It ...\n",
            "books_set//Gutenberg_English_Fiction_1k//Gutenberg_19th_century_English_Fiction/pg31535-content.html\n",
            "lpg31535-content.html\n",
            "<class 'pandas.core.frame.DataFrame'>\n",
            "Int64Index: 996 entries, 0 to 995\n",
            "Data columns (total 7 columns):\n",
            " #   Column       Non-Null Count  Dtype \n",
            "---  ------       --------------  ----- \n",
            " 0   File_Name    996 non-null    object\n",
            " 1   Data         996 non-null    object\n",
            " 2   FileNo       996 non-null    int64 \n",
            " 3   Book_Name    996 non-null    object\n",
            " 4   book_id      996 non-null    object\n",
            " 5   guten_genre  996 non-null    object\n",
            " 6   Author_Name  996 non-null    object\n",
            "dtypes: int64(1), object(6)\n",
            "memory usage: 62.2+ KB\n"
          ],
          "name": "stdout"
        },
        {
          "output_type": "execute_result",
          "data": {
            "text/html": [
              "<div>\n",
              "<style scoped>\n",
              "    .dataframe tbody tr th:only-of-type {\n",
              "        vertical-align: middle;\n",
              "    }\n",
              "\n",
              "    .dataframe tbody tr th {\n",
              "        vertical-align: top;\n",
              "    }\n",
              "\n",
              "    .dataframe thead th {\n",
              "        text-align: right;\n",
              "    }\n",
              "</style>\n",
              "<table border=\"1\" class=\"dataframe\">\n",
              "  <thead>\n",
              "    <tr style=\"text-align: right;\">\n",
              "      <th></th>\n",
              "      <th>Data</th>\n",
              "      <th>FileNo</th>\n",
              "      <th>Book_Name</th>\n",
              "      <th>guten_genre</th>\n",
              "      <th>Author_Name</th>\n",
              "    </tr>\n",
              "  </thead>\n",
              "  <tbody>\n",
              "    <tr>\n",
              "      <th>0</th>\n",
              "      <td>&lt;p&gt;E-text prepared by Al Haines\\n&lt;p&gt;It all dep...</td>\n",
              "      <td>17390</td>\n",
              "      <td>Hearts and Masks</td>\n",
              "      <td>Literary</td>\n",
              "      <td>MacGrath| Harold</td>\n",
              "    </tr>\n",
              "    <tr>\n",
              "      <th>1</th>\n",
              "      <td>&lt;p&gt;Arch Trevlyn had had a good day. Business h...</td>\n",
              "      <td>15989</td>\n",
              "      <td>The Fatal Glove</td>\n",
              "      <td>Literary</td>\n",
              "      <td>Augusta| Clara</td>\n",
              "    </tr>\n",
              "    <tr>\n",
              "      <th>2</th>\n",
              "      <td>&lt;p&gt;This work was the forerunner and, according...</td>\n",
              "      <td>36353</td>\n",
              "      <td>The Invisible Lodge</td>\n",
              "      <td>Literary</td>\n",
              "      <td>Paul| Jean</td>\n",
              "    </tr>\n",
              "    <tr>\n",
              "      <th>3</th>\n",
              "      <td>&lt;p&gt;\"EASTOVER COURT HOUSE.\" By Henry Burnham Bo...</td>\n",
              "      <td>41963</td>\n",
              "      <td>The Debatable Land: A Novel</td>\n",
              "      <td>Literary</td>\n",
              "      <td>Colton| Arthur</td>\n",
              "    </tr>\n",
              "    <tr>\n",
              "      <th>4</th>\n",
              "      <td>&lt;p&gt;Decorative graphic\\n&lt;p&gt;John Varey Nicholson...</td>\n",
              "      <td>426</td>\n",
              "      <td>Tales and Fantasies</td>\n",
              "      <td>Literary</td>\n",
              "      <td>Stevenson| Robert Louis</td>\n",
              "    </tr>\n",
              "  </tbody>\n",
              "</table>\n",
              "</div>"
            ],
            "text/plain": [
              "                                                Data  ...              Author_Name\n",
              "0  <p>E-text prepared by Al Haines\\n<p>It all dep...  ...         MacGrath| Harold\n",
              "1  <p>Arch Trevlyn had had a good day. Business h...  ...           Augusta| Clara\n",
              "2  <p>This work was the forerunner and, according...  ...               Paul| Jean\n",
              "3  <p>\"EASTOVER COURT HOUSE.\" By Henry Burnham Bo...  ...           Colton| Arthur\n",
              "4  <p>Decorative graphic\\n<p>John Varey Nicholson...  ...  Stevenson| Robert Louis\n",
              "\n",
              "[5 rows x 5 columns]"
            ]
          },
          "metadata": {
            "tags": []
          },
          "execution_count": 67
        }
      ]
    },
    {
      "cell_type": "code",
      "metadata": {
        "id": "oYJuq2-cRlKZ",
        "colab_type": "code",
        "outputId": "f5c1b746-a4bc-4ea5-a2e6-18247d1de80f",
        "colab": {
          "base_uri": "https://localhost:8080/",
          "height": 54
        }
      },
      "source": [
        "from collections import Counter\n",
        "print('Dataset shape %s' % Counter(books['guten_genre']))"
      ],
      "execution_count": 68,
      "outputs": [
        {
          "output_type": "stream",
          "text": [
            "Dataset shape Counter({'Literary': 794, 'Detective and Mystery': 111, 'Sea and Adventure': 36, 'Love and Romance': 18, 'Western Stories': 18, 'Ghost and Horror': 6, 'Humorous and Wit and Satire': 6, 'Christmas Stories': 5, 'Allegories': 2})\n"
          ],
          "name": "stdout"
        }
      ]
    },
    {
      "cell_type": "markdown",
      "metadata": {
        "id": "pzbEI40fqeJ0",
        "colab_type": "text"
      },
      "source": [
        "**Cleaning html tags **"
      ]
    },
    {
      "cell_type": "code",
      "metadata": {
        "id": "74WN0_FCRlLO",
        "colab_type": "code",
        "colab": {
          "base_uri": "https://localhost:8080/",
          "height": 204
        },
        "outputId": "40159037-9d5b-4c29-d8e2-0025750147d0"
      },
      "source": [
        "from bs4 import BeautifulSoup\n",
        "books['Data']= [BeautifulSoup(text).get_text() for text in books['Data'] ]\n",
        "books.head()"
      ],
      "execution_count": 69,
      "outputs": [
        {
          "output_type": "execute_result",
          "data": {
            "text/html": [
              "<div>\n",
              "<style scoped>\n",
              "    .dataframe tbody tr th:only-of-type {\n",
              "        vertical-align: middle;\n",
              "    }\n",
              "\n",
              "    .dataframe tbody tr th {\n",
              "        vertical-align: top;\n",
              "    }\n",
              "\n",
              "    .dataframe thead th {\n",
              "        text-align: right;\n",
              "    }\n",
              "</style>\n",
              "<table border=\"1\" class=\"dataframe\">\n",
              "  <thead>\n",
              "    <tr style=\"text-align: right;\">\n",
              "      <th></th>\n",
              "      <th>Data</th>\n",
              "      <th>FileNo</th>\n",
              "      <th>Book_Name</th>\n",
              "      <th>guten_genre</th>\n",
              "      <th>Author_Name</th>\n",
              "    </tr>\n",
              "  </thead>\n",
              "  <tbody>\n",
              "    <tr>\n",
              "      <th>0</th>\n",
              "      <td>E-text prepared by Al Haines\\nIt all depends u...</td>\n",
              "      <td>17390</td>\n",
              "      <td>Hearts and Masks</td>\n",
              "      <td>Literary</td>\n",
              "      <td>MacGrath| Harold</td>\n",
              "    </tr>\n",
              "    <tr>\n",
              "      <th>1</th>\n",
              "      <td>Arch Trevlyn had had a good day. Business had ...</td>\n",
              "      <td>15989</td>\n",
              "      <td>The Fatal Glove</td>\n",
              "      <td>Literary</td>\n",
              "      <td>Augusta| Clara</td>\n",
              "    </tr>\n",
              "    <tr>\n",
              "      <th>2</th>\n",
              "      <td>This work was the forerunner and, according to...</td>\n",
              "      <td>36353</td>\n",
              "      <td>The Invisible Lodge</td>\n",
              "      <td>Literary</td>\n",
              "      <td>Paul| Jean</td>\n",
              "    </tr>\n",
              "    <tr>\n",
              "      <th>3</th>\n",
              "      <td>\"EASTOVER COURT HOUSE.\" By Henry Burnham Boone...</td>\n",
              "      <td>41963</td>\n",
              "      <td>The Debatable Land: A Novel</td>\n",
              "      <td>Literary</td>\n",
              "      <td>Colton| Arthur</td>\n",
              "    </tr>\n",
              "    <tr>\n",
              "      <th>4</th>\n",
              "      <td>Decorative graphic\\nJohn Varey Nicholson was s...</td>\n",
              "      <td>426</td>\n",
              "      <td>Tales and Fantasies</td>\n",
              "      <td>Literary</td>\n",
              "      <td>Stevenson| Robert Louis</td>\n",
              "    </tr>\n",
              "  </tbody>\n",
              "</table>\n",
              "</div>"
            ],
            "text/plain": [
              "                                                Data  ...              Author_Name\n",
              "0  E-text prepared by Al Haines\\nIt all depends u...  ...         MacGrath| Harold\n",
              "1  Arch Trevlyn had had a good day. Business had ...  ...           Augusta| Clara\n",
              "2  This work was the forerunner and, according to...  ...               Paul| Jean\n",
              "3  \"EASTOVER COURT HOUSE.\" By Henry Burnham Boone...  ...           Colton| Arthur\n",
              "4  Decorative graphic\\nJohn Varey Nicholson was s...  ...  Stevenson| Robert Louis\n",
              "\n",
              "[5 rows x 5 columns]"
            ]
          },
          "metadata": {
            "tags": []
          },
          "execution_count": 69
        }
      ]
    },
    {
      "cell_type": "code",
      "metadata": {
        "id": "0aL-uIO2lcqO",
        "colab_type": "code",
        "colab": {}
      },
      "source": [
        "books.rename(columns = {'Data': 'data', 'guten_genre': 'genre'} , inplace = True)"
      ],
      "execution_count": 0,
      "outputs": []
    },
    {
      "cell_type": "markdown",
      "metadata": {
        "id": "PUF7xny_q1sb",
        "colab_type": "text"
      },
      "source": [
        "**Plotting class counts**"
      ]
    },
    {
      "cell_type": "code",
      "metadata": {
        "id": "NyW6gh5HRlLX",
        "colab_type": "code",
        "outputId": "5b7cc69c-126e-4122-d165-68cf798a54fe",
        "colab": {
          "base_uri": "https://localhost:8080/",
          "height": 433
        }
      },
      "source": [
        "#Plotting number of authors per gerne\n",
        "import matplotlib.pyplot as plt\n",
        "books.groupby('genre')['data'].count().plot(kind = 'bar')\n",
        "plt.show()\n",
        "plt.clf()\n"
      ],
      "execution_count": 71,
      "outputs": [
        {
          "output_type": "display_data",
          "data": {
            "image/png": "[encoded data removed]",
            "text/plain": [
              "<Figure size 432x288 with 1 Axes>"
            ]
          },
          "metadata": {
            "tags": [],
            "needs_background": "light"
          }
        },
        {
          "output_type": "display_data",
          "data": {
            "text/plain": [
              "<Figure size 432x288 with 0 Axes>"
            ]
          },
          "metadata": {
            "tags": []
          }
        }
      ]
    },
    {
      "cell_type": "markdown",
      "metadata": {
        "id": "qs9qfLjYq-Xh",
        "colab_type": "text"
      },
      "source": [
        "**cleaning and removing stop words**"
      ]
    },
    {
      "cell_type": "code",
      "metadata": {
        "id": "4uUk5Ran4-uy",
        "colab_type": "code",
        "outputId": "dfda90d5-fa09-4d20-f074-e4d0890ebe6b",
        "colab": {
          "base_uri": "https://localhost:8080/",
          "height": 204
        }
      },
      "source": [
        "import nltk\n",
        "nltk.download('stopwords')\n",
        "import nltk\n",
        "nltk.download('punkt')\n",
        "import nltk\n",
        "nltk.download('averaged_perceptron_tagger')\n",
        "import nltk\n",
        "nltk.download('wordnet')"
      ],
      "execution_count": 72,
      "outputs": [
        {
          "output_type": "stream",
          "text": [
            "[nltk_data] Downloading package stopwords to /root/nltk_data...\n",
            "[nltk_data]   Package stopwords is already up-to-date!\n",
            "[nltk_data] Downloading package punkt to /root/nltk_data...\n",
            "[nltk_data]   Package punkt is already up-to-date!\n",
            "[nltk_data] Downloading package averaged_perceptron_tagger to\n",
            "[nltk_data]     /root/nltk_data...\n",
            "[nltk_data]   Package averaged_perceptron_tagger is already up-to-\n",
            "[nltk_data]       date!\n",
            "[nltk_data] Downloading package wordnet to /root/nltk_data...\n",
            "[nltk_data]   Package wordnet is already up-to-date!\n"
          ],
          "name": "stdout"
        },
        {
          "output_type": "execute_result",
          "data": {
            "text/plain": [
              "True"
            ]
          },
          "metadata": {
            "tags": []
          },
          "execution_count": 72
        }
      ]
    },
    {
      "cell_type": "code",
      "metadata": {
        "id": "ZsL2jeYs5J0O",
        "colab_type": "code",
        "outputId": "b1abdecf-4bc0-4712-c4a5-7f64338322fc",
        "colab": {
          "base_uri": "https://localhost:8080/",
          "height": 54
        }
      },
      "source": [
        "from nltk.corpus import stopwords\n",
        "stop_words = nltk.corpus.stopwords.words('english')\n",
        "print(stop_words)"
      ],
      "execution_count": 73,
      "outputs": [
        {
          "output_type": "stream",
          "text": [
            "['i', 'me', 'my', 'myself', 'we', 'our', 'ours', 'ourselves', 'you', \"you're\", \"you've\", \"you'll\", \"you'd\", 'your', 'yours', 'yourself', 'yourselves', 'he', 'him', 'his', 'himself', 'she', \"she's\", 'her', 'hers', 'herself', 'it', \"it's\", 'its', 'itself', 'they', 'them', 'their', 'theirs', 'themselves', 'what', 'which', 'who', 'whom', 'this', 'that', \"that'll\", 'these', 'those', 'am', 'is', 'are', 'was', 'were', 'be', 'been', 'being', 'have', 'has', 'had', 'having', 'do', 'does', 'did', 'doing', 'a', 'an', 'the', 'and', 'but', 'if', 'or', 'because', 'as', 'until', 'while', 'of', 'at', 'by', 'for', 'with', 'about', 'against', 'between', 'into', 'through', 'during', 'before', 'after', 'above', 'below', 'to', 'from', 'up', 'down', 'in', 'out', 'on', 'off', 'over', 'under', 'again', 'further', 'then', 'once', 'here', 'there', 'when', 'where', 'why', 'how', 'all', 'any', 'both', 'each', 'few', 'more', 'most', 'other', 'some', 'such', 'no', 'nor', 'not', 'only', 'own', 'same', 'so', 'than', 'too', 'very', 's', 't', 'can', 'will', 'just', 'don', \"don't\", 'should', \"should've\", 'now', 'd', 'll', 'm', 'o', 're', 've', 'y', 'ain', 'aren', \"aren't\", 'couldn', \"couldn't\", 'didn', \"didn't\", 'doesn', \"doesn't\", 'hadn', \"hadn't\", 'hasn', \"hasn't\", 'haven', \"haven't\", 'isn', \"isn't\", 'ma', 'mightn', \"mightn't\", 'mustn', \"mustn't\", 'needn', \"needn't\", 'shan', \"shan't\", 'shouldn', \"shouldn't\", 'wasn', \"wasn't\", 'weren', \"weren't\", 'won', \"won't\", 'wouldn', \"wouldn't\"]\n"
          ],
          "name": "stdout"
        }
      ]
    },
    {
      "cell_type": "markdown",
      "metadata": {
        "id": "rdNFkHTLrP4R",
        "colab_type": "text"
      },
      "source": [
        "**Additional stop_words, it has common names, verbs**"
      ]
    },
    {
      "cell_type": "code",
      "metadata": {
        "id": "nED0gXSYNRVt",
        "colab_type": "code",
        "colab": {}
      },
      "source": [
        "stop_words.extend([\"0o\", \"0s\", \"3a\", \"3b\", \"3d\", \"6b\", \"6o\", \"a\", \"a1\", \"a2\", \"a3\", \"a4\", \"ab\", \"able\", \"about\", \"above\", \"abst\", \"ac\", \"accordance\", \"according\", \"accordingly\", \"across\", \"act\", \"actually\", \"ad\", \"added\", \"adj\", \"ae\", \"af\", \"affected\", \"affecting\", \"affects\", \"after\", \"afterwards\", \"ag\", \"again\", \"against\", \"ah\", \"ain\", \"ain't\", \"aj\", \"al\", \"all\", \"allow\", \"allows\", \"almost\", \"alone\", \"along\", \"already\", \"also\", \"although\", \"always\", \"am\", \"among\", \"amongst\", \"amoungst\", \"amount\", \"an\", \"and\", \"announce\", \"another\", \"any\", \"anybody\", \"anyhow\", \"anymore\", \"anyone\", \"anything\", \"anyway\", \"anyways\", \"anywhere\", \"ao\", \"ap\", \"apart\", \"apparently\", \"appear\", \"appreciate\", \"appropriate\", \"approximately\", \"ar\", \"are\", \"aren\", \"arent\", \"aren't\", \"arise\", \"around\", \"as\", \"a's\", \"aside\", \"ask\", \"asking\", \"associated\", \"at\", \"au\", \"auth\", \"av\", \"available\", \"aw\", \"away\", \"awfully\", \"ax\", \"ay\", \"az\", \"b\", \"b1\", \"b2\", \"b3\", \"ba\", \"back\", \"bc\", \"bd\", \"be\", \"became\", \"because\", \"become\", \"becomes\", \"becoming\", \"been\", \"before\", \"beforehand\", \"begin\", \"beginning\", \"beginnings\", \"begins\", \"behind\", \"being\", \"believe\", \"below\", \"beside\", \"besides\", \"best\", \"better\", \"between\", \"beyond\", \"bi\", \"bill\", \"biol\", \"bj\", \"bk\", \"bl\", \"bn\", \"both\", \"bottom\", \"bp\", \"br\", \"brief\", \"briefly\", \"bs\", \"bt\", \"bu\", \"but\", \"bx\", \"by\", \"c\", \"c1\", \"c2\", \"c3\", \"ca\", \"call\", \"came\", \"can\", \"cannot\", \"cant\", \"can't\", \"cause\", \"causes\", \"cc\", \"cd\", \"ce\", \"certain\", \"certainly\", \"cf\", \"cg\", \"ch\", \"changes\", \"ci\", \"cit\", \"cj\", \"cl\", \"clearly\", \"cm\", \"c'mon\", \"cn\", \"co\", \"com\", \"come\", \"comes\", \"con\", \"concerning\", \"consequently\", \"consider\", \"considering\", \"contain\", \"containing\", \"contains\", \"corresponding\", \"could\", \"couldn\", \"couldnt\", \"couldn't\", \"course\", \"cp\", \"cq\", \"cr\", \"cry\", \"cs\", \"c's\", \"ct\", \"cu\", \"currently\", \"cv\", \"cx\", \"cy\", \"cz\", \"d\", \"d2\", \"da\", \"date\", \"dc\", \"dd\", \"de\", \"definitely\", \"describe\", \"described\", \"despite\", \"detail\", \"df\", \"di\", \"did\", \"didn\", \"didn't\", \"different\", \"dj\", \"dk\", \"dl\", \"do\", \"does\", \"doesn\", \"doesn't\", \"doing\", \"don\", \"done\", \"don't\", \"down\", \"downwards\", \"dp\", \"dr\", \"ds\", \"dt\", \"du\", \"due\", \"during\", \"dx\", \"dy\", \"e\", \"e2\", \"e3\", \"ea\", \"each\", \"ec\", \"ed\", \"edu\", \"ee\", \"ef\", \"effect\", \"eg\", \"ei\", \"eight\", \"eighty\", \"either\", \"ej\", \"el\", \"eleven\", \"else\", \"elsewhere\", \"em\", \"empty\", \"en\", \"end\", \"ending\", \"enough\", \"entirely\", \"eo\", \"ep\", \"eq\", \"er\", \"es\", \"especially\", \"est\", \"et\", \"et-al\", \"etc\", \"eu\", \"ev\", \"even\", \"ever\", \"every\", \"everybody\", \"everyone\", \"everything\", \"everywhere\", \"ex\", \"exactly\", \"example\", \"except\", \"ey\", \"f\", \"f2\", \"fa\", \"far\", \"fc\", \"few\", \"ff\", \"fi\", \"fifteen\", \"fifth\", \"fify\", \"fill\", \"find\", \"fire\", \"first\", \"five\", \"fix\", \"fj\", \"fl\", \"fn\", \"fo\", \"followed\", \"following\", \"follows\", \"for\", \"former\", \"formerly\", \"forth\", \"forty\", \"found\", \"four\", \"fr\", \"from\", \"front\", \"fs\", \"ft\", \"fu\", \"full\", \"further\", \"furthermore\", \"fy\", \"g\", \"ga\", \"gave\", \"ge\", \"get\", \"gets\", \"getting\", \"gi\", \"give\", \"given\", \"gives\", \"giving\", \"gj\", \"gl\", \"go\", \"goes\", \"going\", \"gone\", \"got\", \"gotten\", \"gr\", \"greetings\", \"gs\", \"gy\", \"h\", \"h2\", \"h3\", \"had\", \"hadn\", \"hadn't\", \"happens\", \"hardly\", \"has\", \"hasn\", \"hasnt\", \"hasn't\", \"have\", \"haven\", \"haven't\", \"having\", \"he\", \"hed\", \"he'd\", \"he'll\", \"hello\", \"help\", \"hence\", \"her\", \"here\", \"hereafter\", \"hereby\", \"herein\", \"heres\", \"here's\", \"hereupon\", \"hers\", \"herself\", \"hes\", \"he's\", \"hh\", \"hi\", \"hid\", \"him\", \"himself\", \"his\", \"hither\", \"hj\", \"ho\", \"home\", \"hopefully\", \"how\", \"howbeit\", \"however\", \"how's\", \"hr\", \"hs\", \"http\", \"hu\", \"hundred\", \"hy\", \"i\", \"i2\", \"i3\", \"i4\", \"i6\", \"i7\", \"i8\", \"ia\", \"ib\", \"ibid\", \"ic\", \"id\", \"i'd\", \"ie\", \"if\", \"ig\", \"ignored\", \"ih\", \"ii\", \"ij\", \"il\", \"i'll\", \"im\", \"i'm\", \"immediate\", \"immediately\", \"importance\", \"important\", \"in\", \"inasmuch\", \"inc\", \"indeed\", \"index\", \"indicate\", \"indicated\", \"indicates\", \"information\", \"inner\", \"insofar\", \"instead\", \"interest\", \"into\", \"invention\", \"inward\", \"io\", \"ip\", \"iq\", \"ir\", \"is\", \"isn\", \"isn't\", \"it\", \"itd\", \"it'd\", \"it'll\", \"its\", \"it's\", \"itself\", \"iv\", \"i've\", \"ix\", \"iy\", \"iz\", \"j\", \"jj\", \"jr\", \"js\", \"jt\", \"ju\", \"just\", \"k\", \"ke\", \"keep\", \"keeps\", \"kept\", \"kg\", \"kj\", \"km\", \"know\", \"known\", \"knows\", \"ko\", \"l\", \"l2\", \"la\", \"largely\", \"last\", \"lately\", \"later\", \"latter\", \"latterly\", \"lb\", \"lc\", \"le\", \"least\", \"les\", \"less\", \"lest\", \"let\", \"lets\", \"let's\", \"lf\", \"like\", \"liked\", \"likely\", \"line\", \"little\", \"lj\", \"ll\", \"ll\", \"ln\", \"lo\", \"look\", \"looking\", \"looks\", \"los\", \"lr\", \"ls\", \"lt\", \"ltd\", \"m\", \"m2\", \"ma\", \"made\", \"mainly\", \"make\", \"makes\", \"many\", \"may\", \"maybe\", \"me\", \"mean\", \"means\", \"meantime\", \"meanwhile\", \"merely\", \"mg\", \"might\", \"mightn\", \"mightn't\", \"mill\", \"million\", \"mine\", \"miss\", \"ml\", \"mn\", \"mo\", \"more\", \"moreover\", \"most\", \"mostly\", \"move\", \"mr\", \"mrs\", \"ms\", \"mt\", \"mu\", \"much\", \"mug\", \"must\", \"mustn\", \"mustn't\", \"my\", \"myself\", \"n\", \"n2\", \"na\", \"name\", \"namely\", \"nay\", \"nc\", \"nd\", \"ne\", \"near\", \"nearly\", \"necessarily\", \"necessary\", \"need\", \"needn\", \"needn't\", \"needs\", \"neither\", \"never\", \"nevertheless\", \"new\", \"next\", \"ng\", \"ni\", \"nine\", \"ninety\", \"nj\", \"nl\", \"nn\", \"no\", \"nobody\", \"non\", \"none\", \"nonetheless\", \"noone\", \"nor\", \"normally\", \"nos\", \"not\", \"noted\", \"nothing\", \"novel\", \"now\", \"nowhere\", \"nr\", \"ns\", \"nt\", \"ny\", \"o\", \"oa\", \"ob\", \"obtain\", \"obtained\", \"obviously\", \"oc\", \"od\", \"of\", \"off\", \"often\", \"og\", \"oh\", \"oi\", \"oj\", \"ok\", \"okay\", \"ol\", \"old\", \"om\", \"omitted\", \"on\", \"once\", \"one\", \"ones\", \"only\", \"onto\", \"oo\", \"op\", \"oq\", \"or\", \"ord\", \"os\", \"ot\", \"other\", \"others\", \"otherwise\", \"ou\", \"ought\", \"our\", \"ours\", \"ourselves\", \"out\", \"outside\", \"over\", \"overall\", \"ow\", \"owing\", \"own\", \"ox\", \"oz\", \"p\", \"p1\", \"p2\", \"p3\", \"page\", \"pagecount\", \"pages\", \"par\", \"part\", \"particular\", \"particularly\", \"pas\", \"past\", \"pc\", \"pd\", \"pe\", \"per\", \"perhaps\", \"pf\", \"ph\", \"pi\", \"pj\", \"pk\", \"pl\", \"placed\", \"please\", \"plus\", \"pm\", \"pn\", \"po\", \"poorly\", \"possible\", \"possibly\", \"potentially\", \"pp\", \"pq\", \"pr\", \"predominantly\", \"present\", \"presumably\", \"previously\", \"primarily\", \"probably\", \"promptly\", \"proud\", \"provides\", \"ps\", \"pt\", \"pu\", \"put\", \"py\", \"q\", \"qj\", \"qu\", \"que\", \"quickly\", \"quite\", \"qv\", \"r\", \"r2\", \"ra\", \"ran\", \"rather\", \"rc\", \"rd\", \"re\", \"readily\", \"really\", \"reasonably\", \"recent\", \"recently\", \"ref\", \"refs\", \"regarding\", \"regardless\", \"regards\", \"related\", \"relatively\", \"research\", \"research-articl\", \"respectively\", \"resulted\", \"resulting\", \"results\", \"rf\", \"rh\", \"ri\", \"right\", \"rj\", \"rl\", \"rm\", \"rn\", \"ro\", \"rq\", \"rr\", \"rs\", \"rt\", \"ru\", \"run\", \"rv\", \"ry\", \"s\", \"s2\", \"sa\", \"said\", \"same\", \"saw\", \"say\", \"saying\", \"says\", \"sc\", \"sd\", \"se\", \"sec\", \"second\", \"secondly\", \"section\", \"see\", \"seeing\", \"seem\", \"seemed\", \"seeming\", \"seems\", \"seen\", \"self\", \"selves\", \"sensible\", \"sent\", \"serious\", \"seriously\", \"seven\", \"several\", \"sf\", \"shall\", \"shan\", \"shan't\", \"she\", \"shed\", \"she'd\", \"she'll\", \"shes\", \"she's\", \"should\", \"shouldn\", \"shouldn't\", \"should've\", \"show\", \"showed\", \"shown\", \"showns\", \"shows\", \"si\", \"side\", \"significant\", \"significantly\", \"similar\", \"similarly\", \"since\", \"sincere\", \"six\", \"sixty\", \"sj\", \"sl\", \"slightly\", \"sm\", \"sn\", \"so\", \"some\", \"somebody\", \"somehow\", \"someone\", \"somethan\", \"something\", \"sometime\", \"sometimes\", \"somewhat\", \"somewhere\", \"soon\", \"sorry\", \"sp\", \"specifically\", \"specified\", \"specify\", \"specifying\", \"sq\", \"sr\", \"ss\", \"st\", \"still\", \"stop\", \"strongly\", \"sub\", \"substantially\", \"successfully\", \"such\", \"sufficiently\", \"suggest\", \"sup\", \"sure\", \"sy\", \"system\", \"sz\", \"t\", \"t1\", \"t2\", \"t3\", \"take\", \"taken\", \"taking\", \"tb\", \"tc\", \"td\", \"te\", \"tell\", \"ten\", \"tends\", \"tf\", \"th\", \"than\", \"thank\", \"thanks\", \"thanx\", \"that\", \"that'll\", \"thats\", \"that's\", \"that've\", \"the\", \"their\", \"theirs\", \"them\", \"themselves\", \"then\", \"thence\", \"there\", \"thereafter\", \"thereby\", \"thered\", \"therefore\", \"therein\", \"there'll\", \"thereof\", \"therere\", \"theres\", \"there's\", \"thereto\", \"thereupon\", \"there've\", \"these\", \"they\", \"theyd\", \"they'd\", \"they'll\", \"theyre\", \"they're\", \"they've\", \"thickv\", \"thin\", \"think\", \"third\", \"this\", \"thorough\", \"thoroughly\", \"those\", \"thou\", \"though\", \"thoughh\", \"thousand\", \"three\", \"throug\", \"through\", \"throughout\", \"thru\", \"thus\", \"ti\", \"til\", \"tip\", \"tj\", \"tl\", \"tm\", \"tn\", \"to\", \"together\", \"too\", \"took\", \"top\", \"toward\", \"towards\", \"tp\", \"tq\", \"tr\", \"tried\", \"tries\", \"truly\", \"try\", \"trying\", \"ts\", \"t's\", \"tt\", \"tv\", \"twelve\", \"twenty\", \"twice\", \"two\", \"tx\", \"u\", \"u201d\", \"ue\", \"ui\", \"uj\", \"uk\", \"um\", \"un\", \"under\", \"unfortunately\", \"unless\", \"unlike\", \"unlikely\", \"until\", \"unto\", \"uo\", \"up\", \"upon\", \"ups\", \"ur\", \"us\", \"use\", \"used\", \"useful\", \"usefully\", \"usefulness\", \"uses\", \"using\", \"usually\", \"ut\", \"v\", \"va\", \"value\", \"various\", \"vd\", \"ve\", \"ve\", \"very\", \"via\", \"viz\", \"vj\", \"vo\", \"vol\", \"vols\", \"volumtype\", \"vq\", \"vs\", \"vt\", \"vu\", \"w\", \"wa\", \"want\", \"wants\", \"was\", \"wasn\", \"wasnt\", \"wasn't\", \"way\", \"we\", \"wed\", \"we'd\", \"welcome\", \"well\", \"we'll\", \"well-b\", \"went\", \"were\", \"we're\", \"weren\", \"werent\", \"weren't\", \"we've\", \"what\", \"whatever\", \"what'll\", \"whats\", \"what's\", \"when\", \"whence\", \"whenever\", \"when's\", \"where\", \"whereafter\", \"whereas\", \"whereby\", \"wherein\", \"wheres\", \"where's\", \"whereupon\", \"wherever\", \"whether\", \"which\", \"while\", \"whim\", \"whither\", \"who\", \"whod\", \"whoever\", \"whole\", \"who'll\", \"whom\", \"whomever\", \"whos\", \"who's\", \"whose\", \"why\", \"why's\", \"wi\", \"widely\", \"will\", \"willing\", \"wish\", \"with\", \"within\", \"without\", \"wo\", \"won\", \"wonder\", \"wont\", \"won't\", \"words\", \"world\", \"would\", \"wouldn\", \"wouldnt\", \"wouldn't\", \"www\", \"x\", \"x1\", \"x2\", \"x3\", \"xf\", \"xi\", \"xj\", \"xk\", \"xl\", \"xn\", \"xo\", \"xs\", \"xt\", \"xv\", \"xx\", \"y\", \"y2\", \"yes\", \"yet\", \"yj\", \"yl\", \"you\", \"youd\", \"you'd\", \"you'll\", \"your\", \"youre\", \"you're\", \"yours\", \"yourself\", \"yourselves\", \"you've\", \"yr\", \"ys\", \"yt\", \"z\", \"zero\", \"zi\", \"zz\"])\n"
      ],
      "execution_count": 0,
      "outputs": []
    },
    {
      "cell_type": "code",
      "metadata": {
        "id": "OQGQ-K-BVCXw",
        "colab_type": "code",
        "colab": {}
      },
      "source": [
        "stop_words.extend([\"0\", \"1\", \"2\", \"3\", \"4\", \"5\", \"6\", \"7\", \"8\", \"9\", \"a\", \"aaron\", \"abbey\",\n",
        "                   \"abbie\", \"abdul\", \"abe\", \"across\", \"abel\", \"abigail\", \"about\", \"above\", \n",
        "                   \"abraham\", \"abram\", \"abst\", \"accordance\", \"according\", \"act\", \"actually\", \n",
        "                   \"ada\", \"adah\", \"adalberto\", \"adaline\", \"adam\", \"adan\", \"added\", \"among\", \n",
        "                   \"addie\", \"adela\", \"adelaida\", \"adelaide\", \"adele\", \"adelia\", \"adelina\", \n",
        "                   \"adeline\", \"adell\", \"adella\", \"adelle\", \"adena\", \"adina\", \"adj\", \"adolfo\", \n",
        "                   \"adolph\", \"adopted\", \"adria\", \"adrian\", \"adriana\", \"adriane\", \"adrianna\", \n",
        "                   \"adrien\", \"adrienne\", \"after\", \"afterwards\", \"afton\", \"again\", \"against\", \n",
        "                   \"agatha\", \"agnes\", \"agnus\", \"agueda\", \"agustina\", \"ahmad\", \"ahmed\", \"ai\",\n",
        "                   \"aida\", \"besides\", \"aide\", \"aiko\", \"aileen\", \"ailene\", \"aimee\", \"aja\", \"akilah\", \"al\", \"alaina\", \"alaine\", \"alan\", \"alana\", \"alane\", \"alanna\", \"alayna\", \"alba\", \"albert\", \"alberta\", \"albertha\", \"albertina\", \"albertine\", \"alberto\", \"albina\", \"alda\", \"alden\", \"aldo\", \"alease\", \"alec\", \"alecia\", \"e\", \"aleen\", \"aleisha\", \"eg\", \"alejandra\", \"alejandrina\", \"alejandro\", \"alena\", \"elsewhere\", \"alene\", \"alesha\", \"aleshia\", \"alesia\", \"alessandra\", \"aleta\", \"aletha\", \"everywhere\", \"alethea\", \"alethia\", \"alex\", \"alexander\", \"alexandria\", \"alexia\", \"alexis\", \"alfonso\", \"alfonzo\", \"alfred\", \"alfreda\", \"alfredia\", \"alfredo\", \"ali\", \"alia\", \"alica\", \"alice\", \"alicia\", \"alida\", \"alina\", \"alisa\", \"alise\", \"had\", \"alisha\", \"alishia\", \"alisia\", \"alison\", \"alissa\", \"alita\", \"alix\", \"aliza\", \"all\", \"alla\", \"allan\", \"alleen\", \"allegra\", \"allen\", \"allena\", \"allene\", \"allie\", \"alline\", \"allison\", \"allyn\", \"allyson\", \"alma\", \"hop\", \"almeda\", \"almeta\", \"almost\", \"alona\", \"alone\", \"along\", \"alonso\", \"alonzo\", \"alpha\", \"alphonse\", \"alphonso\", \"already\", \"also\", \"alta\", \"altagracia\", \"altha\", \"althea\", \"although\", \"alton\", \"alva\", \"alvaro\", \"alvera\", \"alverta\", \"alvin\", \"alvina\", \"always\", \"alyce\", \"alycia\", \"alysa\", \"alyse\", \"alysha\", \"alysia\", \"alyson\", \"alyssa\", \"am\", \"amado\", \"amal\", \"amalia\", \"amanda\", \"amber\", \"amberly\", \"ambrose\", \"amee\", \"amelia\", \"long\", \"america\", \"m\", \"ami\", \"amie\", \"amiee\", \"amina\", \"may\", \"amira\", \"ammie\", \"amongst\", \"amos\", \"might\", \"amparo\", \"amy\", \"an\", \"ana\", \"anabel\", \"anamaria\", \"anastacia\", \"anastasia\", \"and\", \"andera\", \"anderson\", \"andra\", \"andre\", \"na\", \"andrea\", \"andreas\", \"andres\", \"andrew\", \"andria\", \"andy\", \"anette\", \"angel\", \"angela\", \"angele\", \"angelena\", \"angeles\", \"angelia\", \"angelic\", \"angelica\", \"angelina\", \"angeline\", \"angelique\", \"angelita\", \"angella\", \"angelo\", \"angelyn\", \"angie\", \"angila\", \"angla\", \"angle\", \"anglea\", \"anh\", \"anibal\", \"anika\", \"anisha\", \"anissa\", \"anita\", \"anitra\", \"anjanette\", \"anjelica\", \"ann\", \"anna\", \"annabel\", \"annabell\", \"annabelle\", \"overall\", \"annalee\", \"annalisa\", \"annamae\", \"annamaria\", \"annamarie\", \"anne\", \"anneliese\", \"annelle\", \"annemarie\", \"put\", \"annetta\", \"annice\", \"annie\", \"rather\", \"annika\", \"annis\", \"annmarie\", \"announce\", \"another\", \"answered\", \"anthony\", \"antione\", \"antionette\", \"antoine\", \"anton\", \"antone\", \"antonetta\", \"antonette\", \"antonia\", \"antonietta\", \"antonina\", \"antonio\", \"antony\", \"antwan\", \"any\", \"anya\", \"anyhow\", \"anyone\", \"anything\", \"anywhere\", \"apolonia\", \"april\", \"apryl\", \"ara\", \"should\", \"araceli\", \"aracelis\", \"aracely\", \"arcelia\", \"archie\", \"ardath\", \"ardelia\", \"ardell\", \"ardella\", \"ardelle\", \"arden\", \"ardis\", \"ardith\", \"are\", \"aren\", \"arent\", \"aretha\", \"argelia\", \"argentina\", \"ariana\", \"arianna\", \"arianne\", \"arica\", \"arie\", \"ariel\", \"arielle\", \"arla\", \"arlean\", \"arleen\", \"arlen\", \"there\", \"arlena\", \"arlene\", \"arletha\", \"arletta\", \"arlette\", \"arlie\", \"arlinda\", \"arline\", \"arlyne\", \"armand\", \"armanda\", \"they\", \"armandina\", \"armando\", \"armida\", \"arminda\", \"arnetta\", \"arnette\", \"arnita\", \"arnold\", \"arnoldo\", \"arnulfo\", \"around\", \"arron\", \"three\", \"art\", \"arthur\", \"artie\", \"arturo\", \"arvilla\", \"as\", \"asa\", \"asha\", \"ashanti\", \"ashely\", \"ashlea\", \"toward\", \"ashlee\", \"ashleigh\", \"ashley\", \"ashli\", \"ashlie\", \"ashly\", \"ashlyn\", \"asia\", \"ask\", \"unlikely\", \"asked\", \"asley\", \"assunta\", \"astrid\", \"ups\", \"at\", \"athena\", \"aubrey\", \"audie\", \"audra\", \"audrea\", \"audrey\", \"audria\", \"audrie\", \"audry\", \"august\", \"augusta\", \"augustina\", \"augustine\", \"augustus\", \"aundrea\", \"aura\", \"aurea\", \"aurelia\", \"aurelio\", \"aurora\", \"aurore\", \"austin\", \"auth\", \"autumn\", \"ava\", \"available\", \"avelina\", \"avery\", \"avis\", \"avril\", \"awilda\", \"ayako\", \"ayana\", \"ayanna\", \"ayesha\", \"azalee\", \"azucena\", \"azzie\", \"b\", \"babara\", \"babette\", \"back\", \"bailey\", \"bambi\", \"bao\", \"barabara\", \"barb\", \"barbara\", \"barbera\", \"barbie\", \"barbra\", \"bari\", \"barney\", \"barrett\", \"barrie\", \"bart\", \"basil\", \"would\", \"basilia\", \"be\", \"bea\", \"beata\", \"beatrice\", \"beatris\", \"beatriz\", \"beau\", \"beaulah\", \"bebe\", \"became\", \"because\", \"becki\", \"becky\", \"become\", \"becomes\", \"becoming\", \"bee\", \"abby\", \"been\", \"before\", \"beforehand\", \"begin\", \"beginning\", \"behind\", \"being\", \"belen\", \"belia\", \"belinda\", \"belkis\", \"bell\", \"bella\", \"belle\", \"below\", \"ben\", \"benedict\", \"benita\", \"benito\", \"benjamin\", \"bennett\", \"benny\", \"benton\", \"berenice\", \"berna\", \"bernadette\", \"bernadine\", \"bernard\", \"bernarda\", \"bernardina\", \"bernardine\", \"bernardo\", \"adrianne\", \"berneice\", \"adriene\", \"bernice\", \"bernie\", \"berniece\", \"bernita\", \"bert\", \"agripina\", \"berta\", \"agustin\", \"bertha\", \"bertie\", \"bertram\", \"beryl\", \"beside\", \"bess\", \"bessie\", \"best\", \"beth\", \"bethanie\", \"aisha\", \"bethann\", \"akiko\", \"bethany\", \"bethel\", \"betsey\", \"bette\", \"better\", \"bettie\", \"bettina\", \"betty\", \"bettyann\", \"bettye\", \"between\", \"beula\", \"beulah\", \"bev\", \"beverlee\", \"beverley\", \"beverly\", \"beyond\", \"bianca\", \"bibi\", \"bill\", \"billie\", \"billy\", \"billye\", \"aleida\", \"birdie\", \"birgit\", \"blaine\", \"blair\", \"blake\", \"blanca\", \"blanch\", \"blanche\", \"blondell\", \"blossom\", \"blythe\", \"bo\", \"bobbi\", \"bobbie\", \"bobbye\", \"alexa\", \"bok\", \"alexandra\", \"bong\", \"bonita\", \"bonnie\", \"bonny\", \"booker\", \"boris\", \"both\", \"boyce\", \"boyd\", \"brad\", \"bradford\", \"bradley\", \"bradly\", \"brady\", \"brain\", \"branda\", \"aline\", \"brande\", \"brandee\", \"branden\", \"brandi\", \"brandon\", \"brandy\", \"brant\", \"breana\", \"breann\", \"breanna\", \"breanne\", \"bree\", \"brenda\", \"brendan\", \"brendon\", \"brenna\", \"brent\", \"brenton\", \"bret\", \"brett\", \"brian\", \"briana\", \"brianne\", \"brice\", \"bridget\", \"bridgett\", \"bridgette\", \"brigette\", \"brigid\", \"brigida\", \"brigitte\", \"brinda\", \"britany\", \"britney\", \"britni\", \"britt\", \"britta\", \"brittaney\", \"brittani\", \"brittanie\", \"britteny\", \"brittni\", \"brittny\", \"brock\", \"broderick\", \"bronwyn\", \"brook\", \"brooke\", \"brooks\", \"bruce\", \"amada\", \"bruna\", \"brunilda\", \"bruno\", \"bryan\", \"bryanna\", \"bryant\", \"bryce\", \"brynn\", \"bryon\", \"bud\", \"buddy\", \"buena\", \"buffy\", \"buford\", \"bula\", \"bunny\", \"burl\", \"burma\", \"burt\", \"burton\", \"buster\", \"but\", \"analisa\", \"by\", \"byron\", \"c\", \"ca\", \"caitlin\", \"caitlyn\", \"calandra\", \"caleb\", \"calista\", \"andree\", \"callie\", \"calvin\", \"camelia\", \"camellia\", \"cameron\", \"camie\", \"camila\", \"camilla\", \"camille\", \"cammy\", \"can\", \"candace\", \"candance\", \"angelika\", \"candelaria\", \"candi\", \"candice\", \"candida\", \"candis\", \"candy\", \"candyce\", \"cannot\", \"cant\", \"caprice\", \"caption\", \"cara\", \"caren\", \"carey\", \"cari\", \"anisa\", \"caridad\", \"carie\", \"carina\", \"carisa\", \"anja\", \"carissa\", \"carita\", \"carl\", \"carla\", \"carlee\", \"carleen\", \"carlena\", \"carlene\", \"carletta\", \"carley\", \"carli\", \"carline\", \"carlita\", \"carlo\", \"carlos\", \"carlota\", \"annett\", \"carlotta\", \"annette\", \"carlton\", \"carly\", \"carlyn\", \"carma\", \"annita\", \"carman\", \"carmel\", \"carmela\", \"carmelia\", \"carmelina\", \"antoinette\", \"carmelita\", \"carmella\", \"carmelo\", \"carmen\", \"carmina\", \"carmine\", \"carmon\", \"carol\", \"carola\", \"carolann\", \"carole\", \"carolee\", \"carolin\", \"caroline\", \"caroll\", \"carolyn\", \"carolyne\", \"carolynn\", \"caron\", \"caroyln\", \"carri\", \"carrie\", \"carrol\", \"carry\", \"carson\", \"cary\", \"caryl\", \"carylon\", \"caryn\", \"casandra\", \"casey\", \"casie\", \"ariane\", \"casimira\", \"cassandra\", \"cassaundra\", \"cassey\", \"cassidy\", \"cassie\", \"cassondra\", \"cassy\", \"catalina\", \"catarina\", \"caterina\", \"catharine\", \"catherin\", \"catherina\", \"catherine\", \"cathern\", \"catheryn\", \"cathey\", \"cathi\", \"cathie\", \"cathleen\", \"cathrine\", \"cathryn\", \"cathy\", \"catina\", \"catrice\", \"catrina\", \"cayla\", \"cecil\", \"cecila\", \"cecile\", \"aron\", \"cecilia\", \"cecille\", \"cecily\", \"cedric\", \"cedrick\", \"celena\", \"celesta\", \"celeste\", \"celestina\", \"celestine\", \"celia\", \"celina\", \"celinda\", \"celine\", \"celsa\", \"ceola\", \"cesar\", \"chad\", \"ashton\", \"chadwick\", \"chae\", \"chan\", \"chana\", \"asuncion\", \"chance\", \"chanda\", \"chandra\", \"chanel\", \"chanell\", \"chanelle\", \"chang\", \"chantal\", \"chantay\", \"chante\", \"chantel\", \"chantell\", \"chantelle\", \"chapter\", \"chara\", \"charis\", \"charise\", \"charissa\", \"charisse\", \"charita\", \"charity\", \"charla\", \"charlena\", \"charlene\", \"charles\", \"charlesetta\", \"charlette\", \"charley\", \"charlie\", \"charline\", \"charlott\", \"charlotte\", \"charlsie\", \"charlyn\", \"charmaine\", \"charolette\", \"chase\", \"chasidy\", \"chasity\", \"chastity\", \"chau\", \"chauncey\", \"chaya\", \"barbar\", \"chelsea\", \"chelsey\", \"chelsie\", \"cher\", \"chere\", \"cheree\", \"cherelle\", \"cheri\", \"barry\", \"cherie\", \"barton\", \"cherilyn\", \"cherish\", \"cherlyn\", \"cherri\", \"cherrie\", \"cherry\", \"cherryl\", \"chery\", \"cheryl\", \"cheryle\", \"cheryll\", \"beckie\", \"chester\", \"chet\", \"cheyenne\", \"chi\", \"chia\", \"chieko\", \"chin\", \"china\", \"ching\", \"belva\", \"chiquita\", \"chloe\", \"chong\", \"chris\", \"chrissy\", \"christa\", \"bennie\", \"christal\", \"christeen\", \"christel\", \"christen\", \"christene\", \"christi\", \"christia\", \"christian\", \"christiana\", \"christiane\", \"christie\", \"christin\", \"bernetta\", \"christina\", \"christine\", \"christinia\", \"christoper\", \"berry\", \"christopher\", \"christy\", \"chrystal\", \"chu\", \"chuck\", \"chun\", \"chung\", \"cicely\", \"ciera\", \"cierra\", \"cinda\", \"cinderella\", \"cindi\", \"cindy\", \"betsy\", \"cinthia\", \"cira\", \"clair\", \"clara\", \"clare\", \"clarence\", \"claretha\", \"claretta\", \"claribel\", \"clarice\", \"clarine\", \"claris\", \"clarisa\", \"clarissa\", \"clarita\", \"billi\", \"clark\", \"classie\", \"claud\", \"claude\", \"claudette\", \"claudia\", \"claudie\", \"claudine\", \"claudio\", \"clay\", \"clayton\", \"clemencia\", \"clement\", \"clemente\", \"clementina\", \"bob\", \"clementine\", \"clemmie\", \"bobby\", \"cleo\", \"bobette\", \"cleopatra\", \"cleora\", \"cleotilde\", \"cleta\", \"cletus\", \"cleveland\", \"cliff\", \"clifford\", \"clifton\", \"clint\", \"clinton\", \"clora\", \"clorinda\", \"clotilde\", \"clyde\", \"co\", \"codi\", \"cody\", \"colby\", \"coleen\", \"brandie\", \"coleman\", \"colene\", \"coletta\", \"colette\", \"colin\", \"colleen\", \"collen\", \"collene\", \"collette\", \"collin\", \"columbus\", \"come\", \"concepcion\", \"conception\", \"concetta\", \"concha\", \"conchita\", \"connie\", \"brianna\", \"conrad\", \"constance\", \"consuela\", \"consuelo\", \"contessa\", \"cora\", \"coral\", \"coralee\", \"coralie\", \"corazon\", \"cordelia\", \"cordell\", \"cordia\", \"cordie\", \"coreen\", \"corene\", \"coretta\", \"corey\", \"brittany\",\n",
        "                   \"corie\", \"brittney\", \"corina\", \"corine\", \"corinna\", \"corinne\", \"corliss\", \"cornelia\", \"cornelius\", \"cornell\", \"corrie\", \"corrin\", \"corrina\", \"corrine\", \"corrinne\", \"cortez\", \"cortney\", \"could\", \"couldnt\", \"courtney\", \"buck\", \"coy\", \"craig\", \"creola\", \"cried\", \"cris\", \"criselda\", \"bulah\", \"crissy\", \"crista\", \"cristal\", \"cristen\", \"cristi\", \"cristie\", \"cristin\", \"cristina\", \"cristine\", \"cristobal\", \"cristopher\", \"cristy\", \"cruz\", \"crysta\", \"crystal\", \"crystle\", \"cuc\", \"cami\", \"curt\", \"curtis\", \"cyndi\", \"cyndy\", \"cammie\", \"cynthia\", \"cyril\", \"cyrstal\", \"cyrus\", \"cythia\", \"d\", \"dacia\", \"candie\", \"dagmar\", \"candra\", \"dagny\", \"dahlia\", \"daina\", \"daine\", \"daisey\", \"daisy\", \"dakota\", \"dale\", \"dalene\", \"carin\", \"dalia\", \"dalila\", \"dallas\", \"dalton\", \"damaris\", \"damian\", \"damien\", \"damion\", \"damon\", \"dan\", \"dana\", \"danae\", \"dane\", \"carlie\", \"danelle\", \"danette\", \"dani\", \"danial\", \"danica\", \"daniel\", \"daniela\", \"daniele\", \"daniell\", \"daniella\", \"danielle\", \"danika\", \"danille\", \"danilo\", \"danita\", \"dann\", \"danna\", \"dannette\", \"dannie\", \"dannielle\", \"danny\", \"danuta\", \"danyel\", \"danyell\", \"danyelle\", \"daphine\", \"dara\", \"darby\", \"carolina\", \"darcel\", \"darcey\", \"darci\", \"darcie\", \"darcy\", \"darell\", \"daren\", \"daria\", \"darin\", \"dario\", \"carroll\", \"darius\", \"darla\", \"carter\", \"darleen\", \"darlena\", \"darlene\", \"darline\", \"darnell\", \"daron\", \"darrel\", \"darrell\", \"darren\", \"darrick\", \"darrin\", \"cassi\", \"darron\", \"darryl\", \"darwin\", \"daryl\", \"date\", \"dave\", \"david\", \"davida\", \"davina\", \"davis\", \"dawn\", \"dawna\", \"dawne\", \"dayle\", \"dayna\", \"daysi\", \"deadra\", \"dean\", \"deana\", \"deandra\", \"deandre\", \"deandrea\", \"deane\", \"deangelo\", \"cecelia\", \"deann\", \"deanna\", \"deanne\", \"deb\", \"debbi\", \"debbie\", \"debbra\", \"debby\", \"debera\", \"debi\", \"debora\", \"deborah\", \"debra\", \"debrah\", \"debroah\", \"dede\", \"dedra\", \"dee\", \"deeann\", \"deeanna\", \"deedee\", \"deena\", \"deetta\", \"deidra\", \"deidre\", \"deirdre\", \"deja\", \"del\", \"delana\", \"delbert\", \"delcie\", \"delena\", \"delfina\", \"delia\", \"delicia\", \"delila\", \"delilah\", \"delinda\", \"delisa\", \"dell\", \"della\", \"delma\", \"delmar\", \"delmer\", \"delmy\", \"delois\", \"charleen\", \"deloise\", \"delora\", \"deloras\", \"delores\", \"deloris\", \"delorse\", \"delpha\", \"delphia\", \"delphine\", \"delsie\", \"delta\", \"demarcus\", \"charmain\", \"demetra\", \"demetria\", \"chas\", \"demetrice\", \"demetrius\", \"dena\", \"chassidy\", \"denae\", \"deneen\", \"denese\", \"denice\", \"denis\", \"denise\", \"denisha\", \"denita\", \"denna\", \"dennis\", \"dennise\", \"denny\", \"denver\", \"denyse\", \"cherise\", \"deon\", \"cherly\", \"deonna\", \"derek\", \"derick\", \"derrick\", \"deshawn\", \"desirae\", \"desire\", \"desiree\", \"despina\", \"dessie\", \"destiny\", \"detra\", \"devin\", \"devon\", \"devona\", \"devora\", \"devorah\", \"dewayne\", \"dewey\", \"dewitt\", \"dexter\", \"dia\", \"diamond\", \"dian\", \"diana\", \"diane\", \"diann\", \"dianna\", \"christena\", \"dianne\", \"dick\", \"did\", \"didnt\", \"diedra\", \"diedre\", \"diego\", \"dierdre\", \"digna\", \"dillon\", \"dimple\", \"dina\", \"dinah\", \"dino\", \"dinorah\", \"dion\", \"dione\", \"dionna\", \"dionne\", \"ciara\", \"dirk\", \"divina\", \"dixie\", \"do\", \"dodie\", \"does\", \"cindie\", \"doesnt\", \"dollie\", \"dolly\", \"dolores\", \"claire\", \"doloris\", \"domenic\", \"domenica\", \"dominga\", \"domingo\", \"dominic\", \"dominica\", \"clarinda\", \"dominick\", \"dominique\", \"dominque\", \"domitila\", \"domonique\", \"don\", \"dona\", \"donald\", \"donella\", \"donetta\", \"donette\", \"dong\", \"donita\", \"donn\", \"donna\", \"donnell\", \"clelia\", \"donnetta\", \"donnette\", \"donnie\", \"donny\", \"donovan\", \"dont\", \"donte\", \"donya\", \"dora\", \"dorathy\", \"dorcas\", \"doreatha\", \"doreen\", \"dorene\", \"doretha\", \"dorethea\", \"doretta\", \"dori\", \"doria\", \"dorian\", \"dorie\", \"dorinda\", \"dorine\", \"doris\", \"dorla\", \"cole\", \"dorotha\", \"dorothea\", \"dorothy\", \"dorris\", \"dorsey\", \"dortha\", \"dorthea\", \"dorthey\", \"dorthy\", \"dot\", \"dotty\", \"colton\", \"doug\", \"douglas\", \"douglass\", \"dovie\", \"down\", \"doyle\", \"dreama\", \"drew\", \"drucilla\", \"duane\", \"dudley\", \"dulcie\", \"dung\", \"during\", \"dusti\", \"dustin\", \"dusty\", \"dwana\", \"dwayne\", \"dwight\", \"dylan\", \"each\", \"earl\", \"earle\", \"earlean\", \"cori\", \"earleen\", \"earlene\", \"earlie\", \"earline\", \"earnest\", \"earnestine\", \"eartha\", \"easter\", \"eboni\", \"ebonie\", \"ebony\", \"echo\", \"ed\", \"edda\", \"eddie\", \"cory\", \"eddy\", \"edelmira\", \"eden\", \"edgardo\", \"edie\", \"edith\", \"edmond\", \"edmund\", \"edmundo\", \"edna\", \"edra\", \"edris\", \"eduardo\", \"edward\", \"edwardo\", \"edwin\", \"edyth\", \"edythe\", \"effie\", \"efrain\", \"efren\", \"ehtel\", \"eight\", \"eighty\", \"eilene\", \"either\", \"ela\", \"eladia\", \"elaina\", \"elaine\", \"elana\", \"elane\", \"elanor\", \"elayne\", \"elba\", \"elda\", \"elden\", \"eldon\", \"eldora\", \"eldridge\", \"eleanor\", \"eleanora\", \"eleanore\", \"elease\", \"elena\", \"elene\", \"eleni\", \"elenor\", \"elenora\", \"eleonor\", \"eleonora\", \"eleonore\", \"elfreda\", \"elfrieda\", \"elfriede\", \"eli\", \"elia\", \"eliana\", \"elias\", \"dania\", \"elicia\", \"elida\", \"elidia\", \"elijah\", \"elina\", \"elinor\", \"elinore\", \"elisa\", \"elisabeth\", \"elise\", \"eliseo\", \"elisha\", \"elissa\", \"eliz\", \"eliza\", \"elizabeth\", \"elizbeth\", \"elizebeth\", \"dante\", \"elke\", \"ella\", \"ellamae\", \"ellan\", \"ellen\", \"daphne\", \"ellena\", \"elli\", \"ellie\", \"elliot\", \"elliott\", \"ellis\", \"ellsworth\", \"elly\", \"ellyn\", \"elma\", \"elmer\", \"elmira\", \"elmo\", \"elna\", \"elnora\", \"elodia\", \"elois\", \"eloisa\", \"eloise\", \"elouise\", \"eloy\", \"elroy\", \"elsa\", \"else\", \"elsie\", \"elsy\", \"elton\", \"elva\", \"elvera\", \"elvia\", \"elvie\", \"elvina\", \"elvira\", \"elvis\", \"elwanda\", \"elwood\", \"elyse\", \"elza\", \"ema\", \"emanuel\", \"emelda\", \"emelia\", \"emelina\", \"emeline\", \"emely\", \"emerald\", \"emerita\", \"emerson\", \"emery\", \"emiko\", \"emil\", \"emile\", \"emilee\", \"emilia\", \"emilie\", \"emilio\", \"emily\", \"emma\", \"emmaline\", \"emmanuel\", \"emmie\", \"emmitt\", \"emmy\", \"emogene\", \"emory\", \"ena\", \"enda\", \"enedina\", \"deedra\", \"enid\", \"enoch\", \"enola\", \"enough\", \"enrique\", \"enriqueta\", \"epifania\", \"delaine\", \"era\", \"erasmo\", \"eric\", \"erica\", \"erich\", \"erick\", \"ericka\", \"erik\", \"erika\", \"erin\", \"erinn\", \"erlene\", \"erlinda\", \"erline\", \"erma\", \"ermelinda\", \"erminia\", \"erna\", \"ernest\", \"ernestina\", \"ernestine\", \"ernesto\", \"ernie\", \"errol\", \"ervin\", \"erwin\", \"eryn\", \"esmeralda\", \"esperanza\", \"essie\", \"esteban\", \"estefana\", \"estela\", \"estell\", \"estella\", \"estelle\", \"ester\", \"esther\", \"estrella\", \"etc\", \"etha\", \"ethan\", \"denisse\", \"ethel\", \"ethelene\", \"ethelyn\", \"ethyl\", \"etsuko\", \"etta\", \"ettie\", \"eufemia\", \"eugena\", \"eugene\", \"eugenia\", \"eugenie\", \"eugenio\", \"eula\", \"eulah\", \"eulalia\", \"desmond\", \"eun\", \"euna\", \"eunice\", \"eura\", \"eusebia\", \"eusebio\", \"eustolia\", \"evalyn\", \"evan\", \"evangelina\", \"evangeline\", \"eve\", \"evelia\", \"evelin\", \"evelina\", \"eveline\", \"evelyn\", \"evelyne\", \"evelynn\", \"even\", \"ever\", \"everett\", \"everette\", \"every\", \"everyone\", \"everything\", \"evette\", \"evia\", \"evie\", \"evita\", \"evon\", \"evonne\", \"ewa\", \"except\", \"exie\", \"ezekiel\", \"ezequiel\", \"ezra\", \"f\", \"fabian\", \"fabiola\", \"fae\", \"fairy\", \"faith\", \"fallon\", \"fannie\", \"fanny\", \"far\", \"farah\", \"farrah\", \"fatima\", \"fatimah\", \"faustina\", \"faustino\", \"fausto\", \"fawn\", \"fay\", \"faye\", \"fe\", \"felecia\", \"felica\", \"felice\", \"felicia\", \"felicidad\", \"felicita\", \"felicitas\", \"felipa\", \"felipe\", \"felisa\", \"felisha\", \"felix\", \"felton\", \"ferdinand\", \"fermin\", \"fermina\", \"fern\", \"fernanda\", \"fernande\", \"fernando\", \"ferne\", \"few\", \"fidel\", \"fidela\", \"fidelia\", \"fifty\", \"filiberto\", \"filomena\", \"fiona\", \"first\", \"five\", \"flavia\", \"fleta\", \"fletcher\", \"flo\", \"flor\", \"flora\", \"florance\", \"florence\", \"florencia\", \"florencio\", \"florene\", \"dottie\", \"florentina\", \"florentino\", \"floretta\", \"floria\", \"florida\", \"florinda\", \"florine\", \"drema\", \"florrie\", \"flossie\", \"drusilla\", \"floy\", \"floyd\", \"dulce\", \"fonda\", \"duncan\", \"for\", \"forest\", \"former\", \"formerly\", \"dwain\", \"forrest\", \"forty\", \"foster\", \"dyan\", \"found\", \"four\", \"fran\", \"france\", \"francene\", \"frances\", \"francesca\", \"francesco\", \"franchesca\", \"francie\", \"francina\", \"francine\", \"francis\", \"francisca\", \"francisco\", \"francoise\", \"frank\", \"eda\", \"frankie\", \"franklyn\", \"fransisca\", \"fred\", \"freda\", \"edgar\", \"fredda\", \"freddie\", \"edison\", \"freddy\", \"frederic\", \"frederica\", \"frederick\", \"fredericka\", \"fredia\", \"fredric\", \"fredrick\", \"fredricka\", \"freeda\", \"freeman\", \"edwina\", \"freida\", \"frida\", \"frieda\", \"fritz\", \"from\", \"fumiko\", \"eileen\", \"further\", \"g\", \"gabriel\", \"gabriela\", \"gabriele\", \"gabriella\", \"gabrielle\", \"gail\", \"gala\", \"gale\", \"elbert\", \"galen\", \"galina\", \"garfield\", \"garland\", \"garnet\", \"garnett\", \"garret\", \"garrett\", \"garry\", \"gary\", \"gaston\", \"gavin\", \"gay\", \"gaye\", \"elenore\", \"gayla\", \"gayle\", \"gaylene\", \"gaylord\", \"gaynell\", \"gearldine\", \"gema\", \"gemma\", \"gena\", \"gene\", \"genesis\", \"geneva\", \"genevie\", \"genevieve\", \"elin\", \"genevive\", \"genia\", \"genie\", \"genna\", \"gennie\", \"genny\", \"genoveva\", \"geoffrey\", \"georgann\", \"george\", \"georgeann\", \"elizabet\", \"georgeanna\", \"georgene\", \"georgetta\", \"georgette\", \"georgia\", \"georgiana\", \"georgiann\", \"georgianne\", \"georgina\", \"georgine\", \"gerald\", \"geraldine\", \"geraldo\", \"geralyn\", \"gerard\", \"gerardo\", \"gerda\", \"geri\", \"german\", \"gerri\", \"gerry\", \"gertie\", \"gertrude\", \"gertrudis\", \"get\", \"ghislaine\", \"gia\", \"gianna\", \"gidget\", \"gigi\", \"gilbert\", \"gilberte\", \"gilberto\", \"gilda\", \"gillian\", \"gilma\", \"gina\", \"ginette\", \"ginger\", \"elvin\", \"ginny\", \"gino\", \"giovanna\", \"giovanni\", \"gisela\", \"gisele\", \"giselle\", \"gita\", \"giuseppe\", \"giuseppina\", \"gladis\", \"glady\", \"gladys\", \"glayds\", \"glen\", \"glenda\", \"glendora\", \"glenn\", \"glenna\", \"glennie\", \"glennis\", \"glinda\", \"gloria\", \"glory\", \"glynda\", \"glynis\", \"go\", \"golda\", \"golden\", \"emmett\", \"goldie\", \"gonzalo\", \"good\", \"gordon\", \"got\", \"grace\", \"gracia\", \"gracie\", \"eneida\", \"graciela\", \"grady\", \"graham\", \"grant\", \"granville\", \"grayce\", \"grazyna\", \"great\", \"gregg\", \"gregoria\", \"gregorio\", \"gregory\", \"greta\", \"gretchen\", \"gretta\", \"gricelda\", \"grisel\", \"griselda\", \"guadalupe\", \"gudrun\", \"guillermina\", \"guillermo\", \"gus\", \"gussie\", \"gustavo\", \"guy\", \"gwen\", \"gwenda\", \"gwendolyn\", \"gwenn\", \"gwyn\", \"gwyneth\", \"h\", \"ha\", \"hae\", \"hai\", \"esta\", \"hailey\", \"hal\", \"haley\", \"halina\", \"halley\", \"hallie\", \"han\", \"hang\", \"hanh\", \"hank\", \"hanna\", \"hannah\", \"hannelore\", \"hans\", \"harlan\", \"harland\", \"harley\", \"harmony\", \"harold\", \"harriet\", \"harriett\",\n",
        "                   \"harriette\", \"harris\", \"harrison\", \"harry\", \"harvey\", \"has\", \"hasnt\", \"hassan\", \"hassie\", \"hattie\", \"have\", \"havent\", \"haydee\", \"eva\", \"hayden\", \"hayley\", \"haywood\", \"hazel\", \"he\", \"heath\", \"heather\", \"hector\", \"hed\", \"hedwig\", \"hedy\", \"heide\", \"heidi\", \"heidy\", \"heike\", \"helaine\", \"helen\", \"helena\", \"helene\", \"helga\", \"hellen\", \"hence\", \"henrietta\", \"henriette\", \"henry\", \"her\", \"herb\", \"herbert\", \"here\", \"hereafter\", \"hereby\", \"herein\", \"heres\", \"hereupon\", \"herlinda\", \"herma\", \"herman\", \"hermelinda\", \"hermina\", \"hermine\", \"faviola\", \"herminia\", \"hers\", \"herschel\", \"herself\", \"federico\", \"hershel\", \"hertha\", \"hes\", \"hester\", \"hettie\", \"hid\", \"hien\", \"hilaria\", \"hilario\", \"hilary\", \"hilda\", \"hildegard\", \"hildred\", \"hillary\", \"hilma\", \"hilton\", \"him\", \"himself\", \"hipolito\", \"hiroko\", \"his\", \"hoa\", \"hobert\", \"holley\", \"holli\", \"hollie\", \"holly\", \"home\", \"homer\", \"honey\", \"hong\", \"hope\", \"horace\", \"horacio\", \"hortencia\", \"hortense\", \"hortensia\", \"hosea\", \"houston\", \"how\", \"howard\", \"however\", \"hoyt\", \"hubert\", \"huey\", \"hugh\", \"hui\", \"hulda\", \"humberto\", \"hundred\", \"hung\", \"hunter\", \"huong\", \"hwa\", \"hye\", \"hyman\", \"hyo\", \"hyon\", \"i\", \"ian\", \"id\", \"ida\", \"idalia\", \"idell\", \"idella\", \"ie\", \"iesha\", \"if\", \"ignacio\", \"franklin\", \"ike\", \"ilana\", \"ileana\", \"ileen\", \"ilene\", \"iliana\", \"ill\", \"illa\", \"ilona\", \"ilse\", \"iluminada\", \"im\", \"ima\", \"imelda\", \"imogene\", \"in\", \"inc\", \"include\", \"includes\", \"indeed\", \"index\", \"india\", \"indira\", \"inell\", \"ines\", \"inez\", \"information\", \"inga\", \"inge\", \"ingeborg\", \"inger\", \"ingrid\", \"inocencia\", \"instead\", \"internet\", \"into\", \"iola\", \"iona\", \"garth\", \"ione\", \"iraida\", \"irena\", \"irene\", \"iris\", \"irish\", \"irma\", \"irmgard\", \"irvin\", \"irving\", \"gaynelle\", \"is\", \"isa\", \"isaac\", \"isabel\", \"genaro\", \"isabell\", \"isabella\", \"isadora\", \"isaiah\", \"isaias\", \"isaura\", \"isela\", \"isiah\", \"isidra\", \"isidro\", \"isis\", \"ismael\", \"isnt\", \"isobel\", \"israel\", \"isreal\", \"issac\", \"it\", \"its\", \"itself\", \"ivan\", \"ivana\", \"ive\", \"georgianna\", \"ivelisse\", \"georgie\", \"ivey\", \"ivonne\", \"ivory\", \"ivy\", \"izetta\", \"izola\", \"j\", \"ja\", \"jacalyn\", \"jacelyn\", \"germaine\", \"jacinda\", \"jacinta\", \"jacinto\", \"gertha\", \"jackeline\", \"gertrud\", \"jackelyn\", \"jacki\", \"gertude\", \"jackie\", \"jacklyn\", \"jackqueline\", \"jackson\", \"jaclyn\", \"gil\", \"jacob\", \"jacqualine\", \"jacque\", \"jacquelin\", \"jacqueline\", \"jacquelyne\", \"jacquelynn\", \"jacques\", \"jacquetta\", \"jacqui\", \"jacquie\", \"jacquiline\", \"jacquline\", \"jacqulyn\", \"jada\", \"jadwiga\", \"jae\", \"jaime\", \"jaimee\", \"jaimie\", \"jake\", \"jaleesa\", \"jalisa\", \"jama\", \"jamaal\", \"jamal\", \"jamar\", \"jame\", \"jamee\", \"jamel\", \"james\", \"jamey\", \"jami\", \"jamie\", \"jamika\", \"jamila\", \"jamison\", \"jammie\", \"jan\", \"jana\", \"janae\", \"janay\", \"jane\", \"janean\", \"janee\", \"janeen\", \"graig\", \"janel\", \"janell\", \"janella\", \"janelle\", \"greg\", \"janene\", \"janessa\", \"janet\", \"janeth\", \"janett\", \"janetta\", \"janette\", \"janey\", \"jani\", \"janice\", \"grover\", \"janie\", \"janina\", \"janine\", \"janis\", \"janise\", \"janita\", \"jann\", \"janna\", \"jannet\", \"jannette\", \"jannie\", \"january\", \"janyce\", \"jaqueline\", \"jaquelyn\", \"jared\", \"jarod\", \"jarred\", \"jarrett\", \"jarrod\", \"jarvis\", \"jasmin\", \"jason\", \"jasper\", \"hana\", \"jaunita\", \"javier\", \"jay\", \"jaye\", \"jayme\", \"jaymie\", \"jayna\", \"jayne\", \"jayson\", \"jazmin\", \"jazmine\", \"jc\", \"jean\", \"jeana\", \"jeane\", \"jeanelle\", \"jeanene\", \"jeanett\", \"jeanetta\", \"jeanette\", \"jeanice\", \"jeanie\", \"jeanine\", \"jeanmarie\", \"jeanna\", \"jeanne\", \"jeannetta\", \"jeannette\", \"jeannie\", \"jeannine\", \"jed\", \"jeff\", \"hee\", \"jefferey\", \"jefferson\", \"jeffery\", \"jeffie\", \"jeffrey\", \"jeffry\", \"jen\", \"jena\", \"jenae\", \"jene\", \"jenee\", \"jenell\", \"jenelle\", \"jenette\", \"jeneva\", \"heriberto\", \"jeni\", \"jenice\", \"jenifer\", \"jeniffer\", \"hermila\", \"jenine\", \"jenise\", \"jenna\", \"jennefer\", \"jennell\", \"herta\", \"jennette\", \"jenni\", \"jennie\", \"hiedi\", \"jennifer\", \"jenniffer\", \"jennine\", \"jerald\", \"jeraldine\", \"hilde\", \"jeramy\", \"hildegarde\", \"jere\", \"jeremiah\", \"jeri\", \"jerica\", \"jerilyn\", \"hiram\", \"jermaine\", \"hisako\", \"jerold\", \"jerome\", \"jeromy\", \"jerrell\", \"jerri\", \"hollis\", \"jerrica\", \"jerrie\", \"jerrod\", \"jerrold\", \"jerry\", \"jesica\", \"jess\", \"jesse\", \"jessenia\", \"jessi\", \"jessia\", \"jessica\", \"jessika\", \"jestine\", \"hsiu\", \"jesus\", \"hue\", \"jesusa\", \"jesusita\", \"hugo\", \"jetta\", \"jettie\", \"jewel\", \"jewell\", \"ji\", \"jill\", \"jillian\", \"hyacinth\", \"jim\", \"jimmie\", \"jin\", \"jina\", \"hyun\", \"jinny\", \"jo\", \"joan\", \"joana\", \"joane\", \"joann\", \"ignacia\", \"joanna\", \"joanne\", \"ila\", \"joannie\", \"ilda\", \"joaquin\", \"joaquina\", \"jocelyn\", \"jodee\", \"jodi\", \"jodie\", \"jody\", \"joeann\", \"joel\", \"joella\", \"joelle\", \"joellen\", \"ina\", \"joesph\", \"joetta\", \"joette\", \"joey\", \"johana\", \"johanna\", \"johanne\", \"john\", \"johna\", \"johnathan\", \"johnathon\", \"johnetta\", \"johnie\", \"johnna\", \"ira\", \"johnnie\", \"johnny\", \"johnsie\", \"irina\", \"johnson\", \"joi\", \"joie\", \"jolanda\", \"joleen\", \"jolene\", \"irwin\", \"jolie\", \"joline\", \"jolyn\", \"jolynn\", \"jon\", \"isabelle\", \"jona\", \"jonah\", \"jonas\", \"jonathon\", \"jone\", \"jonell\", \"jonelle\", \"jong\", \"joni\", \"jonie\", \"jonna\", \"jonnie\", \"jordan\", \"jordon\", \"iva\", \"jorge\", \"jose\", \"josef\", \"ivette\", \"josefa\", \"josefina\", \"josefine\", \"joselyn\", \"joseph\", \"josephina\", \"josephine\", \"josette\", \"josh\", \"joshua\", \"josiah\", \"josie\", \"jack\", \"joslyn\", \"jospeh\", \"josphine\", \"josue\", \"jovan\", \"joy\", \"joya\", \"joyce\", \"joycelyn\", \"joye\", \"juan\", \"juana\", \"juanita\", \"jacquelyn\", \"jude\", \"judi\", \"judie\", \"judith\", \"judson\", \"judy\", \"julee\", \"julene\", \"jules\", \"juli\", \"jade\", \"julia\", \"julian\", \"juliana\", \"juliane\", \"juliann\", \"julianna\", \"julianne\", \"julie\", \"julieann\", \"julienne\", \"juliet\", \"julieta\", \"julietta\", \"juliette\", \"julio\", \"julissa\", \"julius\", \"june\", \"jung\", \"junie\", \"junior\", \"junita\", \"junko\", \"just\", \"justa\", \"justina\", \"justine\", \"jutta\", \"k\", \"ka\", \"kacey\", \"kaci\", \"kacie\", \"kacy\", \"kai\", \"kaila\", \"kaitlin\", \"kaitlyn\", \"kala\", \"kaleigh\", \"kaley\", \"kali\", \"kallie\", \"kalyn\", \"kam\", \"kamala\", \"janiece\", \"kami\", \"kamilah\", \"kandace\", \"kandice\", \"kandis\", \"kandra\", \"kandy\", \"kanesha\", \"kanisha\", \"kara\", \"karan\", \"kareem\", \"kareen\", \"karen\", \"karena\", \"karey\", \"kari\", \"karie\", \"karima\", \"karin\", \"karina\", \"jasmine\", \"karine\", \"karisa\", \"karissa\", \"karl\", \"karla\", \"karleen\", \"karlene\", \"karly\", \"karlyn\", \"karma\", \"karmen\", \"karol\", \"karole\", \"karoline\", \"karolyn\", \"karon\", \"karren\", \"karri\", \"karrie\", \"karry\", \"kary\", \"karyl\", \"karyn\", \"kasandra\", \"kasha\", \"kasi\", \"kassandra\", \"kassie\", \"kate\", \"katelin\", \"katelyn\", \"katelynn\", \"katerine\", \"kathaleen\", \"katharina\", \"katharine\", \"katharyn\", \"kathe\", \"katheleen\", \"katherin\", \"katherine\", \"kathern\", \"kathey\", \"kathi\", \"kathie\", \"kathleen\", \"kathlene\", \"kathline\", \"kathlyn\", \"kathrin\", \"kathrine\", \"kathryn\", \"kathryne\", \"kathy\", \"kathyrn\", \"kati\", \"katia\", \"katie\", \"katlyn\", \"katrice\", \"katrina\", \"kattie\", \"katy\", \"kay\", \"jenny\", \"kayce\", \"kaycee\", \"kaye\", \"kayla\", \"kaylee\", \"jeremy\", \"kayleen\", \"kayleigh\", \"kaylene\", \"jerlene\", \"kazuko\", \"kecia\", \"keeley\", \"keely\", \"keena\", \"keesha\", \"keiko\", \"keila\", \"keira\", \"keisha\", \"keith\", \"jesenia\", \"keitha\", \"keli\", \"kelle\", \"kelley\", \"kelli\", \"kellie\", \"kelly\", \"jessie\", \"kellye\", \"kelsey\", \"kelsi\", \"kelsie\", \"kelvin\", \"kemberly\", \"ken\", \"kena\", \"kenda\", \"kendal\", \"kendall\", \"kendra\", \"kendrick\", \"keneth\", \"jimmy\", \"kenia\", \"kenisha\", \"kenna\", \"kenneth\", \"kenny\", \"kent\", \"kenton\", \"joanie\", \"kenyatta\", \"kenyetta\", \"kera\", \"keren\", \"keri\", \"kermit\", \"kerri\", \"kerrie\", \"kerry\", \"kerstin\", \"kesha\", \"joe\", \"keshia\", \"keturah\", \"keva\", \"keven\", \"kevin\", \"khadijah\", \"khalilah\", \"kia\", \"kiana\", \"kiara\", \"kiera\", \"kiersten\", \"kiesha\", \"kieth\", \"kim\", \"kimber\", \"kimberlee\", \"johnette\", \"kimberley\", \"kimberlie\", \"kimberly\", \"kimbery\", \"kimbra\", \"kimi\", \"kimiko\", \"kina\", \"kindra\", \"king\", \"kira\", \"kirby\", \"kirk\", \"kirsten\", \"kirstie\", \"kirstin\", \"kisha\", \"kit\", \"kittie\", \"jonathan\", \"kitty\", \"kiyoko\", \"kizzie\", \"kizzy\", \"klara\", \"know\", \"korey\", \"kori\", \"kortney\", \"kory\", \"kourtney\", \"kraig\", \"kris\", \"krishna\", \"krissy\", \"krista\", \"kristal\", \"kristan\", \"kristeen\", \"kristel\", \"kristen\", \"kristi\", \"kristian\", \"kristie\", \"kristin\", \"kristina\", \"kristine\", \"kristofer\", \"kristy\", \"kristyn\", \"krysta\", \"jovita\", \"krystal\", \"krysten\", \"krystin\", \"krystina\", \"krystle\", \"krystyna\", \"kum\", \"kurt\", \"kurtis\", \"kyla\", \"kyle\", \"kylee\", \"kylie\", \"kym\", \"jule\", \"kymberly\", \"kyoko\", \"kyong\", \"kyra\", \"kyung\", \"l\", \"lacey\", \"lachelle\", \"laci\", \"lacie\", \"lacresha\", \"lacy\", \"ladawn\", \"ladonna\", \"lady\", \"lael\", \"lahoma\", \"lai\", \"laine\", \"lajuana\", \"lakeesha\", \"lakeisha\", \"lakendra\", \"lakenya\", \"lakesha\", \"lakeshia\", \"lakia\", \"lakiesha\", \"justin\", \"lakisha\", \"lakita\", \"lala\", \"lamonica\", \"lamont\", \"lan\", \"lana\", \"lance\", \"landon\", \"lane\", \"lanell\", \"lanelle\", \"lanette\", \"lani\", \"lanie\", \"lanita\", \"lannie\", \"lanny\", \"lanora\", \"laquanda\", \"laquita\", \"lara\", \"larae\", \"kandi\", \"laraine\", \"laree\", \"larhonda\", \"larisa\", \"larissa\", \"larita\", \"laronda\", \"larraine\", \"larry\", \"larue\", \"lasandra\", \"lashanda\", \"lashandra\", \"lashaun\", \"lashaunda\", \"lashawn\", \"lashawna\", \"lashay\", \"lashell\", \"lashon\", \"lashonda\", \"lashunda\", \"last\", \"latanya\", \"latasha\", \"latashia\", \"later\", \"latesha\", \"latia\", \"laticia\", \"latina\", \"latisha\", \"latonia\", \"latonya\", \"latoria\", \"latosha\", \"latoya\", \"latoyia\", \"latrice\", \"latricia\", \"latrina\", \"latrisha\", \"kasey\", \"latter\", \"latterly\", \"kasie\", \"launa\", \"laura\", \"lauralee\", \"lauran\", \"laure\", \"laureen\", \"laurel\", \"lauren\", \"laurena\", \"laurence\", \"laurene\", \"lauretta\", \"laurette\", \"lauri\", \"katherina\", \"laurice\", \"laurie\", \"katheryn\", \"laurinda\", \"laurine\", \"lauryn\", \"lavada\", \"lavelle\", \"lavenia\", \"lavera\", \"lavern\", \"laverna\", \"laverne\", \"laveta\", \"lavette\", \"lavinia\", \"lavon\", \"lavona\", \"lavonda\", \"katina\", \"lavone\", \"lavonia\", \"lavonna\", \"lawana\", \"lawanda\", \"lawanna\", \"lawerence\", \"lawrence\", \"layla\", \"layne\", \"lazaro\", \"le\", \"lea\", \"leah\", \"lean\", \"leana\", \"leandra\", \"leandro\", \"leann\", \"keenan\", \"leanna\", \"leanne\", \"leanora\", \"least\", \"leatha\", \"leatrice\", \"lecia\", \"leda\", \"leeann\", \"kellee\", \"leeanna\", \"leeanne\", \"leena\", \"leesa\", \"left\", \"leia\", \"leida\", \n",
        "                   \"leif\", \"leigh\", \"leigha\", \"leighann\", \"leila\", \"leilani\", \"leisa\", \"leisha\", \"lekisha\", \"lela\", \"lelah\", \"leland\", \"lelia\", \"lemuel\", \"len\", \"kennith\", \"lena\", \"lenard\", \"lenita\", \"kenya\", \"lenna\", \"lennie\", \"lenny\", \"lenora\", \"lenore\", \"leo\", \"leola\", \"leoma\", \"leon\", \"leona\", \"leonard\", \"leonarda\", \"leonardo\", \"leone\", \"leonel\", \"leonia\", \"leonida\", \"leonie\", \"leonila\", \"leonor\", \"leonora\", \"leonore\", \"leontine\", \"leopoldo\", \"leora\", \"kiley\", \"leota\", \"lera\", \"kimberely\", \"leroy\", \"les\", \"kimberli\", \"lesa\", \"lesha\", \"lesia\", \"leslee\", \"lesley\", \"lesli\", \"leslie\", \"less\", \"lessie\", \"kip\", \"lester\", \"let\", \"leta\", \"letha\", \"leticia\", \"letisha\", \"letitia\", \"lets\", \"lettie\", \"letty\", \"levi\", \"lewis\", \"lezlie\", \"li\", \"lia\", \"liana\", \"liane\", \"lianne\", \"libbie\", \"libby\", \"liberty\", \"librada\", \"lida\", \"lidia\", \"lien\", \"lieselotte\", \"ligia\", \"like\", \"likely\", \"lila\", \"lili\", \"lilia\", \"lilian\", \"liliana\", \"lilla\", \"kristle\", \"lilli\", \"kristopher\", \"lillia\", \"lilliam\", \"lillian\", \"lilliana\", \"lillie\", \"lilly\", \"lily\", \"lin\", \"lina\", \"lincoln\", \"linda\", \"lindsay\", \"lindsey\", \"lindsy\", \"lindy\", \"line\", \"linette\", \"ling\", \"linh\", \"links\", \"linn\", \"linnea\", \"linnie\", \"lino\", \"linsey\", \"linwood\", \"lionel\", \"lisa\", \"lisabeth\", \"lisandra\", \"lisbeth\", \"lise\", \"lisette\", \"lisha\", \"laila\", \"lissa\", \"lissette\", \"lita\", \"livia\", \"liz\", \"liza\", \"lizabeth\", \"lizbeth\", \"lizeth\", \"lizette\", \"lizzette\", \"lizzie\", \"ll\", \"lamar\", \"lloyd\", \"loan\", \"logan\", \"loida\", \"lois\", \"lola\", \"lolita\", \"loma\", \"lon\", \"lona\", \"lang\", \"londa\", \"loni\", \"lonna\", \"lonnie\", \"lonny\", \"lora\", \"loraine\", \"loralee\", \"lore\", \"lorean\", \"loree\", \"loreen\", \"lorelei\", \"loren\", \"lorena\", \"lorene\", \"lorenza\", \"lorenzo\", \"loreta\", \"loretta\", \"lorette\", \"lori\", \"loria\", \"loriann\", \"lorie\", \"lorilee\", \"lashawnda\", \"lorinda\", \"loris\", \"lorita\", \"lorna\", \"lorraine\", \"lasonya\", \"lorretta\", \"latarsha\", \"lorri\", \"lorriane\", \"lorrie\", \"lorrine\", \"lory\", \"lottie\", \"lou\", \"louanne\", \"louella\", \"louetta\", \"louie\", \"louis\", \"louisa\", \"louise\", \"loura\", \"lourdes\", \"lourie\", \"love\", \"lovella\", \"lovetta\", \"lovie\", \"lowell\", \"loyce\", \"loyd\", \"ltd\", \"lu\", \"luana\", \"luann\", \"luanna\", \"luanne\", \"luba\", \"lucas\", \"luci\", \"lucia\", \"luciano\", \"lucie\", \"lucien\", \"lucienne\", \"lucila\", \"lucilla\", \"lucille\", \"lucina\", \"lucio\", \"lucius\", \"lucrecia\", \"lavina\", \"lucretia\", \"lucy\", \"ludie\", \"ludivina\", \"luella\", \"luetta\", \"luigi\", \"lavonne\", \"luis\", \"luisa\", \"luise\", \"luke\", \"lula\", \"lulu\", \"luna\", \"lupe\", \"lupita\", \"lura\", \"lurlene\", \"lurline\", \"luther\", \"luvenia\", \"luz\", \"lyda\", \"lydia\", \"lyla\", \"lyle\", \"lyman\", \"lyn\", \"lynda\", \"lyndia\", \"lee\", \"lyndon\", \"lyndsay\", \"lyndsey\", \"lynell\", \"lynelle\", \"lynette\", \"lynn\", \"lynna\", \"lynne\", \"lynnette\", \"lynsey\", \"lynwood\", \"mabel\", \"mabelle\", \"mable\", \"mac\", \"machelle\", \"macie\", \"mack\", \"mackenzie\", \"macy\", \"madalene\", \"madaline\", \"madalyn\", \"maddie\", \"made\", \"madelaine\", \"madeleine\", \"madelene\", \"madeline\", \"madelyn\", \"madge\", \"madie\", \"madison\", \"madlyn\", \"madonna\", \"mae\", \"maegan\", \"mafalda\", \"magali\", \"magaly\", \"magan\", \"magaret\", \"magda\", \"magdalen\", \"magdalena\", \"magdalene\", \"magen\", \"maggie\", \"magnolia\", \"mahalia\", \"mai\", \"maia\", \"maida\", \"maile\", \"maira\", \"maire\", \"maisha\", \"maisie\", \"major\", \"majorie\", \"make\", \"makeda\", \"makes\", \"malcolm\", \"malcom\", \"malena\", \"malia\", \"malik\", \"malika\", \"malinda\", \"malisa\", \"lexie\", \"malissa\", \"malka\", \"mallie\", \"mallory\", \"malorie\", \"mamie\", \"mammie\", \"man\", \"mana\", \"manda\", \"mandi\", \"mandie\", \"mandy\", \"manie\", \"manual\", \"manuel\", \"manuela\", \"many\", \"maple\", \"mara\", \"maragaret\", \"maragret\", \"maranda\", \"marc\", \"marcel\", \"marcela\", \"marcelina\", \"marceline\", \"marcelino\", \"marcell\", \"marcella\", \"marcelle\", \"marcellus\", \"marcelo\", \"marcene\", \"marchelle\", \"marcia\", \"marcie\", \"marcos\", \"marcus\", \"marcy\", \"maren\", \"marg\", \"margareta\", \"margarett\", \"margaretta\", \"margarette\", \"margarita\", \"margarite\", \"margarito\", \"margart\", \"margene\", \"margeret\", \"margert\", \"margery\", \"marget\", \"margherita\", \"margie\", \"margit\", \"margo\", \"margorie\", \"margret\", \"margrett\", \"marguerita\", \"marguerite\", \"margurite\", \"margy\", \"marhta\", \"mari\", \"maria\", \"loise\", \"mariah\", \"mariam\", \"marian\", \"mariana\", \"marianela\", \"mariann\", \"marianna\", \"marianne\", \"mariano\", \"maribel\", \"maribeth\", \"marica\", \"maricela\", \"maricruz\", \"marie\", \"mariel\", \"mariela\", \"mariella\", \"marietta\", \"mariette\", \"mariko\", \"marilee\", \"marilou\", \"marilu\", \"marilyn\", \"marilynn\", \"marin\", \"marina\", \"marinda\", \"marine\", \"mario\", \"marion\", \"lorina\", \"maris\", \"lorine\", \"marisa\", \"marisela\", \"marisha\", \"marisol\", \"marissa\", \"marita\", \"maritza\", \"marivel\", \"marjory\", \"mark\", \"marketta\", \"markita\", \"louann\", \"markus\", \"marla\", \"marlana\", \"marleen\", \"marlen\", \"marlena\", \"marlene\", \"marlin\", \"marline\", \"marlo\", \"louvenia\", \"marlon\", \"marlyn\", \"marlys\", \"marna\", \"marni\", \"marnie\", \"marquerite\", \"marquetta\", \"marquis\", \"marquita\", \"marquitta\", \"marry\", \"marsha\", \"marshall\", \"marth\", \"martha\", \"luciana\", \"marti\", \"martin\", \"martina\", \"martine\", \"marty\", \"lucile\", \"marva\", \"marvel\", \"marvella\", \"lucinda\", \"marvin\", \"marvis\", \"marx\", \"mary\", \"marya\", \"maryalice\", \"maryam\", \"lue\", \"maryann\", \"maryanna\", \"maryanne\", \"marybelle\", \"marybeth\", \"maryellen\", \"maryetta\", \"maryjane\", \"maryjo\", \"maryland\", \"marylee\", \"marylin\", \"maryln\", \"marylou\", \"marylouise\", \"marylyn\", \"marylynn\", \"maryrose\", \"masako\", \"mason\", \"matha\", \"mathew\", \"mathilda\", \"mathilde\", \"matilda\", \"matilde\", \"matt\", \"matthew\", \"mattie\", \"maud\", \"maude\", \"lynetta\", \"maudie\", \"maura\", \"maureen\", \"maurice\", \"mauricio\", \"maurine\", \"maurita\", \"ma\", \"mauro\", \"mavis\", \"max\", \"maxie\", \"maxima\", \"maximina\", \"maximo\", \"maxine\", \"maxwell\", \"maya\", \"maybe\", \"maybell\", \"maybelle\", \"maye\", \"mayme\", \"maynard\", \"mayola\", \"mayra\", \"mazie\", \"mckenzie\", \"mckinley\", \"me\", \"meagan\", \"meaghan\", \"meantime\", \"meanwhile\", \"mechelle\", \"meda\", \"mee\", \"meg\", \"megan\", \"meggan\", \"meghan\", \"meghann\", \"mei\", \"mel\", \"melaine\", \"melani\", \"melania\", \"melanie\", \"melany\", \"melba\", \"melda\", \"melia\", \"melida\", \"melina\", \"melinda\", \"melisa\", \"melissa\", \"melissia\", \"melita\", \"mellie\", \"mellisa\", \"mellissa\", \"melodee\", \"melodi\", \"melodie\", \"melody\", \"melonie\", \"melony\", \"melva\", \"malvina\", \"melvin\", \"melvina\", \"mendy\", \"mercedes\", \"mercedez\", \"mercy\", \"meredith\", \"meri\", \"merideth\", \"meridith\", \"merilyn\", \"merissa\", \"merle\", \"mao\", \"merlene\", \"merlin\", \"merlyn\", \"merna\", \"merri\", \"merrie\", \"merrilee\", \"merrill\", \"marcelene\", \"merry\", \"mertie\", \"mervin\", \"meryl\", \"meta\", \"mi\", \"mia\", \"mica\", \"micaela\", \"micah\", \"marci\", \"michael\", \"michaela\", \"marco\", \"michaele\", \"michal\", \"michale\", \"mardell\", \"micheal\", \"michel\", \"margaret\", \"michele\", \"margarete\", \"michelina\", \"micheline\", \"michell\", \"michelle\", \"michiko\", \"mickey\", \"micki\", \"marge\", \"mickie\", \"miesha\", \"migdalia\", \"mignon\", \"miguelina\", \"mika\", \"mikaela\", \"mike\", \"mikel\", \"miki\", \"margot\", \"mikki\", \"milagro\", \"milagros\", \"milan\", \"milda\", \"mildred\", \"miles\", \"milford\", \"milissa\", \"millard\", \"millie\", \"million\", \"milly\", \"milo\", \"milton\", \"mimi\", \"min\", \"mina\", \"minda\", \"mindi\", \"mindy\", \"minerva\", \"ming\", \"minh\", \"minna\", \"minnie\", \"minta\", \"marielle\", \"miquel\", \"mira\", \"miranda\", \"mireille\", \"mireya\", \"miriam\", \"mirian\", \"mirna\", \"mirta\", \"mirtha\", \"misha\", \"miss\", \"missy\", \"misti\", \"mistie\", \"misty\", \"mitch\", \"mitchel\", \"mitchell\", \"mitsue\", \"mitsuko\", \"mittie\", \"marjorie\", \"mitzi\", \"mitzie\", \"miyoko\", \"modesto\", \"mohamed\", \"mohammad\", \"mohammed\", \"moira\", \"mollie\", \"molly\", \"moment\", \"mona\", \"monet\", \"monica\", \"monika\", \"monique\", \"monnie\", \"monroe\", \"monserrate\", \"monte\", \"monty\", \"moon\", \"mora\", \"more\", \"moreover\", \"morgan\", \"moriah\", \"morris\", \"marta\", \"morton\", \"mose\", \"moses\", \"moshe\", \"most\", \"mostly\", \"mozell\", \"mozella\", \"mozelle\", \"mr\", \"mrs\", \"much\", \"mui\", \"muoi\", \"murray\", \"must\", \"my\", \"myesha\", \"myles\", \"myong\", \"myra\", \"myrl\", \"myrle\", \"myrna\", \"myron\", \"myrta\", \"myrtie\", \"myrtle\", \"myself\", \"myung\", \"n\", \"nada\", \"nadene\", \"nadia\", \"naida\", \"nakesha\", \"nakia\", \"nakisha\", \"nakita\", \"nam\", \"namely\", \"nan\", \"nana\", \"nancee\", \"nancey\", \"nanci\", \"nancie\", \"nancy\", \"nanette\", \"nannette\", \"nannie\", \"naoma\", \"naomi\", \"napoleon\", \"narcisa\", \"natacha\", \"natalia\", \"natalie\", \"natalya\", \"natasha\", \"natashia\", \"nathalie\", \"nathanael\", \"nathanial\", \"natisha\", \"natividad\", \"natosha\", \"neal\", \"near\", \"necole\", \"ned\", \"neda\", \"nedra\", \"neely\", \"neida\", \"neil\", \"neither\", \"nelda\", \"nelia\", \"nelida\", \"nell\", \"nella\", \"nelle\", \"nellie\", \"nelly\", \"nelson\", \"nena\", \"nenita\", \"neoma\", \"neomi\", \"nereida\", \"nerissa\", \"nery\", \"nestor\", \"neta\", \"nettie\", \"neva\", \"nevada\", \"never\", \"nevertheless\", \"neville\", \"new\", \"newton\", \"next\", \"nga\", \"ngan\", \"ngoc\", \"nguyet\", \"nia\", \"nichelle\", \"nichol\", \"nicholas\", \"nichole\", \"melynda\", \"nicholle\", \"nick\", \"nicki\", \"nickie\", \"nickole\", \"nicky\", \"nicol\", \"nicola\", \"nicolas\", \"nicolasa\", \"nicole\", \"nicolette\", \"nicolle\", \"nida\", \"nidia\", \"niesha\", \"nieves\", \"nigel\", \"niki\", \"nikia\", \"nikita\", \"nikki\", \"nikole\", \"nila\", \"nilda\", \"nilsa\", \"nina\", \"nine\", \"ninety\", \"micha\", \"ninfa\", \"nisha\", \"nita\", \"no\", \"noah\", \"noble\", \"nobody\", \"nobuko\", \"noe\", \"noel\", \"noelia\", \"noella\", \"noelle\", \"noemi\", \"nola\", \"nolan\", \"noma\", \"nona\", \"none\", \"miguel\", \"nonetheless\", \"noone\", \"nor\", \"nora\", \"norah\", \"norbert\", \"norberto\", \"mila\", \"noreen\", \"noriko\", \"norine\", \"norma\", \"norman\", \"normand\", \"not\", \"nothing\", \"nova\", \"millicent\", \"novella\", \"now\", \"nowhere\", \"nu\", \"nubia\", \"numbers\", \"nydia\", \"nyla\", \"o\", \"obdulia\", \"ocie\", \"octavia\", \"octavio\", \"oda\", \"odelia\", \"odell\", \"odessa\", \"odette\", \"odilia\", \"odis\", \"mirella\", \"of\", \"ofelia\", \"off\", \"often\", \"oh\", \"ola\", \"olen\", \"olene\", \"oleta\", \"olevia\", \"olga\", \"olimpia\", \"olin\", \"olinda\", \"oliva\", \"olive\", \"oliver\", \"olivia\", \"ollie\", \"olympia\", \"oma\", \"modesta\", \"omar\", \"omega\", \"omer\", \"omitted\", \"on\", \"moises\", \"ona\", \"once\", \"one\", \"oneida\", \"ones\", \"onie\", \"onita\", \"only\", \"onto\", \"opal\", \"ophelia\", \"or\", \"oralee\", \"oralia\", \"ord\", \"oren\", \"oretha\", \"orlando\", \"orpha\", \"orval\", \"orville\", \"oscar\", \"ossie\", \"osvaldo\", \"oswaldo\", \n",
        "                   \"otelia\", \"muriel\", \"otha\", \"other\", \"others\", \"otherwise\", \"otilia\", \"otis\", \"myriam\", \"otto\", \"ouida\", \"our\", \"ours\", \"ourselves\", \"myrtice\", \"out\", \"myrtis\", \"over\", \"owen\", \"own\", \"ozell\", \"ozella\", \"ozie\", \"nadine\", \"p\", \"pa\", \"pablo\", \"page\", \"pages\", \"paige\", \"palma\", \"palmer\", \"palmira\", \"pamala\", \"pamela\", \"pamelia\", \"pamella\", \"pamila\", \"pamula\", \"pansy\", \"paola\", \"paris\", \"parker\", \"part\", \"parthenia\", \"particia\", \"pasquale\", \"pasty\", \"pat\", \"patience\", \"nathan\", \"patria\", \"patrica\", \"nathaniel\", \"patrice\", \"patricia\", \"patrina\", \"patsy\", \"patti\", \"pattie\", \"patty\", \"paula\", \"paulene\", \"paulette\", \"pauline\", \"paulita\", \"paz\", \"pearl\", \"pearle\", \"pearlene\", \"pearlie\", \"pearline\", \"pearly\", \"pedro\", \"peg\", \"peggie\", \"peggy\", \"pei\", \"penelope\", \"penney\", \"penni\", \"pennie\", \"penny\", \"per\", \"percy\", \"perhaps\", \"perla\", \"perry\", \"pete\", \"peter\", \"petra\", \"petrina\", \"petronila\", \"phebe\", \"phil\", \"philip\", \"phillip\", \"phillis\", \"philomena\", \"phung\", \"phuong\", \"nickolas\", \"phylicia\", \"phylis\", \"phyliss\", \"pia\", \"piedad\", \"pierre\", \"ping\", \"pinkie\", \"piper\", \"pok\", \"polly\", \"porfirio\", \"porsche\", \"porsha\", \"porter\", \"portia\", \"pp\", \"precious\", \"preston\", \"pricilla\", \"prince\", \"princess\", \"priscila\", \"priscilla\", \"proud\", \"providencia\", \"prudence\", \"q\", \"qiana\", \"queen\", \"queenie\", \"quentin\", \"quiana\", \"quincy\", \"quinn\", \"nohemi\", \"quintin\", \"quinton\", \"quyen\", \"r\", \"rachael\", \"rachal\", \"racheal\", \"rachel\", \"rachele\", \"norene\", \"rachell\", \"rachelle\", \"racquel\", \"rae\", \"raeann\", \"norris\", \"raelene\", \"rafael\", \"rafaela\", \"raguel\", \"raina\", \"raisa\", \"raleigh\", \"ralph\", \"ramiro\", \"ramon\", \"ramona\", \"ramonita\", \"ran\", \"rana\", \"ranae\", \"randa\", \"randal\", \"randall\", \"randee\", \"ok\", \"randi\", \"randolph\", \"ranee\", \"raphael\", \"raquel\", \"rashad\", \"rasheeda\", \"rashida\", \"raul\", \"raven\", \"ray\", \"raye\", \"rayford\", \"raymon\", \"raymond\", \"raymonde\", \"raymundo\", \"rayna\", \"re\", \"rea\", \"reagan\", \"reatha\", \"reba\", \"rebbeca\", \"rebbecca\", \"ora\", \"rebeca\", \"rebecca\", \"rebecka\", \"rebekah\", \"recent\", \"recently\", \"reed\", \"reena\", \"ref\", \"refs\", \"refugia\", \"refugio\", \"regan\", \"regena\", \"regenia\", \"reggie\", \"regina\", \"reginald\", \"regine\", \"reginia\", \"reid\", \"reiko\", \"reina\", \"reinaldo\", \"reita\", \"related\", \"rema\", \"remedios\", \"remona\", \"pam\", \"rena\", \"renaldo\", \"renata\", \"renate\", \"renato\", \"renay\", \"pandora\", \"renda\", \"renea\", \"renetta\", \"renita\", \"replied\", \"research\", \"ressie\", \"reta\", \"retha\", \"retta\", \"reuben\", \"reva\", \"rex\", \"reyes\", \"patrick\", \"reyna\", \"reynaldo\", \"rhea\", \"rheba\", \"rhett\", \"paul\", \"rhiannon\", \"rhoda\", \"pauletta\", \"rhona\", \"paulina\", \"rhonda\", \"ria\", \"ricardo\", \"rich\", \"richard\", \"richelle\", \"richie\", \"rick\", \"rickey\", \"ricki\", \"rickie\", \"ricky\", \"rico\", \"rigoberto\", \"rikki\", \"riley\", \"rima\", \"rina\", \"risa\", \"rita\", \"rivka\", \"robbi\", \"robbie\", \"robby\", \"robbyn\", \"robena\", \"robert\", \"roberta\", \"roberto\", \"robin\", \"robt\", \"robyn\", \"rocco\", \"phoebe\", \"rochel\", \"rochell\", \"rochelle\", \"rocio\", \"rocky\", \"phyllis\", \"rod\", \"roderick\", \"rodger\", \"pilar\", \"rodney\", \"rodolfo\", \"rodrick\", \"rodrigo\", \"rogelio\", \"roger\", \"roland\", \"rolanda\", \"rolande\", \"rolando\", \"rolf\", \"rolland\", \"roma\", \"romaine\", \"roman\", \"romana\", \"romelia\", \"romeo\", \"romona\", \"pura\", \"ron\", \"rona\", \"ronald\", \"roni\", \"ronna\", \"ronni\", \"ronnie\", \"ronny\", \"roosevelt\", \"rory\", \"rosa\", \"rosalba\", \"rosalee\", \"rosalia\", \"rosalie\", \"rosalind\", \"rosalinda\", \"rosaline\", \"rosalva\", \"rosalyn\", \"rosamaria\", \"rosamond\", \"rosana\", \"rosann\", \"rosanna\", \"rosanne\", \"rosaria\", \"rosario\", \"rosaura\", \"roscoe\", \"rose\", \"roseann\", \"roseanna\", \"roseanne\", \"roselee\", \"roselia\", \"roseline\", \"rosella\", \"randell\", \"roselle\", \"roselyn\", \"randy\", \"rosemarie\", \"rosemary\", \"rosena\", \"rosenda\", \"rosendo\", \"rosetta\", \"rosette\", \"rosia\", \"rosie\", \"rosina\", \"rosio\", \"raylene\", \"roslyn\", \"ross\", \"rossana\", \"rossie\", \"rosy\", \"rowena\", \"roxana\", \"reanna\", \"roxane\", \"roxann\", \"roxanna\", \"roxanne\", \"roxie\", \"roy\", \"royal\", \"royce\", \"reda\", \"rozanne\", \"rozella\", \"ruben\", \"rubi\", \"rubie\", \"rubin\", \"rubye\", \"rudolf\", \"rudolph\", \"rudy\", \"rueben\", \"rufina\", \"rufus\", \"run\", \"rupert\", \"russel\", \"russell\", \"rusty\", \"ruth\", \"rutha\", \"ruthann\", \"renae\", \"ruthanne\", \"ruthe\", \"ruthie\", \"ryan\", \"ryann\", \"s\", \"rene\", \"sabina\", \"renee\", \"sabine\", \"sabra\", \"renna\", \"sabrina\", \"sacha\", \"sachiko\", \"sade\", \"sadie\", \"sadye\", \"sage\", \"rey\", \"said\", \"sal\", \"reynalda\", \"salena\", \"salina\", \"salley\", \"sallie\", \"sally\", \"salome\", \"salvador\", \"salvatore\", \"sam\", \"ricarda\", \"samantha\", \"samara\", \"samatha\", \"same\", \"samella\", \"samira\", \"sammie\", \"sammy\", \"samual\", \"samuel\", \"sana\", \"sanda\", \"sandee\", \"sandi\", \"sandie\", \"sandra\", \"sandy\", \"sanford\", \"riva\", \"sang\", \"rob\", \"sanjuana\", \"sanjuanita\", \"robbin\", \"sanora\", \"santa\", \"santana\", \"santiago\", \"santo\", \"santos\", \"sara\", \"sarah\", \"sarai\", \"saran\", \"sari\", \"sarina\", \"sarita\", \"sasha\", \"saturnina\", \"sau\", \"saul\", \"saundra\", \"savanna\", \"say\", \"scarlet\", \"scarlett\", \"scot\", \"scott\", \"scottie\", \"scotty\", \"sean\", \"search\", \"season\", \"sebastian\", \"sebrina\", \"sec\", \"section\", \"see\", \"seem\", \"seema\", \"seemed\", \"seeming\", \"seems\", \"ronda\", \"selena\", \"selene\", \"selina\", \"selma\", \"sena\", \"senaida\", \"september\", \"serafina\", \"serena\", \"sergio\", \"serina\", \"serita\", \"rosalina\", \"server\", \"seth\", \"seven\", \"seventy\", \"several\", \"seymour\", \"sha\", \"shad\", \"shae\", \"shaina\", \"shakia\", \"shakita\", \"shala\", \"shalanda\", \"shall\", \"shalon\", \"shalonda\", \"shameka\", \"shamika\", \"shan\", \"shana\", \"shanae\", \"shanda\", \"shandi\", \"shandra\", \"shane\", \"shaneka\", \"shanel\", \"shanell\", \"shanelle\", \"shanice\", \"shanika\", \"shaniqua\", \"shanita\", \"shannan\", \"shannon\", \"rosita\", \"shanon\", \"shanta\", \"shantae\", \"shantay\", \"shante\", \"shantel\", \"shantell\", \"shantelle\", \"shanti\", \"shaquana\", \"shaquita\", \"shara\", \"roxy\", \"sharan\", \"sharda\", \"sharee\", \"sharell\", \"sharen\", \"shari\", \"sharice\", \"sharie\", \"sharika\", \"ruby\", \"sharilyn\", \"sharla\", \"sharleen\", \"sharlene\", \"sharmaine\", \"sharolyn\", \"sharon\", \"sharri\", \"russ\", \"sharyl\", \"sharyn\", \"shasta\", \"shaun\", \"shauna\", \"shaunda\", \"shaunna\", \"shaunta\", \"shaunte\", \"shavon\", \"shavonda\", \"shavonne\", \"shawana\", \"shawanda\", \"shawanna\", \"shawn\", \"shawnda\", \"shawnee\", \"shawnna\", \"shawnta\", \"shay\", \"shayla\", \"shayna\", \"shayne\", \"she\", \"shea\", \"sheba\", \"shed\", \"sheena\", \"sheila\", \"sheilah\", \"shela\", \"shelba\", \"shelby\", \"sheldon\", \"shelia\", \"shell\", \"shella\", \"shelley\", \"shelli\", \"shellie\", \"shelly\", \"shemeka\", \"shemika\", \"shena\", \"shenika\", \"shenita\", \"shenna\", \"shera\", \"sheree\", \"sherell\", \"sheri\", \"sherice\", \"sheridan\", \"sherie\", \"santina\", \"sherika\", \"sherill\", \"sherilyn\", \"sherise\", \"sherita\", \"sherlene\", \"sherley\", \"sherly\", \"sherlyn\", \"sherman\", \"sheron\", \"sherrell\", \"sherri\", \"sherrie\", \"sherril\", \"savannah\", \"sherrill\", \"sherron\", \"sherry\", \"sherryl\", \"sherwood\", \"shery\", \"sheryl\", \"sheryll\", \"shes\", \"shiela\", \"shila\", \"shiloh\", \"shin\", \"shira\", \"shirely\", \"shirl\", \"shirlee\", \"shirleen\", \"shirlene\", \"shirley\", \"shirly\", \"shizue\", \"shizuko\", \"shon\", \"shona\", \"setsuko\", \"shonda\", \"shondra\", \"shonna\", \"shonta\", \"shoshana\", \"shu\", \"shakira\", \"shyla\", \"sibyl\", \"sid\", \"sidney\", \"sierra\", \"signe\", \"sigrid\", \"silas\", \"silva\", \"silvana\", \"silvia\", \"sima\", \"simon\", \"simona\", \"simone\", \"simonne\", \"sina\", \"since\", \"shani\", \"sindy\", \"siobhan\", \"sirena\", \"siu\", \"shanna\", \"six\", \"sixty\", \"skye\", \"slyvia\", \"so\", \"socorro\", \"sofia\", \"soila\", \"sol\", \"solange\", \"soledad\", \"solomon\", \"some\", \"somehow\", \"someone\", \"somer\", \"something\", \"sometime\", \"sometimes\", \"somewhere\", \"sommer\", \"son\", \"sona\", \"sharita\", \"sondra\", \"song\", \"sonia\", \"sonja\", \"sonny\", \"sonya\", \"sharonda\", \"soo\", \"sharron\", \"sook\", \"soon\", \"sophia\", \"sophie\", \"soraya\", \"sparkle\", \"spencer\", \"spring\", \"stacee\", \"stacey\", \"staci\", \"stacia\", \"stacie\", \"stacy\", \"stanford\", \"shawna\", \"stanley\", \"stanton\", \"star\", \"starla\", \"starr\", \"stefan\", \"stefani\", \"stefania\", \"stefanie\", \"stefany\", \"steffanie\", \"stella\", \"stepanie\", \"stephan\", \"stephane\", \"stephani\", \"stephania\", \"stephanie\", \"stephen\", \"stephenie\", \"stephine\", \"stephnie\", \"sterling\", \"shelton\", \"steve\", \"steven\", \"stevie\", \"stewart\", \"still\", \"stop\", \"stormy\", \"stuart\", \"suanne\", \"such\", \"sudie\", \"sue\", \"sueann\", \"suellen\", \"suk\", \"sulema\", \"sumiko\", \"summer\", \"sun\", \"sunday\", \"sung\", \"sunni\", \"sunny\", \"sunshine\", \"susan\", \"susana\", \"susann\", \"susanna\", \"susannah\", \"susanne\", \"susie\", \"susy\", \"suzan\", \"suzann\", \"suzanna\", \"suzanne\", \"suzette\", \"suzi\", \"suzy\", \"svetlana\", \"sybil\", \"syble\", \"sydney\", \"sylvester\", \"sylvia\", \"sylvie\", \"synthia\", \"syreeta\", \"t\", \"ta\", \"tabetha\", \"tabitha\", \"tad\", \"tai\", \"taina\", \"taisha\", \"tajuana\", \"takako\", \"taking\", \"takisha\", \"talia\", \"talisha\", \"talitha\", \"tama\", \"tamar\", \"tamara\", \"tamatha\", \"tambra\", \"tameika\", \"tameka\", \"tamekia\", \"tamela\", \"tamera\", \"tamesha\", \"tami\", \"tamica\", \"tamie\", \"tamiko\", \"tamisha\", \"sixta\", \"tammara\", \"tammera\", \"tammi\", \"tammie\", \"tammy\", \"tana\", \"tandra\", \"tandy\", \"taneka\", \"tanesha\", \"tangela\", \"tania\", \"tanika\", \"tanja\", \"tanna\", \"tanner\", \"tara\", \"tarah\", \"taren\", \"tarra\", \"tarsha\", \"taryn\", \"tasha\", \"tashia\", \"tashina\", \"tasia\", \"tatiana\", \"tatum\", \"tatyana\", \"taunya\", \"tawana\", \"tawanda\", \"tawanna\", \"tawna\", \"tawnya\", \"stan\", \"taylor\", \"tayna\", \"ted\", \"teddy\", \"tegan\", \"tell\", \"stasia\", \"telma\", \"temeka\", \"temika\", \"tempie\", \"temple\", \"ten\", \"tena\", \"tenesha\", \"stephaine\", \"tenisha\", \"tennie\", \"tennille\", \"teodora\", \"teodoro\", \"stephany\", \"teofila\", \"tequila\", \"tera\", \"tereasa\", \"terence\", \"teresa\", \"teresia\", \"teresita\", \"teressa\", \"teri\", \"terica\", \"su\", \"terina\", \"terisa\", \"terra\", \"terrance\", \"terrell\", \"terrence\", \"terresa\", \"terri\", \"terrie\", \"terrilyn\", \"terry\", \"tesha\", \"tessa\", \"tessie\", \"thad\", \"thaddeus\", \"thalia\", \"than\", \"thanh\", \"thao\", \"that\", \"thatll\", \"thats\", \"thatve\", \"the\", \"theda\", \"their\", \"thelma\", \"them\", \"suzie\", \"themselves\", \"then\", \"thence\", \"theo\", \"theodora\", \"theodore\", \"theola\", \"thereafter\", \"thereby\", \"thered\", \"therefore\", \"tabatha\", \"therein\", \"therell\", \"therere\", \"theres\", \"theresa\", \"therese\", \"theressa\", \"thereupon\", \"thereve\", \"theron\", \"thersa\", \"these\",\n",
        "                   \"tam\", \"theyd\", \"tamala\", \"theyll\", \"theyre\", \"theyve\", \"thi\", \"thing\", \"think\", \"thirty\", \"this\", \"thomas\", \"thomasena\", \"thomasina\", \"thomasine\", \"thora\", \"tamika\", \"those\", \"though\", \"thought\", \"thousand\", \"thresa\", \"through\", \"throughout\", \"tamra\", \"thru\", \"thu\", \"thurman\", \"thus\", \"thuy\", \"tia\", \"tiana\", \"tianna\", \"tanisha\", \"tiara\", \"tien\", \"tiera\", \"tanya\", \"tierra\", \"tiesha\", \"tifany\", \"tari\", \"tiffaney\", \"tiffani\", \"tiffanie\", \"tiffany\", \"tiffiny\", \"tijuana\", \"til\", \"tilda\", \"till\", \"tillie\", \"tim\", \"timika\", \"timmy\", \"timothy\", \"tina\", \"tawny\", \"tinisha\", \"tiny\", \"tip\", \"tisa\", \"tish\", \"teena\", \"tisha\", \"teisha\", \"titus\", \"to\", \"tobi\", \"tobias\", \"tobie\", \"toby\", \"toccara\", \"tod\", \"together\", \"toi\", \"told\", \"tom\", \"tomas\", \"tomasa\", \"tomeka\", \"tomi\", \"tomika\", \"tomiko\", \"terese\", \"tommie\", \"tommy\", \"tommye\", \"tomoko\", \"tona\", \"tonda\", \"tonette\", \"toney\", \"tonia\", \"tonie\", \"tonisha\", \"tonita\", \"tonja\", \"tony\", \"tonya\", \"too\", \"tora\", \"tess\", \"tori\", \"torie\", \"torri\", \"torrie\", \"tory\", \"tosha\", \"toshia\", \"thea\", \"toshiko\", \"tova\", \"towanda\", \"towards\", \"toya\", \"tracee\", \"traci\", \"tracie\", \"theresia\", \"tracy\", \"tran\", \"trang\", \"travis\", \"treasa\", \"treena\", \"trena\", \"trent\", \"trenton\", \"tresa\", \"tressa\", \"tressie\", \"treva\", \"trevor\", \"trey\", \"tricia\", \"trillion\", \"trina\", \"trinh\", \"trinidad\", \"trinity\", \"trisha\", \"trista\", \"tristan\", \"troy\", \"trudi\", \"trudie\", \"trudy\", \"trula\", \"truman\", \"try\", \"tu\", \"tuan\", \"tula\", \"tuyet\", \"twana\", \"twanda\", \"twanna\", \"twenty\", \"twila\", \"two\", \"twyla\", \"ty\", \"tyesha\", \"tyisha\", \"tyler\", \"tynisha\", \"todd\", \"tyra\", \"tyree\", \"tyron\", \"tyrone\", \"tyson\", \"u\", \"ulrike\", \"ulysses\", \"un\", \"una\", \"under\", \"unless\", \"unlike\", \"until\", \"unto\", \"up\", \"toni\", \"upon\", \"ursula\", \"us\", \"used\", \"usha\", \"using\", \"ute\", \"v\", \"vada\", \"val\", \"valarie\", \"valda\", \"valencia\", \"valene\", \"valentin\", \"valentina\", \"valentine\", \"valeri\", \"valeria\", \"valerie\", \"tracey\", \"valery\", \"valorie\", \"valrie\", \"van\", \"vanda\", \"vanesa\", \"vanessa\", \"vanetta\", \"vania\", \"vanita\", \"vanna\", \"vannesa\", \"vannessa\", \"vashti\", \"vasiliki\", \"vaughn\", \"ve\", \"veda\", \"velda\", \"velia\", \"vella\", \"velma\", \"trish\", \"velva\", \"velvet\", \"vena\", \"venessa\", \"venetta\", \"venice\", \"venita\", \"vennie\", \"venus\", \"veola\", \"vera\", \"verda\", \"verdell\", \"verdie\", \"verena\", \"vergie\", \"verla\", \"verlene\", \"verlie\", \"verline\", \"vern\", \"verna\", \"vernell\", \"vernetta\", \"vernia\", \"tyrell\", \"vernice\", \"vernie\", \"vernita\", \"ula\", \"vernon\", \"verona\", \"veronica\", \"veronika\", \"veronique\", \"versie\", \"vertie\", \"very\", \"vesta\", \"veta\", \"vi\", \"via\", \"vicenta\", \"vicente\", \"vickey\", \"vickie\", \"vicky\", \"victor\", \"victoria\", \"vida\", \"vallie\", \"viki\", \"vikki\", \"vilma\", \"vance\", \"vina\", \"vince\", \"vincent\", \"vincenza\", \"vincenzo\", \"vinita\", \"vinnie\", \"viola\", \"violet\", \"violeta\", \"violette\", \"virgen\", \"virgie\", \"virgil\", \"virgilio\", \"virgina\", \"virginia\", \"vita\", \"vito\", \"viva\", \"vivan\", \"vivian\", \"viviana\", \"vivien\", \"vivienne\", \"vol\", \"vols\", \"von\", \"voncile\", \"vonda\", \"vonnie\", \"vs\", \"w\", \"wade\", \"wai\", \"waldo\", \"walker\", \"wallace\", \"wally\", \"walter\", \"walton\", \"waltraud\", \"wan\", \"wanda\", \"waneta\", \"wanetta\", \"wanita\", \"ward\", \"warner\", \"warren\", \"was\", \"wasnt\", \"wava\", \"way\", \"waylon\", \"wayne\", \"we\", \"wed\", \"vicki\", \"wei\", \"weldon\", \"well\", \"wen\", \"victorina\", \"wendell\", \"wendi\", \"wendie\", \"wendolyn\", \"wendy\", \"wenona\", \"went\", \"were\", \"werent\", \"werner\", \"wes\", \"wesley\", \"weston\", \"weve\", \"what\", \"whatever\", \"whatll\", \"whats\", \"whatve\", \"when\", \"whence\", \"whenever\", \"where\", \"whereafter\", \"whereas\", \"whereby\", \"wherein\", \"wheres\", \"whereupon\", \"wherever\", \"whether\", \"which\", \"while\", \"whim\", \"whither\", \"whitley\", \"whitney\", \"who\", \"whod\", \"whoever\", \"whole\", \"wholl\", \"whom\", \"whomever\", \"whos\", \"whose\", \"why\", \"wilber\", \"wilbert\", \"wilbur\", \"wilburn\", \"wilda\", \"wiley\", \"wilford\", \"wilfred\", \"wilfredo\", \"wilhelmina\", \"wilhemina\", \"will\", \"willa\", \"willard\", \"willena\", \"willene\", \"willetta\", \"willette\", \"willia\", \"william\", \"williams\", \"willian\", \"willie\", \"williemae\", \"willis\", \"willodean\", \"willow\", \"willy\", \"wilma\", \"wilmer\", \"wilson\", \"wilton\", \"windy\", \"winford\", \"winfred\", \"winifred\", \"winnie\", \"winnifred\", \"winona\", \"winston\", \"winter\", \"with\", \"within\", \"without\", \"wm\", \"wonda\", \"wont\", \"woodrow\", \"words\", \"wouldnt\", \"wyatt\", \"wynell\", \"wynona\", \"x\", \"xavier\", \"xenia\", \"xiao\", \"xiomara\", \"xochitl\", \"xuan\", \"y\", \"yadira\", \"yaeko\", \"yael\", \"yahaira\", \"yajaira\", \"yan\", \"yang\", \"yanira\", \"yasmin\", \"yasmine\", \"yasuko\", \"yee\", \"yelena\", \"yen\", \"yer\", \"yes\", \"yesenia\", \"yessenia\", \"yet\", \"yetta\", \"yevette\", \"yi\", \"ying\", \"yoko\", \"yolanda\", \"yolande\", \"yolando\", \"yolonda\", \"yon\", \"yong\", \"yoshie\", \"yoshiko\", \"you\", \"youd\", \"youlanda\", \"youll\", \"young\", \"your\", \"youre\", \"yours\", \"yourself\", \"yourselves\", \"youve\", \"yu\", \"yuette\", \"yuk\", \"yuki\", \"yukiko\", \"yuko\", \"yulanda\", \"yun\", \"yung\", \"yuonne\", \"yuri\", \"yuriko\", \"yvette\", \"yvone\", \"yvonne\", \"z\", \"zachariah\", \"zachary\", \"zachery\", \"zack\", \"zackary\", \"zada\", \"zaida\", \"zana\", \"zandra\", \"zane\", \"zelda\", \"zella\", \"zelma\", \"zena\", \"zenaida\", \"zenia\", \"zenobia\", \"zetta\", \"zina\", \"zita\", \"zoe\", \"zofia\", \"zoila\", \"zola\", \"zona\", \"zonia\", \"zora\", \"zoraida\", \"zula\", \"zulema\", \"zulma\"])"
      ],
      "execution_count": 0,
      "outputs": []
    },
    {
      "cell_type": "code",
      "metadata": {
        "id": "RURy-MC_KjGI",
        "colab_type": "code",
        "colab": {}
      },
      "source": [
        "import re\n",
        "def preprocess(x):\n",
        "    x = re.sub('[^a-z\\s]', '', x.lower())                  # get rid of noise\n",
        "    x = [w for w in x.split() if w not in stop_words] # remove stopwords\n",
        "    return ' '.join(x) \n",
        "\n",
        "books['SData'] = books['data'].apply(preprocess)\n"
      ],
      "execution_count": 0,
      "outputs": []
    },
    {
      "cell_type": "code",
      "metadata": {
        "id": "m7-LWZ7QGIIh",
        "colab_type": "code",
        "colab": {}
      },
      "source": [
        "books['SData'] = books['SData'].str.replace('\\d+', '') #remove numeric"
      ],
      "execution_count": 0,
      "outputs": []
    },
    {
      "cell_type": "code",
      "metadata": {
        "id": "EoBxMnKmGcs-",
        "colab_type": "code",
        "colab": {}
      },
      "source": [
        "books['SData'] = books['SData'].str.replace(r'\\b\\w\\b','').str.replace(r'\\s+', ' ') #removing single words"
      ],
      "execution_count": 0,
      "outputs": []
    },
    {
      "cell_type": "markdown",
      "metadata": {
        "id": "OGcGwPZGricH",
        "colab_type": "text"
      },
      "source": [
        "Geeting only verbs and nouns"
      ]
    },
    {
      "cell_type": "code",
      "metadata": {
        "id": "E5oZpK8o_QVN",
        "colab_type": "code",
        "colab": {}
      },
      "source": [
        "from nltk import word_tokenize, pos_tag, ne_chunk\n",
        "\n",
        "import spacy\n",
        "\n",
        "nlp = spacy.load('en' ,disable=['parser', 'ner'])\n",
        "nlp.max_length = 1500000\n",
        "def lemmatization(texts, allowed_postags=['ADJ', 'VERB', 'ADV']):\n",
        "   \n",
        "    texts_out = []\n",
        "    for sent in texts:\n",
        "        doc = nlp(\" \".join(sent)) \n",
        "        texts_out.append([token.lemma_ for token in doc if token.pos_ in allowed_postags])\n",
        "    return (texts_out)"
      ],
      "execution_count": 0,
      "outputs": []
    },
    {
      "cell_type": "code",
      "metadata": {
        "id": "noDuB6lZ_7XL",
        "colab_type": "code",
        "colab": {}
      },
      "source": [
        "books['SNData'] = lemmatization(books['SData'].apply(word_tokenize).tolist(), allowed_postags=['VERB', 'NOUN'])\n",
        "#books['SNData'] = lemmatization(books['SData'], allowed_postags=['VERB', 'NOUN']) #change allowed_tag for other tags to be included\n",
        "books['SNData'] = books['SNData'].str.join(' ')"
      ],
      "execution_count": 0,
      "outputs": []
    },
    {
      "cell_type": "code",
      "metadata": {
        "id": "7Svipffmh29d",
        "colab_type": "code",
        "colab": {}
      },
      "source": [
        "new_books = books[['FileNo','SNData', 'genre']]\n",
        "new_books.to_csv(\"books_base_line.csv\")"
      ],
      "execution_count": 0,
      "outputs": []
    },
    {
      "cell_type": "code",
      "metadata": {
        "id": "IWFwMh7Msz6O",
        "colab_type": "code",
        "colab": {}
      },
      "source": [
        "X , y = books['SNData'], books['genre']"
      ],
      "execution_count": 0,
      "outputs": []
    },
    {
      "cell_type": "code",
      "metadata": {
        "id": "O0VNvvM1dgCu",
        "colab_type": "code",
        "colab": {
          "base_uri": "https://localhost:8080/",
          "height": 34
        },
        "outputId": "50726db6-7a95-439c-c073-0d0f6753a855"
      },
      "source": [
        "len(books['SNData'][0])"
      ],
      "execution_count": 88,
      "outputs": [
        {
          "output_type": "execute_result",
          "data": {
            "text/plain": [
              "23655"
            ]
          },
          "metadata": {
            "tags": []
          },
          "execution_count": 88
        }
      ]
    },
    {
      "cell_type": "code",
      "metadata": {
        "id": "w1cU7LslhDp3",
        "colab_type": "code",
        "colab": {
          "base_uri": "https://localhost:8080/",
          "height": 34
        },
        "outputId": "a56dab8a-e9d3-4fc5-8d7b-7b4f2d059a6b"
      },
      "source": [
        "len(books['SData'][0])"
      ],
      "execution_count": 89,
      "outputs": [
        {
          "output_type": "execute_result",
          "data": {
            "text/plain": [
              "32353"
            ]
          },
          "metadata": {
            "tags": []
          },
          "execution_count": 89
        }
      ]
    },
    {
      "cell_type": "markdown",
      "metadata": {
        "id": "7xUlXXD0r1I8",
        "colab_type": "text"
      },
      "source": [
        "**Create pipleline**"
      ]
    },
    {
      "cell_type": "code",
      "metadata": {
        "scrolled": true,
        "id": "bpqgCvk0r_h3",
        "colab_type": "code",
        "colab": {}
      },
      "source": [
        "\"\"\" calling base line and balanced accuracy compariosn by making it in impbalance for better comparision\"\"\"\n",
        "\n",
        "\"\"\" Making classification using pipline with only bag of words to check the under sampling effect\"\"\"\n",
        "\n",
        "\"\"\" This fucntion basically cna be called from any pipline with hold out method, hence callling this for various sampling techniques\"\"\"\n",
        "\n",
        "from sklearn.naive_bayes import MultinomialNB\n",
        "from sklearn.pipeline import Pipeline\n",
        "from sklearn.feature_extraction.text import TfidfVectorizer\n",
        "from nltk.corpus import stopwords\n",
        "\n",
        "from sklearn.model_selection import train_test_split\n",
        "import time\n",
        "import seaborn as sns\n",
        "from sklearn.metrics import confusion_matrix\n",
        "import matplotlib.pyplot as plt\n",
        "from sklearn.metrics import classification_report\n",
        "import pandas as pd\n",
        "from sklearn.metrics import balanced_accuracy_score\n",
        "from collections import Counter\n",
        "\n",
        "def eve_clf(classifier, X, y , df_scores, clf_name=None):\n",
        "    start = time.time()\n",
        "    X_train, X_test, y_train, y_test = train_test_split(X, y, test_size=0.2, random_state=11)\n",
        "\n",
        "    classifier.fit(X_train, y_train)\n",
        "    end = time.time()\n",
        "    acc =classifier.score(X_test, y_test)\n",
        "\n",
        "    print(\"Accuracy: \" + str(classifier.score(X_test, y_test)) + \", Time duration: \" + str(end - start))\n",
        "    print('Changed dataset shape y_train %s' % Counter(y_train))\n",
        "    print('Changed dataset shape y_test %s' % Counter(y_test))\n",
        "    y_pred = classifier.predict(X_test)\n",
        "    conf_mat = confusion_matrix(y_test, y_pred)\n",
        "    #balanced accuracy\n",
        "    bal_acc = balanced_accuracy_score(y_test, y_pred)\n",
        "    clf_score = pd.DataFrame(\n",
        "        {clf_name: [acc, bal_acc]},\n",
        "        index=['Accuracy', 'Balanced accuracy']\n",
        "    )\n",
        "    \n",
        "    # Plot confusion_matrix\n",
        "    fig, ax = plt.subplots(figsize=(15, 10))\n",
        "    sns.heatmap(conf_mat, annot=True, cmap = \"Set3\", fmt =\"d\",\n",
        "    xticklabels=books.genre.unique(), yticklabels=books.genre.unique())\n",
        "    plt.ylabel('Actual')\n",
        "    plt.xlabel('Predicted')\n",
        "    plt.show()\n",
        "    \n",
        "    print(classification_report(y_test, y_pred))\n",
        "    df_scores = pd.concat([df_scores, clf_score], axis=1).round(decimals=3)\n",
        "    return df_scores\n",
        "\n",
        "df_scores = pd.DataFrame()\n",
        "\n"
      ],
      "execution_count": 0,
      "outputs": []
    },
    {
      "cell_type": "code",
      "metadata": {
        "id": "lLHDy8TvsvH3",
        "colab_type": "code",
        "colab": {
          "base_uri": "https://localhost:8080/",
          "height": 1000
        },
        "outputId": "7fa0f406-3254-4f02-c536-d3432da33ab2"
      },
      "source": [
        "#Calling with NB\n",
        "trial1 = Pipeline([ ('vectorizer', TfidfVectorizer(max_df = .10, stop_words=stopwords.words('english'))), ('classifier', MultinomialNB())])\n",
        "\n",
        "\n",
        "#It shall just give me over alla ccuracy and CM for bag of words approach in imbalaned data\n",
        "df_scores=eve_clf(trial1, X, y, df_scores,'NaiveBayes')\n",
        "print(df_scores)"
      ],
      "execution_count": 95,
      "outputs": [
        {
          "output_type": "stream",
          "text": [
            "Accuracy: 0.825, Time duration: 6.237918138504028\n",
            "Changed dataset shape y_train Counter({'Literary': 629, 'Detective and Mystery': 94, 'Sea and Adventure': 28, 'Love and Romance': 15, 'Western Stories': 14, 'Ghost and Horror': 6, 'Humorous and Wit and Satire': 4, 'Christmas Stories': 4, 'Allegories': 2})\n",
            "Changed dataset shape y_test Counter({'Literary': 165, 'Detective and Mystery': 17, 'Sea and Adventure': 8, 'Western Stories': 4, 'Love and Romance': 3, 'Humorous and Wit and Satire': 2, 'Christmas Stories': 1})\n"
          ],
          "name": "stdout"
        },
        {
          "output_type": "display_data",
          "data": {
            "image/png": "[encoded data removed]",
            "text/plain": [
              "<Figure size 1080x720 with 2 Axes>"
            ]
          },
          "metadata": {
            "tags": [],
            "needs_background": "light"
          }
        },
        {
          "output_type": "stream",
          "text": [
            "                             precision    recall  f1-score   support\n",
            "\n",
            "          Christmas Stories       0.00      0.00      0.00         1\n",
            "      Detective and Mystery       0.00      0.00      0.00        17\n",
            "Humorous and Wit and Satire       0.00      0.00      0.00         2\n",
            "                   Literary       0.82      1.00      0.90       165\n",
            "           Love and Romance       0.00      0.00      0.00         3\n",
            "          Sea and Adventure       0.00      0.00      0.00         8\n",
            "            Western Stories       0.00      0.00      0.00         4\n",
            "\n",
            "                   accuracy                           0.82       200\n",
            "                  macro avg       0.12      0.14      0.13       200\n",
            "               weighted avg       0.68      0.82      0.75       200\n",
            "\n",
            "                   NaiveBayes\n",
            "Accuracy                0.825\n",
            "Balanced accuracy       0.143\n"
          ],
          "name": "stdout"
        },
        {
          "output_type": "stream",
          "text": [
            "/usr/local/lib/python3.6/dist-packages/sklearn/metrics/_classification.py:1272: UndefinedMetricWarning: Precision and F-score are ill-defined and being set to 0.0 in labels with no predicted samples. Use `zero_division` parameter to control this behavior.\n",
            "  _warn_prf(average, modifier, msg_start, len(result))\n"
          ],
          "name": "stderr"
        }
      ]
    },
    {
      "cell_type": "code",
      "metadata": {
        "id": "7GKwRz9Pr_iF",
        "colab_type": "code",
        "outputId": "5e5feafc-e665-4c0b-bd67-e4e869b1267e",
        "colab": {
          "base_uri": "https://localhost:8080/",
          "height": 1000
        }
      },
      "source": [
        "\"\"\"Calling it with logistic regression\"\"\"\n",
        "\n",
        "from sklearn.linear_model import LogisticRegression\n",
        "\n",
        "trial2 = Pipeline([ ('vectorizer', TfidfVectorizer(max_df = .10,stop_words=stopwords.words('english'))), ('classifier', LogisticRegression())])\n",
        "\n",
        "#It shall just give me over alla ccuracy and CM for bag of words approach in imbalaned data\n",
        "df_scores=eve_clf(trial2, X, y, df_scores,'LR')\n",
        "print(df_scores)"
      ],
      "execution_count": 96,
      "outputs": [
        {
          "output_type": "stream",
          "text": [
            "Accuracy: 0.825, Time duration: 10.754167318344116\n",
            "Changed dataset shape y_train Counter({'Literary': 629, 'Detective and Mystery': 94, 'Sea and Adventure': 28, 'Love and Romance': 15, 'Western Stories': 14, 'Ghost and Horror': 6, 'Humorous and Wit and Satire': 4, 'Christmas Stories': 4, 'Allegories': 2})\n",
            "Changed dataset shape y_test Counter({'Literary': 165, 'Detective and Mystery': 17, 'Sea and Adventure': 8, 'Western Stories': 4, 'Love and Romance': 3, 'Humorous and Wit and Satire': 2, 'Christmas Stories': 1})\n"
          ],
          "name": "stdout"
        },
        {
          "output_type": "display_data",
          "data": {
            "image/png": "[encoded data removed]",
            "text/plain": [
              "<Figure size 1080x720 with 2 Axes>"
            ]
          },
          "metadata": {
            "tags": [],
            "needs_background": "light"
          }
        },
        {
          "output_type": "stream",
          "text": [
            "                             precision    recall  f1-score   support\n",
            "\n",
            "          Christmas Stories       0.00      0.00      0.00         1\n",
            "      Detective and Mystery       0.00      0.00      0.00        17\n",
            "Humorous and Wit and Satire       0.00      0.00      0.00         2\n",
            "                   Literary       0.82      1.00      0.90       165\n",
            "           Love and Romance       0.00      0.00      0.00         3\n",
            "          Sea and Adventure       0.00      0.00      0.00         8\n",
            "            Western Stories       0.00      0.00      0.00         4\n",
            "\n",
            "                   accuracy                           0.82       200\n",
            "                  macro avg       0.12      0.14      0.13       200\n",
            "               weighted avg       0.68      0.82      0.75       200\n",
            "\n",
            "                   NaiveBayes     LR\n",
            "Accuracy                0.825  0.825\n",
            "Balanced accuracy       0.143  0.143\n"
          ],
          "name": "stdout"
        },
        {
          "output_type": "stream",
          "text": [
            "/usr/local/lib/python3.6/dist-packages/sklearn/metrics/_classification.py:1272: UndefinedMetricWarning: Precision and F-score are ill-defined and being set to 0.0 in labels with no predicted samples. Use `zero_division` parameter to control this behavior.\n",
            "  _warn_prf(average, modifier, msg_start, len(result))\n"
          ],
          "name": "stderr"
        }
      ]
    }
  ]
}