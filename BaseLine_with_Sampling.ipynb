{
  "nbformat": 4,
  "nbformat_minor": 0,
  "metadata": {
    "colab": {
      "name": "BaseLine_with_Sampling.ipynb",
      "provenance": [],
      "collapsed_sections": [],
      "toc_visible": true,
      "authorship_tag": "ABX9TyMBiAfMn1BGbmWL3Vj4cgqV",
      "include_colab_link": true
    },
    "kernelspec": {
      "name": "python3",
      "display_name": "Python 3"
    }
  },
  "cells": [
    {
      "cell_type": "markdown",
      "metadata": {
        "id": "view-in-github",
        "colab_type": "text"
      },
      "source": [
        "<a href=\"https://colab.research.google.com/github/BlackCurrantDS/ATiML-Project/blob/master/BaseLine_with_Sampling.ipynb\" target=\"_parent\"><img src=\"https://colab.research.google.com/assets/colab-badge.svg\" alt=\"Open In Colab\"/></a>"
      ]
    },
    {
      "cell_type": "code",
      "metadata": {
        "id": "RpaYPmo7nfwK",
        "colab_type": "code",
        "colab": {}
      },
      "source": [
        "import pandas as pd\n",
        "books = pd.read_csv(\"books_base_line.csv\", index_col=0)"
      ],
      "execution_count": 0,
      "outputs": []
    },
    {
      "cell_type": "code",
      "metadata": {
        "id": "n3nBdLpOnpiE",
        "colab_type": "code",
        "colab": {}
      },
      "source": [
        "books.head(5)"
      ],
      "execution_count": 0,
      "outputs": []
    },
    {
      "cell_type": "code",
      "metadata": {
        "id": "oYJuq2-cRlKZ",
        "colab_type": "code",
        "outputId": "8930cb91-2c1b-4eec-ebe0-a78d042776f7",
        "colab": {
          "base_uri": "https://localhost:8080/",
          "height": 54
        }
      },
      "source": [
        "from collections import Counter\n",
        "print('Dataset shape %s' % Counter(books['genre']))"
      ],
      "execution_count": 9,
      "outputs": [
        {
          "output_type": "stream",
          "text": [
            "Dataset shape Counter({'Literary': 794, 'Detective and Mystery': 111, 'Sea and Adventure': 36, 'Love and Romance': 18, 'Western Stories': 18, 'Ghost and Horror': 6, 'Humorous and Wit and Satire': 6, 'Christmas Stories': 5, 'Allegories': 2})\n"
          ],
          "name": "stdout"
        }
      ]
    },
    {
      "cell_type": "code",
      "metadata": {
        "id": "bjj3xaRUIaa9",
        "colab_type": "code",
        "colab": {}
      },
      "source": [
        "classes = ['Literary']\n",
        "subset_literary  =books.loc[books['genre'].isin(classes)]"
      ],
      "execution_count": 0,
      "outputs": []
    },
    {
      "cell_type": "code",
      "metadata": {
        "id": "HllhYEcCXhab",
        "colab_type": "code",
        "colab": {}
      },
      "source": [
        "g=subset_literary[subset_literary.groupby('Author_Name')['FileNo'].count()>20]\n",
        "g=g.loc[g.values==True]\n",
        "len(g)\n",
        "#how many authors with single books =293\n",
        "#how many authors with more than 1 book = 137\n",
        "#how many authors with more than 2 books = 78\n",
        "# how many authors with more than 10 books = 3\n",
        "#how many authors with more than 15 books = 2 , more than 20 = 2"
      ],
      "execution_count": 0,
      "outputs": []
    },
    {
      "cell_type": "code",
      "metadata": {
        "id": "wd88zp1pkLUF",
        "colab_type": "code",
        "outputId": "fcbf11b1-f7d8-4610-cbb8-d3dcd584ac41",
        "colab": {
          "base_uri": "https://localhost:8080/",
          "height": 34
        }
      },
      "source": [
        "df2 = subset_literary.groupby('Author_Name')['FileNo'].filter(lambda g: g.count() ==1 )\n",
        "len(df2)"
      ],
      "execution_count": 0,
      "outputs": [
        {
          "output_type": "execute_result",
          "data": {
            "text/plain": [
              "293"
            ]
          },
          "metadata": {
            "tags": []
          },
          "execution_count": 65
        }
      ]
    },
    {
      "cell_type": "code",
      "metadata": {
        "id": "pmH0lNSCoo_d",
        "colab_type": "code",
        "outputId": "aff2d503-f048-4ca2-b6af-b47b40a11c5b",
        "colab": {
          "base_uri": "https://localhost:8080/",
          "height": 139
        }
      },
      "source": [
        "subset_literary['Count'] = subset_literary.groupby(['Author_Name'])['FileNo'].transform('count')"
      ],
      "execution_count": 0,
      "outputs": [
        {
          "output_type": "stream",
          "text": [
            "/usr/local/lib/python3.6/dist-packages/ipykernel_launcher.py:1: SettingWithCopyWarning: \n",
            "A value is trying to be set on a copy of a slice from a DataFrame.\n",
            "Try using .loc[row_indexer,col_indexer] = value instead\n",
            "\n",
            "See the caveats in the documentation: https://pandas.pydata.org/pandas-docs/stable/user_guide/indexing.html#returning-a-view-versus-a-copy\n",
            "  \"\"\"Entry point for launching an IPython kernel.\n"
          ],
          "name": "stderr"
        }
      ]
    },
    {
      "cell_type": "code",
      "metadata": {
        "id": "v4aWgG2Ho4gv",
        "colab_type": "code",
        "outputId": "62a15b63-05ca-4c51-eee7-23799a052492",
        "colab": {
          "base_uri": "https://localhost:8080/",
          "height": 238
        }
      },
      "source": [
        "subset_literary.head(5)"
      ],
      "execution_count": 0,
      "outputs": [
        {
          "output_type": "execute_result",
          "data": {
            "text/html": [
              "<div>\n",
              "<style scoped>\n",
              "    .dataframe tbody tr th:only-of-type {\n",
              "        vertical-align: middle;\n",
              "    }\n",
              "\n",
              "    .dataframe tbody tr th {\n",
              "        vertical-align: top;\n",
              "    }\n",
              "\n",
              "    .dataframe thead th {\n",
              "        text-align: right;\n",
              "    }\n",
              "</style>\n",
              "<table border=\"1\" class=\"dataframe\">\n",
              "  <thead>\n",
              "    <tr style=\"text-align: right;\">\n",
              "      <th></th>\n",
              "      <th>FileNo</th>\n",
              "      <th>data</th>\n",
              "      <th>genre</th>\n",
              "      <th>Author_Name</th>\n",
              "      <th>Book_Name</th>\n",
              "      <th>Count</th>\n",
              "    </tr>\n",
              "  </thead>\n",
              "  <tbody>\n",
              "    <tr>\n",
              "      <th>0</th>\n",
              "      <td>17390</td>\n",
              "      <td>E-text prepared by Al Haines\\nIt all depends u...</td>\n",
              "      <td>Literary</td>\n",
              "      <td>MacGrath| Harold</td>\n",
              "      <td>Hearts and Masks</td>\n",
              "      <td>6</td>\n",
              "    </tr>\n",
              "    <tr>\n",
              "      <th>1</th>\n",
              "      <td>15989</td>\n",
              "      <td>Arch Trevlyn had had a good day. Business had ...</td>\n",
              "      <td>Literary</td>\n",
              "      <td>Augusta| Clara</td>\n",
              "      <td>The Fatal Glove</td>\n",
              "      <td>1</td>\n",
              "    </tr>\n",
              "    <tr>\n",
              "      <th>2</th>\n",
              "      <td>36353</td>\n",
              "      <td>This work was the forerunner and, according to...</td>\n",
              "      <td>Literary</td>\n",
              "      <td>Paul| Jean</td>\n",
              "      <td>The Invisible Lodge</td>\n",
              "      <td>5</td>\n",
              "    </tr>\n",
              "    <tr>\n",
              "      <th>3</th>\n",
              "      <td>41963</td>\n",
              "      <td>\"EASTOVER COURT HOUSE.\" By Henry Burnham Boone...</td>\n",
              "      <td>Literary</td>\n",
              "      <td>Colton| Arthur</td>\n",
              "      <td>The Debatable Land: A Novel</td>\n",
              "      <td>1</td>\n",
              "    </tr>\n",
              "    <tr>\n",
              "      <th>4</th>\n",
              "      <td>426</td>\n",
              "      <td>Decorative graphic\\nJohn Varey Nicholson was s...</td>\n",
              "      <td>Literary</td>\n",
              "      <td>Stevenson| Robert Louis</td>\n",
              "      <td>Tales and Fantasies</td>\n",
              "      <td>1</td>\n",
              "    </tr>\n",
              "  </tbody>\n",
              "</table>\n",
              "</div>"
            ],
            "text/plain": [
              "   FileNo  ... Count\n",
              "0   17390  ...     6\n",
              "1   15989  ...     1\n",
              "2   36353  ...     5\n",
              "3   41963  ...     1\n",
              "4     426  ...     1\n",
              "\n",
              "[5 rows x 6 columns]"
            ]
          },
          "metadata": {
            "tags": []
          },
          "execution_count": 68
        }
      ]
    },
    {
      "cell_type": "code",
      "metadata": {
        "id": "T9hDliNfp1A5",
        "colab_type": "code",
        "outputId": "7119c3e6-1b49-409b-8bd1-78009d2ba046",
        "colab": {
          "base_uri": "https://localhost:8080/",
          "height": 235
        }
      },
      "source": [
        "subset_literary.loc[subset_literary['Author_Name'] == 'MacGrath| Harold']\n",
        "#df.loc[(df['column_name'] >= A) & (df['column_name'] <= B)]"
      ],
      "execution_count": 0,
      "outputs": [
        {
          "output_type": "execute_result",
          "data": {
            "text/html": [
              "<div>\n",
              "<style scoped>\n",
              "    .dataframe tbody tr th:only-of-type {\n",
              "        vertical-align: middle;\n",
              "    }\n",
              "\n",
              "    .dataframe tbody tr th {\n",
              "        vertical-align: top;\n",
              "    }\n",
              "\n",
              "    .dataframe thead th {\n",
              "        text-align: right;\n",
              "    }\n",
              "</style>\n",
              "<table border=\"1\" class=\"dataframe\">\n",
              "  <thead>\n",
              "    <tr style=\"text-align: right;\">\n",
              "      <th></th>\n",
              "      <th>FileNo</th>\n",
              "      <th>data</th>\n",
              "      <th>genre</th>\n",
              "      <th>Author_Name</th>\n",
              "      <th>Book_Name</th>\n",
              "      <th>Count</th>\n",
              "    </tr>\n",
              "  </thead>\n",
              "  <tbody>\n",
              "    <tr>\n",
              "      <th>0</th>\n",
              "      <td>17390</td>\n",
              "      <td>E-text prepared by Al Haines\\nIt all depends u...</td>\n",
              "      <td>Literary</td>\n",
              "      <td>MacGrath| Harold</td>\n",
              "      <td>Hearts and Masks</td>\n",
              "      <td>6</td>\n",
              "    </tr>\n",
              "    <tr>\n",
              "      <th>109</th>\n",
              "      <td>18443</td>\n",
              "      <td>E-text prepared by Al Haines\\nIt began somewhe...</td>\n",
              "      <td>Literary</td>\n",
              "      <td>MacGrath| Harold</td>\n",
              "      <td>Parrot &amp; Co.</td>\n",
              "      <td>6</td>\n",
              "    </tr>\n",
              "    <tr>\n",
              "      <th>238</th>\n",
              "      <td>17402</td>\n",
              "      <td>E-text prepared by Al Haines\\nUnder a canopied...</td>\n",
              "      <td>Literary</td>\n",
              "      <td>MacGrath| Harold</td>\n",
              "      <td>The Adventures of Kathlyn</td>\n",
              "      <td>6</td>\n",
              "    </tr>\n",
              "    <tr>\n",
              "      <th>750</th>\n",
              "      <td>15671</td>\n",
              "      <td>A blurring rain fell upon Paris that day; a ra...</td>\n",
              "      <td>Literary</td>\n",
              "      <td>MacGrath| Harold</td>\n",
              "      <td>A Splendid Hazard</td>\n",
              "      <td>6</td>\n",
              "    </tr>\n",
              "    <tr>\n",
              "      <th>768</th>\n",
              "      <td>4790</td>\n",
              "      <td>It was Warrington's invariable habit - when no...</td>\n",
              "      <td>Literary</td>\n",
              "      <td>MacGrath| Harold</td>\n",
              "      <td>Half a Rogue</td>\n",
              "      <td>6</td>\n",
              "    </tr>\n",
              "    <tr>\n",
              "      <th>839</th>\n",
              "      <td>22158</td>\n",
              "      <td>O'Mally told inimitable stories\\nShe deliberat...</td>\n",
              "      <td>Literary</td>\n",
              "      <td>MacGrath| Harold</td>\n",
              "      <td>The Lure of the Mask</td>\n",
              "      <td>6</td>\n",
              "    </tr>\n",
              "  </tbody>\n",
              "</table>\n",
              "</div>"
            ],
            "text/plain": [
              "     FileNo  ... Count\n",
              "0     17390  ...     6\n",
              "109   18443  ...     6\n",
              "238   17402  ...     6\n",
              "750   15671  ...     6\n",
              "768    4790  ...     6\n",
              "839   22158  ...     6\n",
              "\n",
              "[6 rows x 6 columns]"
            ]
          },
          "metadata": {
            "tags": []
          },
          "execution_count": 70
        }
      ]
    },
    {
      "cell_type": "code",
      "metadata": {
        "id": "7EST3SX1qwts",
        "colab_type": "code",
        "colab": {}
      },
      "source": [
        "books['Count'] = books.groupby([ 'genre','Author_Name'])['FileNo'].transform('count')"
      ],
      "execution_count": 0,
      "outputs": []
    },
    {
      "cell_type": "code",
      "metadata": {
        "id": "XViMCSJzq8ef",
        "colab_type": "code",
        "outputId": "9b347017-ac08-40b3-ac1e-ebbae7e61863",
        "colab": {
          "base_uri": "https://localhost:8080/",
          "height": 235
        }
      },
      "source": [
        "books.loc[(books['Author_Name'] == 'MacGrath| Harold') & (books['genre'] == 'Literary')]"
      ],
      "execution_count": 0,
      "outputs": [
        {
          "output_type": "execute_result",
          "data": {
            "text/html": [
              "<div>\n",
              "<style scoped>\n",
              "    .dataframe tbody tr th:only-of-type {\n",
              "        vertical-align: middle;\n",
              "    }\n",
              "\n",
              "    .dataframe tbody tr th {\n",
              "        vertical-align: top;\n",
              "    }\n",
              "\n",
              "    .dataframe thead th {\n",
              "        text-align: right;\n",
              "    }\n",
              "</style>\n",
              "<table border=\"1\" class=\"dataframe\">\n",
              "  <thead>\n",
              "    <tr style=\"text-align: right;\">\n",
              "      <th></th>\n",
              "      <th>FileNo</th>\n",
              "      <th>data</th>\n",
              "      <th>genre</th>\n",
              "      <th>Author_Name</th>\n",
              "      <th>Book_Name</th>\n",
              "      <th>Count</th>\n",
              "    </tr>\n",
              "  </thead>\n",
              "  <tbody>\n",
              "    <tr>\n",
              "      <th>0</th>\n",
              "      <td>17390</td>\n",
              "      <td>E-text prepared by Al Haines\\nIt all depends u...</td>\n",
              "      <td>Literary</td>\n",
              "      <td>MacGrath| Harold</td>\n",
              "      <td>Hearts and Masks</td>\n",
              "      <td>6</td>\n",
              "    </tr>\n",
              "    <tr>\n",
              "      <th>109</th>\n",
              "      <td>18443</td>\n",
              "      <td>E-text prepared by Al Haines\\nIt began somewhe...</td>\n",
              "      <td>Literary</td>\n",
              "      <td>MacGrath| Harold</td>\n",
              "      <td>Parrot &amp; Co.</td>\n",
              "      <td>6</td>\n",
              "    </tr>\n",
              "    <tr>\n",
              "      <th>238</th>\n",
              "      <td>17402</td>\n",
              "      <td>E-text prepared by Al Haines\\nUnder a canopied...</td>\n",
              "      <td>Literary</td>\n",
              "      <td>MacGrath| Harold</td>\n",
              "      <td>The Adventures of Kathlyn</td>\n",
              "      <td>6</td>\n",
              "    </tr>\n",
              "    <tr>\n",
              "      <th>750</th>\n",
              "      <td>15671</td>\n",
              "      <td>A blurring rain fell upon Paris that day; a ra...</td>\n",
              "      <td>Literary</td>\n",
              "      <td>MacGrath| Harold</td>\n",
              "      <td>A Splendid Hazard</td>\n",
              "      <td>6</td>\n",
              "    </tr>\n",
              "    <tr>\n",
              "      <th>768</th>\n",
              "      <td>4790</td>\n",
              "      <td>It was Warrington's invariable habit - when no...</td>\n",
              "      <td>Literary</td>\n",
              "      <td>MacGrath| Harold</td>\n",
              "      <td>Half a Rogue</td>\n",
              "      <td>6</td>\n",
              "    </tr>\n",
              "    <tr>\n",
              "      <th>839</th>\n",
              "      <td>22158</td>\n",
              "      <td>O'Mally told inimitable stories\\nShe deliberat...</td>\n",
              "      <td>Literary</td>\n",
              "      <td>MacGrath| Harold</td>\n",
              "      <td>The Lure of the Mask</td>\n",
              "      <td>6</td>\n",
              "    </tr>\n",
              "  </tbody>\n",
              "</table>\n",
              "</div>"
            ],
            "text/plain": [
              "     FileNo  ... Count\n",
              "0     17390  ...     6\n",
              "109   18443  ...     6\n",
              "238   17402  ...     6\n",
              "750   15671  ...     6\n",
              "768    4790  ...     6\n",
              "839   22158  ...     6\n",
              "\n",
              "[6 rows x 6 columns]"
            ]
          },
          "metadata": {
            "tags": []
          },
          "execution_count": 73
        }
      ]
    },
    {
      "cell_type": "code",
      "metadata": {
        "id": "cBdSfNPjsYFj",
        "colab_type": "code",
        "outputId": "02a5579f-1b4f-4073-cf90-09b05ebd4a05",
        "colab": {
          "base_uri": "https://localhost:8080/",
          "height": 34
        }
      },
      "source": [
        "books.shape"
      ],
      "execution_count": 11,
      "outputs": [
        {
          "output_type": "execute_result",
          "data": {
            "text/plain": [
              "(996, 6)"
            ]
          },
          "metadata": {
            "tags": []
          },
          "execution_count": 11
        }
      ]
    },
    {
      "cell_type": "code",
      "metadata": {
        "id": "BW3gOAjNr5S9",
        "colab_type": "code",
        "colab": {}
      },
      "source": [
        "#new dataframe with filtered rows\n",
        "df_l = books[(books.Count == 1) & (books.genre == 'Literary')] #more than 1 there are 501 book, more than 2 , 383,more than 10"
      ],
      "execution_count": 0,
      "outputs": []
    },
    {
      "cell_type": "code",
      "metadata": {
        "id": "ZlVwRZSpslBF",
        "colab_type": "code",
        "outputId": "447ff770-14b5-4030-9627-b5ef49504b41",
        "colab": {
          "base_uri": "https://localhost:8080/",
          "height": 34
        }
      },
      "source": [
        "df_l.shape"
      ],
      "execution_count": 13,
      "outputs": [
        {
          "output_type": "execute_result",
          "data": {
            "text/plain": [
              "(293, 6)"
            ]
          },
          "metadata": {
            "tags": []
          },
          "execution_count": 13
        }
      ]
    },
    {
      "cell_type": "code",
      "metadata": {
        "id": "NJu3CrI29hra",
        "colab_type": "code",
        "colab": {}
      },
      "source": [
        "lit_sampled = df_l.sample(40)"
      ],
      "execution_count": 0,
      "outputs": []
    },
    {
      "cell_type": "code",
      "metadata": {
        "id": "0D0GCeCKs-n2",
        "colab_type": "code",
        "outputId": "ed002b65-fa46-4312-c876-0f9260fd1db9",
        "colab": {
          "base_uri": "https://localhost:8080/",
          "height": 80
        }
      },
      "source": [
        "df_l.loc[df['Author_Name'] == 'MacGrath| Harold']"
      ],
      "execution_count": 0,
      "outputs": [
        {
          "output_type": "execute_result",
          "data": {
            "text/html": [
              "<div>\n",
              "<style scoped>\n",
              "    .dataframe tbody tr th:only-of-type {\n",
              "        vertical-align: middle;\n",
              "    }\n",
              "\n",
              "    .dataframe tbody tr th {\n",
              "        vertical-align: top;\n",
              "    }\n",
              "\n",
              "    .dataframe thead th {\n",
              "        text-align: right;\n",
              "    }\n",
              "</style>\n",
              "<table border=\"1\" class=\"dataframe\">\n",
              "  <thead>\n",
              "    <tr style=\"text-align: right;\">\n",
              "      <th></th>\n",
              "      <th>FileNo</th>\n",
              "      <th>data</th>\n",
              "      <th>genre</th>\n",
              "      <th>Author_Name</th>\n",
              "      <th>Book_Name</th>\n",
              "      <th>Count</th>\n",
              "    </tr>\n",
              "  </thead>\n",
              "  <tbody>\n",
              "    <tr>\n",
              "      <th>651</th>\n",
              "      <td>17359</td>\n",
              "      <td>E-text prepared by Al Haines\\nA Romance\\nHAROL...</td>\n",
              "      <td>Love and Romance</td>\n",
              "      <td>MacGrath| Harold</td>\n",
              "      <td>Arms and the Woman</td>\n",
              "      <td>1</td>\n",
              "    </tr>\n",
              "  </tbody>\n",
              "</table>\n",
              "</div>"
            ],
            "text/plain": [
              "     FileNo  ... Count\n",
              "651   17359  ...     1\n",
              "\n",
              "[1 rows x 6 columns]"
            ]
          },
          "metadata": {
            "tags": []
          },
          "execution_count": 78
        }
      ]
    },
    {
      "cell_type": "code",
      "metadata": {
        "id": "QBVPvZO-wGN9",
        "colab_type": "code",
        "colab": {}
      },
      "source": [
        "deduc_sampled = books[(books.Count ==1) & (books.genre == 'Detective and Mystery')]"
      ],
      "execution_count": 0,
      "outputs": []
    },
    {
      "cell_type": "code",
      "metadata": {
        "id": "1q_0kDHGwRUQ",
        "colab_type": "code",
        "outputId": "ef25f39f-473e-4934-c98d-fe36de64a66f",
        "colab": {
          "base_uri": "https://localhost:8080/",
          "height": 34
        }
      },
      "source": [
        "deduc_sampled.shape"
      ],
      "execution_count": 17,
      "outputs": [
        {
          "output_type": "execute_result",
          "data": {
            "text/plain": [
              "(34, 6)"
            ]
          },
          "metadata": {
            "tags": []
          },
          "execution_count": 17
        }
      ]
    },
    {
      "cell_type": "code",
      "metadata": {
        "id": "63tKsOHI-Pz-",
        "colab_type": "code",
        "colab": {}
      },
      "source": [
        "classes = ['Literary', 'Detective and Mystery']\n",
        "rest_subset  =books.loc[~books['genre'].isin(classes)] #df[~df['countries'].isin(c1)]"
      ],
      "execution_count": 0,
      "outputs": []
    },
    {
      "cell_type": "code",
      "metadata": {
        "id": "VaX1Di1kwtBu",
        "colab_type": "code",
        "colab": {}
      },
      "source": [
        "under_sampled_books  = pd.concat([deduc_sampled,lit_sampled,rest_subset])"
      ],
      "execution_count": 0,
      "outputs": []
    },
    {
      "cell_type": "code",
      "metadata": {
        "id": "cc08cDt9_aRO",
        "colab_type": "code",
        "colab": {
          "base_uri": "https://localhost:8080/",
          "height": 34
        },
        "outputId": "3b1ef589-5ec1-41b3-c44e-c49cca57d222"
      },
      "source": [
        "under_sampled_books.shape"
      ],
      "execution_count": 21,
      "outputs": [
        {
          "output_type": "execute_result",
          "data": {
            "text/plain": [
              "(165, 6)"
            ]
          },
          "metadata": {
            "tags": []
          },
          "execution_count": 21
        }
      ]
    },
    {
      "cell_type": "code",
      "metadata": {
        "id": "cb-unLyH_hQu",
        "colab_type": "code",
        "colab": {
          "base_uri": "https://localhost:8080/",
          "height": 54
        },
        "outputId": "129fc2cc-e4eb-4596-e27b-3a30a2b39803"
      },
      "source": [
        "from collections import Counter\n",
        "print('Dataset shape %s' % Counter(under_sampled_books['genre']))"
      ],
      "execution_count": 22,
      "outputs": [
        {
          "output_type": "stream",
          "text": [
            "Dataset shape Counter({'Literary': 40, 'Sea and Adventure': 36, 'Detective and Mystery': 34, 'Love and Romance': 18, 'Western Stories': 18, 'Ghost and Horror': 6, 'Humorous and Wit and Satire': 6, 'Christmas Stories': 5, 'Allegories': 2})\n"
          ],
          "name": "stdout"
        }
      ]
    },
    {
      "cell_type": "code",
      "metadata": {
        "id": "ymh1hykqtHhi",
        "colab_type": "code",
        "outputId": "e46656b5-7447-4a62-a044-538d346f834e",
        "colab": {
          "base_uri": "https://localhost:8080/",
          "height": 433
        }
      },
      "source": [
        "#Plotting number of authors per gerne\n",
        "import matplotlib.pyplot as plt\n",
        "df.groupby('genre')['FileNo'].count().plot(kind = 'bar')\n",
        "plt.show()\n",
        "plt.clf()"
      ],
      "execution_count": 0,
      "outputs": [
        {
          "output_type": "display_data",
          "data": {
            "image/png": "[encoded data removed]",
            "text/plain": [
              "<Figure size 432x288 with 1 Axes>"
            ]
          },
          "metadata": {
            "tags": [],
            "needs_background": "light"
          }
        },
        {
          "output_type": "display_data",
          "data": {
            "text/plain": [
              "<Figure size 432x288 with 0 Axes>"
            ]
          },
          "metadata": {
            "tags": []
          }
        }
      ]
    },
    {
      "cell_type": "code",
      "metadata": {
        "id": "g06-MFXxQNXE",
        "colab_type": "code",
        "outputId": "75812a6d-0902-4664-8f65-fc5b2a16d5eb",
        "colab": {
          "base_uri": "https://localhost:8080/",
          "height": 491
        }
      },
      "source": [
        "#Plotting number of authors per gerne\n",
        "import matplotlib.pyplot as plt\n",
        "subset_literary.groupby('Author_Name')['FileNo'].count().nlargest(100).plot(kind = 'bar')\n",
        "plt.show()\n",
        "plt.clf()"
      ],
      "execution_count": 0,
      "outputs": [
        {
          "output_type": "display_data",
          "data": {
            "image/png": "[encoded data removed]",
            "text/plain": [
              "<Figure size 432x288 with 1 Axes>"
            ]
          },
          "metadata": {
            "tags": [],
            "needs_background": "light"
          }
        },
        {
          "output_type": "display_data",
          "data": {
            "text/plain": [
              "<Figure size 432x288 with 0 Axes>"
            ]
          },
          "metadata": {
            "tags": []
          }
        }
      ]
    },
    {
      "cell_type": "markdown",
      "metadata": {
        "id": "UCqVdpHzorfz",
        "colab_type": "text"
      },
      "source": [
        "**Trying Random undersampling**"
      ]
    },
    {
      "cell_type": "code",
      "metadata": {
        "id": "BCYdp_eTJTSl",
        "colab_type": "code",
        "colab": {}
      },
      "source": [
        "subset.head(5)"
      ],
      "execution_count": 0,
      "outputs": []
    },
    {
      "cell_type": "code",
      "metadata": {
        "id": "Fb083r1zAmyi",
        "colab_type": "code",
        "colab": {}
      },
      "source": [
        "X, y  = subset['data'], subset['genre']"
      ],
      "execution_count": 0,
      "outputs": []
    },
    {
      "cell_type": "code",
      "metadata": {
        "id": "W_JC5nYHovhY",
        "colab_type": "code",
        "colab": {}
      },
      "source": [
        "from imblearn.under_sampling import RandomUnderSampler #it crashes if used all together hecne splitting it\n",
        "res = RandomUnderSampler('majority')\n",
        "X_res, y_res = res.fit_resample(X,y)\n",
        "print('Resampled dataset shape %s' % Counter(y_res)) "
      ],
      "execution_count": 0,
      "outputs": []
    },
    {
      "cell_type": "markdown",
      "metadata": {
        "id": "-RHofyMLBVuk",
        "colab_type": "text"
      },
      "source": [
        "**Trying random oversampling**"
      ]
    },
    {
      "cell_type": "code",
      "metadata": {
        "id": "dJwOP5LH_wW-",
        "colab_type": "code",
        "colab": {}
      },
      "source": [
        "X, y  = under_sampled_books['data'], under_sampled_books['genre']"
      ],
      "execution_count": 0,
      "outputs": []
    },
    {
      "cell_type": "code",
      "metadata": {
        "id": "WjWSDnN2GXBk",
        "colab_type": "code",
        "colab": {}
      },
      "source": [
        "classes = ['Detective and Mystery','Love and Romance','Christmas Stories','Allegories', 'Western Stories', 'Ghost and Horror', 'Humorous and Wit and Satire']\n",
        "# 'Detective and Mystery','Love and Romance','Western Stories','Ghost and Horror','Humorous and Wit and Satire',\n",
        "subset_for_over  =under_sampled_books.loc[under_sampled_books['genre'].isin(classes)]"
      ],
      "execution_count": 0,
      "outputs": []
    },
    {
      "cell_type": "code",
      "metadata": {
        "id": "ktXUIM3JHKQk",
        "colab_type": "code",
        "colab": {}
      },
      "source": [
        "X, y  = subset_for_over['data'], subset_for_over['genre']"
      ],
      "execution_count": 0,
      "outputs": []
    },
    {
      "cell_type": "code",
      "metadata": {
        "id": "uMV8dq45BTkq",
        "colab_type": "code",
        "colab": {
          "base_uri": "https://localhost:8080/",
          "height": 88
        },
        "outputId": "bf5e9feb-6431-45f7-d531-0d0c7aa15c2e"
      },
      "source": [
        "from imblearn.over_sampling import RandomOverSampler\n",
        "res = RandomOverSampler()\n",
        "X = X.values.reshape(-1,1)\n",
        "X_res_over, y_res_over = res.fit_resample(X, y)\n",
        "print('Resampled dataset shape %s' % Counter(y_res_over))"
      ],
      "execution_count": 80,
      "outputs": [
        {
          "output_type": "stream",
          "text": [
            "Resampled dataset shape Counter({'Detective and Mystery': 34, 'Love and Romance': 34, 'Christmas Stories': 34, 'Western Stories': 34, 'Ghost and Horror': 34, 'Humorous and Wit and Satire': 34, 'Allegories': 34})\n"
          ],
          "name": "stdout"
        },
        {
          "output_type": "stream",
          "text": [
            "/usr/local/lib/python3.6/dist-packages/sklearn/utils/deprecation.py:87: FutureWarning: Function safe_indexing is deprecated; safe_indexing is deprecated in version 0.22 and will be removed in version 0.24.\n",
            "  warnings.warn(msg, category=FutureWarning)\n"
          ],
          "name": "stderr"
        }
      ]
    },
    {
      "cell_type": "code",
      "metadata": {
        "id": "eUkRhaKjSb7G",
        "colab_type": "code",
        "colab": {}
      },
      "source": [
        "dataset = pd.DataFrame({'genre': y_res_over, 'data': X_res_over.ravel()})"
      ],
      "execution_count": 0,
      "outputs": []
    },
    {
      "cell_type": "code",
      "metadata": {
        "id": "3WFkLUnjS0s0",
        "colab_type": "code",
        "colab": {}
      },
      "source": [
        "dataset.dtypes"
      ],
      "execution_count": 0,
      "outputs": []
    },
    {
      "cell_type": "code",
      "metadata": {
        "id": "rCGz_QMxVrMC",
        "colab_type": "code",
        "colab": {
          "base_uri": "https://localhost:8080/",
          "height": 34
        },
        "outputId": "f6768c74-1ed5-452e-f01e-99fec8459fa0"
      },
      "source": [
        "type(dataset)"
      ],
      "execution_count": 140,
      "outputs": [
        {
          "output_type": "execute_result",
          "data": {
            "text/plain": [
              "pandas.core.frame.DataFrame"
            ]
          },
          "metadata": {
            "tags": []
          },
          "execution_count": 140
        }
      ]
    },
    {
      "cell_type": "code",
      "metadata": {
        "id": "WQZ8FPiISj29",
        "colab_type": "code",
        "colab": {}
      },
      "source": [
        "dataset.head(2)"
      ],
      "execution_count": 0,
      "outputs": []
    },
    {
      "cell_type": "code",
      "metadata": {
        "id": "CNnuXl0LUUW6",
        "colab_type": "code",
        "colab": {}
      },
      "source": [
        "dataset.loc[dataset['genre'] == 'Allegories']"
      ],
      "execution_count": 0,
      "outputs": []
    },
    {
      "cell_type": "code",
      "metadata": {
        "id": "HLnvXOF-VJTY",
        "colab_type": "code",
        "colab": {}
      },
      "source": [
        "classes = ['Detective and Mystery','Love and Romance','Christmas Stories','Allegories', 'Western Stories', 'Ghost and Horror', 'Humorous and Wit and Satire']\n",
        "subset_after_over  =under_sampled_books.loc[~under_sampled_books['genre'].isin(classes)]"
      ],
      "execution_count": 0,
      "outputs": []
    },
    {
      "cell_type": "code",
      "metadata": {
        "id": "7Ur7DNbAWKY9",
        "colab_type": "code",
        "colab": {}
      },
      "source": [
        "subset_after_over = subset_after_over[['genre', 'data']]"
      ],
      "execution_count": 0,
      "outputs": []
    },
    {
      "cell_type": "code",
      "metadata": {
        "id": "VznQKTD3VwGJ",
        "colab_type": "code",
        "colab": {
          "base_uri": "https://localhost:8080/",
          "height": 34
        },
        "outputId": "1b7dc111-d453-4ae8-d3af-607ea24c5691"
      },
      "source": [
        "type(subset_after_over)"
      ],
      "execution_count": 141,
      "outputs": [
        {
          "output_type": "execute_result",
          "data": {
            "text/plain": [
              "pandas.core.frame.DataFrame"
            ]
          },
          "metadata": {
            "tags": []
          },
          "execution_count": 141
        }
      ]
    },
    {
      "cell_type": "code",
      "metadata": {
        "id": "41fLTdftU8bE",
        "colab_type": "code",
        "colab": {}
      },
      "source": [
        "over_sampled = pd.concat([dataset,subset_after_over] )"
      ],
      "execution_count": 0,
      "outputs": []
    },
    {
      "cell_type": "code",
      "metadata": {
        "id": "2VqVA2GYV9rX",
        "colab_type": "code",
        "colab": {
          "base_uri": "https://localhost:8080/",
          "height": 34
        },
        "outputId": "6cd100fa-3d5f-4d89-f7b8-d0d7e457ca39"
      },
      "source": [
        "over_sampled.shape"
      ],
      "execution_count": 147,
      "outputs": [
        {
          "output_type": "execute_result",
          "data": {
            "text/plain": [
              "(314, 2)"
            ]
          },
          "metadata": {
            "tags": []
          },
          "execution_count": 147
        }
      ]
    },
    {
      "cell_type": "code",
      "metadata": {
        "id": "w6iJMycRWAoL",
        "colab_type": "code",
        "colab": {
          "base_uri": "https://localhost:8080/",
          "height": 204
        },
        "outputId": "569343f5-17ce-48ba-e0a1-5ee99c1fdd9e"
      },
      "source": [
        "over_sampled.head(5)"
      ],
      "execution_count": 148,
      "outputs": [
        {
          "output_type": "execute_result",
          "data": {
            "text/html": [
              "<div>\n",
              "<style scoped>\n",
              "    .dataframe tbody tr th:only-of-type {\n",
              "        vertical-align: middle;\n",
              "    }\n",
              "\n",
              "    .dataframe tbody tr th {\n",
              "        vertical-align: top;\n",
              "    }\n",
              "\n",
              "    .dataframe thead th {\n",
              "        text-align: right;\n",
              "    }\n",
              "</style>\n",
              "<table border=\"1\" class=\"dataframe\">\n",
              "  <thead>\n",
              "    <tr style=\"text-align: right;\">\n",
              "      <th></th>\n",
              "      <th>genre</th>\n",
              "      <th>data</th>\n",
              "    </tr>\n",
              "  </thead>\n",
              "  <tbody>\n",
              "    <tr>\n",
              "      <th>0</th>\n",
              "      <td>Detective and Mystery</td>\n",
              "      <td>\"As a recounter of stories of mingled mystery ...</td>\n",
              "    </tr>\n",
              "    <tr>\n",
              "      <th>1</th>\n",
              "      <td>Detective and Mystery</td>\n",
              "      <td>The dull October afternoon was rapidly drawing...</td>\n",
              "    </tr>\n",
              "    <tr>\n",
              "      <th>2</th>\n",
              "      <td>Detective and Mystery</td>\n",
              "      <td>It was Carnival time in the ancient and once i...</td>\n",
              "    </tr>\n",
              "    <tr>\n",
              "      <th>3</th>\n",
              "      <td>Detective and Mystery</td>\n",
              "      <td>Certain portions of England yet remain undisco...</td>\n",
              "    </tr>\n",
              "    <tr>\n",
              "      <th>4</th>\n",
              "      <td>Detective and Mystery</td>\n",
              "      <td>Hearing the sound of lightly-falling footsteps...</td>\n",
              "    </tr>\n",
              "  </tbody>\n",
              "</table>\n",
              "</div>"
            ],
            "text/plain": [
              "                   genre                                               data\n",
              "0  Detective and Mystery  \"As a recounter of stories of mingled mystery ...\n",
              "1  Detective and Mystery  The dull October afternoon was rapidly drawing...\n",
              "2  Detective and Mystery  It was Carnival time in the ancient and once i...\n",
              "3  Detective and Mystery  Certain portions of England yet remain undisco...\n",
              "4  Detective and Mystery  Hearing the sound of lightly-falling footsteps..."
            ]
          },
          "metadata": {
            "tags": []
          },
          "execution_count": 148
        }
      ]
    },
    {
      "cell_type": "code",
      "metadata": {
        "id": "mIva8Cb7WbC2",
        "colab_type": "code",
        "colab": {
          "base_uri": "https://localhost:8080/",
          "height": 54
        },
        "outputId": "fb869d80-28e7-4970-9bb9-de75ca150722"
      },
      "source": [
        "from collections import Counter\n",
        "print('Dataset shape %s' % Counter(over_sampled['genre']))"
      ],
      "execution_count": 149,
      "outputs": [
        {
          "output_type": "stream",
          "text": [
            "Dataset shape Counter({'Literary': 40, 'Sea and Adventure': 36, 'Detective and Mystery': 34, 'Love and Romance': 34, 'Christmas Stories': 34, 'Western Stories': 34, 'Ghost and Horror': 34, 'Humorous and Wit and Satire': 34, 'Allegories': 34})\n"
          ],
          "name": "stdout"
        }
      ]
    },
    {
      "cell_type": "markdown",
      "metadata": {
        "id": "43oSokT_oQcD",
        "colab_type": "text"
      },
      "source": [
        "**Cleaning and preprocessing for BOW**"
      ]
    },
    {
      "cell_type": "code",
      "metadata": {
        "id": "4uUk5Ran4-uy",
        "colab_type": "code",
        "outputId": "04f6ff86-302b-4c02-8ebd-a11ef9c45aad",
        "colab": {
          "base_uri": "https://localhost:8080/",
          "height": 204
        }
      },
      "source": [
        "import nltk\n",
        "nltk.download('stopwords')\n",
        "import nltk\n",
        "nltk.download('punkt')\n",
        "import nltk\n",
        "nltk.download('averaged_perceptron_tagger')\n",
        "import nltk\n",
        "nltk.download('wordnet')"
      ],
      "execution_count": 150,
      "outputs": [
        {
          "output_type": "stream",
          "text": [
            "[nltk_data] Downloading package stopwords to /root/nltk_data...\n",
            "[nltk_data]   Package stopwords is already up-to-date!\n",
            "[nltk_data] Downloading package punkt to /root/nltk_data...\n",
            "[nltk_data]   Package punkt is already up-to-date!\n",
            "[nltk_data] Downloading package averaged_perceptron_tagger to\n",
            "[nltk_data]     /root/nltk_data...\n",
            "[nltk_data]   Package averaged_perceptron_tagger is already up-to-\n",
            "[nltk_data]       date!\n",
            "[nltk_data] Downloading package wordnet to /root/nltk_data...\n",
            "[nltk_data]   Package wordnet is already up-to-date!\n"
          ],
          "name": "stdout"
        },
        {
          "output_type": "execute_result",
          "data": {
            "text/plain": [
              "True"
            ]
          },
          "metadata": {
            "tags": []
          },
          "execution_count": 150
        }
      ]
    },
    {
      "cell_type": "code",
      "metadata": {
        "id": "ZsL2jeYs5J0O",
        "colab_type": "code",
        "colab": {
          "base_uri": "https://localhost:8080/",
          "height": 54
        },
        "outputId": "c7e69817-fd95-4af3-efa5-286b93cbeca3"
      },
      "source": [
        "from nltk.corpus import stopwords\n",
        "stop_words = nltk.corpus.stopwords.words('english')\n",
        "print(stop_words)"
      ],
      "execution_count": 151,
      "outputs": [
        {
          "output_type": "stream",
          "text": [
            "['i', 'me', 'my', 'myself', 'we', 'our', 'ours', 'ourselves', 'you', \"you're\", \"you've\", \"you'll\", \"you'd\", 'your', 'yours', 'yourself', 'yourselves', 'he', 'him', 'his', 'himself', 'she', \"she's\", 'her', 'hers', 'herself', 'it', \"it's\", 'its', 'itself', 'they', 'them', 'their', 'theirs', 'themselves', 'what', 'which', 'who', 'whom', 'this', 'that', \"that'll\", 'these', 'those', 'am', 'is', 'are', 'was', 'were', 'be', 'been', 'being', 'have', 'has', 'had', 'having', 'do', 'does', 'did', 'doing', 'a', 'an', 'the', 'and', 'but', 'if', 'or', 'because', 'as', 'until', 'while', 'of', 'at', 'by', 'for', 'with', 'about', 'against', 'between', 'into', 'through', 'during', 'before', 'after', 'above', 'below', 'to', 'from', 'up', 'down', 'in', 'out', 'on', 'off', 'over', 'under', 'again', 'further', 'then', 'once', 'here', 'there', 'when', 'where', 'why', 'how', 'all', 'any', 'both', 'each', 'few', 'more', 'most', 'other', 'some', 'such', 'no', 'nor', 'not', 'only', 'own', 'same', 'so', 'than', 'too', 'very', 's', 't', 'can', 'will', 'just', 'don', \"don't\", 'should', \"should've\", 'now', 'd', 'll', 'm', 'o', 're', 've', 'y', 'ain', 'aren', \"aren't\", 'couldn', \"couldn't\", 'didn', \"didn't\", 'doesn', \"doesn't\", 'hadn', \"hadn't\", 'hasn', \"hasn't\", 'haven', \"haven't\", 'isn', \"isn't\", 'ma', 'mightn', \"mightn't\", 'mustn', \"mustn't\", 'needn', \"needn't\", 'shan', \"shan't\", 'shouldn', \"shouldn't\", 'wasn', \"wasn't\", 'weren', \"weren't\", 'won', \"won't\", 'wouldn', \"wouldn't\"]\n"
          ],
          "name": "stdout"
        }
      ]
    },
    {
      "cell_type": "code",
      "metadata": {
        "id": "nED0gXSYNRVt",
        "colab_type": "code",
        "colab": {}
      },
      "source": [
        "stop_words.extend([\"0o\", \"0s\", \"3a\", \"3b\", \"3d\", \"6b\", \"6o\", \"a\", \"a1\", \"a2\", \"a3\", \"a4\", \"ab\", \"able\", \"about\", \"above\", \"abst\", \"ac\", \"accordance\", \"according\", \"accordingly\", \"across\", \"act\", \"actually\", \"ad\", \"added\", \"adj\", \"ae\", \"af\", \"affected\", \"affecting\", \"affects\", \"after\", \"afterwards\", \"ag\", \"again\", \"against\", \"ah\", \"ain\", \"ain't\", \"aj\", \"al\", \"all\", \"allow\", \"allows\", \"almost\", \"alone\", \"along\", \"already\", \"also\", \"although\", \"always\", \"am\", \"among\", \"amongst\", \"amoungst\", \"amount\", \"an\", \"and\", \"announce\", \"another\", \"any\", \"anybody\", \"anyhow\", \"anymore\", \"anyone\", \"anything\", \"anyway\", \"anyways\", \"anywhere\", \"ao\", \"ap\", \"apart\", \"apparently\", \"appear\", \"appreciate\", \"appropriate\", \"approximately\", \"ar\", \"are\", \"aren\", \"arent\", \"aren't\", \"arise\", \"around\", \"as\", \"a's\", \"aside\", \"ask\", \"asking\", \"associated\", \"at\", \"au\", \"auth\", \"av\", \"available\", \"aw\", \"away\", \"awfully\", \"ax\", \"ay\", \"az\", \"b\", \"b1\", \"b2\", \"b3\", \"ba\", \"back\", \"bc\", \"bd\", \"be\", \"became\", \"because\", \"become\", \"becomes\", \"becoming\", \"been\", \"before\", \"beforehand\", \"begin\", \"beginning\", \"beginnings\", \"begins\", \"behind\", \"being\", \"believe\", \"below\", \"beside\", \"besides\", \"best\", \"better\", \"between\", \"beyond\", \"bi\", \"bill\", \"biol\", \"bj\", \"bk\", \"bl\", \"bn\", \"both\", \"bottom\", \"bp\", \"br\", \"brief\", \"briefly\", \"bs\", \"bt\", \"bu\", \"but\", \"bx\", \"by\", \"c\", \"c1\", \"c2\", \"c3\", \"ca\", \"call\", \"came\", \"can\", \"cannot\", \"cant\", \"can't\", \"cause\", \"causes\", \"cc\", \"cd\", \"ce\", \"certain\", \"certainly\", \"cf\", \"cg\", \"ch\", \"changes\", \"ci\", \"cit\", \"cj\", \"cl\", \"clearly\", \"cm\", \"c'mon\", \"cn\", \"co\", \"com\", \"come\", \"comes\", \"con\", \"concerning\", \"consequently\", \"consider\", \"considering\", \"contain\", \"containing\", \"contains\", \"corresponding\", \"could\", \"couldn\", \"couldnt\", \"couldn't\", \"course\", \"cp\", \"cq\", \"cr\", \"cry\", \"cs\", \"c's\", \"ct\", \"cu\", \"currently\", \"cv\", \"cx\", \"cy\", \"cz\", \"d\", \"d2\", \"da\", \"date\", \"dc\", \"dd\", \"de\", \"definitely\", \"describe\", \"described\", \"despite\", \"detail\", \"df\", \"di\", \"did\", \"didn\", \"didn't\", \"different\", \"dj\", \"dk\", \"dl\", \"do\", \"does\", \"doesn\", \"doesn't\", \"doing\", \"don\", \"done\", \"don't\", \"down\", \"downwards\", \"dp\", \"dr\", \"ds\", \"dt\", \"du\", \"due\", \"during\", \"dx\", \"dy\", \"e\", \"e2\", \"e3\", \"ea\", \"each\", \"ec\", \"ed\", \"edu\", \"ee\", \"ef\", \"effect\", \"eg\", \"ei\", \"eight\", \"eighty\", \"either\", \"ej\", \"el\", \"eleven\", \"else\", \"elsewhere\", \"em\", \"empty\", \"en\", \"end\", \"ending\", \"enough\", \"entirely\", \"eo\", \"ep\", \"eq\", \"er\", \"es\", \"especially\", \"est\", \"et\", \"et-al\", \"etc\", \"eu\", \"ev\", \"even\", \"ever\", \"every\", \"everybody\", \"everyone\", \"everything\", \"everywhere\", \"ex\", \"exactly\", \"example\", \"except\", \"ey\", \"f\", \"f2\", \"fa\", \"far\", \"fc\", \"few\", \"ff\", \"fi\", \"fifteen\", \"fifth\", \"fify\", \"fill\", \"find\", \"fire\", \"first\", \"five\", \"fix\", \"fj\", \"fl\", \"fn\", \"fo\", \"followed\", \"following\", \"follows\", \"for\", \"former\", \"formerly\", \"forth\", \"forty\", \"found\", \"four\", \"fr\", \"from\", \"front\", \"fs\", \"ft\", \"fu\", \"full\", \"further\", \"furthermore\", \"fy\", \"g\", \"ga\", \"gave\", \"ge\", \"get\", \"gets\", \"getting\", \"gi\", \"give\", \"given\", \"gives\", \"giving\", \"gj\", \"gl\", \"go\", \"goes\", \"going\", \"gone\", \"got\", \"gotten\", \"gr\", \"greetings\", \"gs\", \"gy\", \"h\", \"h2\", \"h3\", \"had\", \"hadn\", \"hadn't\", \"happens\", \"hardly\", \"has\", \"hasn\", \"hasnt\", \"hasn't\", \"have\", \"haven\", \"haven't\", \"having\", \"he\", \"hed\", \"he'd\", \"he'll\", \"hello\", \"help\", \"hence\", \"her\", \"here\", \"hereafter\", \"hereby\", \"herein\", \"heres\", \"here's\", \"hereupon\", \"hers\", \"herself\", \"hes\", \"he's\", \"hh\", \"hi\", \"hid\", \"him\", \"himself\", \"his\", \"hither\", \"hj\", \"ho\", \"home\", \"hopefully\", \"how\", \"howbeit\", \"however\", \"how's\", \"hr\", \"hs\", \"http\", \"hu\", \"hundred\", \"hy\", \"i\", \"i2\", \"i3\", \"i4\", \"i6\", \"i7\", \"i8\", \"ia\", \"ib\", \"ibid\", \"ic\", \"id\", \"i'd\", \"ie\", \"if\", \"ig\", \"ignored\", \"ih\", \"ii\", \"ij\", \"il\", \"i'll\", \"im\", \"i'm\", \"immediate\", \"immediately\", \"importance\", \"important\", \"in\", \"inasmuch\", \"inc\", \"indeed\", \"index\", \"indicate\", \"indicated\", \"indicates\", \"information\", \"inner\", \"insofar\", \"instead\", \"interest\", \"into\", \"invention\", \"inward\", \"io\", \"ip\", \"iq\", \"ir\", \"is\", \"isn\", \"isn't\", \"it\", \"itd\", \"it'd\", \"it'll\", \"its\", \"it's\", \"itself\", \"iv\", \"i've\", \"ix\", \"iy\", \"iz\", \"j\", \"jj\", \"jr\", \"js\", \"jt\", \"ju\", \"just\", \"k\", \"ke\", \"keep\", \"keeps\", \"kept\", \"kg\", \"kj\", \"km\", \"know\", \"known\", \"knows\", \"ko\", \"l\", \"l2\", \"la\", \"largely\", \"last\", \"lately\", \"later\", \"latter\", \"latterly\", \"lb\", \"lc\", \"le\", \"least\", \"les\", \"less\", \"lest\", \"let\", \"lets\", \"let's\", \"lf\", \"like\", \"liked\", \"likely\", \"line\", \"little\", \"lj\", \"ll\", \"ll\", \"ln\", \"lo\", \"look\", \"looking\", \"looks\", \"los\", \"lr\", \"ls\", \"lt\", \"ltd\", \"m\", \"m2\", \"ma\", \"made\", \"mainly\", \"make\", \"makes\", \"many\", \"may\", \"maybe\", \"me\", \"mean\", \"means\", \"meantime\", \"meanwhile\", \"merely\", \"mg\", \"might\", \"mightn\", \"mightn't\", \"mill\", \"million\", \"mine\", \"miss\", \"ml\", \"mn\", \"mo\", \"more\", \"moreover\", \"most\", \"mostly\", \"move\", \"mr\", \"mrs\", \"ms\", \"mt\", \"mu\", \"much\", \"mug\", \"must\", \"mustn\", \"mustn't\", \"my\", \"myself\", \"n\", \"n2\", \"na\", \"name\", \"namely\", \"nay\", \"nc\", \"nd\", \"ne\", \"near\", \"nearly\", \"necessarily\", \"necessary\", \"need\", \"needn\", \"needn't\", \"needs\", \"neither\", \"never\", \"nevertheless\", \"new\", \"next\", \"ng\", \"ni\", \"nine\", \"ninety\", \"nj\", \"nl\", \"nn\", \"no\", \"nobody\", \"non\", \"none\", \"nonetheless\", \"noone\", \"nor\", \"normally\", \"nos\", \"not\", \"noted\", \"nothing\", \"novel\", \"now\", \"nowhere\", \"nr\", \"ns\", \"nt\", \"ny\", \"o\", \"oa\", \"ob\", \"obtain\", \"obtained\", \"obviously\", \"oc\", \"od\", \"of\", \"off\", \"often\", \"og\", \"oh\", \"oi\", \"oj\", \"ok\", \"okay\", \"ol\", \"old\", \"om\", \"omitted\", \"on\", \"once\", \"one\", \"ones\", \"only\", \"onto\", \"oo\", \"op\", \"oq\", \"or\", \"ord\", \"os\", \"ot\", \"other\", \"others\", \"otherwise\", \"ou\", \"ought\", \"our\", \"ours\", \"ourselves\", \"out\", \"outside\", \"over\", \"overall\", \"ow\", \"owing\", \"own\", \"ox\", \"oz\", \"p\", \"p1\", \"p2\", \"p3\", \"page\", \"pagecount\", \"pages\", \"par\", \"part\", \"particular\", \"particularly\", \"pas\", \"past\", \"pc\", \"pd\", \"pe\", \"per\", \"perhaps\", \"pf\", \"ph\", \"pi\", \"pj\", \"pk\", \"pl\", \"placed\", \"please\", \"plus\", \"pm\", \"pn\", \"po\", \"poorly\", \"possible\", \"possibly\", \"potentially\", \"pp\", \"pq\", \"pr\", \"predominantly\", \"present\", \"presumably\", \"previously\", \"primarily\", \"probably\", \"promptly\", \"proud\", \"provides\", \"ps\", \"pt\", \"pu\", \"put\", \"py\", \"q\", \"qj\", \"qu\", \"que\", \"quickly\", \"quite\", \"qv\", \"r\", \"r2\", \"ra\", \"ran\", \"rather\", \"rc\", \"rd\", \"re\", \"readily\", \"really\", \"reasonably\", \"recent\", \"recently\", \"ref\", \"refs\", \"regarding\", \"regardless\", \"regards\", \"related\", \"relatively\", \"research\", \"research-articl\", \"respectively\", \"resulted\", \"resulting\", \"results\", \"rf\", \"rh\", \"ri\", \"right\", \"rj\", \"rl\", \"rm\", \"rn\", \"ro\", \"rq\", \"rr\", \"rs\", \"rt\", \"ru\", \"run\", \"rv\", \"ry\", \"s\", \"s2\", \"sa\", \"said\", \"same\", \"saw\", \"say\", \"saying\", \"says\", \"sc\", \"sd\", \"se\", \"sec\", \"second\", \"secondly\", \"section\", \"see\", \"seeing\", \"seem\", \"seemed\", \"seeming\", \"seems\", \"seen\", \"self\", \"selves\", \"sensible\", \"sent\", \"serious\", \"seriously\", \"seven\", \"several\", \"sf\", \"shall\", \"shan\", \"shan't\", \"she\", \"shed\", \"she'd\", \"she'll\", \"shes\", \"she's\", \"should\", \"shouldn\", \"shouldn't\", \"should've\", \"show\", \"showed\", \"shown\", \"showns\", \"shows\", \"si\", \"side\", \"significant\", \"significantly\", \"similar\", \"similarly\", \"since\", \"sincere\", \"six\", \"sixty\", \"sj\", \"sl\", \"slightly\", \"sm\", \"sn\", \"so\", \"some\", \"somebody\", \"somehow\", \"someone\", \"somethan\", \"something\", \"sometime\", \"sometimes\", \"somewhat\", \"somewhere\", \"soon\", \"sorry\", \"sp\", \"specifically\", \"specified\", \"specify\", \"specifying\", \"sq\", \"sr\", \"ss\", \"st\", \"still\", \"stop\", \"strongly\", \"sub\", \"substantially\", \"successfully\", \"such\", \"sufficiently\", \"suggest\", \"sup\", \"sure\", \"sy\", \"system\", \"sz\", \"t\", \"t1\", \"t2\", \"t3\", \"take\", \"taken\", \"taking\", \"tb\", \"tc\", \"td\", \"te\", \"tell\", \"ten\", \"tends\", \"tf\", \"th\", \"than\", \"thank\", \"thanks\", \"thanx\", \"that\", \"that'll\", \"thats\", \"that's\", \"that've\", \"the\", \"their\", \"theirs\", \"them\", \"themselves\", \"then\", \"thence\", \"there\", \"thereafter\", \"thereby\", \"thered\", \"therefore\", \"therein\", \"there'll\", \"thereof\", \"therere\", \"theres\", \"there's\", \"thereto\", \"thereupon\", \"there've\", \"these\", \"they\", \"theyd\", \"they'd\", \"they'll\", \"theyre\", \"they're\", \"they've\", \"thickv\", \"thin\", \"think\", \"third\", \"this\", \"thorough\", \"thoroughly\", \"those\", \"thou\", \"though\", \"thoughh\", \"thousand\", \"three\", \"throug\", \"through\", \"throughout\", \"thru\", \"thus\", \"ti\", \"til\", \"tip\", \"tj\", \"tl\", \"tm\", \"tn\", \"to\", \"together\", \"too\", \"took\", \"top\", \"toward\", \"towards\", \"tp\", \"tq\", \"tr\", \"tried\", \"tries\", \"truly\", \"try\", \"trying\", \"ts\", \"t's\", \"tt\", \"tv\", \"twelve\", \"twenty\", \"twice\", \"two\", \"tx\", \"u\", \"u201d\", \"ue\", \"ui\", \"uj\", \"uk\", \"um\", \"un\", \"under\", \"unfortunately\", \"unless\", \"unlike\", \"unlikely\", \"until\", \"unto\", \"uo\", \"up\", \"upon\", \"ups\", \"ur\", \"us\", \"use\", \"used\", \"useful\", \"usefully\", \"usefulness\", \"uses\", \"using\", \"usually\", \"ut\", \"v\", \"va\", \"value\", \"various\", \"vd\", \"ve\", \"ve\", \"very\", \"via\", \"viz\", \"vj\", \"vo\", \"vol\", \"vols\", \"volumtype\", \"vq\", \"vs\", \"vt\", \"vu\", \"w\", \"wa\", \"want\", \"wants\", \"was\", \"wasn\", \"wasnt\", \"wasn't\", \"way\", \"we\", \"wed\", \"we'd\", \"welcome\", \"well\", \"we'll\", \"well-b\", \"went\", \"were\", \"we're\", \"weren\", \"werent\", \"weren't\", \"we've\", \"what\", \"whatever\", \"what'll\", \"whats\", \"what's\", \"when\", \"whence\", \"whenever\", \"when's\", \"where\", \"whereafter\", \"whereas\", \"whereby\", \"wherein\", \"wheres\", \"where's\", \"whereupon\", \"wherever\", \"whether\", \"which\", \"while\", \"whim\", \"whither\", \"who\", \"whod\", \"whoever\", \"whole\", \"who'll\", \"whom\", \"whomever\", \"whos\", \"who's\", \"whose\", \"why\", \"why's\", \"wi\", \"widely\", \"will\", \"willing\", \"wish\", \"with\", \"within\", \"without\", \"wo\", \"won\", \"wonder\", \"wont\", \"won't\", \"words\", \"world\", \"would\", \"wouldn\", \"wouldnt\", \"wouldn't\", \"www\", \"x\", \"x1\", \"x2\", \"x3\", \"xf\", \"xi\", \"xj\", \"xk\", \"xl\", \"xn\", \"xo\", \"xs\", \"xt\", \"xv\", \"xx\", \"y\", \"y2\", \"yes\", \"yet\", \"yj\", \"yl\", \"you\", \"youd\", \"you'd\", \"you'll\", \"your\", \"youre\", \"you're\", \"yours\", \"yourself\", \"yourselves\", \"you've\", \"yr\", \"ys\", \"yt\", \"z\", \"zero\", \"zi\", \"zz\"])\n"
      ],
      "execution_count": 0,
      "outputs": []
    },
    {
      "cell_type": "code",
      "metadata": {
        "id": "OQGQ-K-BVCXw",
        "colab_type": "code",
        "colab": {}
      },
      "source": [
        "stop_words.extend([\"0\", \"1\", \"2\", \"3\", \"4\", \"5\", \"6\", \"7\", \"8\", \"9\", \"a\", \"aaron\", \"abbey\",\n",
        "                   \"abbie\", \"abdul\", \"abe\", \"across\", \"abel\", \"abigail\", \"about\", \"above\", \n",
        "                   \"abraham\", \"abram\", \"abst\", \"accordance\", \"according\", \"act\", \"actually\", \n",
        "                   \"ada\", \"adah\", \"adalberto\", \"adaline\", \"adam\", \"adan\", \"added\", \"among\", \n",
        "                   \"addie\", \"adela\", \"adelaida\", \"adelaide\", \"adele\", \"adelia\", \"adelina\", \n",
        "                   \"adeline\", \"adell\", \"adella\", \"adelle\", \"adena\", \"adina\", \"adj\", \"adolfo\", \n",
        "                   \"adolph\", \"adopted\", \"adria\", \"adrian\", \"adriana\", \"adriane\", \"adrianna\", \n",
        "                   \"adrien\", \"adrienne\", \"after\", \"afterwards\", \"afton\", \"again\", \"against\", \n",
        "                   \"agatha\", \"agnes\", \"agnus\", \"agueda\", \"agustina\", \"ahmad\", \"ahmed\", \"ai\",\n",
        "                   \"aida\", \"besides\", \"aide\", \"aiko\", \"aileen\", \"ailene\", \"aimee\", \"aja\", \"akilah\", \"al\", \"alaina\", \"alaine\", \"alan\", \"alana\", \"alane\", \"alanna\", \"alayna\", \"alba\", \"albert\", \"alberta\", \"albertha\", \"albertina\", \"albertine\", \"alberto\", \"albina\", \"alda\", \"alden\", \"aldo\", \"alease\", \"alec\", \"alecia\", \"e\", \"aleen\", \"aleisha\", \"eg\", \"alejandra\", \"alejandrina\", \"alejandro\", \"alena\", \"elsewhere\", \"alene\", \"alesha\", \"aleshia\", \"alesia\", \"alessandra\", \"aleta\", \"aletha\", \"everywhere\", \"alethea\", \"alethia\", \"alex\", \"alexander\", \"alexandria\", \"alexia\", \"alexis\", \"alfonso\", \"alfonzo\", \"alfred\", \"alfreda\", \"alfredia\", \"alfredo\", \"ali\", \"alia\", \"alica\", \"alice\", \"alicia\", \"alida\", \"alina\", \"alisa\", \"alise\", \"had\", \"alisha\", \"alishia\", \"alisia\", \"alison\", \"alissa\", \"alita\", \"alix\", \"aliza\", \"all\", \"alla\", \"allan\", \"alleen\", \"allegra\", \"allen\", \"allena\", \"allene\", \"allie\", \"alline\", \"allison\", \"allyn\", \"allyson\", \"alma\", \"hop\", \"almeda\", \"almeta\", \"almost\", \"alona\", \"alone\", \"along\", \"alonso\", \"alonzo\", \"alpha\", \"alphonse\", \"alphonso\", \"already\", \"also\", \"alta\", \"altagracia\", \"altha\", \"althea\", \"although\", \"alton\", \"alva\", \"alvaro\", \"alvera\", \"alverta\", \"alvin\", \"alvina\", \"always\", \"alyce\", \"alycia\", \"alysa\", \"alyse\", \"alysha\", \"alysia\", \"alyson\", \"alyssa\", \"am\", \"amado\", \"amal\", \"amalia\", \"amanda\", \"amber\", \"amberly\", \"ambrose\", \"amee\", \"amelia\", \"long\", \"america\", \"m\", \"ami\", \"amie\", \"amiee\", \"amina\", \"may\", \"amira\", \"ammie\", \"amongst\", \"amos\", \"might\", \"amparo\", \"amy\", \"an\", \"ana\", \"anabel\", \"anamaria\", \"anastacia\", \"anastasia\", \"and\", \"andera\", \"anderson\", \"andra\", \"andre\", \"na\", \"andrea\", \"andreas\", \"andres\", \"andrew\", \"andria\", \"andy\", \"anette\", \"angel\", \"angela\", \"angele\", \"angelena\", \"angeles\", \"angelia\", \"angelic\", \"angelica\", \"angelina\", \"angeline\", \"angelique\", \"angelita\", \"angella\", \"angelo\", \"angelyn\", \"angie\", \"angila\", \"angla\", \"angle\", \"anglea\", \"anh\", \"anibal\", \"anika\", \"anisha\", \"anissa\", \"anita\", \"anitra\", \"anjanette\", \"anjelica\", \"ann\", \"anna\", \"annabel\", \"annabell\", \"annabelle\", \"overall\", \"annalee\", \"annalisa\", \"annamae\", \"annamaria\", \"annamarie\", \"anne\", \"anneliese\", \"annelle\", \"annemarie\", \"put\", \"annetta\", \"annice\", \"annie\", \"rather\", \"annika\", \"annis\", \"annmarie\", \"announce\", \"another\", \"answered\", \"anthony\", \"antione\", \"antionette\", \"antoine\", \"anton\", \"antone\", \"antonetta\", \"antonette\", \"antonia\", \"antonietta\", \"antonina\", \"antonio\", \"antony\", \"antwan\", \"any\", \"anya\", \"anyhow\", \"anyone\", \"anything\", \"anywhere\", \"apolonia\", \"april\", \"apryl\", \"ara\", \"should\", \"araceli\", \"aracelis\", \"aracely\", \"arcelia\", \"archie\", \"ardath\", \"ardelia\", \"ardell\", \"ardella\", \"ardelle\", \"arden\", \"ardis\", \"ardith\", \"are\", \"aren\", \"arent\", \"aretha\", \"argelia\", \"argentina\", \"ariana\", \"arianna\", \"arianne\", \"arica\", \"arie\", \"ariel\", \"arielle\", \"arla\", \"arlean\", \"arleen\", \"arlen\", \"there\", \"arlena\", \"arlene\", \"arletha\", \"arletta\", \"arlette\", \"arlie\", \"arlinda\", \"arline\", \"arlyne\", \"armand\", \"armanda\", \"they\", \"armandina\", \"armando\", \"armida\", \"arminda\", \"arnetta\", \"arnette\", \"arnita\", \"arnold\", \"arnoldo\", \"arnulfo\", \"around\", \"arron\", \"three\", \"art\", \"arthur\", \"artie\", \"arturo\", \"arvilla\", \"as\", \"asa\", \"asha\", \"ashanti\", \"ashely\", \"ashlea\", \"toward\", \"ashlee\", \"ashleigh\", \"ashley\", \"ashli\", \"ashlie\", \"ashly\", \"ashlyn\", \"asia\", \"ask\", \"unlikely\", \"asked\", \"asley\", \"assunta\", \"astrid\", \"ups\", \"at\", \"athena\", \"aubrey\", \"audie\", \"audra\", \"audrea\", \"audrey\", \"audria\", \"audrie\", \"audry\", \"august\", \"augusta\", \"augustina\", \"augustine\", \"augustus\", \"aundrea\", \"aura\", \"aurea\", \"aurelia\", \"aurelio\", \"aurora\", \"aurore\", \"austin\", \"auth\", \"autumn\", \"ava\", \"available\", \"avelina\", \"avery\", \"avis\", \"avril\", \"awilda\", \"ayako\", \"ayana\", \"ayanna\", \"ayesha\", \"azalee\", \"azucena\", \"azzie\", \"b\", \"babara\", \"babette\", \"back\", \"bailey\", \"bambi\", \"bao\", \"barabara\", \"barb\", \"barbara\", \"barbera\", \"barbie\", \"barbra\", \"bari\", \"barney\", \"barrett\", \"barrie\", \"bart\", \"basil\", \"would\", \"basilia\", \"be\", \"bea\", \"beata\", \"beatrice\", \"beatris\", \"beatriz\", \"beau\", \"beaulah\", \"bebe\", \"became\", \"because\", \"becki\", \"becky\", \"become\", \"becomes\", \"becoming\", \"bee\", \"abby\", \"been\", \"before\", \"beforehand\", \"begin\", \"beginning\", \"behind\", \"being\", \"belen\", \"belia\", \"belinda\", \"belkis\", \"bell\", \"bella\", \"belle\", \"below\", \"ben\", \"benedict\", \"benita\", \"benito\", \"benjamin\", \"bennett\", \"benny\", \"benton\", \"berenice\", \"berna\", \"bernadette\", \"bernadine\", \"bernard\", \"bernarda\", \"bernardina\", \"bernardine\", \"bernardo\", \"adrianne\", \"berneice\", \"adriene\", \"bernice\", \"bernie\", \"berniece\", \"bernita\", \"bert\", \"agripina\", \"berta\", \"agustin\", \"bertha\", \"bertie\", \"bertram\", \"beryl\", \"beside\", \"bess\", \"bessie\", \"best\", \"beth\", \"bethanie\", \"aisha\", \"bethann\", \"akiko\", \"bethany\", \"bethel\", \"betsey\", \"bette\", \"better\", \"bettie\", \"bettina\", \"betty\", \"bettyann\", \"bettye\", \"between\", \"beula\", \"beulah\", \"bev\", \"beverlee\", \"beverley\", \"beverly\", \"beyond\", \"bianca\", \"bibi\", \"bill\", \"billie\", \"billy\", \"billye\", \"aleida\", \"birdie\", \"birgit\", \"blaine\", \"blair\", \"blake\", \"blanca\", \"blanch\", \"blanche\", \"blondell\", \"blossom\", \"blythe\", \"bo\", \"bobbi\", \"bobbie\", \"bobbye\", \"alexa\", \"bok\", \"alexandra\", \"bong\", \"bonita\", \"bonnie\", \"bonny\", \"booker\", \"boris\", \"both\", \"boyce\", \"boyd\", \"brad\", \"bradford\", \"bradley\", \"bradly\", \"brady\", \"brain\", \"branda\", \"aline\", \"brande\", \"brandee\", \"branden\", \"brandi\", \"brandon\", \"brandy\", \"brant\", \"breana\", \"breann\", \"breanna\", \"breanne\", \"bree\", \"brenda\", \"brendan\", \"brendon\", \"brenna\", \"brent\", \"brenton\", \"bret\", \"brett\", \"brian\", \"briana\", \"brianne\", \"brice\", \"bridget\", \"bridgett\", \"bridgette\", \"brigette\", \"brigid\", \"brigida\", \"brigitte\", \"brinda\", \"britany\", \"britney\", \"britni\", \"britt\", \"britta\", \"brittaney\", \"brittani\", \"brittanie\", \"britteny\", \"brittni\", \"brittny\", \"brock\", \"broderick\", \"bronwyn\", \"brook\", \"brooke\", \"brooks\", \"bruce\", \"amada\", \"bruna\", \"brunilda\", \"bruno\", \"bryan\", \"bryanna\", \"bryant\", \"bryce\", \"brynn\", \"bryon\", \"bud\", \"buddy\", \"buena\", \"buffy\", \"buford\", \"bula\", \"bunny\", \"burl\", \"burma\", \"burt\", \"burton\", \"buster\", \"but\", \"analisa\", \"by\", \"byron\", \"c\", \"ca\", \"caitlin\", \"caitlyn\", \"calandra\", \"caleb\", \"calista\", \"andree\", \"callie\", \"calvin\", \"camelia\", \"camellia\", \"cameron\", \"camie\", \"camila\", \"camilla\", \"camille\", \"cammy\", \"can\", \"candace\", \"candance\", \"angelika\", \"candelaria\", \"candi\", \"candice\", \"candida\", \"candis\", \"candy\", \"candyce\", \"cannot\", \"cant\", \"caprice\", \"caption\", \"cara\", \"caren\", \"carey\", \"cari\", \"anisa\", \"caridad\", \"carie\", \"carina\", \"carisa\", \"anja\", \"carissa\", \"carita\", \"carl\", \"carla\", \"carlee\", \"carleen\", \"carlena\", \"carlene\", \"carletta\", \"carley\", \"carli\", \"carline\", \"carlita\", \"carlo\", \"carlos\", \"carlota\", \"annett\", \"carlotta\", \"annette\", \"carlton\", \"carly\", \"carlyn\", \"carma\", \"annita\", \"carman\", \"carmel\", \"carmela\", \"carmelia\", \"carmelina\", \"antoinette\", \"carmelita\", \"carmella\", \"carmelo\", \"carmen\", \"carmina\", \"carmine\", \"carmon\", \"carol\", \"carola\", \"carolann\", \"carole\", \"carolee\", \"carolin\", \"caroline\", \"caroll\", \"carolyn\", \"carolyne\", \"carolynn\", \"caron\", \"caroyln\", \"carri\", \"carrie\", \"carrol\", \"carry\", \"carson\", \"cary\", \"caryl\", \"carylon\", \"caryn\", \"casandra\", \"casey\", \"casie\", \"ariane\", \"casimira\", \"cassandra\", \"cassaundra\", \"cassey\", \"cassidy\", \"cassie\", \"cassondra\", \"cassy\", \"catalina\", \"catarina\", \"caterina\", \"catharine\", \"catherin\", \"catherina\", \"catherine\", \"cathern\", \"catheryn\", \"cathey\", \"cathi\", \"cathie\", \"cathleen\", \"cathrine\", \"cathryn\", \"cathy\", \"catina\", \"catrice\", \"catrina\", \"cayla\", \"cecil\", \"cecila\", \"cecile\", \"aron\", \"cecilia\", \"cecille\", \"cecily\", \"cedric\", \"cedrick\", \"celena\", \"celesta\", \"celeste\", \"celestina\", \"celestine\", \"celia\", \"celina\", \"celinda\", \"celine\", \"celsa\", \"ceola\", \"cesar\", \"chad\", \"ashton\", \"chadwick\", \"chae\", \"chan\", \"chana\", \"asuncion\", \"chance\", \"chanda\", \"chandra\", \"chanel\", \"chanell\", \"chanelle\", \"chang\", \"chantal\", \"chantay\", \"chante\", \"chantel\", \"chantell\", \"chantelle\", \"chapter\", \"chara\", \"charis\", \"charise\", \"charissa\", \"charisse\", \"charita\", \"charity\", \"charla\", \"charlena\", \"charlene\", \"charles\", \"charlesetta\", \"charlette\", \"charley\", \"charlie\", \"charline\", \"charlott\", \"charlotte\", \"charlsie\", \"charlyn\", \"charmaine\", \"charolette\", \"chase\", \"chasidy\", \"chasity\", \"chastity\", \"chau\", \"chauncey\", \"chaya\", \"barbar\", \"chelsea\", \"chelsey\", \"chelsie\", \"cher\", \"chere\", \"cheree\", \"cherelle\", \"cheri\", \"barry\", \"cherie\", \"barton\", \"cherilyn\", \"cherish\", \"cherlyn\", \"cherri\", \"cherrie\", \"cherry\", \"cherryl\", \"chery\", \"cheryl\", \"cheryle\", \"cheryll\", \"beckie\", \"chester\", \"chet\", \"cheyenne\", \"chi\", \"chia\", \"chieko\", \"chin\", \"china\", \"ching\", \"belva\", \"chiquita\", \"chloe\", \"chong\", \"chris\", \"chrissy\", \"christa\", \"bennie\", \"christal\", \"christeen\", \"christel\", \"christen\", \"christene\", \"christi\", \"christia\", \"christian\", \"christiana\", \"christiane\", \"christie\", \"christin\", \"bernetta\", \"christina\", \"christine\", \"christinia\", \"christoper\", \"berry\", \"christopher\", \"christy\", \"chrystal\", \"chu\", \"chuck\", \"chun\", \"chung\", \"cicely\", \"ciera\", \"cierra\", \"cinda\", \"cinderella\", \"cindi\", \"cindy\", \"betsy\", \"cinthia\", \"cira\", \"clair\", \"clara\", \"clare\", \"clarence\", \"claretha\", \"claretta\", \"claribel\", \"clarice\", \"clarine\", \"claris\", \"clarisa\", \"clarissa\", \"clarita\", \"billi\", \"clark\", \"classie\", \"claud\", \"claude\", \"claudette\", \"claudia\", \"claudie\", \"claudine\", \"claudio\", \"clay\", \"clayton\", \"clemencia\", \"clement\", \"clemente\", \"clementina\", \"bob\", \"clementine\", \"clemmie\", \"bobby\", \"cleo\", \"bobette\", \"cleopatra\", \"cleora\", \"cleotilde\", \"cleta\", \"cletus\", \"cleveland\", \"cliff\", \"clifford\", \"clifton\", \"clint\", \"clinton\", \"clora\", \"clorinda\", \"clotilde\", \"clyde\", \"co\", \"codi\", \"cody\", \"colby\", \"coleen\", \"brandie\", \"coleman\", \"colene\", \"coletta\", \"colette\", \"colin\", \"colleen\", \"collen\", \"collene\", \"collette\", \"collin\", \"columbus\", \"come\", \"concepcion\", \"conception\", \"concetta\", \"concha\", \"conchita\", \"connie\", \"brianna\", \"conrad\", \"constance\", \"consuela\", \"consuelo\", \"contessa\", \"cora\", \"coral\", \"coralee\", \"coralie\", \"corazon\", \"cordelia\", \"cordell\", \"cordia\", \"cordie\", \"coreen\", \"corene\", \"coretta\", \"corey\", \"brittany\",\n",
        "                   \"corie\", \"brittney\", \"corina\", \"corine\", \"corinna\", \"corinne\", \"corliss\", \"cornelia\", \"cornelius\", \"cornell\", \"corrie\", \"corrin\", \"corrina\", \"corrine\", \"corrinne\", \"cortez\", \"cortney\", \"could\", \"couldnt\", \"courtney\", \"buck\", \"coy\", \"craig\", \"creola\", \"cried\", \"cris\", \"criselda\", \"bulah\", \"crissy\", \"crista\", \"cristal\", \"cristen\", \"cristi\", \"cristie\", \"cristin\", \"cristina\", \"cristine\", \"cristobal\", \"cristopher\", \"cristy\", \"cruz\", \"crysta\", \"crystal\", \"crystle\", \"cuc\", \"cami\", \"curt\", \"curtis\", \"cyndi\", \"cyndy\", \"cammie\", \"cynthia\", \"cyril\", \"cyrstal\", \"cyrus\", \"cythia\", \"d\", \"dacia\", \"candie\", \"dagmar\", \"candra\", \"dagny\", \"dahlia\", \"daina\", \"daine\", \"daisey\", \"daisy\", \"dakota\", \"dale\", \"dalene\", \"carin\", \"dalia\", \"dalila\", \"dallas\", \"dalton\", \"damaris\", \"damian\", \"damien\", \"damion\", \"damon\", \"dan\", \"dana\", \"danae\", \"dane\", \"carlie\", \"danelle\", \"danette\", \"dani\", \"danial\", \"danica\", \"daniel\", \"daniela\", \"daniele\", \"daniell\", \"daniella\", \"danielle\", \"danika\", \"danille\", \"danilo\", \"danita\", \"dann\", \"danna\", \"dannette\", \"dannie\", \"dannielle\", \"danny\", \"danuta\", \"danyel\", \"danyell\", \"danyelle\", \"daphine\", \"dara\", \"darby\", \"carolina\", \"darcel\", \"darcey\", \"darci\", \"darcie\", \"darcy\", \"darell\", \"daren\", \"daria\", \"darin\", \"dario\", \"carroll\", \"darius\", \"darla\", \"carter\", \"darleen\", \"darlena\", \"darlene\", \"darline\", \"darnell\", \"daron\", \"darrel\", \"darrell\", \"darren\", \"darrick\", \"darrin\", \"cassi\", \"darron\", \"darryl\", \"darwin\", \"daryl\", \"date\", \"dave\", \"david\", \"davida\", \"davina\", \"davis\", \"dawn\", \"dawna\", \"dawne\", \"dayle\", \"dayna\", \"daysi\", \"deadra\", \"dean\", \"deana\", \"deandra\", \"deandre\", \"deandrea\", \"deane\", \"deangelo\", \"cecelia\", \"deann\", \"deanna\", \"deanne\", \"deb\", \"debbi\", \"debbie\", \"debbra\", \"debby\", \"debera\", \"debi\", \"debora\", \"deborah\", \"debra\", \"debrah\", \"debroah\", \"dede\", \"dedra\", \"dee\", \"deeann\", \"deeanna\", \"deedee\", \"deena\", \"deetta\", \"deidra\", \"deidre\", \"deirdre\", \"deja\", \"del\", \"delana\", \"delbert\", \"delcie\", \"delena\", \"delfina\", \"delia\", \"delicia\", \"delila\", \"delilah\", \"delinda\", \"delisa\", \"dell\", \"della\", \"delma\", \"delmar\", \"delmer\", \"delmy\", \"delois\", \"charleen\", \"deloise\", \"delora\", \"deloras\", \"delores\", \"deloris\", \"delorse\", \"delpha\", \"delphia\", \"delphine\", \"delsie\", \"delta\", \"demarcus\", \"charmain\", \"demetra\", \"demetria\", \"chas\", \"demetrice\", \"demetrius\", \"dena\", \"chassidy\", \"denae\", \"deneen\", \"denese\", \"denice\", \"denis\", \"denise\", \"denisha\", \"denita\", \"denna\", \"dennis\", \"dennise\", \"denny\", \"denver\", \"denyse\", \"cherise\", \"deon\", \"cherly\", \"deonna\", \"derek\", \"derick\", \"derrick\", \"deshawn\", \"desirae\", \"desire\", \"desiree\", \"despina\", \"dessie\", \"destiny\", \"detra\", \"devin\", \"devon\", \"devona\", \"devora\", \"devorah\", \"dewayne\", \"dewey\", \"dewitt\", \"dexter\", \"dia\", \"diamond\", \"dian\", \"diana\", \"diane\", \"diann\", \"dianna\", \"christena\", \"dianne\", \"dick\", \"did\", \"didnt\", \"diedra\", \"diedre\", \"diego\", \"dierdre\", \"digna\", \"dillon\", \"dimple\", \"dina\", \"dinah\", \"dino\", \"dinorah\", \"dion\", \"dione\", \"dionna\", \"dionne\", \"ciara\", \"dirk\", \"divina\", \"dixie\", \"do\", \"dodie\", \"does\", \"cindie\", \"doesnt\", \"dollie\", \"dolly\", \"dolores\", \"claire\", \"doloris\", \"domenic\", \"domenica\", \"dominga\", \"domingo\", \"dominic\", \"dominica\", \"clarinda\", \"dominick\", \"dominique\", \"dominque\", \"domitila\", \"domonique\", \"don\", \"dona\", \"donald\", \"donella\", \"donetta\", \"donette\", \"dong\", \"donita\", \"donn\", \"donna\", \"donnell\", \"clelia\", \"donnetta\", \"donnette\", \"donnie\", \"donny\", \"donovan\", \"dont\", \"donte\", \"donya\", \"dora\", \"dorathy\", \"dorcas\", \"doreatha\", \"doreen\", \"dorene\", \"doretha\", \"dorethea\", \"doretta\", \"dori\", \"doria\", \"dorian\", \"dorie\", \"dorinda\", \"dorine\", \"doris\", \"dorla\", \"cole\", \"dorotha\", \"dorothea\", \"dorothy\", \"dorris\", \"dorsey\", \"dortha\", \"dorthea\", \"dorthey\", \"dorthy\", \"dot\", \"dotty\", \"colton\", \"doug\", \"douglas\", \"douglass\", \"dovie\", \"down\", \"doyle\", \"dreama\", \"drew\", \"drucilla\", \"duane\", \"dudley\", \"dulcie\", \"dung\", \"during\", \"dusti\", \"dustin\", \"dusty\", \"dwana\", \"dwayne\", \"dwight\", \"dylan\", \"each\", \"earl\", \"earle\", \"earlean\", \"cori\", \"earleen\", \"earlene\", \"earlie\", \"earline\", \"earnest\", \"earnestine\", \"eartha\", \"easter\", \"eboni\", \"ebonie\", \"ebony\", \"echo\", \"ed\", \"edda\", \"eddie\", \"cory\", \"eddy\", \"edelmira\", \"eden\", \"edgardo\", \"edie\", \"edith\", \"edmond\", \"edmund\", \"edmundo\", \"edna\", \"edra\", \"edris\", \"eduardo\", \"edward\", \"edwardo\", \"edwin\", \"edyth\", \"edythe\", \"effie\", \"efrain\", \"efren\", \"ehtel\", \"eight\", \"eighty\", \"eilene\", \"either\", \"ela\", \"eladia\", \"elaina\", \"elaine\", \"elana\", \"elane\", \"elanor\", \"elayne\", \"elba\", \"elda\", \"elden\", \"eldon\", \"eldora\", \"eldridge\", \"eleanor\", \"eleanora\", \"eleanore\", \"elease\", \"elena\", \"elene\", \"eleni\", \"elenor\", \"elenora\", \"eleonor\", \"eleonora\", \"eleonore\", \"elfreda\", \"elfrieda\", \"elfriede\", \"eli\", \"elia\", \"eliana\", \"elias\", \"dania\", \"elicia\", \"elida\", \"elidia\", \"elijah\", \"elina\", \"elinor\", \"elinore\", \"elisa\", \"elisabeth\", \"elise\", \"eliseo\", \"elisha\", \"elissa\", \"eliz\", \"eliza\", \"elizabeth\", \"elizbeth\", \"elizebeth\", \"dante\", \"elke\", \"ella\", \"ellamae\", \"ellan\", \"ellen\", \"daphne\", \"ellena\", \"elli\", \"ellie\", \"elliot\", \"elliott\", \"ellis\", \"ellsworth\", \"elly\", \"ellyn\", \"elma\", \"elmer\", \"elmira\", \"elmo\", \"elna\", \"elnora\", \"elodia\", \"elois\", \"eloisa\", \"eloise\", \"elouise\", \"eloy\", \"elroy\", \"elsa\", \"else\", \"elsie\", \"elsy\", \"elton\", \"elva\", \"elvera\", \"elvia\", \"elvie\", \"elvina\", \"elvira\", \"elvis\", \"elwanda\", \"elwood\", \"elyse\", \"elza\", \"ema\", \"emanuel\", \"emelda\", \"emelia\", \"emelina\", \"emeline\", \"emely\", \"emerald\", \"emerita\", \"emerson\", \"emery\", \"emiko\", \"emil\", \"emile\", \"emilee\", \"emilia\", \"emilie\", \"emilio\", \"emily\", \"emma\", \"emmaline\", \"emmanuel\", \"emmie\", \"emmitt\", \"emmy\", \"emogene\", \"emory\", \"ena\", \"enda\", \"enedina\", \"deedra\", \"enid\", \"enoch\", \"enola\", \"enough\", \"enrique\", \"enriqueta\", \"epifania\", \"delaine\", \"era\", \"erasmo\", \"eric\", \"erica\", \"erich\", \"erick\", \"ericka\", \"erik\", \"erika\", \"erin\", \"erinn\", \"erlene\", \"erlinda\", \"erline\", \"erma\", \"ermelinda\", \"erminia\", \"erna\", \"ernest\", \"ernestina\", \"ernestine\", \"ernesto\", \"ernie\", \"errol\", \"ervin\", \"erwin\", \"eryn\", \"esmeralda\", \"esperanza\", \"essie\", \"esteban\", \"estefana\", \"estela\", \"estell\", \"estella\", \"estelle\", \"ester\", \"esther\", \"estrella\", \"etc\", \"etha\", \"ethan\", \"denisse\", \"ethel\", \"ethelene\", \"ethelyn\", \"ethyl\", \"etsuko\", \"etta\", \"ettie\", \"eufemia\", \"eugena\", \"eugene\", \"eugenia\", \"eugenie\", \"eugenio\", \"eula\", \"eulah\", \"eulalia\", \"desmond\", \"eun\", \"euna\", \"eunice\", \"eura\", \"eusebia\", \"eusebio\", \"eustolia\", \"evalyn\", \"evan\", \"evangelina\", \"evangeline\", \"eve\", \"evelia\", \"evelin\", \"evelina\", \"eveline\", \"evelyn\", \"evelyne\", \"evelynn\", \"even\", \"ever\", \"everett\", \"everette\", \"every\", \"everyone\", \"everything\", \"evette\", \"evia\", \"evie\", \"evita\", \"evon\", \"evonne\", \"ewa\", \"except\", \"exie\", \"ezekiel\", \"ezequiel\", \"ezra\", \"f\", \"fabian\", \"fabiola\", \"fae\", \"fairy\", \"faith\", \"fallon\", \"fannie\", \"fanny\", \"far\", \"farah\", \"farrah\", \"fatima\", \"fatimah\", \"faustina\", \"faustino\", \"fausto\", \"fawn\", \"fay\", \"faye\", \"fe\", \"felecia\", \"felica\", \"felice\", \"felicia\", \"felicidad\", \"felicita\", \"felicitas\", \"felipa\", \"felipe\", \"felisa\", \"felisha\", \"felix\", \"felton\", \"ferdinand\", \"fermin\", \"fermina\", \"fern\", \"fernanda\", \"fernande\", \"fernando\", \"ferne\", \"few\", \"fidel\", \"fidela\", \"fidelia\", \"fifty\", \"filiberto\", \"filomena\", \"fiona\", \"first\", \"five\", \"flavia\", \"fleta\", \"fletcher\", \"flo\", \"flor\", \"flora\", \"florance\", \"florence\", \"florencia\", \"florencio\", \"florene\", \"dottie\", \"florentina\", \"florentino\", \"floretta\", \"floria\", \"florida\", \"florinda\", \"florine\", \"drema\", \"florrie\", \"flossie\", \"drusilla\", \"floy\", \"floyd\", \"dulce\", \"fonda\", \"duncan\", \"for\", \"forest\", \"former\", \"formerly\", \"dwain\", \"forrest\", \"forty\", \"foster\", \"dyan\", \"found\", \"four\", \"fran\", \"france\", \"francene\", \"frances\", \"francesca\", \"francesco\", \"franchesca\", \"francie\", \"francina\", \"francine\", \"francis\", \"francisca\", \"francisco\", \"francoise\", \"frank\", \"eda\", \"frankie\", \"franklyn\", \"fransisca\", \"fred\", \"freda\", \"edgar\", \"fredda\", \"freddie\", \"edison\", \"freddy\", \"frederic\", \"frederica\", \"frederick\", \"fredericka\", \"fredia\", \"fredric\", \"fredrick\", \"fredricka\", \"freeda\", \"freeman\", \"edwina\", \"freida\", \"frida\", \"frieda\", \"fritz\", \"from\", \"fumiko\", \"eileen\", \"further\", \"g\", \"gabriel\", \"gabriela\", \"gabriele\", \"gabriella\", \"gabrielle\", \"gail\", \"gala\", \"gale\", \"elbert\", \"galen\", \"galina\", \"garfield\", \"garland\", \"garnet\", \"garnett\", \"garret\", \"garrett\", \"garry\", \"gary\", \"gaston\", \"gavin\", \"gay\", \"gaye\", \"elenore\", \"gayla\", \"gayle\", \"gaylene\", \"gaylord\", \"gaynell\", \"gearldine\", \"gema\", \"gemma\", \"gena\", \"gene\", \"genesis\", \"geneva\", \"genevie\", \"genevieve\", \"elin\", \"genevive\", \"genia\", \"genie\", \"genna\", \"gennie\", \"genny\", \"genoveva\", \"geoffrey\", \"georgann\", \"george\", \"georgeann\", \"elizabet\", \"georgeanna\", \"georgene\", \"georgetta\", \"georgette\", \"georgia\", \"georgiana\", \"georgiann\", \"georgianne\", \"georgina\", \"georgine\", \"gerald\", \"geraldine\", \"geraldo\", \"geralyn\", \"gerard\", \"gerardo\", \"gerda\", \"geri\", \"german\", \"gerri\", \"gerry\", \"gertie\", \"gertrude\", \"gertrudis\", \"get\", \"ghislaine\", \"gia\", \"gianna\", \"gidget\", \"gigi\", \"gilbert\", \"gilberte\", \"gilberto\", \"gilda\", \"gillian\", \"gilma\", \"gina\", \"ginette\", \"ginger\", \"elvin\", \"ginny\", \"gino\", \"giovanna\", \"giovanni\", \"gisela\", \"gisele\", \"giselle\", \"gita\", \"giuseppe\", \"giuseppina\", \"gladis\", \"glady\", \"gladys\", \"glayds\", \"glen\", \"glenda\", \"glendora\", \"glenn\", \"glenna\", \"glennie\", \"glennis\", \"glinda\", \"gloria\", \"glory\", \"glynda\", \"glynis\", \"go\", \"golda\", \"golden\", \"emmett\", \"goldie\", \"gonzalo\", \"good\", \"gordon\", \"got\", \"grace\", \"gracia\", \"gracie\", \"eneida\", \"graciela\", \"grady\", \"graham\", \"grant\", \"granville\", \"grayce\", \"grazyna\", \"great\", \"gregg\", \"gregoria\", \"gregorio\", \"gregory\", \"greta\", \"gretchen\", \"gretta\", \"gricelda\", \"grisel\", \"griselda\", \"guadalupe\", \"gudrun\", \"guillermina\", \"guillermo\", \"gus\", \"gussie\", \"gustavo\", \"guy\", \"gwen\", \"gwenda\", \"gwendolyn\", \"gwenn\", \"gwyn\", \"gwyneth\", \"h\", \"ha\", \"hae\", \"hai\", \"esta\", \"hailey\", \"hal\", \"haley\", \"halina\", \"halley\", \"hallie\", \"han\", \"hang\", \"hanh\", \"hank\", \"hanna\", \"hannah\", \"hannelore\", \"hans\", \"harlan\", \"harland\", \"harley\", \"harmony\", \"harold\", \"harriet\", \"harriett\",\n",
        "                   \"harriette\", \"harris\", \"harrison\", \"harry\", \"harvey\", \"has\", \"hasnt\", \"hassan\", \"hassie\", \"hattie\", \"have\", \"havent\", \"haydee\", \"eva\", \"hayden\", \"hayley\", \"haywood\", \"hazel\", \"he\", \"heath\", \"heather\", \"hector\", \"hed\", \"hedwig\", \"hedy\", \"heide\", \"heidi\", \"heidy\", \"heike\", \"helaine\", \"helen\", \"helena\", \"helene\", \"helga\", \"hellen\", \"hence\", \"henrietta\", \"henriette\", \"henry\", \"her\", \"herb\", \"herbert\", \"here\", \"hereafter\", \"hereby\", \"herein\", \"heres\", \"hereupon\", \"herlinda\", \"herma\", \"herman\", \"hermelinda\", \"hermina\", \"hermine\", \"faviola\", \"herminia\", \"hers\", \"herschel\", \"herself\", \"federico\", \"hershel\", \"hertha\", \"hes\", \"hester\", \"hettie\", \"hid\", \"hien\", \"hilaria\", \"hilario\", \"hilary\", \"hilda\", \"hildegard\", \"hildred\", \"hillary\", \"hilma\", \"hilton\", \"him\", \"himself\", \"hipolito\", \"hiroko\", \"his\", \"hoa\", \"hobert\", \"holley\", \"holli\", \"hollie\", \"holly\", \"home\", \"homer\", \"honey\", \"hong\", \"hope\", \"horace\", \"horacio\", \"hortencia\", \"hortense\", \"hortensia\", \"hosea\", \"houston\", \"how\", \"howard\", \"however\", \"hoyt\", \"hubert\", \"huey\", \"hugh\", \"hui\", \"hulda\", \"humberto\", \"hundred\", \"hung\", \"hunter\", \"huong\", \"hwa\", \"hye\", \"hyman\", \"hyo\", \"hyon\", \"i\", \"ian\", \"id\", \"ida\", \"idalia\", \"idell\", \"idella\", \"ie\", \"iesha\", \"if\", \"ignacio\", \"franklin\", \"ike\", \"ilana\", \"ileana\", \"ileen\", \"ilene\", \"iliana\", \"ill\", \"illa\", \"ilona\", \"ilse\", \"iluminada\", \"im\", \"ima\", \"imelda\", \"imogene\", \"in\", \"inc\", \"include\", \"includes\", \"indeed\", \"index\", \"india\", \"indira\", \"inell\", \"ines\", \"inez\", \"information\", \"inga\", \"inge\", \"ingeborg\", \"inger\", \"ingrid\", \"inocencia\", \"instead\", \"internet\", \"into\", \"iola\", \"iona\", \"garth\", \"ione\", \"iraida\", \"irena\", \"irene\", \"iris\", \"irish\", \"irma\", \"irmgard\", \"irvin\", \"irving\", \"gaynelle\", \"is\", \"isa\", \"isaac\", \"isabel\", \"genaro\", \"isabell\", \"isabella\", \"isadora\", \"isaiah\", \"isaias\", \"isaura\", \"isela\", \"isiah\", \"isidra\", \"isidro\", \"isis\", \"ismael\", \"isnt\", \"isobel\", \"israel\", \"isreal\", \"issac\", \"it\", \"its\", \"itself\", \"ivan\", \"ivana\", \"ive\", \"georgianna\", \"ivelisse\", \"georgie\", \"ivey\", \"ivonne\", \"ivory\", \"ivy\", \"izetta\", \"izola\", \"j\", \"ja\", \"jacalyn\", \"jacelyn\", \"germaine\", \"jacinda\", \"jacinta\", \"jacinto\", \"gertha\", \"jackeline\", \"gertrud\", \"jackelyn\", \"jacki\", \"gertude\", \"jackie\", \"jacklyn\", \"jackqueline\", \"jackson\", \"jaclyn\", \"gil\", \"jacob\", \"jacqualine\", \"jacque\", \"jacquelin\", \"jacqueline\", \"jacquelyne\", \"jacquelynn\", \"jacques\", \"jacquetta\", \"jacqui\", \"jacquie\", \"jacquiline\", \"jacquline\", \"jacqulyn\", \"jada\", \"jadwiga\", \"jae\", \"jaime\", \"jaimee\", \"jaimie\", \"jake\", \"jaleesa\", \"jalisa\", \"jama\", \"jamaal\", \"jamal\", \"jamar\", \"jame\", \"jamee\", \"jamel\", \"james\", \"jamey\", \"jami\", \"jamie\", \"jamika\", \"jamila\", \"jamison\", \"jammie\", \"jan\", \"jana\", \"janae\", \"janay\", \"jane\", \"janean\", \"janee\", \"janeen\", \"graig\", \"janel\", \"janell\", \"janella\", \"janelle\", \"greg\", \"janene\", \"janessa\", \"janet\", \"janeth\", \"janett\", \"janetta\", \"janette\", \"janey\", \"jani\", \"janice\", \"grover\", \"janie\", \"janina\", \"janine\", \"janis\", \"janise\", \"janita\", \"jann\", \"janna\", \"jannet\", \"jannette\", \"jannie\", \"january\", \"janyce\", \"jaqueline\", \"jaquelyn\", \"jared\", \"jarod\", \"jarred\", \"jarrett\", \"jarrod\", \"jarvis\", \"jasmin\", \"jason\", \"jasper\", \"hana\", \"jaunita\", \"javier\", \"jay\", \"jaye\", \"jayme\", \"jaymie\", \"jayna\", \"jayne\", \"jayson\", \"jazmin\", \"jazmine\", \"jc\", \"jean\", \"jeana\", \"jeane\", \"jeanelle\", \"jeanene\", \"jeanett\", \"jeanetta\", \"jeanette\", \"jeanice\", \"jeanie\", \"jeanine\", \"jeanmarie\", \"jeanna\", \"jeanne\", \"jeannetta\", \"jeannette\", \"jeannie\", \"jeannine\", \"jed\", \"jeff\", \"hee\", \"jefferey\", \"jefferson\", \"jeffery\", \"jeffie\", \"jeffrey\", \"jeffry\", \"jen\", \"jena\", \"jenae\", \"jene\", \"jenee\", \"jenell\", \"jenelle\", \"jenette\", \"jeneva\", \"heriberto\", \"jeni\", \"jenice\", \"jenifer\", \"jeniffer\", \"hermila\", \"jenine\", \"jenise\", \"jenna\", \"jennefer\", \"jennell\", \"herta\", \"jennette\", \"jenni\", \"jennie\", \"hiedi\", \"jennifer\", \"jenniffer\", \"jennine\", \"jerald\", \"jeraldine\", \"hilde\", \"jeramy\", \"hildegarde\", \"jere\", \"jeremiah\", \"jeri\", \"jerica\", \"jerilyn\", \"hiram\", \"jermaine\", \"hisako\", \"jerold\", \"jerome\", \"jeromy\", \"jerrell\", \"jerri\", \"hollis\", \"jerrica\", \"jerrie\", \"jerrod\", \"jerrold\", \"jerry\", \"jesica\", \"jess\", \"jesse\", \"jessenia\", \"jessi\", \"jessia\", \"jessica\", \"jessika\", \"jestine\", \"hsiu\", \"jesus\", \"hue\", \"jesusa\", \"jesusita\", \"hugo\", \"jetta\", \"jettie\", \"jewel\", \"jewell\", \"ji\", \"jill\", \"jillian\", \"hyacinth\", \"jim\", \"jimmie\", \"jin\", \"jina\", \"hyun\", \"jinny\", \"jo\", \"joan\", \"joana\", \"joane\", \"joann\", \"ignacia\", \"joanna\", \"joanne\", \"ila\", \"joannie\", \"ilda\", \"joaquin\", \"joaquina\", \"jocelyn\", \"jodee\", \"jodi\", \"jodie\", \"jody\", \"joeann\", \"joel\", \"joella\", \"joelle\", \"joellen\", \"ina\", \"joesph\", \"joetta\", \"joette\", \"joey\", \"johana\", \"johanna\", \"johanne\", \"john\", \"johna\", \"johnathan\", \"johnathon\", \"johnetta\", \"johnie\", \"johnna\", \"ira\", \"johnnie\", \"johnny\", \"johnsie\", \"irina\", \"johnson\", \"joi\", \"joie\", \"jolanda\", \"joleen\", \"jolene\", \"irwin\", \"jolie\", \"joline\", \"jolyn\", \"jolynn\", \"jon\", \"isabelle\", \"jona\", \"jonah\", \"jonas\", \"jonathon\", \"jone\", \"jonell\", \"jonelle\", \"jong\", \"joni\", \"jonie\", \"jonna\", \"jonnie\", \"jordan\", \"jordon\", \"iva\", \"jorge\", \"jose\", \"josef\", \"ivette\", \"josefa\", \"josefina\", \"josefine\", \"joselyn\", \"joseph\", \"josephina\", \"josephine\", \"josette\", \"josh\", \"joshua\", \"josiah\", \"josie\", \"jack\", \"joslyn\", \"jospeh\", \"josphine\", \"josue\", \"jovan\", \"joy\", \"joya\", \"joyce\", \"joycelyn\", \"joye\", \"juan\", \"juana\", \"juanita\", \"jacquelyn\", \"jude\", \"judi\", \"judie\", \"judith\", \"judson\", \"judy\", \"julee\", \"julene\", \"jules\", \"juli\", \"jade\", \"julia\", \"julian\", \"juliana\", \"juliane\", \"juliann\", \"julianna\", \"julianne\", \"julie\", \"julieann\", \"julienne\", \"juliet\", \"julieta\", \"julietta\", \"juliette\", \"julio\", \"julissa\", \"julius\", \"june\", \"jung\", \"junie\", \"junior\", \"junita\", \"junko\", \"just\", \"justa\", \"justina\", \"justine\", \"jutta\", \"k\", \"ka\", \"kacey\", \"kaci\", \"kacie\", \"kacy\", \"kai\", \"kaila\", \"kaitlin\", \"kaitlyn\", \"kala\", \"kaleigh\", \"kaley\", \"kali\", \"kallie\", \"kalyn\", \"kam\", \"kamala\", \"janiece\", \"kami\", \"kamilah\", \"kandace\", \"kandice\", \"kandis\", \"kandra\", \"kandy\", \"kanesha\", \"kanisha\", \"kara\", \"karan\", \"kareem\", \"kareen\", \"karen\", \"karena\", \"karey\", \"kari\", \"karie\", \"karima\", \"karin\", \"karina\", \"jasmine\", \"karine\", \"karisa\", \"karissa\", \"karl\", \"karla\", \"karleen\", \"karlene\", \"karly\", \"karlyn\", \"karma\", \"karmen\", \"karol\", \"karole\", \"karoline\", \"karolyn\", \"karon\", \"karren\", \"karri\", \"karrie\", \"karry\", \"kary\", \"karyl\", \"karyn\", \"kasandra\", \"kasha\", \"kasi\", \"kassandra\", \"kassie\", \"kate\", \"katelin\", \"katelyn\", \"katelynn\", \"katerine\", \"kathaleen\", \"katharina\", \"katharine\", \"katharyn\", \"kathe\", \"katheleen\", \"katherin\", \"katherine\", \"kathern\", \"kathey\", \"kathi\", \"kathie\", \"kathleen\", \"kathlene\", \"kathline\", \"kathlyn\", \"kathrin\", \"kathrine\", \"kathryn\", \"kathryne\", \"kathy\", \"kathyrn\", \"kati\", \"katia\", \"katie\", \"katlyn\", \"katrice\", \"katrina\", \"kattie\", \"katy\", \"kay\", \"jenny\", \"kayce\", \"kaycee\", \"kaye\", \"kayla\", \"kaylee\", \"jeremy\", \"kayleen\", \"kayleigh\", \"kaylene\", \"jerlene\", \"kazuko\", \"kecia\", \"keeley\", \"keely\", \"keena\", \"keesha\", \"keiko\", \"keila\", \"keira\", \"keisha\", \"keith\", \"jesenia\", \"keitha\", \"keli\", \"kelle\", \"kelley\", \"kelli\", \"kellie\", \"kelly\", \"jessie\", \"kellye\", \"kelsey\", \"kelsi\", \"kelsie\", \"kelvin\", \"kemberly\", \"ken\", \"kena\", \"kenda\", \"kendal\", \"kendall\", \"kendra\", \"kendrick\", \"keneth\", \"jimmy\", \"kenia\", \"kenisha\", \"kenna\", \"kenneth\", \"kenny\", \"kent\", \"kenton\", \"joanie\", \"kenyatta\", \"kenyetta\", \"kera\", \"keren\", \"keri\", \"kermit\", \"kerri\", \"kerrie\", \"kerry\", \"kerstin\", \"kesha\", \"joe\", \"keshia\", \"keturah\", \"keva\", \"keven\", \"kevin\", \"khadijah\", \"khalilah\", \"kia\", \"kiana\", \"kiara\", \"kiera\", \"kiersten\", \"kiesha\", \"kieth\", \"kim\", \"kimber\", \"kimberlee\", \"johnette\", \"kimberley\", \"kimberlie\", \"kimberly\", \"kimbery\", \"kimbra\", \"kimi\", \"kimiko\", \"kina\", \"kindra\", \"king\", \"kira\", \"kirby\", \"kirk\", \"kirsten\", \"kirstie\", \"kirstin\", \"kisha\", \"kit\", \"kittie\", \"jonathan\", \"kitty\", \"kiyoko\", \"kizzie\", \"kizzy\", \"klara\", \"know\", \"korey\", \"kori\", \"kortney\", \"kory\", \"kourtney\", \"kraig\", \"kris\", \"krishna\", \"krissy\", \"krista\", \"kristal\", \"kristan\", \"kristeen\", \"kristel\", \"kristen\", \"kristi\", \"kristian\", \"kristie\", \"kristin\", \"kristina\", \"kristine\", \"kristofer\", \"kristy\", \"kristyn\", \"krysta\", \"jovita\", \"krystal\", \"krysten\", \"krystin\", \"krystina\", \"krystle\", \"krystyna\", \"kum\", \"kurt\", \"kurtis\", \"kyla\", \"kyle\", \"kylee\", \"kylie\", \"kym\", \"jule\", \"kymberly\", \"kyoko\", \"kyong\", \"kyra\", \"kyung\", \"l\", \"lacey\", \"lachelle\", \"laci\", \"lacie\", \"lacresha\", \"lacy\", \"ladawn\", \"ladonna\", \"lady\", \"lael\", \"lahoma\", \"lai\", \"laine\", \"lajuana\", \"lakeesha\", \"lakeisha\", \"lakendra\", \"lakenya\", \"lakesha\", \"lakeshia\", \"lakia\", \"lakiesha\", \"justin\", \"lakisha\", \"lakita\", \"lala\", \"lamonica\", \"lamont\", \"lan\", \"lana\", \"lance\", \"landon\", \"lane\", \"lanell\", \"lanelle\", \"lanette\", \"lani\", \"lanie\", \"lanita\", \"lannie\", \"lanny\", \"lanora\", \"laquanda\", \"laquita\", \"lara\", \"larae\", \"kandi\", \"laraine\", \"laree\", \"larhonda\", \"larisa\", \"larissa\", \"larita\", \"laronda\", \"larraine\", \"larry\", \"larue\", \"lasandra\", \"lashanda\", \"lashandra\", \"lashaun\", \"lashaunda\", \"lashawn\", \"lashawna\", \"lashay\", \"lashell\", \"lashon\", \"lashonda\", \"lashunda\", \"last\", \"latanya\", \"latasha\", \"latashia\", \"later\", \"latesha\", \"latia\", \"laticia\", \"latina\", \"latisha\", \"latonia\", \"latonya\", \"latoria\", \"latosha\", \"latoya\", \"latoyia\", \"latrice\", \"latricia\", \"latrina\", \"latrisha\", \"kasey\", \"latter\", \"latterly\", \"kasie\", \"launa\", \"laura\", \"lauralee\", \"lauran\", \"laure\", \"laureen\", \"laurel\", \"lauren\", \"laurena\", \"laurence\", \"laurene\", \"lauretta\", \"laurette\", \"lauri\", \"katherina\", \"laurice\", \"laurie\", \"katheryn\", \"laurinda\", \"laurine\", \"lauryn\", \"lavada\", \"lavelle\", \"lavenia\", \"lavera\", \"lavern\", \"laverna\", \"laverne\", \"laveta\", \"lavette\", \"lavinia\", \"lavon\", \"lavona\", \"lavonda\", \"katina\", \"lavone\", \"lavonia\", \"lavonna\", \"lawana\", \"lawanda\", \"lawanna\", \"lawerence\", \"lawrence\", \"layla\", \"layne\", \"lazaro\", \"le\", \"lea\", \"leah\", \"lean\", \"leana\", \"leandra\", \"leandro\", \"leann\", \"keenan\", \"leanna\", \"leanne\", \"leanora\", \"least\", \"leatha\", \"leatrice\", \"lecia\", \"leda\", \"leeann\", \"kellee\", \"leeanna\", \"leeanne\", \"leena\", \"leesa\", \"left\", \"leia\", \"leida\", \n",
        "                   \"leif\", \"leigh\", \"leigha\", \"leighann\", \"leila\", \"leilani\", \"leisa\", \"leisha\", \"lekisha\", \"lela\", \"lelah\", \"leland\", \"lelia\", \"lemuel\", \"len\", \"kennith\", \"lena\", \"lenard\", \"lenita\", \"kenya\", \"lenna\", \"lennie\", \"lenny\", \"lenora\", \"lenore\", \"leo\", \"leola\", \"leoma\", \"leon\", \"leona\", \"leonard\", \"leonarda\", \"leonardo\", \"leone\", \"leonel\", \"leonia\", \"leonida\", \"leonie\", \"leonila\", \"leonor\", \"leonora\", \"leonore\", \"leontine\", \"leopoldo\", \"leora\", \"kiley\", \"leota\", \"lera\", \"kimberely\", \"leroy\", \"les\", \"kimberli\", \"lesa\", \"lesha\", \"lesia\", \"leslee\", \"lesley\", \"lesli\", \"leslie\", \"less\", \"lessie\", \"kip\", \"lester\", \"let\", \"leta\", \"letha\", \"leticia\", \"letisha\", \"letitia\", \"lets\", \"lettie\", \"letty\", \"levi\", \"lewis\", \"lezlie\", \"li\", \"lia\", \"liana\", \"liane\", \"lianne\", \"libbie\", \"libby\", \"liberty\", \"librada\", \"lida\", \"lidia\", \"lien\", \"lieselotte\", \"ligia\", \"like\", \"likely\", \"lila\", \"lili\", \"lilia\", \"lilian\", \"liliana\", \"lilla\", \"kristle\", \"lilli\", \"kristopher\", \"lillia\", \"lilliam\", \"lillian\", \"lilliana\", \"lillie\", \"lilly\", \"lily\", \"lin\", \"lina\", \"lincoln\", \"linda\", \"lindsay\", \"lindsey\", \"lindsy\", \"lindy\", \"line\", \"linette\", \"ling\", \"linh\", \"links\", \"linn\", \"linnea\", \"linnie\", \"lino\", \"linsey\", \"linwood\", \"lionel\", \"lisa\", \"lisabeth\", \"lisandra\", \"lisbeth\", \"lise\", \"lisette\", \"lisha\", \"laila\", \"lissa\", \"lissette\", \"lita\", \"livia\", \"liz\", \"liza\", \"lizabeth\", \"lizbeth\", \"lizeth\", \"lizette\", \"lizzette\", \"lizzie\", \"ll\", \"lamar\", \"lloyd\", \"loan\", \"logan\", \"loida\", \"lois\", \"lola\", \"lolita\", \"loma\", \"lon\", \"lona\", \"lang\", \"londa\", \"loni\", \"lonna\", \"lonnie\", \"lonny\", \"lora\", \"loraine\", \"loralee\", \"lore\", \"lorean\", \"loree\", \"loreen\", \"lorelei\", \"loren\", \"lorena\", \"lorene\", \"lorenza\", \"lorenzo\", \"loreta\", \"loretta\", \"lorette\", \"lori\", \"loria\", \"loriann\", \"lorie\", \"lorilee\", \"lashawnda\", \"lorinda\", \"loris\", \"lorita\", \"lorna\", \"lorraine\", \"lasonya\", \"lorretta\", \"latarsha\", \"lorri\", \"lorriane\", \"lorrie\", \"lorrine\", \"lory\", \"lottie\", \"lou\", \"louanne\", \"louella\", \"louetta\", \"louie\", \"louis\", \"louisa\", \"louise\", \"loura\", \"lourdes\", \"lourie\", \"love\", \"lovella\", \"lovetta\", \"lovie\", \"lowell\", \"loyce\", \"loyd\", \"ltd\", \"lu\", \"luana\", \"luann\", \"luanna\", \"luanne\", \"luba\", \"lucas\", \"luci\", \"lucia\", \"luciano\", \"lucie\", \"lucien\", \"lucienne\", \"lucila\", \"lucilla\", \"lucille\", \"lucina\", \"lucio\", \"lucius\", \"lucrecia\", \"lavina\", \"lucretia\", \"lucy\", \"ludie\", \"ludivina\", \"luella\", \"luetta\", \"luigi\", \"lavonne\", \"luis\", \"luisa\", \"luise\", \"luke\", \"lula\", \"lulu\", \"luna\", \"lupe\", \"lupita\", \"lura\", \"lurlene\", \"lurline\", \"luther\", \"luvenia\", \"luz\", \"lyda\", \"lydia\", \"lyla\", \"lyle\", \"lyman\", \"lyn\", \"lynda\", \"lyndia\", \"lee\", \"lyndon\", \"lyndsay\", \"lyndsey\", \"lynell\", \"lynelle\", \"lynette\", \"lynn\", \"lynna\", \"lynne\", \"lynnette\", \"lynsey\", \"lynwood\", \"mabel\", \"mabelle\", \"mable\", \"mac\", \"machelle\", \"macie\", \"mack\", \"mackenzie\", \"macy\", \"madalene\", \"madaline\", \"madalyn\", \"maddie\", \"made\", \"madelaine\", \"madeleine\", \"madelene\", \"madeline\", \"madelyn\", \"madge\", \"madie\", \"madison\", \"madlyn\", \"madonna\", \"mae\", \"maegan\", \"mafalda\", \"magali\", \"magaly\", \"magan\", \"magaret\", \"magda\", \"magdalen\", \"magdalena\", \"magdalene\", \"magen\", \"maggie\", \"magnolia\", \"mahalia\", \"mai\", \"maia\", \"maida\", \"maile\", \"maira\", \"maire\", \"maisha\", \"maisie\", \"major\", \"majorie\", \"make\", \"makeda\", \"makes\", \"malcolm\", \"malcom\", \"malena\", \"malia\", \"malik\", \"malika\", \"malinda\", \"malisa\", \"lexie\", \"malissa\", \"malka\", \"mallie\", \"mallory\", \"malorie\", \"mamie\", \"mammie\", \"man\", \"mana\", \"manda\", \"mandi\", \"mandie\", \"mandy\", \"manie\", \"manual\", \"manuel\", \"manuela\", \"many\", \"maple\", \"mara\", \"maragaret\", \"maragret\", \"maranda\", \"marc\", \"marcel\", \"marcela\", \"marcelina\", \"marceline\", \"marcelino\", \"marcell\", \"marcella\", \"marcelle\", \"marcellus\", \"marcelo\", \"marcene\", \"marchelle\", \"marcia\", \"marcie\", \"marcos\", \"marcus\", \"marcy\", \"maren\", \"marg\", \"margareta\", \"margarett\", \"margaretta\", \"margarette\", \"margarita\", \"margarite\", \"margarito\", \"margart\", \"margene\", \"margeret\", \"margert\", \"margery\", \"marget\", \"margherita\", \"margie\", \"margit\", \"margo\", \"margorie\", \"margret\", \"margrett\", \"marguerita\", \"marguerite\", \"margurite\", \"margy\", \"marhta\", \"mari\", \"maria\", \"loise\", \"mariah\", \"mariam\", \"marian\", \"mariana\", \"marianela\", \"mariann\", \"marianna\", \"marianne\", \"mariano\", \"maribel\", \"maribeth\", \"marica\", \"maricela\", \"maricruz\", \"marie\", \"mariel\", \"mariela\", \"mariella\", \"marietta\", \"mariette\", \"mariko\", \"marilee\", \"marilou\", \"marilu\", \"marilyn\", \"marilynn\", \"marin\", \"marina\", \"marinda\", \"marine\", \"mario\", \"marion\", \"lorina\", \"maris\", \"lorine\", \"marisa\", \"marisela\", \"marisha\", \"marisol\", \"marissa\", \"marita\", \"maritza\", \"marivel\", \"marjory\", \"mark\", \"marketta\", \"markita\", \"louann\", \"markus\", \"marla\", \"marlana\", \"marleen\", \"marlen\", \"marlena\", \"marlene\", \"marlin\", \"marline\", \"marlo\", \"louvenia\", \"marlon\", \"marlyn\", \"marlys\", \"marna\", \"marni\", \"marnie\", \"marquerite\", \"marquetta\", \"marquis\", \"marquita\", \"marquitta\", \"marry\", \"marsha\", \"marshall\", \"marth\", \"martha\", \"luciana\", \"marti\", \"martin\", \"martina\", \"martine\", \"marty\", \"lucile\", \"marva\", \"marvel\", \"marvella\", \"lucinda\", \"marvin\", \"marvis\", \"marx\", \"mary\", \"marya\", \"maryalice\", \"maryam\", \"lue\", \"maryann\", \"maryanna\", \"maryanne\", \"marybelle\", \"marybeth\", \"maryellen\", \"maryetta\", \"maryjane\", \"maryjo\", \"maryland\", \"marylee\", \"marylin\", \"maryln\", \"marylou\", \"marylouise\", \"marylyn\", \"marylynn\", \"maryrose\", \"masako\", \"mason\", \"matha\", \"mathew\", \"mathilda\", \"mathilde\", \"matilda\", \"matilde\", \"matt\", \"matthew\", \"mattie\", \"maud\", \"maude\", \"lynetta\", \"maudie\", \"maura\", \"maureen\", \"maurice\", \"mauricio\", \"maurine\", \"maurita\", \"ma\", \"mauro\", \"mavis\", \"max\", \"maxie\", \"maxima\", \"maximina\", \"maximo\", \"maxine\", \"maxwell\", \"maya\", \"maybe\", \"maybell\", \"maybelle\", \"maye\", \"mayme\", \"maynard\", \"mayola\", \"mayra\", \"mazie\", \"mckenzie\", \"mckinley\", \"me\", \"meagan\", \"meaghan\", \"meantime\", \"meanwhile\", \"mechelle\", \"meda\", \"mee\", \"meg\", \"megan\", \"meggan\", \"meghan\", \"meghann\", \"mei\", \"mel\", \"melaine\", \"melani\", \"melania\", \"melanie\", \"melany\", \"melba\", \"melda\", \"melia\", \"melida\", \"melina\", \"melinda\", \"melisa\", \"melissa\", \"melissia\", \"melita\", \"mellie\", \"mellisa\", \"mellissa\", \"melodee\", \"melodi\", \"melodie\", \"melody\", \"melonie\", \"melony\", \"melva\", \"malvina\", \"melvin\", \"melvina\", \"mendy\", \"mercedes\", \"mercedez\", \"mercy\", \"meredith\", \"meri\", \"merideth\", \"meridith\", \"merilyn\", \"merissa\", \"merle\", \"mao\", \"merlene\", \"merlin\", \"merlyn\", \"merna\", \"merri\", \"merrie\", \"merrilee\", \"merrill\", \"marcelene\", \"merry\", \"mertie\", \"mervin\", \"meryl\", \"meta\", \"mi\", \"mia\", \"mica\", \"micaela\", \"micah\", \"marci\", \"michael\", \"michaela\", \"marco\", \"michaele\", \"michal\", \"michale\", \"mardell\", \"micheal\", \"michel\", \"margaret\", \"michele\", \"margarete\", \"michelina\", \"micheline\", \"michell\", \"michelle\", \"michiko\", \"mickey\", \"micki\", \"marge\", \"mickie\", \"miesha\", \"migdalia\", \"mignon\", \"miguelina\", \"mika\", \"mikaela\", \"mike\", \"mikel\", \"miki\", \"margot\", \"mikki\", \"milagro\", \"milagros\", \"milan\", \"milda\", \"mildred\", \"miles\", \"milford\", \"milissa\", \"millard\", \"millie\", \"million\", \"milly\", \"milo\", \"milton\", \"mimi\", \"min\", \"mina\", \"minda\", \"mindi\", \"mindy\", \"minerva\", \"ming\", \"minh\", \"minna\", \"minnie\", \"minta\", \"marielle\", \"miquel\", \"mira\", \"miranda\", \"mireille\", \"mireya\", \"miriam\", \"mirian\", \"mirna\", \"mirta\", \"mirtha\", \"misha\", \"miss\", \"missy\", \"misti\", \"mistie\", \"misty\", \"mitch\", \"mitchel\", \"mitchell\", \"mitsue\", \"mitsuko\", \"mittie\", \"marjorie\", \"mitzi\", \"mitzie\", \"miyoko\", \"modesto\", \"mohamed\", \"mohammad\", \"mohammed\", \"moira\", \"mollie\", \"molly\", \"moment\", \"mona\", \"monet\", \"monica\", \"monika\", \"monique\", \"monnie\", \"monroe\", \"monserrate\", \"monte\", \"monty\", \"moon\", \"mora\", \"more\", \"moreover\", \"morgan\", \"moriah\", \"morris\", \"marta\", \"morton\", \"mose\", \"moses\", \"moshe\", \"most\", \"mostly\", \"mozell\", \"mozella\", \"mozelle\", \"mr\", \"mrs\", \"much\", \"mui\", \"muoi\", \"murray\", \"must\", \"my\", \"myesha\", \"myles\", \"myong\", \"myra\", \"myrl\", \"myrle\", \"myrna\", \"myron\", \"myrta\", \"myrtie\", \"myrtle\", \"myself\", \"myung\", \"n\", \"nada\", \"nadene\", \"nadia\", \"naida\", \"nakesha\", \"nakia\", \"nakisha\", \"nakita\", \"nam\", \"namely\", \"nan\", \"nana\", \"nancee\", \"nancey\", \"nanci\", \"nancie\", \"nancy\", \"nanette\", \"nannette\", \"nannie\", \"naoma\", \"naomi\", \"napoleon\", \"narcisa\", \"natacha\", \"natalia\", \"natalie\", \"natalya\", \"natasha\", \"natashia\", \"nathalie\", \"nathanael\", \"nathanial\", \"natisha\", \"natividad\", \"natosha\", \"neal\", \"near\", \"necole\", \"ned\", \"neda\", \"nedra\", \"neely\", \"neida\", \"neil\", \"neither\", \"nelda\", \"nelia\", \"nelida\", \"nell\", \"nella\", \"nelle\", \"nellie\", \"nelly\", \"nelson\", \"nena\", \"nenita\", \"neoma\", \"neomi\", \"nereida\", \"nerissa\", \"nery\", \"nestor\", \"neta\", \"nettie\", \"neva\", \"nevada\", \"never\", \"nevertheless\", \"neville\", \"new\", \"newton\", \"next\", \"nga\", \"ngan\", \"ngoc\", \"nguyet\", \"nia\", \"nichelle\", \"nichol\", \"nicholas\", \"nichole\", \"melynda\", \"nicholle\", \"nick\", \"nicki\", \"nickie\", \"nickole\", \"nicky\", \"nicol\", \"nicola\", \"nicolas\", \"nicolasa\", \"nicole\", \"nicolette\", \"nicolle\", \"nida\", \"nidia\", \"niesha\", \"nieves\", \"nigel\", \"niki\", \"nikia\", \"nikita\", \"nikki\", \"nikole\", \"nila\", \"nilda\", \"nilsa\", \"nina\", \"nine\", \"ninety\", \"micha\", \"ninfa\", \"nisha\", \"nita\", \"no\", \"noah\", \"noble\", \"nobody\", \"nobuko\", \"noe\", \"noel\", \"noelia\", \"noella\", \"noelle\", \"noemi\", \"nola\", \"nolan\", \"noma\", \"nona\", \"none\", \"miguel\", \"nonetheless\", \"noone\", \"nor\", \"nora\", \"norah\", \"norbert\", \"norberto\", \"mila\", \"noreen\", \"noriko\", \"norine\", \"norma\", \"norman\", \"normand\", \"not\", \"nothing\", \"nova\", \"millicent\", \"novella\", \"now\", \"nowhere\", \"nu\", \"nubia\", \"numbers\", \"nydia\", \"nyla\", \"o\", \"obdulia\", \"ocie\", \"octavia\", \"octavio\", \"oda\", \"odelia\", \"odell\", \"odessa\", \"odette\", \"odilia\", \"odis\", \"mirella\", \"of\", \"ofelia\", \"off\", \"often\", \"oh\", \"ola\", \"olen\", \"olene\", \"oleta\", \"olevia\", \"olga\", \"olimpia\", \"olin\", \"olinda\", \"oliva\", \"olive\", \"oliver\", \"olivia\", \"ollie\", \"olympia\", \"oma\", \"modesta\", \"omar\", \"omega\", \"omer\", \"omitted\", \"on\", \"moises\", \"ona\", \"once\", \"one\", \"oneida\", \"ones\", \"onie\", \"onita\", \"only\", \"onto\", \"opal\", \"ophelia\", \"or\", \"oralee\", \"oralia\", \"ord\", \"oren\", \"oretha\", \"orlando\", \"orpha\", \"orval\", \"orville\", \"oscar\", \"ossie\", \"osvaldo\", \"oswaldo\", \n",
        "                   \"otelia\", \"muriel\", \"otha\", \"other\", \"others\", \"otherwise\", \"otilia\", \"otis\", \"myriam\", \"otto\", \"ouida\", \"our\", \"ours\", \"ourselves\", \"myrtice\", \"out\", \"myrtis\", \"over\", \"owen\", \"own\", \"ozell\", \"ozella\", \"ozie\", \"nadine\", \"p\", \"pa\", \"pablo\", \"page\", \"pages\", \"paige\", \"palma\", \"palmer\", \"palmira\", \"pamala\", \"pamela\", \"pamelia\", \"pamella\", \"pamila\", \"pamula\", \"pansy\", \"paola\", \"paris\", \"parker\", \"part\", \"parthenia\", \"particia\", \"pasquale\", \"pasty\", \"pat\", \"patience\", \"nathan\", \"patria\", \"patrica\", \"nathaniel\", \"patrice\", \"patricia\", \"patrina\", \"patsy\", \"patti\", \"pattie\", \"patty\", \"paula\", \"paulene\", \"paulette\", \"pauline\", \"paulita\", \"paz\", \"pearl\", \"pearle\", \"pearlene\", \"pearlie\", \"pearline\", \"pearly\", \"pedro\", \"peg\", \"peggie\", \"peggy\", \"pei\", \"penelope\", \"penney\", \"penni\", \"pennie\", \"penny\", \"per\", \"percy\", \"perhaps\", \"perla\", \"perry\", \"pete\", \"peter\", \"petra\", \"petrina\", \"petronila\", \"phebe\", \"phil\", \"philip\", \"phillip\", \"phillis\", \"philomena\", \"phung\", \"phuong\", \"nickolas\", \"phylicia\", \"phylis\", \"phyliss\", \"pia\", \"piedad\", \"pierre\", \"ping\", \"pinkie\", \"piper\", \"pok\", \"polly\", \"porfirio\", \"porsche\", \"porsha\", \"porter\", \"portia\", \"pp\", \"precious\", \"preston\", \"pricilla\", \"prince\", \"princess\", \"priscila\", \"priscilla\", \"proud\", \"providencia\", \"prudence\", \"q\", \"qiana\", \"queen\", \"queenie\", \"quentin\", \"quiana\", \"quincy\", \"quinn\", \"nohemi\", \"quintin\", \"quinton\", \"quyen\", \"r\", \"rachael\", \"rachal\", \"racheal\", \"rachel\", \"rachele\", \"norene\", \"rachell\", \"rachelle\", \"racquel\", \"rae\", \"raeann\", \"norris\", \"raelene\", \"rafael\", \"rafaela\", \"raguel\", \"raina\", \"raisa\", \"raleigh\", \"ralph\", \"ramiro\", \"ramon\", \"ramona\", \"ramonita\", \"ran\", \"rana\", \"ranae\", \"randa\", \"randal\", \"randall\", \"randee\", \"ok\", \"randi\", \"randolph\", \"ranee\", \"raphael\", \"raquel\", \"rashad\", \"rasheeda\", \"rashida\", \"raul\", \"raven\", \"ray\", \"raye\", \"rayford\", \"raymon\", \"raymond\", \"raymonde\", \"raymundo\", \"rayna\", \"re\", \"rea\", \"reagan\", \"reatha\", \"reba\", \"rebbeca\", \"rebbecca\", \"ora\", \"rebeca\", \"rebecca\", \"rebecka\", \"rebekah\", \"recent\", \"recently\", \"reed\", \"reena\", \"ref\", \"refs\", \"refugia\", \"refugio\", \"regan\", \"regena\", \"regenia\", \"reggie\", \"regina\", \"reginald\", \"regine\", \"reginia\", \"reid\", \"reiko\", \"reina\", \"reinaldo\", \"reita\", \"related\", \"rema\", \"remedios\", \"remona\", \"pam\", \"rena\", \"renaldo\", \"renata\", \"renate\", \"renato\", \"renay\", \"pandora\", \"renda\", \"renea\", \"renetta\", \"renita\", \"replied\", \"research\", \"ressie\", \"reta\", \"retha\", \"retta\", \"reuben\", \"reva\", \"rex\", \"reyes\", \"patrick\", \"reyna\", \"reynaldo\", \"rhea\", \"rheba\", \"rhett\", \"paul\", \"rhiannon\", \"rhoda\", \"pauletta\", \"rhona\", \"paulina\", \"rhonda\", \"ria\", \"ricardo\", \"rich\", \"richard\", \"richelle\", \"richie\", \"rick\", \"rickey\", \"ricki\", \"rickie\", \"ricky\", \"rico\", \"rigoberto\", \"rikki\", \"riley\", \"rima\", \"rina\", \"risa\", \"rita\", \"rivka\", \"robbi\", \"robbie\", \"robby\", \"robbyn\", \"robena\", \"robert\", \"roberta\", \"roberto\", \"robin\", \"robt\", \"robyn\", \"rocco\", \"phoebe\", \"rochel\", \"rochell\", \"rochelle\", \"rocio\", \"rocky\", \"phyllis\", \"rod\", \"roderick\", \"rodger\", \"pilar\", \"rodney\", \"rodolfo\", \"rodrick\", \"rodrigo\", \"rogelio\", \"roger\", \"roland\", \"rolanda\", \"rolande\", \"rolando\", \"rolf\", \"rolland\", \"roma\", \"romaine\", \"roman\", \"romana\", \"romelia\", \"romeo\", \"romona\", \"pura\", \"ron\", \"rona\", \"ronald\", \"roni\", \"ronna\", \"ronni\", \"ronnie\", \"ronny\", \"roosevelt\", \"rory\", \"rosa\", \"rosalba\", \"rosalee\", \"rosalia\", \"rosalie\", \"rosalind\", \"rosalinda\", \"rosaline\", \"rosalva\", \"rosalyn\", \"rosamaria\", \"rosamond\", \"rosana\", \"rosann\", \"rosanna\", \"rosanne\", \"rosaria\", \"rosario\", \"rosaura\", \"roscoe\", \"rose\", \"roseann\", \"roseanna\", \"roseanne\", \"roselee\", \"roselia\", \"roseline\", \"rosella\", \"randell\", \"roselle\", \"roselyn\", \"randy\", \"rosemarie\", \"rosemary\", \"rosena\", \"rosenda\", \"rosendo\", \"rosetta\", \"rosette\", \"rosia\", \"rosie\", \"rosina\", \"rosio\", \"raylene\", \"roslyn\", \"ross\", \"rossana\", \"rossie\", \"rosy\", \"rowena\", \"roxana\", \"reanna\", \"roxane\", \"roxann\", \"roxanna\", \"roxanne\", \"roxie\", \"roy\", \"royal\", \"royce\", \"reda\", \"rozanne\", \"rozella\", \"ruben\", \"rubi\", \"rubie\", \"rubin\", \"rubye\", \"rudolf\", \"rudolph\", \"rudy\", \"rueben\", \"rufina\", \"rufus\", \"run\", \"rupert\", \"russel\", \"russell\", \"rusty\", \"ruth\", \"rutha\", \"ruthann\", \"renae\", \"ruthanne\", \"ruthe\", \"ruthie\", \"ryan\", \"ryann\", \"s\", \"rene\", \"sabina\", \"renee\", \"sabine\", \"sabra\", \"renna\", \"sabrina\", \"sacha\", \"sachiko\", \"sade\", \"sadie\", \"sadye\", \"sage\", \"rey\", \"said\", \"sal\", \"reynalda\", \"salena\", \"salina\", \"salley\", \"sallie\", \"sally\", \"salome\", \"salvador\", \"salvatore\", \"sam\", \"ricarda\", \"samantha\", \"samara\", \"samatha\", \"same\", \"samella\", \"samira\", \"sammie\", \"sammy\", \"samual\", \"samuel\", \"sana\", \"sanda\", \"sandee\", \"sandi\", \"sandie\", \"sandra\", \"sandy\", \"sanford\", \"riva\", \"sang\", \"rob\", \"sanjuana\", \"sanjuanita\", \"robbin\", \"sanora\", \"santa\", \"santana\", \"santiago\", \"santo\", \"santos\", \"sara\", \"sarah\", \"sarai\", \"saran\", \"sari\", \"sarina\", \"sarita\", \"sasha\", \"saturnina\", \"sau\", \"saul\", \"saundra\", \"savanna\", \"say\", \"scarlet\", \"scarlett\", \"scot\", \"scott\", \"scottie\", \"scotty\", \"sean\", \"search\", \"season\", \"sebastian\", \"sebrina\", \"sec\", \"section\", \"see\", \"seem\", \"seema\", \"seemed\", \"seeming\", \"seems\", \"ronda\", \"selena\", \"selene\", \"selina\", \"selma\", \"sena\", \"senaida\", \"september\", \"serafina\", \"serena\", \"sergio\", \"serina\", \"serita\", \"rosalina\", \"server\", \"seth\", \"seven\", \"seventy\", \"several\", \"seymour\", \"sha\", \"shad\", \"shae\", \"shaina\", \"shakia\", \"shakita\", \"shala\", \"shalanda\", \"shall\", \"shalon\", \"shalonda\", \"shameka\", \"shamika\", \"shan\", \"shana\", \"shanae\", \"shanda\", \"shandi\", \"shandra\", \"shane\", \"shaneka\", \"shanel\", \"shanell\", \"shanelle\", \"shanice\", \"shanika\", \"shaniqua\", \"shanita\", \"shannan\", \"shannon\", \"rosita\", \"shanon\", \"shanta\", \"shantae\", \"shantay\", \"shante\", \"shantel\", \"shantell\", \"shantelle\", \"shanti\", \"shaquana\", \"shaquita\", \"shara\", \"roxy\", \"sharan\", \"sharda\", \"sharee\", \"sharell\", \"sharen\", \"shari\", \"sharice\", \"sharie\", \"sharika\", \"ruby\", \"sharilyn\", \"sharla\", \"sharleen\", \"sharlene\", \"sharmaine\", \"sharolyn\", \"sharon\", \"sharri\", \"russ\", \"sharyl\", \"sharyn\", \"shasta\", \"shaun\", \"shauna\", \"shaunda\", \"shaunna\", \"shaunta\", \"shaunte\", \"shavon\", \"shavonda\", \"shavonne\", \"shawana\", \"shawanda\", \"shawanna\", \"shawn\", \"shawnda\", \"shawnee\", \"shawnna\", \"shawnta\", \"shay\", \"shayla\", \"shayna\", \"shayne\", \"she\", \"shea\", \"sheba\", \"shed\", \"sheena\", \"sheila\", \"sheilah\", \"shela\", \"shelba\", \"shelby\", \"sheldon\", \"shelia\", \"shell\", \"shella\", \"shelley\", \"shelli\", \"shellie\", \"shelly\", \"shemeka\", \"shemika\", \"shena\", \"shenika\", \"shenita\", \"shenna\", \"shera\", \"sheree\", \"sherell\", \"sheri\", \"sherice\", \"sheridan\", \"sherie\", \"santina\", \"sherika\", \"sherill\", \"sherilyn\", \"sherise\", \"sherita\", \"sherlene\", \"sherley\", \"sherly\", \"sherlyn\", \"sherman\", \"sheron\", \"sherrell\", \"sherri\", \"sherrie\", \"sherril\", \"savannah\", \"sherrill\", \"sherron\", \"sherry\", \"sherryl\", \"sherwood\", \"shery\", \"sheryl\", \"sheryll\", \"shes\", \"shiela\", \"shila\", \"shiloh\", \"shin\", \"shira\", \"shirely\", \"shirl\", \"shirlee\", \"shirleen\", \"shirlene\", \"shirley\", \"shirly\", \"shizue\", \"shizuko\", \"shon\", \"shona\", \"setsuko\", \"shonda\", \"shondra\", \"shonna\", \"shonta\", \"shoshana\", \"shu\", \"shakira\", \"shyla\", \"sibyl\", \"sid\", \"sidney\", \"sierra\", \"signe\", \"sigrid\", \"silas\", \"silva\", \"silvana\", \"silvia\", \"sima\", \"simon\", \"simona\", \"simone\", \"simonne\", \"sina\", \"since\", \"shani\", \"sindy\", \"siobhan\", \"sirena\", \"siu\", \"shanna\", \"six\", \"sixty\", \"skye\", \"slyvia\", \"so\", \"socorro\", \"sofia\", \"soila\", \"sol\", \"solange\", \"soledad\", \"solomon\", \"some\", \"somehow\", \"someone\", \"somer\", \"something\", \"sometime\", \"sometimes\", \"somewhere\", \"sommer\", \"son\", \"sona\", \"sharita\", \"sondra\", \"song\", \"sonia\", \"sonja\", \"sonny\", \"sonya\", \"sharonda\", \"soo\", \"sharron\", \"sook\", \"soon\", \"sophia\", \"sophie\", \"soraya\", \"sparkle\", \"spencer\", \"spring\", \"stacee\", \"stacey\", \"staci\", \"stacia\", \"stacie\", \"stacy\", \"stanford\", \"shawna\", \"stanley\", \"stanton\", \"star\", \"starla\", \"starr\", \"stefan\", \"stefani\", \"stefania\", \"stefanie\", \"stefany\", \"steffanie\", \"stella\", \"stepanie\", \"stephan\", \"stephane\", \"stephani\", \"stephania\", \"stephanie\", \"stephen\", \"stephenie\", \"stephine\", \"stephnie\", \"sterling\", \"shelton\", \"steve\", \"steven\", \"stevie\", \"stewart\", \"still\", \"stop\", \"stormy\", \"stuart\", \"suanne\", \"such\", \"sudie\", \"sue\", \"sueann\", \"suellen\", \"suk\", \"sulema\", \"sumiko\", \"summer\", \"sun\", \"sunday\", \"sung\", \"sunni\", \"sunny\", \"sunshine\", \"susan\", \"susana\", \"susann\", \"susanna\", \"susannah\", \"susanne\", \"susie\", \"susy\", \"suzan\", \"suzann\", \"suzanna\", \"suzanne\", \"suzette\", \"suzi\", \"suzy\", \"svetlana\", \"sybil\", \"syble\", \"sydney\", \"sylvester\", \"sylvia\", \"sylvie\", \"synthia\", \"syreeta\", \"t\", \"ta\", \"tabetha\", \"tabitha\", \"tad\", \"tai\", \"taina\", \"taisha\", \"tajuana\", \"takako\", \"taking\", \"takisha\", \"talia\", \"talisha\", \"talitha\", \"tama\", \"tamar\", \"tamara\", \"tamatha\", \"tambra\", \"tameika\", \"tameka\", \"tamekia\", \"tamela\", \"tamera\", \"tamesha\", \"tami\", \"tamica\", \"tamie\", \"tamiko\", \"tamisha\", \"sixta\", \"tammara\", \"tammera\", \"tammi\", \"tammie\", \"tammy\", \"tana\", \"tandra\", \"tandy\", \"taneka\", \"tanesha\", \"tangela\", \"tania\", \"tanika\", \"tanja\", \"tanna\", \"tanner\", \"tara\", \"tarah\", \"taren\", \"tarra\", \"tarsha\", \"taryn\", \"tasha\", \"tashia\", \"tashina\", \"tasia\", \"tatiana\", \"tatum\", \"tatyana\", \"taunya\", \"tawana\", \"tawanda\", \"tawanna\", \"tawna\", \"tawnya\", \"stan\", \"taylor\", \"tayna\", \"ted\", \"teddy\", \"tegan\", \"tell\", \"stasia\", \"telma\", \"temeka\", \"temika\", \"tempie\", \"temple\", \"ten\", \"tena\", \"tenesha\", \"stephaine\", \"tenisha\", \"tennie\", \"tennille\", \"teodora\", \"teodoro\", \"stephany\", \"teofila\", \"tequila\", \"tera\", \"tereasa\", \"terence\", \"teresa\", \"teresia\", \"teresita\", \"teressa\", \"teri\", \"terica\", \"su\", \"terina\", \"terisa\", \"terra\", \"terrance\", \"terrell\", \"terrence\", \"terresa\", \"terri\", \"terrie\", \"terrilyn\", \"terry\", \"tesha\", \"tessa\", \"tessie\", \"thad\", \"thaddeus\", \"thalia\", \"than\", \"thanh\", \"thao\", \"that\", \"thatll\", \"thats\", \"thatve\", \"the\", \"theda\", \"their\", \"thelma\", \"them\", \"suzie\", \"themselves\", \"then\", \"thence\", \"theo\", \"theodora\", \"theodore\", \"theola\", \"thereafter\", \"thereby\", \"thered\", \"therefore\", \"tabatha\", \"therein\", \"therell\", \"therere\", \"theres\", \"theresa\", \"therese\", \"theressa\", \"thereupon\", \"thereve\", \"theron\", \"thersa\", \"these\",\n",
        "                   \"tam\", \"theyd\", \"tamala\", \"theyll\", \"theyre\", \"theyve\", \"thi\", \"thing\", \"think\", \"thirty\", \"this\", \"thomas\", \"thomasena\", \"thomasina\", \"thomasine\", \"thora\", \"tamika\", \"those\", \"though\", \"thought\", \"thousand\", \"thresa\", \"through\", \"throughout\", \"tamra\", \"thru\", \"thu\", \"thurman\", \"thus\", \"thuy\", \"tia\", \"tiana\", \"tianna\", \"tanisha\", \"tiara\", \"tien\", \"tiera\", \"tanya\", \"tierra\", \"tiesha\", \"tifany\", \"tari\", \"tiffaney\", \"tiffani\", \"tiffanie\", \"tiffany\", \"tiffiny\", \"tijuana\", \"til\", \"tilda\", \"till\", \"tillie\", \"tim\", \"timika\", \"timmy\", \"timothy\", \"tina\", \"tawny\", \"tinisha\", \"tiny\", \"tip\", \"tisa\", \"tish\", \"teena\", \"tisha\", \"teisha\", \"titus\", \"to\", \"tobi\", \"tobias\", \"tobie\", \"toby\", \"toccara\", \"tod\", \"together\", \"toi\", \"told\", \"tom\", \"tomas\", \"tomasa\", \"tomeka\", \"tomi\", \"tomika\", \"tomiko\", \"terese\", \"tommie\", \"tommy\", \"tommye\", \"tomoko\", \"tona\", \"tonda\", \"tonette\", \"toney\", \"tonia\", \"tonie\", \"tonisha\", \"tonita\", \"tonja\", \"tony\", \"tonya\", \"too\", \"tora\", \"tess\", \"tori\", \"torie\", \"torri\", \"torrie\", \"tory\", \"tosha\", \"toshia\", \"thea\", \"toshiko\", \"tova\", \"towanda\", \"towards\", \"toya\", \"tracee\", \"traci\", \"tracie\", \"theresia\", \"tracy\", \"tran\", \"trang\", \"travis\", \"treasa\", \"treena\", \"trena\", \"trent\", \"trenton\", \"tresa\", \"tressa\", \"tressie\", \"treva\", \"trevor\", \"trey\", \"tricia\", \"trillion\", \"trina\", \"trinh\", \"trinidad\", \"trinity\", \"trisha\", \"trista\", \"tristan\", \"troy\", \"trudi\", \"trudie\", \"trudy\", \"trula\", \"truman\", \"try\", \"tu\", \"tuan\", \"tula\", \"tuyet\", \"twana\", \"twanda\", \"twanna\", \"twenty\", \"twila\", \"two\", \"twyla\", \"ty\", \"tyesha\", \"tyisha\", \"tyler\", \"tynisha\", \"todd\", \"tyra\", \"tyree\", \"tyron\", \"tyrone\", \"tyson\", \"u\", \"ulrike\", \"ulysses\", \"un\", \"una\", \"under\", \"unless\", \"unlike\", \"until\", \"unto\", \"up\", \"toni\", \"upon\", \"ursula\", \"us\", \"used\", \"usha\", \"using\", \"ute\", \"v\", \"vada\", \"val\", \"valarie\", \"valda\", \"valencia\", \"valene\", \"valentin\", \"valentina\", \"valentine\", \"valeri\", \"valeria\", \"valerie\", \"tracey\", \"valery\", \"valorie\", \"valrie\", \"van\", \"vanda\", \"vanesa\", \"vanessa\", \"vanetta\", \"vania\", \"vanita\", \"vanna\", \"vannesa\", \"vannessa\", \"vashti\", \"vasiliki\", \"vaughn\", \"ve\", \"veda\", \"velda\", \"velia\", \"vella\", \"velma\", \"trish\", \"velva\", \"velvet\", \"vena\", \"venessa\", \"venetta\", \"venice\", \"venita\", \"vennie\", \"venus\", \"veola\", \"vera\", \"verda\", \"verdell\", \"verdie\", \"verena\", \"vergie\", \"verla\", \"verlene\", \"verlie\", \"verline\", \"vern\", \"verna\", \"vernell\", \"vernetta\", \"vernia\", \"tyrell\", \"vernice\", \"vernie\", \"vernita\", \"ula\", \"vernon\", \"verona\", \"veronica\", \"veronika\", \"veronique\", \"versie\", \"vertie\", \"very\", \"vesta\", \"veta\", \"vi\", \"via\", \"vicenta\", \"vicente\", \"vickey\", \"vickie\", \"vicky\", \"victor\", \"victoria\", \"vida\", \"vallie\", \"viki\", \"vikki\", \"vilma\", \"vance\", \"vina\", \"vince\", \"vincent\", \"vincenza\", \"vincenzo\", \"vinita\", \"vinnie\", \"viola\", \"violet\", \"violeta\", \"violette\", \"virgen\", \"virgie\", \"virgil\", \"virgilio\", \"virgina\", \"virginia\", \"vita\", \"vito\", \"viva\", \"vivan\", \"vivian\", \"viviana\", \"vivien\", \"vivienne\", \"vol\", \"vols\", \"von\", \"voncile\", \"vonda\", \"vonnie\", \"vs\", \"w\", \"wade\", \"wai\", \"waldo\", \"walker\", \"wallace\", \"wally\", \"walter\", \"walton\", \"waltraud\", \"wan\", \"wanda\", \"waneta\", \"wanetta\", \"wanita\", \"ward\", \"warner\", \"warren\", \"was\", \"wasnt\", \"wava\", \"way\", \"waylon\", \"wayne\", \"we\", \"wed\", \"vicki\", \"wei\", \"weldon\", \"well\", \"wen\", \"victorina\", \"wendell\", \"wendi\", \"wendie\", \"wendolyn\", \"wendy\", \"wenona\", \"went\", \"were\", \"werent\", \"werner\", \"wes\", \"wesley\", \"weston\", \"weve\", \"what\", \"whatever\", \"whatll\", \"whats\", \"whatve\", \"when\", \"whence\", \"whenever\", \"where\", \"whereafter\", \"whereas\", \"whereby\", \"wherein\", \"wheres\", \"whereupon\", \"wherever\", \"whether\", \"which\", \"while\", \"whim\", \"whither\", \"whitley\", \"whitney\", \"who\", \"whod\", \"whoever\", \"whole\", \"wholl\", \"whom\", \"whomever\", \"whos\", \"whose\", \"why\", \"wilber\", \"wilbert\", \"wilbur\", \"wilburn\", \"wilda\", \"wiley\", \"wilford\", \"wilfred\", \"wilfredo\", \"wilhelmina\", \"wilhemina\", \"will\", \"willa\", \"willard\", \"willena\", \"willene\", \"willetta\", \"willette\", \"willia\", \"william\", \"williams\", \"willian\", \"willie\", \"williemae\", \"willis\", \"willodean\", \"willow\", \"willy\", \"wilma\", \"wilmer\", \"wilson\", \"wilton\", \"windy\", \"winford\", \"winfred\", \"winifred\", \"winnie\", \"winnifred\", \"winona\", \"winston\", \"winter\", \"with\", \"within\", \"without\", \"wm\", \"wonda\", \"wont\", \"woodrow\", \"words\", \"wouldnt\", \"wyatt\", \"wynell\", \"wynona\", \"x\", \"xavier\", \"xenia\", \"xiao\", \"xiomara\", \"xochitl\", \"xuan\", \"y\", \"yadira\", \"yaeko\", \"yael\", \"yahaira\", \"yajaira\", \"yan\", \"yang\", \"yanira\", \"yasmin\", \"yasmine\", \"yasuko\", \"yee\", \"yelena\", \"yen\", \"yer\", \"yes\", \"yesenia\", \"yessenia\", \"yet\", \"yetta\", \"yevette\", \"yi\", \"ying\", \"yoko\", \"yolanda\", \"yolande\", \"yolando\", \"yolonda\", \"yon\", \"yong\", \"yoshie\", \"yoshiko\", \"you\", \"youd\", \"youlanda\", \"youll\", \"young\", \"your\", \"youre\", \"yours\", \"yourself\", \"yourselves\", \"youve\", \"yu\", \"yuette\", \"yuk\", \"yuki\", \"yukiko\", \"yuko\", \"yulanda\", \"yun\", \"yung\", \"yuonne\", \"yuri\", \"yuriko\", \"yvette\", \"yvone\", \"yvonne\", \"z\", \"zachariah\", \"zachary\", \"zachery\", \"zack\", \"zackary\", \"zada\", \"zaida\", \"zana\", \"zandra\", \"zane\", \"zelda\", \"zella\", \"zelma\", \"zena\", \"zenaida\", \"zenia\", \"zenobia\", \"zetta\", \"zina\", \"zita\", \"zoe\", \"zofia\", \"zoila\", \"zola\", \"zona\", \"zonia\", \"zora\", \"zoraida\", \"zula\", \"zulema\", \"zulma\"])"
      ],
      "execution_count": 0,
      "outputs": []
    },
    {
      "cell_type": "code",
      "metadata": {
        "id": "RURy-MC_KjGI",
        "colab_type": "code",
        "colab": {}
      },
      "source": [
        "import re\n",
        "def preprocess(x):\n",
        "    x = re.sub('[^a-z\\s]', '', x.lower())                  # get rid of noise\n",
        "    x = [w for w in x.split() if w not in stop_words] # remove stopwords\n",
        "    return ' '.join(x) \n",
        "\n",
        "over_sampled['SData'] = over_sampled['data'].apply(preprocess)\n"
      ],
      "execution_count": 0,
      "outputs": []
    },
    {
      "cell_type": "code",
      "metadata": {
        "id": "m7-LWZ7QGIIh",
        "colab_type": "code",
        "colab": {}
      },
      "source": [
        "over_sampled['SData'] = over_sampled['SData'].str.replace('\\d+', '') #remove numeric"
      ],
      "execution_count": 0,
      "outputs": []
    },
    {
      "cell_type": "code",
      "metadata": {
        "id": "EoBxMnKmGcs-",
        "colab_type": "code",
        "colab": {}
      },
      "source": [
        "over_sampled['SData'] = over_sampled['SData'].str.replace(r'\\b\\w\\b','').str.replace(r'\\s+', ' ') #removing single words"
      ],
      "execution_count": 0,
      "outputs": []
    },
    {
      "cell_type": "code",
      "metadata": {
        "id": "E5oZpK8o_QVN",
        "colab_type": "code",
        "colab": {}
      },
      "source": [
        "from nltk import word_tokenize, pos_tag, ne_chunk\n",
        "\n",
        "import spacy\n",
        "\n",
        "nlp = spacy.load('en' ,disable=['parser', 'ner'])\n",
        "nlp.max_length = 1500000\n",
        "def lemmatization(texts, allowed_postags=['ADJ', 'VERB', 'ADV']):\n",
        "   \n",
        "    texts_out = []\n",
        "    for sent in texts:\n",
        "        doc = nlp(\" \".join(sent)) \n",
        "        texts_out.append([token.lemma_ for token in doc if token.pos_ in allowed_postags])\n",
        "    return (texts_out)"
      ],
      "execution_count": 0,
      "outputs": []
    },
    {
      "cell_type": "code",
      "metadata": {
        "id": "noDuB6lZ_7XL",
        "colab_type": "code",
        "colab": {}
      },
      "source": [
        "over_sampled['SNData'] = lemmatization(over_sampled['SData'].apply(word_tokenize).tolist(), allowed_postags=['VERB', 'NOUN'])\n",
        "#books['SNData'] = lemmatization(books['SData'], allowed_postags=['VERB', 'NOUN']) #change allowed_tag for other tags to be included\n",
        "over_sampled['SNData'] = over_sampled['SNData'].str.join(' ')"
      ],
      "execution_count": 0,
      "outputs": []
    },
    {
      "cell_type": "markdown",
      "metadata": {
        "id": "C8qFOMHSnx3T",
        "colab_type": "text"
      },
      "source": [
        "**Classifier PipeLine**"
      ]
    },
    {
      "cell_type": "code",
      "metadata": {
        "id": "IWFwMh7Msz6O",
        "colab_type": "code",
        "colab": {}
      },
      "source": [
        "X , y = over_sampled['SNData'], over_sampled['genre']"
      ],
      "execution_count": 0,
      "outputs": []
    },
    {
      "cell_type": "code",
      "metadata": {
        "id": "m4b9TjdbFWzR",
        "colab_type": "code",
        "colab": {
          "base_uri": "https://localhost:8080/",
          "height": 54
        },
        "outputId": "32c7763d-e956-44a4-ca07-522d239bbec3"
      },
      "source": [
        "from collections import Counter\n",
        "print('Dataset shape %s' % Counter(y))"
      ],
      "execution_count": 160,
      "outputs": [
        {
          "output_type": "stream",
          "text": [
            "Dataset shape Counter({'Literary': 40, 'Sea and Adventure': 36, 'Detective and Mystery': 34, 'Love and Romance': 34, 'Christmas Stories': 34, 'Western Stories': 34, 'Ghost and Horror': 34, 'Humorous and Wit and Satire': 34, 'Allegories': 34})\n"
          ],
          "name": "stdout"
        }
      ]
    },
    {
      "cell_type": "code",
      "metadata": {
        "scrolled": true,
        "id": "bpqgCvk0r_h3",
        "colab_type": "code",
        "colab": {}
      },
      "source": [
        "\"\"\" calling base line and balanced accuracy compariosn by making it in impbalance for better comparision\"\"\"\n",
        "\n",
        "\"\"\" Making classification using pipline with only bag of words to check the under sampling effect\"\"\"\n",
        "\n",
        "\"\"\" This fucntion basically cna be called from any pipline with hold out method, hence callling this for various sampling techniques\"\"\"\n",
        "\n",
        "from sklearn.naive_bayes import MultinomialNB\n",
        "from sklearn.pipeline import Pipeline\n",
        "from sklearn.feature_extraction.text import TfidfVectorizer\n",
        "from nltk.corpus import stopwords\n",
        "\n",
        "from sklearn.model_selection import train_test_split\n",
        "import time\n",
        "import seaborn as sns\n",
        "from sklearn.metrics import confusion_matrix\n",
        "import matplotlib.pyplot as plt\n",
        "from sklearn.metrics import classification_report\n",
        "import pandas as pd\n",
        "from sklearn.metrics import balanced_accuracy_score\n",
        "from collections import Counter\n",
        "\n",
        "def eve_clf(classifier, X, y , df_scores, clf_name=None):\n",
        "    start = time.time()\n",
        "    X_train, X_test, y_train, y_test = train_test_split(X, y, test_size=0.2, random_state=11, stratify=y)\n",
        "\n",
        "    classifier.fit(X_train, y_train)\n",
        "    end = time.time()\n",
        "    acc =classifier.score(X_test, y_test)\n",
        "\n",
        "    print(\"Accuracy: \" + str(classifier.score(X_test, y_test)) + \", Time duration: \" + str(end - start))\n",
        "    print('Changed dataset shape y_train %s' % Counter(y_train))\n",
        "    print('Changed dataset shape y_test %s' % Counter(y_test))\n",
        "    y_pred = classifier.predict(X_test)\n",
        "    conf_mat = confusion_matrix(y_test, y_pred)\n",
        "    #balanced accuracy\n",
        "    bal_acc = balanced_accuracy_score(y_test, y_pred)\n",
        "    clf_score = pd.DataFrame(\n",
        "        {clf_name: [acc, bal_acc]},\n",
        "        index=['Accuracy', 'Balanced accuracy']\n",
        "    )\n",
        "    \n",
        "    # Plot confusion_matrix\n",
        "    fig, ax = plt.subplots(figsize=(15, 10))\n",
        "    sns.heatmap(conf_mat, annot=True, cmap = \"Set3\", fmt =\"d\",\n",
        "    xticklabels=books.genre.unique(), yticklabels=books.genre.unique())\n",
        "    plt.ylabel('Actual')\n",
        "    plt.xlabel('Predicted')\n",
        "    plt.show()\n",
        "    \n",
        "    print(classification_report(y_test, y_pred))\n",
        "    df_scores = pd.concat([df_scores, clf_score], axis=1).round(decimals=3)\n",
        "    return df_scores\n",
        "\n",
        "df_scores = pd.DataFrame()\n",
        "\n"
      ],
      "execution_count": 0,
      "outputs": []
    },
    {
      "cell_type": "code",
      "metadata": {
        "id": "lLHDy8TvsvH3",
        "colab_type": "code",
        "colab": {
          "base_uri": "https://localhost:8080/",
          "height": 1000
        },
        "outputId": "c7cc0258-d8c0-4145-e0d8-02d997eb5ac7"
      },
      "source": [
        "#Calling with NB\n",
        "trial1 = Pipeline([ ('vectorizer', TfidfVectorizer(stop_words=stopwords.words('english'))), ('classifier', MultinomialNB())])\n",
        "\n",
        "\n",
        "#It shall just give me over alla ccuracy and CM for bag of words approach in imbalaned data\n",
        "df_scores=eve_clf(trial1, X, y, df_scores,'NaiveBayes')\n",
        "print(df_scores)"
      ],
      "execution_count": 162,
      "outputs": [
        {
          "output_type": "stream",
          "text": [
            "Accuracy: 0.7619047619047619, Time duration: 3.0594513416290283\n",
            "Changed dataset shape y_train Counter({'Literary': 32, 'Sea and Adventure': 29, 'Detective and Mystery': 28, 'Christmas Stories': 27, 'Ghost and Horror': 27, 'Western Stories': 27, 'Humorous and Wit and Satire': 27, 'Love and Romance': 27, 'Allegories': 27})\n",
            "Changed dataset shape y_test Counter({'Literary': 8, 'Ghost and Horror': 7, 'Western Stories': 7, 'Allegories': 7, 'Humorous and Wit and Satire': 7, 'Sea and Adventure': 7, 'Love and Romance': 7, 'Christmas Stories': 7, 'Detective and Mystery': 6})\n"
          ],
          "name": "stdout"
        },
        {
          "output_type": "display_data",
          "data": {
            "image/png": "[encoded data removed]",
            "text/plain": [
              "<Figure size 1080x720 with 2 Axes>"
            ]
          },
          "metadata": {
            "tags": [],
            "needs_background": "light"
          }
        },
        {
          "output_type": "stream",
          "text": [
            "                             precision    recall  f1-score   support\n",
            "\n",
            "                 Allegories       0.64      1.00      0.78         7\n",
            "          Christmas Stories       1.00      1.00      1.00         7\n",
            "      Detective and Mystery       0.00      0.00      0.00         6\n",
            "           Ghost and Horror       0.58      1.00      0.74         7\n",
            "Humorous and Wit and Satire       0.88      1.00      0.93         7\n",
            "                   Literary       0.43      0.38      0.40         8\n",
            "           Love and Romance       1.00      0.71      0.83         7\n",
            "          Sea and Adventure       0.83      0.71      0.77         7\n",
            "            Western Stories       1.00      1.00      1.00         7\n",
            "\n",
            "                   accuracy                           0.76        63\n",
            "                  macro avg       0.71      0.76      0.72        63\n",
            "               weighted avg       0.71      0.76      0.72        63\n",
            "\n",
            "                   NaiveBayes\n",
            "Accuracy                0.762\n",
            "Balanced accuracy       0.756\n"
          ],
          "name": "stdout"
        },
        {
          "output_type": "stream",
          "text": [
            "/usr/local/lib/python3.6/dist-packages/sklearn/metrics/_classification.py:1272: UndefinedMetricWarning: Precision and F-score are ill-defined and being set to 0.0 in labels with no predicted samples. Use `zero_division` parameter to control this behavior.\n",
            "  _warn_prf(average, modifier, msg_start, len(result))\n"
          ],
          "name": "stderr"
        }
      ]
    },
    {
      "cell_type": "code",
      "metadata": {
        "id": "7GKwRz9Pr_iF",
        "colab_type": "code",
        "colab": {
          "base_uri": "https://localhost:8080/",
          "height": 1000
        },
        "outputId": "cda30729-3956-4bf3-ee3e-61477c644a33"
      },
      "source": [
        "\"\"\"Calling it with logistic regression\"\"\"\n",
        "\n",
        "from sklearn.linear_model import LogisticRegression\n",
        "\n",
        "trial2 = Pipeline([ ('vectorizer', TfidfVectorizer(stop_words=stopwords.words('english'))), ('classifier', LogisticRegression())])\n",
        "\n",
        "#It shall just give me over alla ccuracy and CM for bag of words approach in imbalaned data\n",
        "df_scores=eve_clf(trial2, X, y, df_scores,'LR')\n",
        "print(df_scores)"
      ],
      "execution_count": 163,
      "outputs": [
        {
          "output_type": "stream",
          "text": [
            "Accuracy: 0.9365079365079365, Time duration: 6.98198127746582\n",
            "Changed dataset shape y_train Counter({'Literary': 32, 'Sea and Adventure': 29, 'Detective and Mystery': 28, 'Christmas Stories': 27, 'Ghost and Horror': 27, 'Western Stories': 27, 'Humorous and Wit and Satire': 27, 'Love and Romance': 27, 'Allegories': 27})\n",
            "Changed dataset shape y_test Counter({'Literary': 8, 'Ghost and Horror': 7, 'Western Stories': 7, 'Allegories': 7, 'Humorous and Wit and Satire': 7, 'Sea and Adventure': 7, 'Love and Romance': 7, 'Christmas Stories': 7, 'Detective and Mystery': 6})\n"
          ],
          "name": "stdout"
        },
        {
          "output_type": "display_data",
          "data": {
            "image/png": "[encoded data removed]",
            "text/plain": [
              "<Figure size 1080x720 with 2 Axes>"
            ]
          },
          "metadata": {
            "tags": [],
            "needs_background": "light"
          }
        },
        {
          "output_type": "stream",
          "text": [
            "                             precision    recall  f1-score   support\n",
            "\n",
            "                 Allegories       1.00      1.00      1.00         7\n",
            "          Christmas Stories       1.00      1.00      1.00         7\n",
            "      Detective and Mystery       0.86      1.00      0.92         6\n",
            "           Ghost and Horror       1.00      1.00      1.00         7\n",
            "Humorous and Wit and Satire       1.00      1.00      1.00         7\n",
            "                   Literary       0.86      0.75      0.80         8\n",
            "           Love and Romance       1.00      1.00      1.00         7\n",
            "          Sea and Adventure       0.83      0.71      0.77         7\n",
            "            Western Stories       0.88      1.00      0.93         7\n",
            "\n",
            "                   accuracy                           0.94        63\n",
            "                  macro avg       0.94      0.94      0.94        63\n",
            "               weighted avg       0.94      0.94      0.93        63\n",
            "\n",
            "                   NaiveBayes     LR\n",
            "Accuracy                0.762  0.937\n",
            "Balanced accuracy       0.756  0.940\n"
          ],
          "name": "stdout"
        }
      ]
    },
    {
      "cell_type": "code",
      "metadata": {
        "id": "Jbrh0bWED_d_",
        "colab_type": "code",
        "colab": {
          "base_uri": "https://localhost:8080/",
          "height": 1000
        },
        "outputId": "233f442c-752d-4ac3-d6ed-544ac8fdeceb"
      },
      "source": [
        "\"\"\"Calling it with logistic regression weighted\"\"\"\n",
        "\n",
        "from sklearn.linear_model import LogisticRegression\n",
        "\n",
        "trial2 = Pipeline([ ('vectorizer', TfidfVectorizer(stop_words=stopwords.words('english'))), ('classifier', LogisticRegression(class_weight='balanced'))])\n",
        "\n",
        "#It shall just give me over alla ccuracy and CM for bag of words approach in imbalaned data\n",
        "df_scores=eve_clf(trial2, X, y, df_scores,'LR with weights')\n",
        "print(df_scores)"
      ],
      "execution_count": 164,
      "outputs": [
        {
          "output_type": "stream",
          "text": [
            "Accuracy: 0.9047619047619048, Time duration: 7.860766649246216\n",
            "Changed dataset shape y_train Counter({'Literary': 32, 'Sea and Adventure': 29, 'Detective and Mystery': 28, 'Christmas Stories': 27, 'Ghost and Horror': 27, 'Western Stories': 27, 'Humorous and Wit and Satire': 27, 'Love and Romance': 27, 'Allegories': 27})\n",
            "Changed dataset shape y_test Counter({'Literary': 8, 'Ghost and Horror': 7, 'Western Stories': 7, 'Allegories': 7, 'Humorous and Wit and Satire': 7, 'Sea and Adventure': 7, 'Love and Romance': 7, 'Christmas Stories': 7, 'Detective and Mystery': 6})\n"
          ],
          "name": "stdout"
        },
        {
          "output_type": "display_data",
          "data": {
            "image/png": "[encoded data removed]",
            "text/plain": [
              "<Figure size 1080x720 with 2 Axes>"
            ]
          },
          "metadata": {
            "tags": [],
            "needs_background": "light"
          }
        },
        {
          "output_type": "stream",
          "text": [
            "                             precision    recall  f1-score   support\n",
            "\n",
            "                 Allegories       1.00      1.00      1.00         7\n",
            "          Christmas Stories       1.00      1.00      1.00         7\n",
            "      Detective and Mystery       0.86      1.00      0.92         6\n",
            "           Ghost and Horror       1.00      1.00      1.00         7\n",
            "Humorous and Wit and Satire       0.88      1.00      0.93         7\n",
            "                   Literary       0.80      0.50      0.62         8\n",
            "           Love and Romance       0.88      1.00      0.93         7\n",
            "          Sea and Adventure       0.83      0.71      0.77         7\n",
            "            Western Stories       0.88      1.00      0.93         7\n",
            "\n",
            "                   accuracy                           0.90        63\n",
            "                  macro avg       0.90      0.91      0.90        63\n",
            "               weighted avg       0.90      0.90      0.90        63\n",
            "\n",
            "                   NaiveBayes     LR  LR with weights\n",
            "Accuracy                0.762  0.937            0.905\n",
            "Balanced accuracy       0.756  0.940            0.913\n"
          ],
          "name": "stdout"
        }
      ]
    },
    {
      "cell_type": "code",
      "metadata": {
        "id": "Cvi1GduWbgeM",
        "colab_type": "code",
        "colab": {}
      },
      "source": [
        "balanced_books = over_sampled[['data', 'genre']]"
      ],
      "execution_count": 0,
      "outputs": []
    },
    {
      "cell_type": "code",
      "metadata": {
        "id": "NLwgG_93bokP",
        "colab_type": "code",
        "colab": {
          "base_uri": "https://localhost:8080/",
          "height": 34
        },
        "outputId": "a0f31e49-2bd4-4c76-a55e-ce52a6d5e92f"
      },
      "source": [
        "balanced_books.shape"
      ],
      "execution_count": 168,
      "outputs": [
        {
          "output_type": "execute_result",
          "data": {
            "text/plain": [
              "(314, 2)"
            ]
          },
          "metadata": {
            "tags": []
          },
          "execution_count": 168
        }
      ]
    },
    {
      "cell_type": "code",
      "metadata": {
        "id": "l7mT7Mzbbvca",
        "colab_type": "code",
        "colab": {}
      },
      "source": [
        "balanced_books.to_csv(\"balanced_books.csv\")"
      ],
      "execution_count": 0,
      "outputs": []
    }
  ]
}