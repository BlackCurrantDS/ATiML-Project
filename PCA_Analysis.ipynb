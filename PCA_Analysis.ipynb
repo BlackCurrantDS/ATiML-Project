{
  "nbformat": 4,
  "nbformat_minor": 0,
  "metadata": {
    "colab": {
      "name": "PCA_Analysis.ipynb",
      "provenance": [],
      "authorship_tag": "ABX9TyPhkSt71y1X8OGpD/9IjPDN",
      "include_colab_link": true
    },
    "kernelspec": {
      "name": "python3",
      "display_name": "Python 3"
    }
  },
  "cells": [
    {
      "cell_type": "markdown",
      "metadata": {
        "id": "view-in-github",
        "colab_type": "text"
      },
      "source": [
        "<a href=\"https://colab.research.google.com/github/BlackCurrantDS/ATiML-Project/blob/master/PCA_Analysis.ipynb\" target=\"_parent\"><img src=\"https://colab.research.google.com/assets/colab-badge.svg\" alt=\"Open In Colab\"/></a>"
      ]
    },
    {
      "cell_type": "code",
      "metadata": {
        "id": "L8tjucG06c35",
        "colab_type": "code",
        "colab": {}
      },
      "source": [
        "import pandas as pd\n",
        "import numpy as np"
      ],
      "execution_count": 0,
      "outputs": []
    },
    {
      "cell_type": "code",
      "metadata": {
        "id": "vfLLajTo6ykE",
        "colab_type": "code",
        "colab": {}
      },
      "source": [
        "train_data = pd.read_csv(\"features_scaled_train.csv\", index_col=0)"
      ],
      "execution_count": 0,
      "outputs": []
    },
    {
      "cell_type": "code",
      "metadata": {
        "id": "l9w5mkjc6-v7",
        "colab_type": "code",
        "colab": {}
      },
      "source": [
        "train_data.head(1)"
      ],
      "execution_count": 0,
      "outputs": []
    },
    {
      "cell_type": "code",
      "metadata": {
        "id": "OmVRqi1D66nC",
        "colab_type": "code",
        "colab": {}
      },
      "source": [
        "val_data = pd.read_csv(\"features_scaled_validation.csv\", index_col=0)"
      ],
      "execution_count": 0,
      "outputs": []
    },
    {
      "cell_type": "code",
      "metadata": {
        "id": "UPNP87Zf7D-O",
        "colab_type": "code",
        "colab": {
          "base_uri": "https://localhost:8080/",
          "height": 168
        },
        "outputId": "b599215e-0b8e-425a-a0cb-68472d6f224e"
      },
      "source": [
        "val_data.head(1)"
      ],
      "execution_count": 7,
      "outputs": [
        {
          "output_type": "execute_result",
          "data": {
            "text/html": [
              "<div>\n",
              "<style scoped>\n",
              "    .dataframe tbody tr th:only-of-type {\n",
              "        vertical-align: middle;\n",
              "    }\n",
              "\n",
              "    .dataframe tbody tr th {\n",
              "        vertical-align: top;\n",
              "    }\n",
              "\n",
              "    .dataframe thead th {\n",
              "        text-align: right;\n",
              "    }\n",
              "</style>\n",
              "<table border=\"1\" class=\"dataframe\">\n",
              "  <thead>\n",
              "    <tr style=\"text-align: right;\">\n",
              "      <th></th>\n",
              "      <th>FileNo</th>\n",
              "      <th>book_lenght</th>\n",
              "      <th>book_sen</th>\n",
              "      <th>book_word</th>\n",
              "      <th>lenght_book</th>\n",
              "      <th>number_sen</th>\n",
              "      <th>number_word</th>\n",
              "      <th>number_of_stop_words</th>\n",
              "      <th>number_of_foreignwords</th>\n",
              "      <th>count_dial_break</th>\n",
              "      <th>noun</th>\n",
              "      <th>verb</th>\n",
              "      <th>adj</th>\n",
              "      <th>ProperNoun</th>\n",
              "      <th>num</th>\n",
              "      <th>Puch</th>\n",
              "      <th>she</th>\n",
              "      <th>he</th>\n",
              "      <th>she_he_ratio</th>\n",
              "      <th>period</th>\n",
              "      <th>comma</th>\n",
              "      <th>colon</th>\n",
              "      <th>semi_colon</th>\n",
              "      <th>exl</th>\n",
              "      <th>q</th>\n",
              "      <th>positive_x</th>\n",
              "      <th>negative_x</th>\n",
              "      <th>neutral</th>\n",
              "      <th>compund</th>\n",
              "      <th>positive_y</th>\n",
              "      <th>negative_y</th>\n",
              "      <th>anger</th>\n",
              "      <th>disgust</th>\n",
              "      <th>fear</th>\n",
              "      <th>sadness</th>\n",
              "      <th>anticipation</th>\n",
              "      <th>joy</th>\n",
              "      <th>surprise</th>\n",
              "      <th>trust</th>\n",
              "      <th>genre</th>\n",
              "      <th>Author_Name</th>\n",
              "      <th>Book_Name</th>\n",
              "    </tr>\n",
              "  </thead>\n",
              "  <tbody>\n",
              "    <tr>\n",
              "      <th>0</th>\n",
              "      <td>34947.0</td>\n",
              "      <td>-0.326653</td>\n",
              "      <td>-0.632093</td>\n",
              "      <td>-0.385578</td>\n",
              "      <td>-0.326653</td>\n",
              "      <td>-0.632093</td>\n",
              "      <td>-0.385578</td>\n",
              "      <td>0.601769</td>\n",
              "      <td>-0.84199</td>\n",
              "      <td>0.415587</td>\n",
              "      <td>0.417181</td>\n",
              "      <td>0.027295</td>\n",
              "      <td>0.306535</td>\n",
              "      <td>0.0</td>\n",
              "      <td>-0.433888</td>\n",
              "      <td>-0.465823</td>\n",
              "      <td>-1.090568</td>\n",
              "      <td>-0.026658</td>\n",
              "      <td>-1.164636</td>\n",
              "      <td>-0.474675</td>\n",
              "      <td>0.001262</td>\n",
              "      <td>-1.177392</td>\n",
              "      <td>-1.495094</td>\n",
              "      <td>-0.361853</td>\n",
              "      <td>0.152946</td>\n",
              "      <td>1.971657</td>\n",
              "      <td>-0.316228</td>\n",
              "      <td>-0.271732</td>\n",
              "      <td>1.48675</td>\n",
              "      <td>-0.402266</td>\n",
              "      <td>1.4174</td>\n",
              "      <td>0.530293</td>\n",
              "      <td>-0.06162</td>\n",
              "      <td>0.834182</td>\n",
              "      <td>1.032823</td>\n",
              "      <td>-0.436456</td>\n",
              "      <td>-1.290688</td>\n",
              "      <td>0.28858</td>\n",
              "      <td>-0.290886</td>\n",
              "      <td>Detective and Mystery</td>\n",
              "      <td>Bayly| A. Eric</td>\n",
              "      <td>The House of Strange Secrets: A Detective Story</td>\n",
              "    </tr>\n",
              "  </tbody>\n",
              "</table>\n",
              "</div>"
            ],
            "text/plain": [
              "    FileNo  ...                                        Book_Name\n",
              "0  34947.0  ...  The House of Strange Secrets: A Detective Story\n",
              "\n",
              "[1 rows x 42 columns]"
            ]
          },
          "metadata": {
            "tags": []
          },
          "execution_count": 7
        }
      ]
    },
    {
      "cell_type": "code",
      "metadata": {
        "id": "iDqzlNte8WEb",
        "colab_type": "code",
        "colab": {}
      },
      "source": [
        "first_cols = ['FileNo','genre','Author_Name', 'Book_Name']\n",
        "last_cols = [col for col in train_data.columns if col not in first_cols]\n",
        "\n",
        "train_data = train_data[first_cols+last_cols]"
      ],
      "execution_count": 0,
      "outputs": []
    },
    {
      "cell_type": "code",
      "metadata": {
        "id": "Brlu0iAP8qmx",
        "colab_type": "code",
        "colab": {
          "base_uri": "https://localhost:8080/",
          "height": 151
        },
        "outputId": "a6e5a272-d27c-45bf-cd93-9adbdc3cc0c8"
      },
      "source": [
        "train_data.head(1)"
      ],
      "execution_count": 9,
      "outputs": [
        {
          "output_type": "execute_result",
          "data": {
            "text/html": [
              "<div>\n",
              "<style scoped>\n",
              "    .dataframe tbody tr th:only-of-type {\n",
              "        vertical-align: middle;\n",
              "    }\n",
              "\n",
              "    .dataframe tbody tr th {\n",
              "        vertical-align: top;\n",
              "    }\n",
              "\n",
              "    .dataframe thead th {\n",
              "        text-align: right;\n",
              "    }\n",
              "</style>\n",
              "<table border=\"1\" class=\"dataframe\">\n",
              "  <thead>\n",
              "    <tr style=\"text-align: right;\">\n",
              "      <th></th>\n",
              "      <th>FileNo</th>\n",
              "      <th>genre</th>\n",
              "      <th>Author_Name</th>\n",
              "      <th>Book_Name</th>\n",
              "      <th>book_lenght</th>\n",
              "      <th>book_sen</th>\n",
              "      <th>book_word</th>\n",
              "      <th>lenght_book</th>\n",
              "      <th>number_sen</th>\n",
              "      <th>number_word</th>\n",
              "      <th>number_of_stop_words</th>\n",
              "      <th>number_of_foreignwords</th>\n",
              "      <th>count_dial_break</th>\n",
              "      <th>noun</th>\n",
              "      <th>verb</th>\n",
              "      <th>adj</th>\n",
              "      <th>ProperNoun</th>\n",
              "      <th>num</th>\n",
              "      <th>Puch</th>\n",
              "      <th>she</th>\n",
              "      <th>he</th>\n",
              "      <th>she_he_ratio</th>\n",
              "      <th>period</th>\n",
              "      <th>comma</th>\n",
              "      <th>colon</th>\n",
              "      <th>semi_colon</th>\n",
              "      <th>exl</th>\n",
              "      <th>q</th>\n",
              "      <th>positive_x</th>\n",
              "      <th>negative_x</th>\n",
              "      <th>neutral</th>\n",
              "      <th>compund</th>\n",
              "      <th>positive_y</th>\n",
              "      <th>negative_y</th>\n",
              "      <th>anger</th>\n",
              "      <th>disgust</th>\n",
              "      <th>fear</th>\n",
              "      <th>sadness</th>\n",
              "      <th>anticipation</th>\n",
              "      <th>joy</th>\n",
              "      <th>surprise</th>\n",
              "      <th>trust</th>\n",
              "    </tr>\n",
              "  </thead>\n",
              "  <tbody>\n",
              "    <tr>\n",
              "      <th>0</th>\n",
              "      <td>29400.0</td>\n",
              "      <td>Detective and Mystery</td>\n",
              "      <td>Dawson| Coningsby</td>\n",
              "      <td>Murder Point: A Tale of Keewatin</td>\n",
              "      <td>0.630936</td>\n",
              "      <td>0.041672</td>\n",
              "      <td>0.594109</td>\n",
              "      <td>0.630936</td>\n",
              "      <td>0.041672</td>\n",
              "      <td>0.594109</td>\n",
              "      <td>1.582709</td>\n",
              "      <td>-0.60319</td>\n",
              "      <td>0.77563</td>\n",
              "      <td>-0.8806</td>\n",
              "      <td>2.215819</td>\n",
              "      <td>-1.187174</td>\n",
              "      <td>0.0</td>\n",
              "      <td>-0.398413</td>\n",
              "      <td>-0.744598</td>\n",
              "      <td>-0.455629</td>\n",
              "      <td>2.350944</td>\n",
              "      <td>-1.060459</td>\n",
              "      <td>-0.642366</td>\n",
              "      <td>-0.00424</td>\n",
              "      <td>-0.71147</td>\n",
              "      <td>0.467028</td>\n",
              "      <td>-1.126372</td>\n",
              "      <td>-0.548475</td>\n",
              "      <td>-0.075467</td>\n",
              "      <td>0.283623</td>\n",
              "      <td>-0.355818</td>\n",
              "      <td>-1.0389</td>\n",
              "      <td>-0.436278</td>\n",
              "      <td>1.244505</td>\n",
              "      <td>1.266108</td>\n",
              "      <td>1.689566</td>\n",
              "      <td>2.146652</td>\n",
              "      <td>1.550633</td>\n",
              "      <td>1.177633</td>\n",
              "      <td>-0.099771</td>\n",
              "      <td>0.25454</td>\n",
              "      <td>-0.984709</td>\n",
              "    </tr>\n",
              "  </tbody>\n",
              "</table>\n",
              "</div>"
            ],
            "text/plain": [
              "    FileNo                  genre  ... surprise     trust\n",
              "0  29400.0  Detective and Mystery  ...  0.25454 -0.984709\n",
              "\n",
              "[1 rows x 42 columns]"
            ]
          },
          "metadata": {
            "tags": []
          },
          "execution_count": 9
        }
      ]
    },
    {
      "cell_type": "code",
      "metadata": {
        "id": "x8tEGvOEGWtx",
        "colab_type": "code",
        "colab": {
          "base_uri": "https://localhost:8080/",
          "height": 34
        },
        "outputId": "15c177d7-e7ad-4faf-e419-d36a0ddc392e"
      },
      "source": [
        "train_data.shape"
      ],
      "execution_count": 19,
      "outputs": [
        {
          "output_type": "execute_result",
          "data": {
            "text/plain": [
              "(88, 42)"
            ]
          },
          "metadata": {
            "tags": []
          },
          "execution_count": 19
        }
      ]
    },
    {
      "cell_type": "code",
      "metadata": {
        "id": "wLyAHHIR8wux",
        "colab_type": "code",
        "colab": {}
      },
      "source": [
        "first_cols = ['FileNo','genre','Author_Name', 'Book_Name']\n",
        "last_cols = [col for col in val_data.columns if col not in first_cols]\n",
        "\n",
        "val_data = val_data[first_cols+last_cols]"
      ],
      "execution_count": 0,
      "outputs": []
    },
    {
      "cell_type": "code",
      "metadata": {
        "id": "Csty5zvr7QA8",
        "colab_type": "code",
        "colab": {}
      },
      "source": [
        "X_train,y_train = train_data.values[:,4:], train_data.values[:,1]"
      ],
      "execution_count": 0,
      "outputs": []
    },
    {
      "cell_type": "code",
      "metadata": {
        "id": "1aZRLgV_9N4q",
        "colab_type": "code",
        "colab": {
          "base_uri": "https://localhost:8080/",
          "height": 51
        },
        "outputId": "33171aa0-609b-49dc-8cc1-44bc0ab5c6a0"
      },
      "source": [
        "print(\"Shape of training input\", X_train.shape)\n",
        "print(\"Shape of training output\", y_train.shape)"
      ],
      "execution_count": 24,
      "outputs": [
        {
          "output_type": "stream",
          "text": [
            "Shape of training input (88, 38)\n",
            "Shape of training output (88,)\n"
          ],
          "name": "stdout"
        }
      ]
    },
    {
      "cell_type": "code",
      "metadata": {
        "id": "qXgQdESB9EE-",
        "colab_type": "code",
        "colab": {}
      },
      "source": [
        "X_val,y_val = val_data.values[:,4:], val_data.values[:,1]"
      ],
      "execution_count": 0,
      "outputs": []
    },
    {
      "cell_type": "code",
      "metadata": {
        "id": "Lg099GWU9b8O",
        "colab_type": "code",
        "colab": {
          "base_uri": "https://localhost:8080/",
          "height": 51
        },
        "outputId": "7928b889-4377-4398-8357-8b0187e01a80"
      },
      "source": [
        "print(\"Shape of test input\", X_val.shape)\n",
        "print(\"Shape of test output\", y_val.shape)"
      ],
      "execution_count": 25,
      "outputs": [
        {
          "output_type": "stream",
          "text": [
            "Shape of test input (11, 38)\n",
            "Shape of test output (11,)\n"
          ],
          "name": "stdout"
        }
      ]
    },
    {
      "cell_type": "code",
      "metadata": {
        "id": "mWcQKcjuF7Vq",
        "colab_type": "code",
        "colab": {}
      },
      "source": [
        "from sklearn.linear_model import LogisticRegression\n",
        "from sklearn import metrics\n",
        "from sklearn.model_selection import cross_val_score\n",
        "from sklearn.metrics import classification_report\n",
        "from sklearn.metrics import confusion_matrix\n",
        "import pandas as pd\n",
        "import seaborn as sns\n",
        "from sklearn.decomposition import PCA"
      ],
      "execution_count": 0,
      "outputs": []
    },
    {
      "cell_type": "code",
      "metadata": {
        "id": "ohMk-Z6aGBUU",
        "colab_type": "code",
        "colab": {
          "base_uri": "https://localhost:8080/",
          "height": 153
        },
        "outputId": "2a543a3f-cdcb-4fe5-eb5d-3af3458547b6"
      },
      "source": [
        "#model selection\n",
        "for i in (5,10,15,20,25,30,35):\n",
        "    sc= []\n",
        "    pca = PCA(n_components=i)\n",
        "    print(\"for components =\",i,\"error is\", (1-cross_val_score(pca, X_train, y_train, cv=5)).mean())\n",
        "    sc.append((1-cross_val_score(pca, X_train, y_train, cv=5)).mean())\n",
        "print(\"Average error of 5-fold CV is :\" ,sc)\n"
      ],
      "execution_count": 29,
      "outputs": [
        {
          "output_type": "stream",
          "text": [
            "for components = 5 error is 47.91080196498743\n",
            "for components = 10 error is 49.40192226191838\n",
            "for components = 15 error is 55.04832208170279\n",
            "for components = 20 error is 57.058055059413334\n",
            "for components = 25 error is 59.68315037326956\n",
            "for components = 30 error is 74.76585957516389\n",
            "for components = 35 error is inf\n",
            "Average error of 5-fold CV is : [inf]\n"
          ],
          "name": "stdout"
        }
      ]
    },
    {
      "cell_type": "code",
      "metadata": {
        "id": "sXU4_BzrH6NX",
        "colab_type": "code",
        "colab": {}
      },
      "source": [
        "pca = PCA(n_components=30)\n",
        "X_train_pca = pca.fit(X_train)\n",
        "X_train_pca = pca.transform(X_train)\n",
        "X_val_pca = pca.transform(X_val)\n"
      ],
      "execution_count": 0,
      "outputs": []
    },
    {
      "cell_type": "code",
      "metadata": {
        "id": "kXzjUl2UKhau",
        "colab_type": "code",
        "colab": {}
      },
      "source": [
        "lr = LogisticRegression()\n",
        "lr.fit(X_train_pca,y_train)\n",
        "y_pred_lr = lr.predict(X_val_pca)"
      ],
      "execution_count": 0,
      "outputs": []
    },
    {
      "cell_type": "code",
      "metadata": {
        "id": "9M7p-KelK5c1",
        "colab_type": "code",
        "colab": {
          "base_uri": "https://localhost:8080/",
          "height": 34
        },
        "outputId": "6dbdc19a-ebd8-4bd7-f3a3-7d7a4543531a"
      },
      "source": [
        "print(\"Accuracy on overall test set is:\", metrics.accuracy_score(y_val,y_pred_lr))"
      ],
      "execution_count": 43,
      "outputs": [
        {
          "output_type": "stream",
          "text": [
            "Accuracy on overall test set is: 0.6363636363636364\n"
          ],
          "name": "stdout"
        }
      ]
    },
    {
      "cell_type": "code",
      "metadata": {
        "id": "mOEBfk1KLPP1",
        "colab_type": "code",
        "colab": {
          "base_uri": "https://localhost:8080/",
          "height": 295
        },
        "outputId": "ff396a1d-5801-406d-8a81-38064f163230"
      },
      "source": [
        "from matplotlib import pyplot as plt\n",
        "from sklearn.metrics import accuracy_score\n",
        "cm = confusion_matrix(y_val, y_pred_lr)\n",
        "cm_df = pd.DataFrame(cm,\n",
        "                     index = ['literary','detective','sea'], \n",
        "                     columns = ['literary','detective','sea'])\n",
        "\n",
        "sns.heatmap(cm_df, annot=True)\n",
        "plt.title('Accuracy using validation test set'.format(accuracy_score(y_val, y_pred_lr)))\n",
        "plt.ylabel('Actual label')\n",
        "plt.xlabel('Predicted label')\n",
        "plt.show()"
      ],
      "execution_count": 39,
      "outputs": [
        {
          "output_type": "display_data",
          "data": {
            "image/png": "[encoded data removed]",
            "text/plain": [
              "<Figure size 432x288 with 2 Axes>"
            ]
          },
          "metadata": {
            "tags": [],
            "needs_background": "light"
          }
        }
      ]
    },
    {
      "cell_type": "code",
      "metadata": {
        "id": "NY_shfY8MUx9",
        "colab_type": "code",
        "colab": {
          "base_uri": "https://localhost:8080/",
          "height": 187
        },
        "outputId": "5ccfe0c9-d871-4a8f-d4a3-2f017dd1887b"
      },
      "source": [
        "print(classification_report(y_val, y_pred_lr))"
      ],
      "execution_count": 40,
      "outputs": [
        {
          "output_type": "stream",
          "text": [
            "                       precision    recall  f1-score   support\n",
            "\n",
            "Detective and Mystery       0.75      1.00      0.86         3\n",
            "             Literary       0.50      0.50      0.50         4\n",
            "    Sea and Adventure       0.67      0.50      0.57         4\n",
            "\n",
            "             accuracy                           0.64        11\n",
            "            macro avg       0.64      0.67      0.64        11\n",
            "         weighted avg       0.63      0.64      0.62        11\n",
            "\n"
          ],
          "name": "stdout"
        }
      ]
    }
  ]
}