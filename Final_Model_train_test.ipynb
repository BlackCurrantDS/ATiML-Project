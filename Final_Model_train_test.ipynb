{
  "nbformat": 4,
  "nbformat_minor": 0,
  "metadata": {
    "colab": {
      "name": "Final_Model_train_test.ipynb",
      "provenance": [],
      "authorship_tag": "ABX9TyNUmIaoXbmALPCPb7iSGCCt",
      "include_colab_link": true
    },
    "kernelspec": {
      "name": "python3",
      "display_name": "Python 3"
    }
  },
  "cells": [
    {
      "cell_type": "markdown",
      "metadata": {
        "id": "view-in-github",
        "colab_type": "text"
      },
      "source": [
        "<a href=\"https://colab.research.google.com/github/BlackCurrantDS/ATiML-Project/blob/master/Final_Model_train_test.ipynb\" target=\"_parent\"><img src=\"https://colab.research.google.com/assets/colab-badge.svg\" alt=\"Open In Colab\"/></a>"
      ]
    },
    {
      "cell_type": "code",
      "metadata": {
        "id": "L8tjucG06c35",
        "colab_type": "code",
        "colab": {}
      },
      "source": [
        "import pandas as pd\n",
        "import numpy as np"
      ],
      "execution_count": 0,
      "outputs": []
    },
    {
      "cell_type": "code",
      "metadata": {
        "id": "vfLLajTo6ykE",
        "colab_type": "code",
        "colab": {}
      },
      "source": [
        "train_data = pd.read_csv(\"features_scaled_train.csv\", index_col=0)"
      ],
      "execution_count": 0,
      "outputs": []
    },
    {
      "cell_type": "code",
      "metadata": {
        "id": "l9w5mkjc6-v7",
        "colab_type": "code",
        "outputId": "5be420d5-7a4d-49c8-ec38-bbee8f6c52c8",
        "colab": {
          "base_uri": "https://localhost:8080/",
          "height": 151
        }
      },
      "source": [
        "train_data.head(1)"
      ],
      "execution_count": 5,
      "outputs": [
        {
          "output_type": "execute_result",
          "data": {
            "text/html": [
              "<div>\n",
              "<style scoped>\n",
              "    .dataframe tbody tr th:only-of-type {\n",
              "        vertical-align: middle;\n",
              "    }\n",
              "\n",
              "    .dataframe tbody tr th {\n",
              "        vertical-align: top;\n",
              "    }\n",
              "\n",
              "    .dataframe thead th {\n",
              "        text-align: right;\n",
              "    }\n",
              "</style>\n",
              "<table border=\"1\" class=\"dataframe\">\n",
              "  <thead>\n",
              "    <tr style=\"text-align: right;\">\n",
              "      <th></th>\n",
              "      <th>FileNo</th>\n",
              "      <th>book_lenght</th>\n",
              "      <th>book_sen</th>\n",
              "      <th>book_word</th>\n",
              "      <th>lenght_book</th>\n",
              "      <th>number_sen</th>\n",
              "      <th>number_word</th>\n",
              "      <th>number_of_stop_words</th>\n",
              "      <th>number_of_foreignwords</th>\n",
              "      <th>count_dial_break</th>\n",
              "      <th>noun</th>\n",
              "      <th>verb</th>\n",
              "      <th>adj</th>\n",
              "      <th>ProperNoun</th>\n",
              "      <th>num</th>\n",
              "      <th>Puch</th>\n",
              "      <th>she</th>\n",
              "      <th>he</th>\n",
              "      <th>she_he_ratio</th>\n",
              "      <th>period</th>\n",
              "      <th>comma</th>\n",
              "      <th>colon</th>\n",
              "      <th>semi_colon</th>\n",
              "      <th>exl</th>\n",
              "      <th>q</th>\n",
              "      <th>positive_x</th>\n",
              "      <th>negative_x</th>\n",
              "      <th>neutral</th>\n",
              "      <th>compund</th>\n",
              "      <th>positive_y</th>\n",
              "      <th>negative_y</th>\n",
              "      <th>anger</th>\n",
              "      <th>disgust</th>\n",
              "      <th>fear</th>\n",
              "      <th>sadness</th>\n",
              "      <th>anticipation</th>\n",
              "      <th>joy</th>\n",
              "      <th>surprise</th>\n",
              "      <th>trust</th>\n",
              "      <th>genre</th>\n",
              "      <th>Author_Name</th>\n",
              "      <th>Book_Name</th>\n",
              "    </tr>\n",
              "  </thead>\n",
              "  <tbody>\n",
              "    <tr>\n",
              "      <th>0</th>\n",
              "      <td>29400.0</td>\n",
              "      <td>0.630936</td>\n",
              "      <td>0.041672</td>\n",
              "      <td>0.594109</td>\n",
              "      <td>0.630936</td>\n",
              "      <td>0.041672</td>\n",
              "      <td>0.594109</td>\n",
              "      <td>1.582709</td>\n",
              "      <td>-0.60319</td>\n",
              "      <td>0.77563</td>\n",
              "      <td>-0.8806</td>\n",
              "      <td>2.215819</td>\n",
              "      <td>-1.187174</td>\n",
              "      <td>0.0</td>\n",
              "      <td>-0.398413</td>\n",
              "      <td>-0.744598</td>\n",
              "      <td>-0.455629</td>\n",
              "      <td>2.350944</td>\n",
              "      <td>-1.060459</td>\n",
              "      <td>-0.642366</td>\n",
              "      <td>-0.00424</td>\n",
              "      <td>-0.71147</td>\n",
              "      <td>0.467028</td>\n",
              "      <td>-1.126372</td>\n",
              "      <td>-0.548475</td>\n",
              "      <td>-0.075467</td>\n",
              "      <td>0.283623</td>\n",
              "      <td>-0.355818</td>\n",
              "      <td>-1.0389</td>\n",
              "      <td>-0.436278</td>\n",
              "      <td>1.244505</td>\n",
              "      <td>1.266108</td>\n",
              "      <td>1.689566</td>\n",
              "      <td>2.146652</td>\n",
              "      <td>1.550633</td>\n",
              "      <td>1.177633</td>\n",
              "      <td>-0.099771</td>\n",
              "      <td>0.25454</td>\n",
              "      <td>-0.984709</td>\n",
              "      <td>Detective and Mystery</td>\n",
              "      <td>Dawson| Coningsby</td>\n",
              "      <td>Murder Point: A Tale of Keewatin</td>\n",
              "    </tr>\n",
              "  </tbody>\n",
              "</table>\n",
              "</div>"
            ],
            "text/plain": [
              "    FileNo  book_lenght  ...        Author_Name                         Book_Name\n",
              "0  29400.0     0.630936  ...  Dawson| Coningsby  Murder Point: A Tale of Keewatin\n",
              "\n",
              "[1 rows x 42 columns]"
            ]
          },
          "metadata": {
            "tags": []
          },
          "execution_count": 5
        }
      ]
    },
    {
      "cell_type": "code",
      "metadata": {
        "id": "OmVRqi1D66nC",
        "colab_type": "code",
        "colab": {}
      },
      "source": [
        "val_data = pd.read_csv(\"features_scaled_test.csv\", index_col=0)"
      ],
      "execution_count": 0,
      "outputs": []
    },
    {
      "cell_type": "code",
      "metadata": {
        "id": "UPNP87Zf7D-O",
        "colab_type": "code",
        "outputId": "2957a99a-405e-40c3-c5bb-375510b375b5",
        "colab": {
          "base_uri": "https://localhost:8080/",
          "height": 117
        }
      },
      "source": [
        "val_data.head(1)"
      ],
      "execution_count": 7,
      "outputs": [
        {
          "output_type": "execute_result",
          "data": {
            "text/html": [
              "<div>\n",
              "<style scoped>\n",
              "    .dataframe tbody tr th:only-of-type {\n",
              "        vertical-align: middle;\n",
              "    }\n",
              "\n",
              "    .dataframe tbody tr th {\n",
              "        vertical-align: top;\n",
              "    }\n",
              "\n",
              "    .dataframe thead th {\n",
              "        text-align: right;\n",
              "    }\n",
              "</style>\n",
              "<table border=\"1\" class=\"dataframe\">\n",
              "  <thead>\n",
              "    <tr style=\"text-align: right;\">\n",
              "      <th></th>\n",
              "      <th>FileNo</th>\n",
              "      <th>book_lenght</th>\n",
              "      <th>book_sen</th>\n",
              "      <th>book_word</th>\n",
              "      <th>lenght_book</th>\n",
              "      <th>number_sen</th>\n",
              "      <th>number_word</th>\n",
              "      <th>number_of_stop_words</th>\n",
              "      <th>number_of_foreignwords</th>\n",
              "      <th>count_dial_break</th>\n",
              "      <th>noun</th>\n",
              "      <th>verb</th>\n",
              "      <th>adj</th>\n",
              "      <th>ProperNoun</th>\n",
              "      <th>num</th>\n",
              "      <th>Puch</th>\n",
              "      <th>she</th>\n",
              "      <th>he</th>\n",
              "      <th>she_he_ratio</th>\n",
              "      <th>period</th>\n",
              "      <th>comma</th>\n",
              "      <th>colon</th>\n",
              "      <th>semi_colon</th>\n",
              "      <th>exl</th>\n",
              "      <th>q</th>\n",
              "      <th>positive_x</th>\n",
              "      <th>negative_x</th>\n",
              "      <th>neutral</th>\n",
              "      <th>compund</th>\n",
              "      <th>positive_y</th>\n",
              "      <th>negative_y</th>\n",
              "      <th>anger</th>\n",
              "      <th>disgust</th>\n",
              "      <th>fear</th>\n",
              "      <th>sadness</th>\n",
              "      <th>anticipation</th>\n",
              "      <th>joy</th>\n",
              "      <th>surprise</th>\n",
              "      <th>trust</th>\n",
              "      <th>genre</th>\n",
              "      <th>Author_Name</th>\n",
              "      <th>Book_Name</th>\n",
              "    </tr>\n",
              "  </thead>\n",
              "  <tbody>\n",
              "    <tr>\n",
              "      <th>0</th>\n",
              "      <td>43716.0</td>\n",
              "      <td>1.078764</td>\n",
              "      <td>0.433424</td>\n",
              "      <td>1.043676</td>\n",
              "      <td>1.078764</td>\n",
              "      <td>0.433424</td>\n",
              "      <td>1.043676</td>\n",
              "      <td>0.450825</td>\n",
              "      <td>0.538737</td>\n",
              "      <td>1.36363</td>\n",
              "      <td>0.242489</td>\n",
              "      <td>-0.534948</td>\n",
              "      <td>-0.472884</td>\n",
              "      <td>0.0</td>\n",
              "      <td>0.300008</td>\n",
              "      <td>-0.681554</td>\n",
              "      <td>-0.463603</td>\n",
              "      <td>1.063622</td>\n",
              "      <td>-0.72838</td>\n",
              "      <td>-1.184825</td>\n",
              "      <td>1.353114</td>\n",
              "      <td>-0.421684</td>\n",
              "      <td>0.840861</td>\n",
              "      <td>1.158436</td>\n",
              "      <td>0.286906</td>\n",
              "      <td>-0.087576</td>\n",
              "      <td>-0.835659</td>\n",
              "      <td>-0.484569</td>\n",
              "      <td>0.186569</td>\n",
              "      <td>1.664194</td>\n",
              "      <td>0.769197</td>\n",
              "      <td>0.468768</td>\n",
              "      <td>0.018321</td>\n",
              "      <td>0.976803</td>\n",
              "      <td>0.618518</td>\n",
              "      <td>1.555762</td>\n",
              "      <td>0.349361</td>\n",
              "      <td>0.088346</td>\n",
              "      <td>1.741793</td>\n",
              "      <td>Sea and Adventure</td>\n",
              "      <td>Aimard| Gustave</td>\n",
              "      <td>The Adventurers</td>\n",
              "    </tr>\n",
              "  </tbody>\n",
              "</table>\n",
              "</div>"
            ],
            "text/plain": [
              "    FileNo  book_lenght  ...      Author_Name        Book_Name\n",
              "0  43716.0     1.078764  ...  Aimard| Gustave  The Adventurers\n",
              "\n",
              "[1 rows x 42 columns]"
            ]
          },
          "metadata": {
            "tags": []
          },
          "execution_count": 7
        }
      ]
    },
    {
      "cell_type": "code",
      "metadata": {
        "id": "iDqzlNte8WEb",
        "colab_type": "code",
        "colab": {}
      },
      "source": [
        "first_cols = ['FileNo','genre','Author_Name', 'Book_Name']\n",
        "last_cols = [col for col in train_data.columns if col not in first_cols]\n",
        "\n",
        "train_data = train_data[first_cols+last_cols]"
      ],
      "execution_count": 0,
      "outputs": []
    },
    {
      "cell_type": "code",
      "metadata": {
        "id": "Brlu0iAP8qmx",
        "colab_type": "code",
        "outputId": "46f428ad-ef67-4a19-eec7-507f31465ae6",
        "colab": {
          "base_uri": "https://localhost:8080/",
          "height": 151
        }
      },
      "source": [
        "train_data.head(1)"
      ],
      "execution_count": 9,
      "outputs": [
        {
          "output_type": "execute_result",
          "data": {
            "text/html": [
              "<div>\n",
              "<style scoped>\n",
              "    .dataframe tbody tr th:only-of-type {\n",
              "        vertical-align: middle;\n",
              "    }\n",
              "\n",
              "    .dataframe tbody tr th {\n",
              "        vertical-align: top;\n",
              "    }\n",
              "\n",
              "    .dataframe thead th {\n",
              "        text-align: right;\n",
              "    }\n",
              "</style>\n",
              "<table border=\"1\" class=\"dataframe\">\n",
              "  <thead>\n",
              "    <tr style=\"text-align: right;\">\n",
              "      <th></th>\n",
              "      <th>FileNo</th>\n",
              "      <th>genre</th>\n",
              "      <th>Author_Name</th>\n",
              "      <th>Book_Name</th>\n",
              "      <th>book_lenght</th>\n",
              "      <th>book_sen</th>\n",
              "      <th>book_word</th>\n",
              "      <th>lenght_book</th>\n",
              "      <th>number_sen</th>\n",
              "      <th>number_word</th>\n",
              "      <th>number_of_stop_words</th>\n",
              "      <th>number_of_foreignwords</th>\n",
              "      <th>count_dial_break</th>\n",
              "      <th>noun</th>\n",
              "      <th>verb</th>\n",
              "      <th>adj</th>\n",
              "      <th>ProperNoun</th>\n",
              "      <th>num</th>\n",
              "      <th>Puch</th>\n",
              "      <th>she</th>\n",
              "      <th>he</th>\n",
              "      <th>she_he_ratio</th>\n",
              "      <th>period</th>\n",
              "      <th>comma</th>\n",
              "      <th>colon</th>\n",
              "      <th>semi_colon</th>\n",
              "      <th>exl</th>\n",
              "      <th>q</th>\n",
              "      <th>positive_x</th>\n",
              "      <th>negative_x</th>\n",
              "      <th>neutral</th>\n",
              "      <th>compund</th>\n",
              "      <th>positive_y</th>\n",
              "      <th>negative_y</th>\n",
              "      <th>anger</th>\n",
              "      <th>disgust</th>\n",
              "      <th>fear</th>\n",
              "      <th>sadness</th>\n",
              "      <th>anticipation</th>\n",
              "      <th>joy</th>\n",
              "      <th>surprise</th>\n",
              "      <th>trust</th>\n",
              "    </tr>\n",
              "  </thead>\n",
              "  <tbody>\n",
              "    <tr>\n",
              "      <th>0</th>\n",
              "      <td>29400.0</td>\n",
              "      <td>Detective and Mystery</td>\n",
              "      <td>Dawson| Coningsby</td>\n",
              "      <td>Murder Point: A Tale of Keewatin</td>\n",
              "      <td>0.630936</td>\n",
              "      <td>0.041672</td>\n",
              "      <td>0.594109</td>\n",
              "      <td>0.630936</td>\n",
              "      <td>0.041672</td>\n",
              "      <td>0.594109</td>\n",
              "      <td>1.582709</td>\n",
              "      <td>-0.60319</td>\n",
              "      <td>0.77563</td>\n",
              "      <td>-0.8806</td>\n",
              "      <td>2.215819</td>\n",
              "      <td>-1.187174</td>\n",
              "      <td>0.0</td>\n",
              "      <td>-0.398413</td>\n",
              "      <td>-0.744598</td>\n",
              "      <td>-0.455629</td>\n",
              "      <td>2.350944</td>\n",
              "      <td>-1.060459</td>\n",
              "      <td>-0.642366</td>\n",
              "      <td>-0.00424</td>\n",
              "      <td>-0.71147</td>\n",
              "      <td>0.467028</td>\n",
              "      <td>-1.126372</td>\n",
              "      <td>-0.548475</td>\n",
              "      <td>-0.075467</td>\n",
              "      <td>0.283623</td>\n",
              "      <td>-0.355818</td>\n",
              "      <td>-1.0389</td>\n",
              "      <td>-0.436278</td>\n",
              "      <td>1.244505</td>\n",
              "      <td>1.266108</td>\n",
              "      <td>1.689566</td>\n",
              "      <td>2.146652</td>\n",
              "      <td>1.550633</td>\n",
              "      <td>1.177633</td>\n",
              "      <td>-0.099771</td>\n",
              "      <td>0.25454</td>\n",
              "      <td>-0.984709</td>\n",
              "    </tr>\n",
              "  </tbody>\n",
              "</table>\n",
              "</div>"
            ],
            "text/plain": [
              "    FileNo                  genre  ... surprise     trust\n",
              "0  29400.0  Detective and Mystery  ...  0.25454 -0.984709\n",
              "\n",
              "[1 rows x 42 columns]"
            ]
          },
          "metadata": {
            "tags": []
          },
          "execution_count": 9
        }
      ]
    },
    {
      "cell_type": "code",
      "metadata": {
        "id": "x8tEGvOEGWtx",
        "colab_type": "code",
        "outputId": "b19c63a7-ed1e-476d-a98a-fafe129b2f22",
        "colab": {
          "base_uri": "https://localhost:8080/",
          "height": 34
        }
      },
      "source": [
        "train_data.shape"
      ],
      "execution_count": 10,
      "outputs": [
        {
          "output_type": "execute_result",
          "data": {
            "text/plain": [
              "(88, 42)"
            ]
          },
          "metadata": {
            "tags": []
          },
          "execution_count": 10
        }
      ]
    },
    {
      "cell_type": "code",
      "metadata": {
        "id": "wLyAHHIR8wux",
        "colab_type": "code",
        "colab": {}
      },
      "source": [
        "first_cols = ['FileNo','genre','Author_Name', 'Book_Name']\n",
        "last_cols = [col for col in val_data.columns if col not in first_cols]\n",
        "\n",
        "val_data = val_data[first_cols+last_cols]"
      ],
      "execution_count": 0,
      "outputs": []
    },
    {
      "cell_type": "code",
      "metadata": {
        "id": "Csty5zvr7QA8",
        "colab_type": "code",
        "colab": {}
      },
      "source": [
        "X_train,y_train = train_data.values[:,4:], train_data.values[:,1]"
      ],
      "execution_count": 0,
      "outputs": []
    },
    {
      "cell_type": "code",
      "metadata": {
        "id": "1aZRLgV_9N4q",
        "colab_type": "code",
        "outputId": "a647157c-436c-4e2e-9954-175863c3d099",
        "colab": {
          "base_uri": "https://localhost:8080/",
          "height": 51
        }
      },
      "source": [
        "print(\"Shape of training input\", X_train.shape)\n",
        "print(\"Shape of training output\", y_train.shape)"
      ],
      "execution_count": 13,
      "outputs": [
        {
          "output_type": "stream",
          "text": [
            "Shape of training input (88, 38)\n",
            "Shape of training output (88,)\n"
          ],
          "name": "stdout"
        }
      ]
    },
    {
      "cell_type": "code",
      "metadata": {
        "id": "qXgQdESB9EE-",
        "colab_type": "code",
        "colab": {}
      },
      "source": [
        "X_val,y_val = val_data.values[:,4:], val_data.values[:,1]"
      ],
      "execution_count": 0,
      "outputs": []
    },
    {
      "cell_type": "code",
      "metadata": {
        "id": "Lg099GWU9b8O",
        "colab_type": "code",
        "outputId": "455b9f47-1546-458c-b14b-fefe1bb47ce9",
        "colab": {
          "base_uri": "https://localhost:8080/",
          "height": 51
        }
      },
      "source": [
        "print(\"Shape of test input\", X_val.shape)\n",
        "print(\"Shape of test output\", y_val.shape)"
      ],
      "execution_count": 15,
      "outputs": [
        {
          "output_type": "stream",
          "text": [
            "Shape of test input (12, 38)\n",
            "Shape of test output (12,)\n"
          ],
          "name": "stdout"
        }
      ]
    },
    {
      "cell_type": "code",
      "metadata": {
        "id": "mWcQKcjuF7Vq",
        "colab_type": "code",
        "colab": {
          "base_uri": "https://localhost:8080/",
          "height": 71
        },
        "outputId": "547ac834-3186-4ea2-8759-3d0c30c4681b"
      },
      "source": [
        "from sklearn.linear_model import LogisticRegression\n",
        "from sklearn import metrics\n",
        "from sklearn.model_selection import cross_val_score\n",
        "from sklearn.metrics import classification_report\n",
        "from sklearn.metrics import confusion_matrix\n",
        "import pandas as pd\n",
        "import seaborn as sns\n",
        "from sklearn.decomposition import PCA"
      ],
      "execution_count": 16,
      "outputs": [
        {
          "output_type": "stream",
          "text": [
            "/usr/local/lib/python3.6/dist-packages/statsmodels/tools/_testing.py:19: FutureWarning: pandas.util.testing is deprecated. Use the functions in the public API at pandas.testing instead.\n",
            "  import pandas.util.testing as tm\n"
          ],
          "name": "stderr"
        }
      ]
    },
    {
      "cell_type": "code",
      "metadata": {
        "id": "sXU4_BzrH6NX",
        "colab_type": "code",
        "colab": {}
      },
      "source": [
        "pca = PCA(n_components=15)\n",
        "X_train_pca = pca.fit(X_train)\n",
        "X_train_pca = pca.transform(X_train)\n",
        "X_val_pca = pca.transform(X_val)\n"
      ],
      "execution_count": 0,
      "outputs": []
    },
    {
      "cell_type": "markdown",
      "metadata": {
        "id": "RFxImaRGfW9W",
        "colab_type": "text"
      },
      "source": [
        "**Logistic regression**"
      ]
    },
    {
      "cell_type": "code",
      "metadata": {
        "id": "kXzjUl2UKhau",
        "colab_type": "code",
        "colab": {}
      },
      "source": [
        "lr = LogisticRegression()\n",
        "lr.fit(X_train_pca,y_train)\n",
        "y_pred_lr = lr.predict(X_val_pca)"
      ],
      "execution_count": 0,
      "outputs": []
    },
    {
      "cell_type": "code",
      "metadata": {
        "id": "9M7p-KelK5c1",
        "colab_type": "code",
        "outputId": "733c03ac-54b3-4e9b-af46-d6954a5d9f30",
        "colab": {
          "base_uri": "https://localhost:8080/",
          "height": 34
        }
      },
      "source": [
        "print(\"Accuracy on overall test set is:\", metrics.accuracy_score(y_val,y_pred_lr))"
      ],
      "execution_count": 19,
      "outputs": [
        {
          "output_type": "stream",
          "text": [
            "Accuracy on overall test set is: 0.5833333333333334\n"
          ],
          "name": "stdout"
        }
      ]
    },
    {
      "cell_type": "code",
      "metadata": {
        "id": "mOEBfk1KLPP1",
        "colab_type": "code",
        "outputId": "1b208b55-8fed-4889-a79f-122a6823660b",
        "colab": {
          "base_uri": "https://localhost:8080/",
          "height": 295
        }
      },
      "source": [
        "from matplotlib import pyplot as plt\n",
        "from sklearn.metrics import accuracy_score\n",
        "cm = confusion_matrix(y_val, y_pred_lr)\n",
        "cm_df = pd.DataFrame(cm,\n",
        "                     index = ['literary','detective','sea'], \n",
        "                     columns = ['literary','detective','sea'])\n",
        "\n",
        "sns.heatmap(cm_df, annot=True)\n",
        "plt.title('Accuracy using validation test set'.format(accuracy_score(y_val, y_pred_lr)))\n",
        "plt.ylabel('Actual label')\n",
        "plt.xlabel('Predicted label')\n",
        "plt.show()"
      ],
      "execution_count": 20,
      "outputs": [
        {
          "output_type": "display_data",
          "data": {
            "image/png": "[encoded data removed]",
            "text/plain": [
              "<Figure size 432x288 with 2 Axes>"
            ]
          },
          "metadata": {
            "tags": [],
            "needs_background": "light"
          }
        }
      ]
    },
    {
      "cell_type": "code",
      "metadata": {
        "id": "NY_shfY8MUx9",
        "colab_type": "code",
        "outputId": "7210f670-6200-486d-e111-206b16295d5c",
        "colab": {
          "base_uri": "https://localhost:8080/",
          "height": 187
        }
      },
      "source": [
        "print(classification_report(y_val, y_pred_lr))"
      ],
      "execution_count": 21,
      "outputs": [
        {
          "output_type": "stream",
          "text": [
            "                       precision    recall  f1-score   support\n",
            "\n",
            "Detective and Mystery       0.60      0.75      0.67         4\n",
            "             Literary       0.50      0.50      0.50         4\n",
            "    Sea and Adventure       0.67      0.50      0.57         4\n",
            "\n",
            "             accuracy                           0.58        12\n",
            "            macro avg       0.59      0.58      0.58        12\n",
            "         weighted avg       0.59      0.58      0.58        12\n",
            "\n"
          ],
          "name": "stdout"
        }
      ]
    },
    {
      "cell_type": "markdown",
      "metadata": {
        "id": "SCy0FsGyfdxh",
        "colab_type": "text"
      },
      "source": [
        "**SVM**"
      ]
    },
    {
      "cell_type": "code",
      "metadata": {
        "colab_type": "code",
        "id": "_fLoqJj0flxT",
        "colab": {}
      },
      "source": [
        "from sklearn.svm import SVC\n",
        "lr = SVC()\n",
        "lr.fit(X_train_pca,y_train)\n",
        "y_pred_lr = lr.predict(X_val_pca)"
      ],
      "execution_count": 0,
      "outputs": []
    },
    {
      "cell_type": "code",
      "metadata": {
        "colab_type": "code",
        "outputId": "55c00172-20e8-4371-d016-26061f0dc132",
        "id": "tFt4Vfj-flxg",
        "colab": {
          "base_uri": "https://localhost:8080/",
          "height": 34
        }
      },
      "source": [
        "print(\"Accuracy on overall test set is:\", metrics.accuracy_score(y_val,y_pred_lr))"
      ],
      "execution_count": 23,
      "outputs": [
        {
          "output_type": "stream",
          "text": [
            "Accuracy on overall test set is: 0.75\n"
          ],
          "name": "stdout"
        }
      ]
    },
    {
      "cell_type": "code",
      "metadata": {
        "colab_type": "code",
        "outputId": "461ec9af-5afa-4397-b883-d6841cbc790c",
        "id": "F0u7ociYflxu",
        "colab": {
          "base_uri": "https://localhost:8080/",
          "height": 295
        }
      },
      "source": [
        "from matplotlib import pyplot as plt\n",
        "from sklearn.metrics import accuracy_score\n",
        "cm = confusion_matrix(y_val, y_pred_lr)\n",
        "cm_df = pd.DataFrame(cm,\n",
        "                     index = ['literary','detective','sea'], \n",
        "                     columns = ['literary','detective','sea'])\n",
        "\n",
        "sns.heatmap(cm_df, annot=True)\n",
        "plt.title('Accuracy using validation test set'.format(accuracy_score(y_val, y_pred_lr)))\n",
        "plt.ylabel('Actual label')\n",
        "plt.xlabel('Predicted label')\n",
        "plt.show()"
      ],
      "execution_count": 24,
      "outputs": [
        {
          "output_type": "display_data",
          "data": {
            "image/png": "[encoded data removed]",
            "text/plain": [
              "<Figure size 432x288 with 2 Axes>"
            ]
          },
          "metadata": {
            "tags": [],
            "needs_background": "light"
          }
        }
      ]
    },
    {
      "cell_type": "code",
      "metadata": {
        "colab_type": "code",
        "outputId": "0c36f26f-063f-41ce-bf57-53baf8e459c9",
        "id": "Pb2RZTduflx6",
        "colab": {
          "base_uri": "https://localhost:8080/",
          "height": 187
        }
      },
      "source": [
        "print(classification_report(y_val, y_pred_lr))"
      ],
      "execution_count": 25,
      "outputs": [
        {
          "output_type": "stream",
          "text": [
            "                       precision    recall  f1-score   support\n",
            "\n",
            "Detective and Mystery       0.60      0.75      0.67         4\n",
            "             Literary       1.00      0.50      0.67         4\n",
            "    Sea and Adventure       0.80      1.00      0.89         4\n",
            "\n",
            "             accuracy                           0.75        12\n",
            "            macro avg       0.80      0.75      0.74        12\n",
            "         weighted avg       0.80      0.75      0.74        12\n",
            "\n"
          ],
          "name": "stdout"
        }
      ]
    },
    {
      "cell_type": "markdown",
      "metadata": {
        "id": "1ixG6CQ5g_EK",
        "colab_type": "text"
      },
      "source": [
        "**Naive Bayes**"
      ]
    },
    {
      "cell_type": "code",
      "metadata": {
        "colab_type": "code",
        "id": "J0zL3q3thCUB",
        "colab": {}
      },
      "source": [
        "from sklearn.naive_bayes import MultinomialNB\n",
        "lr = MultinomialNB()\n",
        "lr.fit(X_train_pca,y_train)\n",
        "y_pred_lr = lr.predict(X_val_pca)"
      ],
      "execution_count": 0,
      "outputs": []
    },
    {
      "cell_type": "code",
      "metadata": {
        "colab_type": "code",
        "id": "-sti8n5qhCUN",
        "colab": {}
      },
      "source": [
        "print(\"Accuracy on overall test set is:\", metrics.accuracy_score(y_val,y_pred_lr))"
      ],
      "execution_count": 0,
      "outputs": []
    },
    {
      "cell_type": "code",
      "metadata": {
        "colab_type": "code",
        "id": "plHx7MdnhCUb",
        "colab": {}
      },
      "source": [
        "from matplotlib import pyplot as plt\n",
        "from sklearn.metrics import accuracy_score\n",
        "cm = confusion_matrix(y_val, y_pred_lr)\n",
        "cm_df = pd.DataFrame(cm,\n",
        "                     index = ['literary','detective','sea'], \n",
        "                     columns = ['literary','detective','sea'])\n",
        "\n",
        "sns.heatmap(cm_df, annot=True)\n",
        "plt.title('Accuracy using validation test set'.format(accuracy_score(y_val, y_pred_lr)))\n",
        "plt.ylabel('Actual label')\n",
        "plt.xlabel('Predicted label')\n",
        "plt.show()"
      ],
      "execution_count": 0,
      "outputs": []
    },
    {
      "cell_type": "code",
      "metadata": {
        "colab_type": "code",
        "id": "thLK9nZPhCUp",
        "colab": {}
      },
      "source": [
        "print(classification_report(y_val, y_pred_lr))"
      ],
      "execution_count": 0,
      "outputs": []
    }
  ]
}